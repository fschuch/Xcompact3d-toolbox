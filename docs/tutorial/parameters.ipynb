{
 "cells": [
  {
   "cell_type": "markdown",
   "metadata": {},
   "source": [
    "# Parameters\n",
    "\n",
    "The computational and physical parameters are handled by `class xcompact3d_toolbox.Parameters`. It is built on top of [Traitlets](https://traitlets.readthedocs.io/en/stable/index.html), which aims to make the parameters compatible with what xcompact3d expects, and also brings some advantages:\n",
    "\n",
    "* Attributes are type-checked;\n",
    "* Default values, restrictions and conections between related parameters are applied where necessary;\n",
    "* 'On change' callbacks for validation and observation;\n",
    "* Two-way linking with [ipywidgets](https://ipywidgets.readthedocs.io/en/latest/)."
   ]
  },
  {
   "cell_type": "code",
   "execution_count": 1,
   "metadata": {},
   "outputs": [],
   "source": [
    "import numpy as np\n",
    "\n",
    "import xcompact3d_toolbox as x3d"
   ]
  },
  {
   "cell_type": "markdown",
   "metadata": {},
   "source": [
    "The first step is to establish numerical precision. Use `np.float64` if Xcompact3d was compiled with the flag `-DDOUBLE_PREC` (check the Makefile), use `np.float32` otherwise:"
   ]
  },
  {
   "cell_type": "code",
   "execution_count": 2,
   "metadata": {},
   "outputs": [],
   "source": [
    "x3d.param[\"mytype\"] = np.float32"
   ]
  },
  {
   "cell_type": "markdown",
   "metadata": {},
   "source": [
    "## Initialization"
   ]
  },
  {
   "cell_type": "markdown",
   "metadata": {},
   "source": [
    "There are a few ways to initialize the class. First, calling it with no arguments initializes all variables with default value:"
   ]
  },
  {
   "cell_type": "code",
   "execution_count": 3,
   "metadata": {},
   "outputs": [],
   "source": [
    "prm = x3d.Parameters()"
   ]
  },
  {
   "cell_type": "markdown",
   "metadata": {},
   "source": [
    "You can access a list with all the available variables at the [Api reference](https://xcompact3d-toolbox.readthedocs.io/en/latest/Docstrings.html)."
   ]
  },
  {
   "cell_type": "markdown",
   "metadata": {},
   "source": [
    "Let's see how it looks like:"
   ]
  },
  {
   "cell_type": "code",
   "execution_count": 4,
   "metadata": {},
   "outputs": [
    {
     "data": {
      "text/plain": [
       "! -*- mode: f90 -*-\n",
       "\n",
       "!===================\n",
       "&BasicParam\n",
       "!===================\n",
       "\n",
       "           beta = 1.0             ! Refinement parameter\n",
       "             dt = 0.001           ! Time step\n",
       "          gravx = 0.0             ! Gravity unitary vector in x-direction\n",
       "          gravy = 0.0             ! Gravity unitary vector in y-direction\n",
       "          gravz = 0.0             ! Gravity unitary vector in z-direction\n",
       "         ifirst = 0               ! The number for the first iteration\n",
       "           iibm = 0               ! Flag for immersed boundary method (0: No, 1: Yes)\n",
       "            iin = 0               ! Defines pertubation at initial condition\n",
       "          ilast = 0               ! The number for the last iteration\n",
       "        ilesmod = 0               ! Enables Large-Eddy methodologies (0: No, 1: Yes)\n",
       "   inflow_noise = 0.0             ! Turbulence intensity (1=100%) !! Inflow condition\n",
       "     init_noise = 0.0             ! Turbulence intensity (1=100%) !! Initial condition\n",
       "          ipost = 0               ! Enables online postprocessing at a frequency iprocessing (0: No, 1: Yes)\n",
       "         istret = 0               ! y mesh refinement (0:no, 1:center, 2:both sides, 3:bottom)\n",
       "          itype = 10              ! Flow configuration (1:Lock-exchange, 2:TGV, 3:Channel, and others)\n",
       "          ivisu = 1               ! Enable store snapshots at a frequency ioutput (0: No, 1: Yes)\n",
       "          nclx1 = 2               ! Velocity boundary condition where x=0\n",
       "          nclxn = 2               ! Velocity boundary condition where x=xlx\n",
       "          ncly1 = 2               ! Velocity boundary condition where y=0\n",
       "          nclyn = 2               ! Velocity boundary condition where y=yly\n",
       "          nclz1 = 2               ! Velocity boundary condition where z=0\n",
       "          nclzn = 2               ! Velocity boundary condition where z=zlz\n",
       "      numscalar = 0               ! Number of scalar fractions\n",
       "             nx = 17              ! X-direction nodes\n",
       "             ny = 17              ! Y-direction nodes\n",
       "             nz = 17              ! Z-direction nodes\n",
       "          p_col = 0               ! Column partition for domain decomposition and parallel computation\n",
       "          p_row = 0               ! Row partition for domain decomposition and parallel computation\n",
       "             re = 1000.0          ! Reynolds number\n",
       "            xlx = 1.0             ! Size of the box in x-direction\n",
       "            yly = 1.0             ! Size of the box in y-direction\n",
       "            zlz = 1.0             ! Size of the box in z-direction\n",
       "\n",
       "/End\n",
       "\n",
       "!===================\n",
       "&NumOptions\n",
       "!===================\n",
       "\n",
       "            cnu = 0.44            ! Ratio between hypervisvosity at km=2/3π and kc=π (dissipation factor range)\n",
       "      ifirstder = 4               ! \n",
       "     isecondder = 4               ! Scheme for first order derivative\n",
       "    itimescheme = 3               ! Time integration scheme (1: Euler, 2: AB2, 3: AB3, 5: RK3)\n",
       "          nu0nu = 4.0             ! Ratio between hyperviscosity/viscosity at nu (dissipation factor intensity)\n",
       "\n",
       "/End\n",
       "\n",
       "!===================\n",
       "&InOutParam\n",
       "!===================\n",
       "\n",
       " filenamedigits = 0               ! Controls the way that the output binary files are enumerated\n",
       "    icheckpoint = 1000            ! Frequency for writing backup file\n",
       "ifilenameformat = '(I9.9)'        ! The number of digits used to name the output binary files\n",
       "        ioutput = 1000            ! Frequency for visualization file\n",
       "    iprocessing = 1000            ! Frequency for online postprocessing\n",
       "       irestart = 0               ! Read initial flow field (0: No, 1: Yes)\n",
       "          nvisu = 1               ! Size for visualisation collection\n",
       "\n",
       "/End"
      ]
     },
     "execution_count": 4,
     "metadata": {},
     "output_type": "execute_result"
    }
   ],
   "source": [
    "prm"
   ]
  },
  {
   "cell_type": "markdown",
   "metadata": {},
   "source": [
    "It is possible to access and/or set values afterwards:"
   ]
  },
  {
   "cell_type": "code",
   "execution_count": 5,
   "metadata": {},
   "outputs": [
    {
     "name": "stdout",
     "output_type": "stream",
     "text": [
      "1000.0\n",
      "1000000.0\n"
     ]
    }
   ],
   "source": [
    "# Reynolds Number\n",
    "print(prm.re)\n",
    "\n",
    "# attribute new value\n",
    "prm.re = 1e6\n",
    "print(prm.re)"
   ]
  },
  {
   "cell_type": "markdown",
   "metadata": {},
   "source": [
    "Second, we can specify some values, and let the missing ones be initialized with default value:"
   ]
  },
  {
   "cell_type": "code",
   "execution_count": 6,
   "metadata": {},
   "outputs": [],
   "source": [
    "prm = x3d.Parameters(\n",
    "    filename=\"example.i3d\",\n",
    "    itype=10,\n",
    "    nx=129,\n",
    "    ny=65,\n",
    "    nz=32,\n",
    "    xlx=15.0,\n",
    "    yly=10.0,\n",
    "    zlz=3.0,\n",
    "    nclx1=2,\n",
    "    nclxn=2,\n",
    "    ncly1=1,\n",
    "    nclyn=1,\n",
    "    nclz1=0,\n",
    "    nclzn=0,\n",
    "    iin=1,\n",
    "    istret=2,\n",
    "    re=300.0,\n",
    "    init_noise=0.0125,\n",
    "    inflow_noise=0.0125,\n",
    "    dt=0.0025,\n",
    "    ifirst=1,\n",
    "    ilast=45000,\n",
    "    irestart=0,\n",
    "    icheckpoint=45000,\n",
    "    ioutput=200,\n",
    "    iprocessing=50,\n",
    ")"
   ]
  },
  {
   "cell_type": "markdown",
   "metadata": {},
   "source": [
    "It is easy to write `example.i3d` to disc, just type:"
   ]
  },
  {
   "cell_type": "code",
   "execution_count": 7,
   "metadata": {},
   "outputs": [],
   "source": [
    "prm.write()"
   ]
  },
  {
   "cell_type": "markdown",
   "metadata": {},
   "source": [
    "And finally, it is possible to read the parameters from the disc:"
   ]
  },
  {
   "cell_type": "code",
   "execution_count": 8,
   "metadata": {},
   "outputs": [],
   "source": [
    "prm = x3d.Parameters(filename=\"example.i3d\")\n",
    "prm.load()"
   ]
  },
  {
   "cell_type": "markdown",
   "metadata": {},
   "source": [
    "The same result is obtained in a more concise way:"
   ]
  },
  {
   "cell_type": "code",
   "execution_count": 9,
   "metadata": {},
   "outputs": [],
   "source": [
    "prm = x3d.Parameters(loadfile=\"example.i3d\")"
   ]
  },
  {
   "cell_type": "markdown",
   "metadata": {},
   "source": [
    "The class can also read the previous parameters format ([se more information here](https://github.com/fschuch/xcompact3d_toolbox/issues/7)):\n",
    "\n",
    "``` python\n",
    "prm = x3d.Parameters(loadfile=\"incompact3d.prm\")\n",
    "```"
   ]
  },
  {
   "cell_type": "markdown",
   "metadata": {},
   "source": [
    "There are extra methods to:\n",
    "\n",
    "* Read a binary field from Xcompact3d:\n",
    "\n",
    "    ``` python\n",
    "    prm.read_field('filename')\n",
    "    ```\n",
    "\n",
    "* Read several binary files at once:\n",
    "\n",
    "    ``` python\n",
    "    prm.read_all_fields('filename_pattern')\n",
    "    ```\n",
    "\n",
    "* Write `xdmf` files, so the binary files can be open in any external visualization tool:\n",
    "\n",
    "    ``` python\n",
    "    prm.write_xdmf()\n",
    "    ```\n",
    "\n",
    "* Compute the coordinates, including support for mesh refinement in y:"
   ]
  },
  {
   "cell_type": "code",
   "execution_count": 10,
   "metadata": {},
   "outputs": [
    {
     "data": {
      "text/plain": [
       "{'x': array([ 0.       ,  0.1171875,  0.234375 ,  0.3515625,  0.46875  ,\n",
       "         0.5859375,  0.703125 ,  0.8203125,  0.9375   ,  1.0546875,\n",
       "         1.171875 ,  1.2890625,  1.40625  ,  1.5234375,  1.640625 ,\n",
       "         1.7578125,  1.875    ,  1.9921875,  2.109375 ,  2.2265625,\n",
       "         2.34375  ,  2.4609375,  2.578125 ,  2.6953125,  2.8125   ,\n",
       "         2.9296875,  3.046875 ,  3.1640625,  3.28125  ,  3.3984375,\n",
       "         3.515625 ,  3.6328125,  3.75     ,  3.8671875,  3.984375 ,\n",
       "         4.1015625,  4.21875  ,  4.3359375,  4.453125 ,  4.5703125,\n",
       "         4.6875   ,  4.8046875,  4.921875 ,  5.0390625,  5.15625  ,\n",
       "         5.2734375,  5.390625 ,  5.5078125,  5.625    ,  5.7421875,\n",
       "         5.859375 ,  5.9765625,  6.09375  ,  6.2109375,  6.328125 ,\n",
       "         6.4453125,  6.5625   ,  6.6796875,  6.796875 ,  6.9140625,\n",
       "         7.03125  ,  7.1484375,  7.265625 ,  7.3828125,  7.5      ,\n",
       "         7.6171875,  7.734375 ,  7.8515625,  7.96875  ,  8.0859375,\n",
       "         8.203125 ,  8.3203125,  8.4375   ,  8.5546875,  8.671875 ,\n",
       "         8.7890625,  8.90625  ,  9.0234375,  9.140625 ,  9.2578125,\n",
       "         9.375    ,  9.4921875,  9.609375 ,  9.7265625,  9.84375  ,\n",
       "         9.9609375, 10.078125 , 10.1953125, 10.3125   , 10.4296875,\n",
       "        10.546875 , 10.6640625, 10.78125  , 10.8984375, 11.015625 ,\n",
       "        11.1328125, 11.25     , 11.3671875, 11.484375 , 11.6015625,\n",
       "        11.71875  , 11.8359375, 11.953125 , 12.0703125, 12.1875   ,\n",
       "        12.3046875, 12.421875 , 12.5390625, 12.65625  , 12.7734375,\n",
       "        12.890625 , 13.0078125, 13.125    , 13.2421875, 13.359375 ,\n",
       "        13.4765625, 13.59375  , 13.7109375, 13.828125 , 13.9453125,\n",
       "        14.0625   , 14.1796875, 14.296875 , 14.4140625, 14.53125  ,\n",
       "        14.6484375, 14.765625 , 14.8828125, 15.       ], dtype=float32),\n",
       " 'y': array([ 0.        ,  0.04504663,  0.09029302,  0.13594234,  0.18220465,\n",
       "         0.2293007 ,  0.27746594,  0.3269554 ,  0.37804887,  0.43105724,\n",
       "         0.4863303 ,  0.5442656 ,  0.60532016,  0.670024  ,  0.7389978 ,\n",
       "         0.81297535,  0.8928308 ,  0.9796148 ,  1.0746001 ,  1.1793398 ,\n",
       "         1.2957417 ,  1.4261622 ,  1.5735214 ,  1.7414377 ,  1.9343702 ,\n",
       "         2.1577313 ,  2.4178853 ,  2.72186   ,  3.0764673 ,  3.4864438 ,\n",
       "         3.9514096 ,  4.462363  ,  5.        ,  5.537637  ,  6.0485907 ,\n",
       "         6.5135565 ,  6.923533  ,  7.27814   ,  7.5821147 ,  7.842269  ,\n",
       "         8.06563   ,  8.258562  ,  8.426478  ,  8.573838  ,  8.704258  ,\n",
       "         8.820661  ,  8.9254    ,  9.020385  ,  9.107169  ,  9.187025  ,\n",
       "         9.261003  ,  9.329976  ,  9.39468   ,  9.455734  ,  9.51367   ,\n",
       "         9.568943  ,  9.621951  ,  9.673044  ,  9.722534  ,  9.7706995 ,\n",
       "         9.817796  ,  9.864058  ,  9.909707  ,  9.954953  , 10.        ],\n",
       "       dtype=float32),\n",
       " 'z': array([0.     , 0.09375, 0.1875 , 0.28125, 0.375  , 0.46875, 0.5625 ,\n",
       "        0.65625, 0.75   , 0.84375, 0.9375 , 1.03125, 1.125  , 1.21875,\n",
       "        1.3125 , 1.40625, 1.5    , 1.59375, 1.6875 , 1.78125, 1.875  ,\n",
       "        1.96875, 2.0625 , 2.15625, 2.25   , 2.34375, 2.4375 , 2.53125,\n",
       "        2.625  , 2.71875, 2.8125 , 2.90625], dtype=float32)}"
      ]
     },
     "execution_count": 10,
     "metadata": {},
     "output_type": "execute_result"
    }
   ],
   "source": [
    "prm.get_mesh"
   ]
  },
  {
   "cell_type": "markdown",
   "metadata": {},
   "source": [
    "More details about I/O and array manipulations with [xarray](http://xarray.pydata.org/en/stable/index.html) will be included in a new tutorial."
   ]
  },
  {
   "cell_type": "markdown",
   "metadata": {},
   "source": [
    "## Traitlets\n",
    "\n",
    "### Type-checking\n",
    "\n",
    "All parameters are type-checked, to make sure that they are what `Xcompact3d` expects. Use the cellcode below to see how a `TraitError` pops out when we try:\n",
    "\n",
    "```python\n",
    "prm.itype = 10.5\n",
    "prm.itype = -5\n",
    "prm.itype = 12\n",
    "prm.itype = 'sandbox'\n",
    "\n",
    "```\n"
   ]
  },
  {
   "cell_type": "code",
   "execution_count": null,
   "metadata": {},
   "outputs": [],
   "source": []
  },
  {
   "cell_type": "markdown",
   "metadata": {},
   "source": [
    "### Validation"
   ]
  },
  {
   "cell_type": "markdown",
   "metadata": {},
   "source": [
    "Some parameters, like mesh points (`nx`, `ny` and `nz`), trigger a validation operation when a new value is attributed to them.\n",
    "Due to restrictions at the FFT library, they must be equal to:\n",
    "\n",
    "$$\n",
    "n_i = \\left\\{ \\begin{array}{ll} 2^{1+a} \\times 3^b \\times 5^c &\\mbox{if periodic,} \\\\ 2^{1+a} \\times 3^b \\times 5^c + 1 &\\mbox{otherwise,}\n",
    "\\end{array} \\right.\n",
    "$$\n",
    "\n",
    "where $a$, $b$ and $c$ are non negative integers. In addition, the derivatives stencil imposes that:\n",
    "\n",
    "$$\n",
    "n_i \\ge \\left\\{ \\begin{array}{ll} 8 &\\mbox{if periodic,} \\\\ 9 &\\mbox{otherwise.}\n",
    "\\end{array} \\right.\n",
    "$$\n",
    "\n",
    "Again, give it a try at the cellcode below:\n",
    "\n",
    "```python\n",
    "prm.nx = 129\n",
    "prm.nx = 4\n",
    "prm.nx = 60\n",
    "prm.nx = 61\n",
    "```"
   ]
  },
  {
   "cell_type": "code",
   "execution_count": null,
   "metadata": {},
   "outputs": [],
   "source": []
  },
  {
   "cell_type": "markdown",
   "metadata": {},
   "source": [
    "### Observation"
   ]
  },
  {
   "cell_type": "markdown",
   "metadata": {},
   "source": [
    "Other parameters, like mesh resolution (`dx`, `dy` and `dz`), are automaticaly updated when any new atribution occurs to mesh points and/or domain size. Let's create a quick print functions to play with:"
   ]
  },
  {
   "cell_type": "code",
   "execution_count": 11,
   "metadata": {},
   "outputs": [],
   "source": [
    "def show_param():\n",
    "    for var in \"nclx1 nclxn nx xlx dx\".split():\n",
    "        print(f\"{var:>5} = {getattr(prm, var)}\")"
   ]
  },
  {
   "cell_type": "markdown",
   "metadata": {},
   "source": [
    "We are starting with:"
   ]
  },
  {
   "cell_type": "code",
   "execution_count": 12,
   "metadata": {},
   "outputs": [
    {
     "name": "stdout",
     "output_type": "stream",
     "text": [
      "nclx1 = 2\n",
      "nclxn = 2\n",
      "   nx = 129\n",
      "  xlx = 15.0\n",
      "   dx = 0.1171875\n"
     ]
    }
   ],
   "source": [
    "show_param()"
   ]
  },
  {
   "cell_type": "markdown",
   "metadata": {},
   "source": [
    "Let's change just the domain's length:"
   ]
  },
  {
   "cell_type": "code",
   "execution_count": 13,
   "metadata": {},
   "outputs": [
    {
     "name": "stdout",
     "output_type": "stream",
     "text": [
      "nclx1 = 2\n",
      "nclxn = 2\n",
      "   nx = 129\n",
      "  xlx = 50.0\n",
      "   dx = 0.390625\n"
     ]
    }
   ],
   "source": [
    "prm.xlx = 50.0\n",
    "\n",
    "show_param()"
   ]
  },
  {
   "cell_type": "markdown",
   "metadata": {},
   "source": [
    "The resolution was updated as well. Now the number of mesh points:"
   ]
  },
  {
   "cell_type": "code",
   "execution_count": 14,
   "metadata": {},
   "outputs": [
    {
     "name": "stdout",
     "output_type": "stream",
     "text": [
      "nclx1 = 2\n",
      "nclxn = 2\n",
      "   nx = 121\n",
      "  xlx = 50.0\n",
      "   dx = 0.4166666666666667\n"
     ]
    }
   ],
   "source": [
    "prm.nx = 121\n",
    "\n",
    "show_param()"
   ]
  },
  {
   "cell_type": "markdown",
   "metadata": {},
   "source": [
    "Again, the resolution was updated. Now we set a new mesh resolution, this time, `xlx` will be updated in order to satisfy the new resolution:"
   ]
  },
  {
   "cell_type": "code",
   "execution_count": 15,
   "metadata": {},
   "outputs": [
    {
     "name": "stdout",
     "output_type": "stream",
     "text": [
      "nclx1 = 2\n",
      "nclxn = 2\n",
      "   nx = 121\n",
      "  xlx = 1.2\n",
      "   dx = 0.01\n"
     ]
    }
   ],
   "source": [
    "prm.dx = 1e-2\n",
    "\n",
    "show_param()"
   ]
  },
  {
   "cell_type": "markdown",
   "metadata": {},
   "source": [
    "Boundary conditions are observed as well. Xcompact3d allows three different BC for velocity:\n",
    "\n",
    "* Periodic `0`;\n",
    "* Free-slip `1`;\n",
    "* Dirichlet `2`.\n",
    "\n",
    "They can be assigned individualy for each of the six boundaries:\n",
    "\n",
    "* `nclx1` and `nclxn`, where $x=0$ and $x=xlx$;\n",
    "* `ncly1` and `nclyn`, where $y=0$ and $y=yly$;\n",
    "* `nclz1` and `nclzn`, where $z=0$ and $z=zlz$.\n",
    "\n",
    "It leads to 5 possibilities (`00`, `11`, `12`, `21` and `22`), because both boundary must be periodic, or not, so `0` cannot be combined.\n",
    "\n",
    "Let's check it out, we are starting with:"
   ]
  },
  {
   "cell_type": "code",
   "execution_count": 16,
   "metadata": {},
   "outputs": [
    {
     "name": "stdout",
     "output_type": "stream",
     "text": [
      "nclx1 = 2\n",
      "nclxn = 2\n",
      "   nx = 121\n",
      "  xlx = 1.2\n",
      "   dx = 0.01\n"
     ]
    }
   ],
   "source": [
    "show_param()"
   ]
  },
  {
   "cell_type": "markdown",
   "metadata": {},
   "source": [
    "We will change just one side to periodic (`nclx1 = 0`), for consistence, the other side should be periodic too. Let's see:"
   ]
  },
  {
   "cell_type": "code",
   "execution_count": 17,
   "metadata": {},
   "outputs": [
    {
     "name": "stdout",
     "output_type": "stream",
     "text": [
      "nclx1 = 0\n",
      "nclxn = 0\n",
      "   nx = 120\n",
      "  xlx = 1.2\n",
      "   dx = 0.01\n"
     ]
    }
   ],
   "source": [
    "prm.nclx1 = 0\n",
    "\n",
    "show_param()"
   ]
  },
  {
   "cell_type": "markdown",
   "metadata": {},
   "source": [
    "Now free-slip in one side (`nclx1 = 1`), and the other should be non-periodic:"
   ]
  },
  {
   "cell_type": "code",
   "execution_count": 18,
   "metadata": {},
   "outputs": [
    {
     "name": "stdout",
     "output_type": "stream",
     "text": [
      "nclx1 = 1\n",
      "nclxn = 1\n",
      "   nx = 121\n",
      "  xlx = 1.2\n",
      "   dx = 0.01\n"
     ]
    }
   ],
   "source": [
    "prm.nclx1 = 1\n",
    "\n",
    "show_param()"
   ]
  },
  {
   "cell_type": "markdown",
   "metadata": {},
   "source": [
    "Setting the other boundary to periodic:"
   ]
  },
  {
   "cell_type": "code",
   "execution_count": 19,
   "metadata": {},
   "outputs": [
    {
     "name": "stdout",
     "output_type": "stream",
     "text": [
      "nclx1 = 0\n",
      "nclxn = 0\n",
      "   nx = 120\n",
      "  xlx = 1.2\n",
      "   dx = 0.01\n"
     ]
    }
   ],
   "source": [
    "prm.nclxn = 0\n",
    "\n",
    "show_param()"
   ]
  },
  {
   "cell_type": "markdown",
   "metadata": {},
   "source": [
    "and now back to Dirichlet:"
   ]
  },
  {
   "cell_type": "code",
   "execution_count": 20,
   "metadata": {},
   "outputs": [
    {
     "name": "stdout",
     "output_type": "stream",
     "text": [
      "nclx1 = 2\n",
      "nclxn = 2\n",
      "   nx = 121\n",
      "  xlx = 1.2\n",
      "   dx = 0.01\n"
     ]
    }
   ],
   "source": [
    "prm.nclxn = 2\n",
    "\n",
    "show_param()"
   ]
  },
  {
   "cell_type": "markdown",
   "metadata": {},
   "source": [
    "This time, free-slip:"
   ]
  },
  {
   "cell_type": "code",
   "execution_count": 21,
   "metadata": {},
   "outputs": [
    {
     "name": "stdout",
     "output_type": "stream",
     "text": [
      "nclx1 = 2\n",
      "nclxn = 1\n",
      "   nx = 121\n",
      "  xlx = 1.2\n",
      "   dx = 0.01\n"
     ]
    }
   ],
   "source": [
    "prm.nclxn = 1\n",
    "\n",
    "show_param()"
   ]
  },
  {
   "cell_type": "markdown",
   "metadata": {},
   "source": [
    "There was no need to update `nclx1`, because `1` and `2` can be freely combined. Notice that `nx` was modified properly from 121 to 120 and then back, according to the possible values, `dx` and `xlx` stayed untouched."
   ]
  },
  {
   "cell_type": "markdown",
   "metadata": {},
   "source": [
    "### Metadata"
   ]
  },
  {
   "cell_type": "markdown",
   "metadata": {},
   "source": [
    "Traitlets types constructors have a `tag` method to store metadata in a dictionary. In the case of Xcompact3d-toolbox, two are especially useful:\n",
    "\n",
    "* `group` defines to what namespace a given parameter belongs when the class is written to `.i3d` file (`.write()` method) or read from `.i3d` or `.prm` files (`.load()` method), parameters without a group are ignored for both methods;\n",
    "* `desc` contains a brief description of each parameter that is shown on screen as we saw above, and also printed with the `.write()` method."
   ]
  },
  {
   "cell_type": "markdown",
   "metadata": {},
   "source": [
    "### Declaring new parameters"
   ]
  },
  {
   "cell_type": "markdown",
   "metadata": {},
   "source": [
    "You probably would like to add more parameters for your own flow configuration, or because some of them were not implemented yet (it is a work in progress).\n",
    "\n",
    "To do so, any auxiliar varible can be included after initialization, like:"
   ]
  },
  {
   "cell_type": "code",
   "execution_count": 22,
   "metadata": {},
   "outputs": [],
   "source": [
    "prm.my_variable = 0  # or any other datatype"
   ]
  },
  {
   "cell_type": "markdown",
   "metadata": {},
   "source": [
    "It was called auxiliar variable because, in this way, it will be available only for the Python aplication.\n",
    "\n",
    "In order to include it at the `.i3d` file and make it available for Xcompact3d, we can create a subclass that inherits all the functionality from `xcompact3d_toolbox.Parameters`:"
   ]
  },
  {
   "cell_type": "code",
   "execution_count": 23,
   "metadata": {},
   "outputs": [
    {
     "name": "stdout",
     "output_type": "stream",
     "text": [
      "20\n"
     ]
    },
    {
     "data": {
      "text/plain": [
       "! -*- mode: f90 -*-\n",
       "\n",
       "!===================\n",
       "&BasicParam\n",
       "!===================\n",
       "\n",
       "  a_my_variable = 10              ! An example at the Tutorial <------\n",
       "           beta = 1.0             ! Refinement parameter\n",
       "             dt = 0.001           ! Time step\n",
       "          gravx = 0.0             ! Gravity unitary vector in x-direction\n",
       "          gravy = 0.0             ! Gravity unitary vector in y-direction\n",
       "          gravz = 0.0             ! Gravity unitary vector in z-direction\n",
       "         ifirst = 0               ! The number for the first iteration\n",
       "           iibm = 0               ! Flag for immersed boundary method (0: No, 1: Yes)\n",
       "            iin = 0               ! Defines pertubation at initial condition\n",
       "          ilast = 0               ! The number for the last iteration\n",
       "        ilesmod = 0               ! Enables Large-Eddy methodologies (0: No, 1: Yes)\n",
       "   inflow_noise = 0.0             ! Turbulence intensity (1=100%) !! Inflow condition\n",
       "     init_noise = 0.0             ! Turbulence intensity (1=100%) !! Initial condition\n",
       "          ipost = 0               ! Enables online postprocessing at a frequency iprocessing (0: No, 1: Yes)\n",
       "         istret = 0               ! y mesh refinement (0:no, 1:center, 2:both sides, 3:bottom)\n",
       "          itype = 10              ! Flow configuration (1:Lock-exchange, 2:TGV, 3:Channel, and others)\n",
       "          ivisu = 1               ! Enable store snapshots at a frequency ioutput (0: No, 1: Yes)\n",
       "          nclx1 = 2               ! Velocity boundary condition where x=0\n",
       "          nclxn = 2               ! Velocity boundary condition where x=xlx\n",
       "          ncly1 = 2               ! Velocity boundary condition where y=0\n",
       "          nclyn = 2               ! Velocity boundary condition where y=yly\n",
       "          nclz1 = 2               ! Velocity boundary condition where z=0\n",
       "          nclzn = 2               ! Velocity boundary condition where z=zlz\n",
       "      numscalar = 0               ! Number of scalar fractions\n",
       "             nx = 257             ! X-direction nodes\n",
       "             ny = 129             ! Y-direction nodes\n",
       "             nz = 31              ! Z-direction nodes\n",
       "          p_col = 0               ! Column partition for domain decomposition and parallel computation\n",
       "          p_row = 0               ! Row partition for domain decomposition and parallel computation\n",
       "             re = 1000.0          ! Reynolds number\n",
       "            xlx = 1.0             ! Size of the box in x-direction\n",
       "            yly = 1.0             ! Size of the box in y-direction\n",
       "            zlz = 1.0             ! Size of the box in z-direction\n",
       "\n",
       "/End\n",
       "\n",
       "!===================\n",
       "&NumOptions\n",
       "!===================\n",
       "\n",
       "            cnu = 0.44            ! Ratio between hypervisvosity at km=2/3π and kc=π (dissipation factor range)\n",
       "      ifirstder = 4               ! \n",
       "     isecondder = 4               ! Scheme for first order derivative\n",
       "    itimescheme = 3               ! Time integration scheme (1: Euler, 2: AB2, 3: AB3, 5: RK3)\n",
       "          nu0nu = 4.0             ! Ratio between hyperviscosity/viscosity at nu (dissipation factor intensity)\n",
       "\n",
       "/End\n",
       "\n",
       "!===================\n",
       "&InOutParam\n",
       "!===================\n",
       "\n",
       " filenamedigits = 0               ! Controls the way that the output binary files are enumerated\n",
       "    icheckpoint = 1000            ! Frequency for writing backup file\n",
       "ifilenameformat = '(I9.9)'        ! The number of digits used to name the output binary files\n",
       "        ioutput = 1000            ! Frequency for visualization file\n",
       "    iprocessing = 1000            ! Frequency for online postprocessing\n",
       "       irestart = 0               ! Read initial flow field (0: No, 1: Yes)\n",
       "          nvisu = 1               ! Size for visualisation collection\n",
       "\n",
       "/End"
      ]
     },
     "execution_count": 23,
     "metadata": {},
     "output_type": "execute_result"
    }
   ],
   "source": [
    "import traitlets\n",
    "\n",
    "\n",
    "# Create a class named my_Parameters, which inherits the properties all properties and methods\n",
    "class my_Parameters(x3d.Parameters):\n",
    "    # .tag with group and description guarantees that the new variable will\n",
    "    # be compatible with all functionalities (like .write() and .load())\n",
    "    a_my_variable = traitlets.Int(default_value=0, min=0).tag(\n",
    "        group=\"BasicParam\", desc=\"An example at the Tutorial <------\"\n",
    "    )\n",
    "\n",
    "    # And a custom method, for instance\n",
    "    def my_method(self):\n",
    "        return self.a_my_variable * 2\n",
    "\n",
    "\n",
    "prm = my_Parameters(nx=257, ny=129, nz=31, a_my_variable=10)  # and here we go\n",
    "\n",
    "# Testing the method\n",
    "print(prm.my_method())\n",
    "\n",
    "# Show all parameters on screen\n",
    "prm"
   ]
  },
  {
   "cell_type": "markdown",
   "metadata": {},
   "source": [
    "Take a look at the source code of [parameters.py](https://github.com/fschuch/xcompact3d_toolbox/blob/master/xcompact3d_toolbox/param.py) if you need more examples for different datatypes."
   ]
  },
  {
   "cell_type": "markdown",
   "metadata": {},
   "source": [
    "## Graphical User Interface"
   ]
  },
  {
   "cell_type": "markdown",
   "metadata": {},
   "source": [
    "<div class=\"alert alert-info\">\n",
    "\n",
    "For an interactive experience [launch this tutorial on Binder](https://mybinder.org/v2/gh/fschuch/xcompact3d_toolbox/master?urlpath=lab/tree/docs/tutorial), the widgets are not so responsive when disconnected from a Python application.\n",
    "\n",
    "</div>"
   ]
  },
  {
   "cell_type": "markdown",
   "metadata": {},
   "source": [
    "To conclude this part of the tutorial, let's see another option to handle the parameters. The class `ParametersGui` is a subclass of `Parameters`, and includes all the features described above. In addition, `ParametersGui` offers an user interface with [IPywidgets](https://ipywidgets.readthedocs.io/en/stable/index.html).\n",
    "\n",
    "It is still under development, more parameters and features are going to be included soon, as well as more widgets.\n",
    "\n",
    "Just like before, we start with:"
   ]
  },
  {
   "cell_type": "code",
   "execution_count": 24,
   "metadata": {},
   "outputs": [],
   "source": [
    "prm = x3d.ParametersGui()"
   ]
  },
  {
   "cell_type": "markdown",
   "metadata": {},
   "source": [
    "Widgets are returned on demand when any instance of `class ParametersGui` is called, let’s see:"
   ]
  },
  {
   "cell_type": "code",
   "execution_count": 25,
   "metadata": {},
   "outputs": [
    {
     "data": {
      "application/vnd.jupyter.widget-view+json": {
       "model_id": "ec8dc0ad199f4eb0a0493ab96b7e6200",
       "version_major": 2,
       "version_minor": 0
      },
      "text/plain": [
       "VBox(children=(Dropdown(description='nx', description_tooltip='X-direction nodes', index=3, options=(9, 11, 13…"
      ]
     },
     "metadata": {},
     "output_type": "display_data"
    }
   ],
   "source": [
    "prm(\"nx\", \"xlx\", \"dx\", \"nclx1\", \"nclxn\")"
   ]
  },
  {
   "cell_type": "markdown",
   "metadata": {},
   "source": [
    "You can play around with the widgets above and see the effect of the observations made previously.\n",
    "\n",
    "Notice that the [Traitlets](https://traitlets.readthedocs.io/en/stable/index.html) parameters are related to the value at their widgets in a **two-way link**, in this way, a print will show the actual value on the widgets:"
   ]
  },
  {
   "cell_type": "code",
   "execution_count": 26,
   "metadata": {},
   "outputs": [
    {
     "name": "stdout",
     "output_type": "stream",
     "text": [
      "nclx1 = 2\n",
      "nclxn = 2\n",
      "   nx = 17\n",
      "  xlx = 1.0\n",
      "   dx = 0.0625\n"
     ]
    }
   ],
   "source": [
    "show_param()"
   ]
  },
  {
   "cell_type": "markdown",
   "metadata": {},
   "source": [
    "Give it a try, modify the values at the widgets and print them again.\n",
    "\n",
    "It also works on the other way, set a new value to a parameters will change its widget, try it:"
   ]
  },
  {
   "cell_type": "code",
   "execution_count": 27,
   "metadata": {},
   "outputs": [],
   "source": [
    "#prm.nclx1 = 0"
   ]
  },
  {
   "cell_type": "markdown",
   "metadata": {},
   "source": [
    "And of course, different widgets for the same parameter are always synchronized, change the widget below and see what happens with the widget above:"
   ]
  },
  {
   "cell_type": "code",
   "execution_count": 28,
   "metadata": {},
   "outputs": [
    {
     "data": {
      "application/vnd.jupyter.widget-view+json": {
       "model_id": "e8d5b43d2382405db358f966d4bef31a",
       "version_major": 2,
       "version_minor": 0
      },
      "text/plain": [
       "VBox(children=(Dropdown(description='nx', description_tooltip='X-direction nodes', index=3, options=(9, 11, 13…"
      ]
     },
     "metadata": {},
     "output_type": "display_data"
    }
   ],
   "source": [
    "prm('nx')"
   ]
  },
  {
   "cell_type": "markdown",
   "metadata": {},
   "source": [
    "A last example is about the domain decomposition for parallel computation, Xcompact3d uses [2DECOMP&FFT](http://www.2decomp.org/).\n",
    "The available options for `p_row` and `p_col` are presented as functions of the number of computational cores `ncores`, notice that `p_row * p_col = ncores` should be respected and `p_row * p_col = 0` activates the auto-tunning mode. The widgets are prepared to respect these restrictions:"
   ]
  },
  {
   "cell_type": "code",
   "execution_count": 29,
   "metadata": {},
   "outputs": [
    {
     "data": {
      "application/vnd.jupyter.widget-view+json": {
       "model_id": "c6290f4264ee4ae181862b1e0e575903",
       "version_major": 2,
       "version_minor": 0
      },
      "text/plain": [
       "VBox(children=(BoundedIntText(value=4, description='ncores', max=1000000000), Dropdown(description='p_row', de…"
      ]
     },
     "metadata": {},
     "output_type": "display_data"
    }
   ],
   "source": [
    "prm('ncores', 'p_row', 'p_col')"
   ]
  },
  {
   "cell_type": "markdown",
   "metadata": {},
   "source": [
    "To conclude this part of the tutorial, let’s see what happend when `class ParametersGui` is presented on screen, hover the mouse over some variable to see its description:"
   ]
  },
  {
   "cell_type": "code",
   "execution_count": 30,
   "metadata": {},
   "outputs": [
    {
     "data": {
      "application/vnd.jupyter.widget-view+json": {
       "model_id": "0593073f002944e79f6282013316db34",
       "version_major": 2,
       "version_minor": 0
      },
      "text/plain": [
       "VBox(children=(HTML(value='<h1>Xcompact3d Parameters</h1>'), HBox(children=(Text(value='input.i3d', descriptio…"
      ]
     },
     "metadata": {},
     "output_type": "display_data"
    }
   ],
   "source": [
    "prm"
   ]
  }
 ],
 "metadata": {
  "kernelspec": {
   "display_name": "Python 3",
   "language": "python",
   "name": "python3"
  },
  "language_info": {
   "codemirror_mode": {
    "name": "ipython",
    "version": 3
   },
   "file_extension": ".py",
   "mimetype": "text/x-python",
   "name": "python",
   "nbconvert_exporter": "python",
   "pygments_lexer": "ipython3",
   "version": "3.7.9"
  },
  "widgets": {
   "application/vnd.jupyter.widget-state+json": {
    "state": {
     "001c805984ff47878e4e488ebd59a95a": {
      "model_module": "@jupyter-widgets/controls",
      "model_module_version": "1.5.0",
      "model_name": "DescriptionStyleModel",
      "state": {
       "description_width": ""
      }
     },
     "01cba7007700462fa63b610a77f94d4e": {
      "model_module": "@jupyter-widgets/base",
      "model_module_version": "1.2.0",
      "model_name": "LayoutModel",
      "state": {}
     },
     "0244afefa9ad485fa569477c16dc6b44": {
      "model_module": "@jupyter-widgets/base",
      "model_module_version": "1.2.0",
      "model_name": "LayoutModel",
      "state": {}
     },
     "02d5062b8e6a4062a6f627a76664f3bc": {
      "model_module": "@jupyter-widgets/base",
      "model_module_version": "1.2.0",
      "model_name": "LayoutModel",
      "state": {}
     },
     "0369f8695b4f48fb8ea0193d802c2048": {
      "model_module": "@jupyter-widgets/controls",
      "model_module_version": "1.5.0",
      "model_name": "DescriptionStyleModel",
      "state": {
       "description_width": ""
      }
     },
     "0593073f002944e79f6282013316db34": {
      "model_module": "@jupyter-widgets/controls",
      "model_module_version": "1.5.0",
      "model_name": "VBoxModel",
      "state": {
       "children": [
        "IPY_MODEL_e4f9b43d57184eb89c91eaf2cb4cffd1",
        "IPY_MODEL_8f88d4fa0d0f4ca8b69c700f033993c8",
        "IPY_MODEL_3e792be179734c46ae72e7d7384a1d6f",
        "IPY_MODEL_0f07966eb3864a62bcf50afc8f322f60",
        "IPY_MODEL_ff7513be5e0e424cb9a75265b9d3d3ba",
        "IPY_MODEL_8a372db7178e4f26be2ec7e867dc60bb",
        "IPY_MODEL_afb064a769514042add8ac004353055b",
        "IPY_MODEL_0b144300df4843c884ddeb515d6c5978",
        "IPY_MODEL_96671a16ddfc42fa88e3871231570236",
        "IPY_MODEL_c19cb571d1eb420da3361fc706381e8f",
        "IPY_MODEL_e7b5c27a439b4a0dafae5135c90bffc3",
        "IPY_MODEL_5ff352c2a6a747a58e8426f10c14ae4b",
        "IPY_MODEL_98a6172b2fb44aa0931a16bd8c29363e",
        "IPY_MODEL_61d97ee2e39747759c1bc91ed7a12c1a",
        "IPY_MODEL_c5177423e5154a7bb36df42f5868cb49",
        "IPY_MODEL_081390b28d89481fa03e79dbb72d9669",
        "IPY_MODEL_e57319a411764fa2a518c3aac83530a1",
        "IPY_MODEL_315c97a626c24aa0b1e4758045d1071f",
        "IPY_MODEL_b75b8a90fc4449e8818bd860eb58a4bf",
        "IPY_MODEL_6edf17e64e6c4119a9cc9565f04a6055",
        "IPY_MODEL_dd0614c14a1540099e44905ab588f1ba",
        "IPY_MODEL_b917e03614034340ba2600aa1173258d",
        "IPY_MODEL_96f0e68552e146a2afa9d2a8ff502b2e",
        "IPY_MODEL_4009bb670705428695091987a6615216",
        "IPY_MODEL_63e043d0c32e42a0a7c1cfb78a3f194f",
        "IPY_MODEL_c30bcb8b585e4186b3f0205868628a3e",
        "IPY_MODEL_5bf80e5095344bebb5e77257945ab01d",
        "IPY_MODEL_a7453ad729554b2592cc5de071875055",
        "IPY_MODEL_f1ffcae6589e43ac8111fc1c7c9d5f87",
        "IPY_MODEL_faf3e2d1847549b1a85d15e16b85b169",
        "IPY_MODEL_9ed034eaffac4b78aca5ed9a2f0a654e"
       ],
       "layout": "IPY_MODEL_a66b1a0297ec4d039b406fbf314a1010"
      }
     },
     "073f0be5cab744919752f9e9b6279dc9": {
      "model_module": "@jupyter-widgets/controls",
      "model_module_version": "1.5.0",
      "model_name": "DescriptionStyleModel",
      "state": {
       "description_width": ""
      }
     },
     "079d4c1b6d9c4251a6a92c184cb43905": {
      "model_module": "@jupyter-widgets/base",
      "model_module_version": "1.2.0",
      "model_name": "LayoutModel",
      "state": {}
     },
     "081390b28d89481fa03e79dbb72d9669": {
      "model_module": "@jupyter-widgets/controls",
      "model_module_version": "1.5.0",
      "model_name": "HBoxModel",
      "state": {
       "children": [
        "IPY_MODEL_e4230588315343f699810f22a5005926",
        "IPY_MODEL_d3d9e7c540ad4a659cf3fc59cafd3f8d",
        "IPY_MODEL_51956d3e8b8a4295b8d37e0c272f38a0"
       ],
       "layout": "IPY_MODEL_9498c9959ad347e68ccdbe1ceb10934d"
      }
     },
     "087ea5b22d8f4d77b72c52e8fa7ee5ab": {
      "model_module": "@jupyter-widgets/base",
      "model_module_version": "1.2.0",
      "model_name": "LayoutModel",
      "state": {}
     },
     "08ed72c46a0e4b9e8c03ddddb6ffac62": {
      "model_module": "@jupyter-widgets/controls",
      "model_module_version": "1.5.0",
      "model_name": "DescriptionStyleModel",
      "state": {
       "description_width": ""
      }
     },
     "09b3bc52aa1b4fec9ed5597010376dc3": {
      "model_module": "@jupyter-widgets/controls",
      "model_module_version": "1.5.0",
      "model_name": "IntTextModel",
      "state": {
       "description": "nobjmax",
       "description_tooltip": "Maximum number of objects in any direction",
       "disabled": true,
       "layout": "IPY_MODEL_02d5062b8e6a4062a6f627a76664f3bc",
       "step": 1,
       "style": "IPY_MODEL_5c7777bf68d24ee3be180f396af1f7a5",
       "value": 1
      }
     },
     "0aef3c03d5204058a59efc9e9639eb72": {
      "model_module": "@jupyter-widgets/base",
      "model_module_version": "1.2.0",
      "model_name": "LayoutModel",
      "state": {}
     },
     "0b144300df4843c884ddeb515d6c5978": {
      "model_module": "@jupyter-widgets/controls",
      "model_module_version": "1.5.0",
      "model_name": "HTMLModel",
      "state": {
       "layout": "IPY_MODEL_18514c0fb977473ab79d9f0214a03747",
       "style": "IPY_MODEL_6ac6e44be773435aa3af2b4a8dc7a84e",
       "value": "<h3>Temporal discretization</h3>"
      }
     },
     "0cded3f2ef654bb1a542d585eb7739d4": {
      "model_module": "@jupyter-widgets/base",
      "model_module_version": "1.2.0",
      "model_name": "LayoutModel",
      "state": {}
     },
     "0ecec7e7ef3d4945a4b95391e282e90f": {
      "model_module": "@jupyter-widgets/base",
      "model_module_version": "1.2.0",
      "model_name": "LayoutModel",
      "state": {}
     },
     "0ecf6a5c73fa48fcb7fbdb250090ee0f": {
      "model_module": "@jupyter-widgets/controls",
      "model_module_version": "1.5.0",
      "model_name": "DescriptionStyleModel",
      "state": {
       "description_width": ""
      }
     },
     "0f07966eb3864a62bcf50afc8f322f60": {
      "model_module": "@jupyter-widgets/controls",
      "model_module_version": "1.5.0",
      "model_name": "HBoxModel",
      "state": {
       "children": [
        "IPY_MODEL_df59eb72d04447a5a765eaeebe4d4fe5",
        "IPY_MODEL_99d6e60fb3c14fca9ec69f244132eafa"
       ],
       "layout": "IPY_MODEL_b4486310317649bcb63a5c6286dde9fa"
      }
     },
     "10cc013c872b44a1b61f7c5119ff0486": {
      "model_module": "@jupyter-widgets/base",
      "model_module_version": "1.2.0",
      "model_name": "LayoutModel",
      "state": {}
     },
     "115e62ab2dc04f91b0c4fe3993a6430b": {
      "model_module": "@jupyter-widgets/base",
      "model_module_version": "1.2.0",
      "model_name": "LayoutModel",
      "state": {}
     },
     "117cb74ba00040429c9dc27005356a41": {
      "model_module": "@jupyter-widgets/controls",
      "model_module_version": "1.5.0",
      "model_name": "DescriptionStyleModel",
      "state": {
       "description_width": ""
      }
     },
     "11c47e8fe37f4f71b574fcb72a091072": {
      "model_module": "@jupyter-widgets/base",
      "model_module_version": "1.2.0",
      "model_name": "LayoutModel",
      "state": {}
     },
     "13063d8d9530444fad35fe111bea2b54": {
      "model_module": "@jupyter-widgets/base",
      "model_module_version": "1.2.0",
      "model_name": "LayoutModel",
      "state": {}
     },
     "1791cfb01af6405fbd4c146e224365c1": {
      "model_module": "@jupyter-widgets/controls",
      "model_module_version": "1.5.0",
      "model_name": "DescriptionStyleModel",
      "state": {
       "description_width": ""
      }
     },
     "18514c0fb977473ab79d9f0214a03747": {
      "model_module": "@jupyter-widgets/base",
      "model_module_version": "1.2.0",
      "model_name": "LayoutModel",
      "state": {}
     },
     "18c6be13126848c2aca6ee83256c00bd": {
      "model_module": "@jupyter-widgets/controls",
      "model_module_version": "1.5.0",
      "model_name": "BoundedFloatTextModel",
      "state": {
       "description": "beta",
       "description_tooltip": "Refinement parameter",
       "layout": "IPY_MODEL_9183546e603148b18500a161c2c9e0e5",
       "max": 1000000000,
       "step": null,
       "style": "IPY_MODEL_336b6e46abaf44af9a1abe54f06650ab",
       "value": 1
      }
     },
     "1c4587f210ee442cb692cd03ffe2fc50": {
      "model_module": "@jupyter-widgets/controls",
      "model_module_version": "1.5.0",
      "model_name": "DescriptionStyleModel",
      "state": {
       "description_width": ""
      }
     },
     "1cb672aa7bbd4241a99f66377aa339c1": {
      "model_module": "@jupyter-widgets/controls",
      "model_module_version": "1.5.0",
      "model_name": "ButtonModel",
      "state": {
       "description": "Sync",
       "disabled": true,
       "icon": "sync",
       "layout": "IPY_MODEL_b5ed8d52cd434780bac3212a966682c1",
       "style": "IPY_MODEL_5116e83d79e74e3cb3747bee11df43e2"
      }
     },
     "1cf0682406cb4724a176a1b36a63f372": {
      "model_module": "@jupyter-widgets/base",
      "model_module_version": "1.2.0",
      "model_name": "LayoutModel",
      "state": {}
     },
     "1da1c6c8e5be4f8281f3bc83444ad53f": {
      "model_module": "@jupyter-widgets/controls",
      "model_module_version": "1.5.0",
      "model_name": "IntSliderModel",
      "state": {
       "description": "nraf",
       "description_tooltip": "Level of refinement for iibm==2 to find the surface of the immersed object",
       "layout": "IPY_MODEL_35841d928b5f4d9599097a8bbe814be2",
       "max": 25,
       "min": 1,
       "style": "IPY_MODEL_b122edc4ae8f40d2a2137a5078cc927a",
       "value": 10
      }
     },
     "2084abaca7964c2cb344ea73ab0ad6a8": {
      "model_module": "@jupyter-widgets/controls",
      "model_module_version": "1.5.0",
      "model_name": "ButtonStyleModel",
      "state": {}
     },
     "225397e532ba4fdb8604c617c1876edf": {
      "model_module": "@jupyter-widgets/controls",
      "model_module_version": "1.5.0",
      "model_name": "DescriptionStyleModel",
      "state": {
       "description_width": ""
      }
     },
     "234f486d62f24c1bac7a6adc61f92b4a": {
      "model_module": "@jupyter-widgets/base",
      "model_module_version": "1.2.0",
      "model_name": "LayoutModel",
      "state": {}
     },
     "238d5c112c384478b8c49486b42bf7c4": {
      "model_module": "@jupyter-widgets/base",
      "model_module_version": "1.2.0",
      "model_name": "LayoutModel",
      "state": {}
     },
     "23c4a882eeae4e1da7e83dda34195921": {
      "model_module": "@jupyter-widgets/base",
      "model_module_version": "1.2.0",
      "model_name": "LayoutModel",
      "state": {}
     },
     "25baa5e4b44d45e08cf98a6e3226dcf4": {
      "model_module": "@jupyter-widgets/base",
      "model_module_version": "1.2.0",
      "model_name": "LayoutModel",
      "state": {}
     },
     "25c112ca9f6f4b7f83c259889f2ad9e7": {
      "model_module": "@jupyter-widgets/controls",
      "model_module_version": "1.5.0",
      "model_name": "TextModel",
      "state": {
       "description": "filename",
       "layout": "IPY_MODEL_3bd17fc3461544e4b694f68f80014ec7",
       "style": "IPY_MODEL_c958db29700347288df19ba019c42381",
       "value": "input.i3d"
      }
     },
     "26354b9ec3f9413eac5826bb0d608e56": {
      "model_module": "@jupyter-widgets/controls",
      "model_module_version": "1.5.0",
      "model_name": "DescriptionStyleModel",
      "state": {
       "description_width": ""
      }
     },
     "2676e2de968f40b6abae9d166685e4d9": {
      "model_module": "@jupyter-widgets/base",
      "model_module_version": "1.2.0",
      "model_name": "LayoutModel",
      "state": {}
     },
     "27b1dba11f814e4db1c84a1f11503ec6": {
      "model_module": "@jupyter-widgets/base",
      "model_module_version": "1.2.0",
      "model_name": "LayoutModel",
      "state": {}
     },
     "29c16ac659844e7fb497e785847ebcef": {
      "model_module": "@jupyter-widgets/base",
      "model_module_version": "1.2.0",
      "model_name": "LayoutModel",
      "state": {}
     },
     "2a3db8b873e14c2cba7ec12e807a39b4": {
      "model_module": "@jupyter-widgets/controls",
      "model_module_version": "1.5.0",
      "model_name": "BoundedIntTextModel",
      "state": {
       "description": "ilast",
       "description_tooltip": "The number for the last iteration",
       "layout": "IPY_MODEL_ff4f54fd075e48998b1b5a7d5a83a7f5",
       "max": 1000000000,
       "style": "IPY_MODEL_eaf0700bc4bd4cc387c9949ae4e72f09"
      }
     },
     "2cb7776d3c0e418aa3c90f20687e2fd7": {
      "model_module": "@jupyter-widgets/controls",
      "model_module_version": "1.5.0",
      "model_name": "BoundedFloatTextModel",
      "state": {
       "description": "cnu",
       "description_tooltip": "Ratio between hypervisvosity at km=2/3π and kc=π (dissipation factor range)",
       "layout": "IPY_MODEL_13063d8d9530444fad35fe111bea2b54",
       "max": 1000000,
       "step": null,
       "style": "IPY_MODEL_fa330ca610824c3e9a9fab38d7368ef3",
       "value": 0.44
      }
     },
     "308f0a4cd4fa4f578d738a4522b8a877": {
      "model_module": "@jupyter-widgets/base",
      "model_module_version": "1.2.0",
      "model_name": "LayoutModel",
      "state": {}
     },
     "309a8a8a1d754e819cfb570a96424894": {
      "model_module": "@jupyter-widgets/base",
      "model_module_version": "1.2.0",
      "model_name": "LayoutModel",
      "state": {}
     },
     "30c51ca3c8a241f19e487147b4bd05e7": {
      "model_module": "@jupyter-widgets/controls",
      "model_module_version": "1.5.0",
      "model_name": "BoundedIntTextModel",
      "state": {
       "description": "iprocessing",
       "description_tooltip": "Frequency for online postprocessing",
       "layout": "IPY_MODEL_0aef3c03d5204058a59efc9e9639eb72",
       "max": 1000000000,
       "min": 1,
       "step": 100,
       "style": "IPY_MODEL_073f0be5cab744919752f9e9b6279dc9",
       "value": 1000
      }
     },
     "3155ec65d06642daa7387baf648914c4": {
      "model_module": "@jupyter-widgets/base",
      "model_module_version": "1.2.0",
      "model_name": "LayoutModel",
      "state": {}
     },
     "315c97a626c24aa0b1e4758045d1071f": {
      "model_module": "@jupyter-widgets/controls",
      "model_module_version": "1.5.0",
      "model_name": "HBoxModel",
      "state": {
       "children": [
        "IPY_MODEL_6a45cee9e263446b86a8afb4d0791f14",
        "IPY_MODEL_58fd9f4d404b4cd0997ff522ba6cc3a2",
        "IPY_MODEL_bfdeae057f664562939d0f7dc09a4b7e"
       ],
       "layout": "IPY_MODEL_764e8dde95e5491297443941c3056799"
      }
     },
     "318d291388fb4c4ea5d4cf2a90af7154": {
      "model_module": "@jupyter-widgets/base",
      "model_module_version": "1.2.0",
      "model_name": "LayoutModel",
      "state": {}
     },
     "3286753de1a74ade9173aaed539a955a": {
      "model_module": "@jupyter-widgets/controls",
      "model_module_version": "1.5.0",
      "model_name": "DescriptionStyleModel",
      "state": {
       "description_width": ""
      }
     },
     "3295d381688c43bd94196529b2ad2910": {
      "model_module": "@jupyter-widgets/controls",
      "model_module_version": "1.5.0",
      "model_name": "DropdownModel",
      "state": {
       "_options_labels": [
        "Off",
        "On"
       ],
       "description": "irestart",
       "description_tooltip": "Read initial flow field (0: No, 1: Yes)",
       "index": 0,
       "layout": "IPY_MODEL_58c13941bfd843fab57ca66b4f08eacd",
       "style": "IPY_MODEL_d498673fd6fd421a8c1341f45ed2ee4f"
      }
     },
     "336b6e46abaf44af9a1abe54f06650ab": {
      "model_module": "@jupyter-widgets/controls",
      "model_module_version": "1.5.0",
      "model_name": "DescriptionStyleModel",
      "state": {
       "description_width": ""
      }
     },
     "346b026dfb4040bcb68c455cb13e9a0d": {
      "model_module": "@jupyter-widgets/controls",
      "model_module_version": "1.5.0",
      "model_name": "DescriptionStyleModel",
      "state": {
       "description_width": ""
      }
     },
     "35841d928b5f4d9599097a8bbe814be2": {
      "model_module": "@jupyter-widgets/base",
      "model_module_version": "1.2.0",
      "model_name": "LayoutModel",
      "state": {}
     },
     "361ad117bd734e1f9d5d508cc092894d": {
      "model_module": "@jupyter-widgets/controls",
      "model_module_version": "1.5.0",
      "model_name": "IntSliderModel",
      "state": {
       "continuous_update": false,
       "description": "numscalar",
       "description_tooltip": "Number of scalar fractions",
       "layout": "IPY_MODEL_caf099c1ac24434b858d14a4e1bf5cf7",
       "max": 9,
       "style": "IPY_MODEL_52d7164daae242ad8ec2f454cf5ac7fd"
      }
     },
     "3630294fd5a948ebba109838dd7ceb5b": {
      "model_module": "@jupyter-widgets/controls",
      "model_module_version": "1.5.0",
      "model_name": "DescriptionStyleModel",
      "state": {
       "description_width": ""
      }
     },
     "364e246f1b5442b5874bcf54e624143c": {
      "model_module": "@jupyter-widgets/base",
      "model_module_version": "1.2.0",
      "model_name": "LayoutModel",
      "state": {}
     },
     "36d1a33f4ecd4ef58b2fce352ab9fed3": {
      "model_module": "@jupyter-widgets/controls",
      "model_module_version": "1.5.0",
      "model_name": "DescriptionStyleModel",
      "state": {
       "description_width": ""
      }
     },
     "37279f550db04882a4b450dc29a043c0": {
      "model_module": "@jupyter-widgets/base",
      "model_module_version": "1.2.0",
      "model_name": "LayoutModel",
      "state": {}
     },
     "3767fcf6997642d4880b1614f9f011ed": {
      "model_module": "@jupyter-widgets/controls",
      "model_module_version": "1.5.0",
      "model_name": "DropdownModel",
      "state": {
       "_options_labels": [
        "9",
        "11",
        "13",
        "17",
        "19",
        "21",
        "25",
        "31",
        "33",
        "37",
        "41",
        "49",
        "51",
        "55",
        "61",
        "65",
        "73",
        "81",
        "91",
        "97",
        "101",
        "109",
        "121",
        "129",
        "145",
        "151",
        "161",
        "163",
        "181",
        "193",
        "201",
        "217",
        "241",
        "251",
        "257",
        "271",
        "289",
        "301",
        "321",
        "325",
        "361",
        "385",
        "401",
        "433",
        "451",
        "481",
        "487",
        "501",
        "513",
        "541",
        "577",
        "601",
        "641",
        "649",
        "721",
        "751",
        "769",
        "801",
        "811",
        "865",
        "901",
        "961",
        "973",
        "1001",
        "1025",
        "1081",
        "1153",
        "1201",
        "1251",
        "1281",
        "1297",
        "1351",
        "1441",
        "1459",
        "1501",
        "1537",
        "1601",
        "1621",
        "1729",
        "1801",
        "1921",
        "1945",
        "2001",
        "2049",
        "2161",
        "2251",
        "2305",
        "2401",
        "2431",
        "2501",
        "2561",
        "2593",
        "2701",
        "2881",
        "2917",
        "3001",
        "3073",
        "3201",
        "3241",
        "3457",
        "3601",
        "3751",
        "3841",
        "3889",
        "4001",
        "4051",
        "4097",
        "4321",
        "4375",
        "4501",
        "4609",
        "4801",
        "4861",
        "5001",
        "5121",
        "5185",
        "5401",
        "5761",
        "5833",
        "6001",
        "6145",
        "6251",
        "6401",
        "6481",
        "6751",
        "6913",
        "7201",
        "7291",
        "7501",
        "7681",
        "7777",
        "8001",
        "8101",
        "8193",
        "8641",
        "8749",
        "9001"
       ],
       "description": "ny",
       "description_tooltip": "Y-direction nodes",
       "index": 3,
       "layout": "IPY_MODEL_59e6b03b2ca6495d88f666215702c469",
       "style": "IPY_MODEL_cbcf189278034baaacc2d15d9c458769"
      }
     },
     "3903a55cb5da4228af35d955c11be8d6": {
      "model_module": "@jupyter-widgets/base",
      "model_module_version": "1.2.0",
      "model_name": "LayoutModel",
      "state": {}
     },
     "3bd17fc3461544e4b694f68f80014ec7": {
      "model_module": "@jupyter-widgets/base",
      "model_module_version": "1.2.0",
      "model_name": "LayoutModel",
      "state": {}
     },
     "3d01e5186b964282a57fa1845cb7bce9": {
      "model_module": "@jupyter-widgets/base",
      "model_module_version": "1.2.0",
      "model_name": "LayoutModel",
      "state": {}
     },
     "3e3bb10b4d3441c7b38702a7d69340f6": {
      "model_module": "@jupyter-widgets/controls",
      "model_module_version": "1.5.0",
      "model_name": "DescriptionStyleModel",
      "state": {
       "description_width": ""
      }
     },
     "3e792be179734c46ae72e7d7384a1d6f": {
      "model_module": "@jupyter-widgets/controls",
      "model_module_version": "1.5.0",
      "model_name": "HTMLModel",
      "state": {
       "layout": "IPY_MODEL_de25d2c2f2c644668b462b3302ede741",
       "style": "IPY_MODEL_fd023d9e9bc849bda552288c0edec737",
       "value": "<h2>BasicParam</h2>"
      }
     },
     "3f12aa8b3c434312a4c5965b2f229d0b": {
      "model_module": "@jupyter-widgets/controls",
      "model_module_version": "1.5.0",
      "model_name": "DescriptionStyleModel",
      "state": {
       "description_width": ""
      }
     },
     "4009bb670705428695091987a6615216": {
      "model_module": "@jupyter-widgets/controls",
      "model_module_version": "1.5.0",
      "model_name": "HBoxModel",
      "state": {
       "children": [
        "IPY_MODEL_361ad117bd734e1f9d5d508cc092894d"
       ],
       "layout": "IPY_MODEL_6845c7c87c1a4e01abfba1fcd03c39c0"
      }
     },
     "4380a7354094440da84816dcd0ddfa36": {
      "model_module": "@jupyter-widgets/base",
      "model_module_version": "1.2.0",
      "model_name": "LayoutModel",
      "state": {}
     },
     "43905d629360428a8d871b5431a950da": {
      "model_module": "@jupyter-widgets/base",
      "model_module_version": "1.2.0",
      "model_name": "LayoutModel",
      "state": {}
     },
     "43d4a056fa0a4e34bcb77df47a46bb9c": {
      "model_module": "@jupyter-widgets/controls",
      "model_module_version": "1.5.0",
      "model_name": "DescriptionStyleModel",
      "state": {
       "description_width": ""
      }
     },
     "4418d1a0ce014ef5af0275d62b45063a": {
      "model_module": "@jupyter-widgets/base",
      "model_module_version": "1.2.0",
      "model_name": "LayoutModel",
      "state": {}
     },
     "466467ccbfe6405b870a9989fa64c304": {
      "model_module": "@jupyter-widgets/base",
      "model_module_version": "1.2.0",
      "model_name": "LayoutModel",
      "state": {}
     },
     "4717572316cc4470979d071ebd4a51c5": {
      "model_module": "@jupyter-widgets/controls",
      "model_module_version": "1.5.0",
      "model_name": "DescriptionStyleModel",
      "state": {
       "description_width": ""
      }
     },
     "4a35ef29d6e54dcdadd2e1386e89e8cc": {
      "model_module": "@jupyter-widgets/controls",
      "model_module_version": "1.5.0",
      "model_name": "BoundedFloatTextModel",
      "state": {
       "description": "nu0nu",
       "description_tooltip": "Ratio between hyperviscosity/viscosity at nu (dissipation factor intensity)",
       "layout": "IPY_MODEL_6058435931a44070a67c9d0f3db14b73",
       "max": 1000000,
       "step": null,
       "style": "IPY_MODEL_97c25c0d98fe462b875ff61020138b10",
       "value": 4
      }
     },
     "4a67278cebcc43548d08bf49d48f82fa": {
      "model_module": "@jupyter-widgets/base",
      "model_module_version": "1.2.0",
      "model_name": "LayoutModel",
      "state": {}
     },
     "4aefe991a48343e4b18de4e8ac851eb5": {
      "model_module": "@jupyter-widgets/controls",
      "model_module_version": "1.5.0",
      "model_name": "DropdownModel",
      "state": {
       "_options_labels": [
        "Periodic",
        "No-flux",
        "Dirichlet"
       ],
       "description": "nclySn",
       "description_tooltip": "Scalar boundary condition where y=yly",
       "index": 2,
       "layout": "IPY_MODEL_8eae14145f464350849b90d3e3a291d9",
       "style": "IPY_MODEL_36d1a33f4ecd4ef58b2fce352ab9fed3"
      }
     },
     "4e1802959551401f8e0214395c8b997b": {
      "model_module": "@jupyter-widgets/controls",
      "model_module_version": "1.5.0",
      "model_name": "DescriptionStyleModel",
      "state": {
       "description_width": ""
      }
     },
     "4f07fb98437f4e2c8dce6cbbb2b52c9d": {
      "model_module": "@jupyter-widgets/base",
      "model_module_version": "1.2.0",
      "model_name": "LayoutModel",
      "state": {}
     },
     "50992ce071394878848c35fe9701f501": {
      "model_module": "@jupyter-widgets/controls",
      "model_module_version": "1.5.0",
      "model_name": "ButtonStyleModel",
      "state": {}
     },
     "5116e83d79e74e3cb3747bee11df43e2": {
      "model_module": "@jupyter-widgets/controls",
      "model_module_version": "1.5.0",
      "model_name": "ButtonStyleModel",
      "state": {}
     },
     "51956d3e8b8a4295b8d37e0c272f38a0": {
      "model_module": "@jupyter-widgets/controls",
      "model_module_version": "1.5.0",
      "model_name": "BoundedFloatTextModel",
      "state": {
       "description": "dz",
       "layout": "IPY_MODEL_b94a94c46a154ce990c7828279ea26ad",
       "max": 1000000,
       "step": null,
       "style": "IPY_MODEL_ba86fd37d41941c9868a3dc4273cf182",
       "value": 0.0625
      }
     },
     "52d7164daae242ad8ec2f454cf5ac7fd": {
      "model_module": "@jupyter-widgets/controls",
      "model_module_version": "1.5.0",
      "model_name": "SliderStyleModel",
      "state": {
       "description_width": ""
      }
     },
     "539e3cff9c3745068449d8e1ea742ba5": {
      "model_module": "@jupyter-widgets/controls",
      "model_module_version": "1.5.0",
      "model_name": "DescriptionStyleModel",
      "state": {
       "description_width": ""
      }
     },
     "54804ea2d7194885ab319790e4ff2aa3": {
      "model_module": "@jupyter-widgets/base",
      "model_module_version": "1.2.0",
      "model_name": "LayoutModel",
      "state": {}
     },
     "54897ce46362450ab0cc0b54eafb50bc": {
      "model_module": "@jupyter-widgets/controls",
      "model_module_version": "1.5.0",
      "model_name": "DescriptionStyleModel",
      "state": {
       "description_width": ""
      }
     },
     "55c64c3a264049cfb286036be05dea2e": {
      "model_module": "@jupyter-widgets/controls",
      "model_module_version": "1.5.0",
      "model_name": "DescriptionStyleModel",
      "state": {
       "description_width": ""
      }
     },
     "55ea5f0dc55347a193cb5f3130fc2290": {
      "model_module": "@jupyter-widgets/controls",
      "model_module_version": "1.5.0",
      "model_name": "ButtonStyleModel",
      "state": {}
     },
     "577820310c28444a8cee45e999c61115": {
      "model_module": "@jupyter-widgets/base",
      "model_module_version": "1.2.0",
      "model_name": "LayoutModel",
      "state": {}
     },
     "5788d9a4c609489f9ffe8edb1d21da69": {
      "model_module": "@jupyter-widgets/controls",
      "model_module_version": "1.5.0",
      "model_name": "DescriptionStyleModel",
      "state": {
       "description_width": ""
      }
     },
     "586794f159564f4199e309ad15899a41": {
      "model_module": "@jupyter-widgets/base",
      "model_module_version": "1.2.0",
      "model_name": "LayoutModel",
      "state": {}
     },
     "58c13941bfd843fab57ca66b4f08eacd": {
      "model_module": "@jupyter-widgets/base",
      "model_module_version": "1.2.0",
      "model_name": "LayoutModel",
      "state": {}
     },
     "58fd9f4d404b4cd0997ff522ba6cc3a2": {
      "model_module": "@jupyter-widgets/controls",
      "model_module_version": "1.5.0",
      "model_name": "DropdownModel",
      "state": {
       "_options_labels": [
        "Periodic",
        "Free-slip",
        "No-slip"
       ],
       "description": "nclyn",
       "description_tooltip": "Velocity boundary condition where y=yly",
       "index": 2,
       "layout": "IPY_MODEL_25baa5e4b44d45e08cf98a6e3226dcf4",
       "style": "IPY_MODEL_1791cfb01af6405fbd4c146e224365c1"
      }
     },
     "59e6b03b2ca6495d88f666215702c469": {
      "model_module": "@jupyter-widgets/base",
      "model_module_version": "1.2.0",
      "model_name": "LayoutModel",
      "state": {}
     },
     "5bf80e5095344bebb5e77257945ab01d": {
      "model_module": "@jupyter-widgets/controls",
      "model_module_version": "1.5.0",
      "model_name": "HBoxModel",
      "state": {
       "children": [
        "IPY_MODEL_991454ef56a04b4581f5af83a2adf3d3",
        "IPY_MODEL_eda39af85739462da7b2f2de29ff9ef2",
        "IPY_MODEL_c57aff0df5974ea68f32e2083b5b4504"
       ],
       "layout": "IPY_MODEL_115e62ab2dc04f91b0c4fe3993a6430b"
      }
     },
     "5c7777bf68d24ee3be180f396af1f7a5": {
      "model_module": "@jupyter-widgets/controls",
      "model_module_version": "1.5.0",
      "model_name": "DescriptionStyleModel",
      "state": {
       "description_width": ""
      }
     },
     "5ff352c2a6a747a58e8426f10c14ae4b": {
      "model_module": "@jupyter-widgets/controls",
      "model_module_version": "1.5.0",
      "model_name": "HBoxModel",
      "state": {
       "children": [
        "IPY_MODEL_ca2b98277d5f433d8771d18289f75d24",
        "IPY_MODEL_88fa5a03a02d4f078490225cdadebfe1",
        "IPY_MODEL_30c51ca3c8a241f19e487147b4bd05e7"
       ],
       "layout": "IPY_MODEL_a227040824584982b1d9858dcf17b485"
      }
     },
     "6058435931a44070a67c9d0f3db14b73": {
      "model_module": "@jupyter-widgets/base",
      "model_module_version": "1.2.0",
      "model_name": "LayoutModel",
      "state": {}
     },
     "6077879cd329474a9eb01aa2cc30ddee": {
      "model_module": "@jupyter-widgets/base",
      "model_module_version": "1.2.0",
      "model_name": "LayoutModel",
      "state": {}
     },
     "617fa6c401f74e5580605f51e4bb19a4": {
      "model_module": "@jupyter-widgets/controls",
      "model_module_version": "1.5.0",
      "model_name": "DropdownModel",
      "state": {
       "_options_labels": [
        "Periodic",
        "Free-slip",
        "No-slip"
       ],
       "description": "nclz1",
       "description_tooltip": "Velocity boundary condition where z=0",
       "index": 2,
       "layout": "IPY_MODEL_b44b0028738c453797bbd5d6e5a68a9f",
       "style": "IPY_MODEL_001c805984ff47878e4e488ebd59a95a"
      }
     },
     "61a6d1ff6a47493baef6712cce143506": {
      "model_module": "@jupyter-widgets/base",
      "model_module_version": "1.2.0",
      "model_name": "LayoutModel",
      "state": {}
     },
     "61d97ee2e39747759c1bc91ed7a12c1a": {
      "model_module": "@jupyter-widgets/controls",
      "model_module_version": "1.5.0",
      "model_name": "HBoxModel",
      "state": {
       "children": [
        "IPY_MODEL_c35f5fb23d9946aabb91cb9ed99ae22b",
        "IPY_MODEL_3767fcf6997642d4880b1614f9f011ed",
        "IPY_MODEL_e6eb0f6951794d6699400567ae314518"
       ],
       "layout": "IPY_MODEL_0ecec7e7ef3d4945a4b95391e282e90f"
      }
     },
     "63e043d0c32e42a0a7c1cfb78a3f194f": {
      "model_module": "@jupyter-widgets/controls",
      "model_module_version": "1.5.0",
      "model_name": "HBoxModel",
      "state": {
       "children": [
        "IPY_MODEL_cf1847a0a78241f9b2cee0c58c09c1fa",
        "IPY_MODEL_885daa3767364af4b1091adca13b5f56",
        "IPY_MODEL_9cca2a3a3b654df38a3cea0ecf2444c4"
       ],
       "layout": "IPY_MODEL_d2d61e7d498c4db591b0949f796edf0f"
      }
     },
     "644f2ce5f5fb4d708cd81ebbbd0e2493": {
      "model_module": "@jupyter-widgets/base",
      "model_module_version": "1.2.0",
      "model_name": "LayoutModel",
      "state": {}
     },
     "6736021d9f5449cba7b7483e2378760b": {
      "model_module": "@jupyter-widgets/base",
      "model_module_version": "1.2.0",
      "model_name": "LayoutModel",
      "state": {}
     },
     "6845c7c87c1a4e01abfba1fcd03c39c0": {
      "model_module": "@jupyter-widgets/base",
      "model_module_version": "1.2.0",
      "model_name": "LayoutModel",
      "state": {}
     },
     "698dffd9ebce4a9c88d703a3c0282e24": {
      "model_module": "@jupyter-widgets/controls",
      "model_module_version": "1.5.0",
      "model_name": "ButtonModel",
      "state": {
       "description": "Read",
       "disabled": true,
       "icon": "file-upload",
       "layout": "IPY_MODEL_cc996e7452884589ae3606f5b46c6bbf",
       "style": "IPY_MODEL_50992ce071394878848c35fe9701f501"
      }
     },
     "6a45cee9e263446b86a8afb4d0791f14": {
      "model_module": "@jupyter-widgets/controls",
      "model_module_version": "1.5.0",
      "model_name": "DropdownModel",
      "state": {
       "_options_labels": [
        "Periodic",
        "Free-slip",
        "Outflow"
       ],
       "description": "nclxn",
       "description_tooltip": "Velocity boundary condition where x=xlx",
       "index": 2,
       "layout": "IPY_MODEL_4418d1a0ce014ef5af0275d62b45063a",
       "style": "IPY_MODEL_346b026dfb4040bcb68c455cb13e9a0d"
      }
     },
     "6ac6e44be773435aa3af2b4a8dc7a84e": {
      "model_module": "@jupyter-widgets/controls",
      "model_module_version": "1.5.0",
      "model_name": "DescriptionStyleModel",
      "state": {
       "description_width": ""
      }
     },
     "6e95e5e3ec7d46218305fccbb0c2f9e7": {
      "model_module": "@jupyter-widgets/controls",
      "model_module_version": "1.5.0",
      "model_name": "DropdownModel",
      "state": {
       "_options_labels": [
        "No refinement",
        "Refinement at the center",
        "Both sides",
        "Just near the bottom"
       ],
       "description": "istret",
       "description_tooltip": "y mesh refinement (0:no, 1:center, 2:both sides, 3:bottom)",
       "index": 0,
       "layout": "IPY_MODEL_3155ec65d06642daa7387baf648914c4",
       "style": "IPY_MODEL_d272a6837c4c42cab81976d095ee8e84"
      }
     },
     "6edf17e64e6c4119a9cc9565f04a6055": {
      "model_module": "@jupyter-widgets/controls",
      "model_module_version": "1.5.0",
      "model_name": "HTMLModel",
      "state": {
       "layout": "IPY_MODEL_10cc013c872b44a1b61f7c5119ff0486",
       "style": "IPY_MODEL_f96753b153e24e3cb2d9dceb8b8b891c",
       "value": "<h2>NumOptions</h2>"
      }
     },
     "70a14805fcc44b9ca436aff5401d3f81": {
      "model_module": "@jupyter-widgets/base",
      "model_module_version": "1.2.0",
      "model_name": "LayoutModel",
      "state": {}
     },
     "71895157a11e47c1af38ade5165a0bef": {
      "model_module": "@jupyter-widgets/controls",
      "model_module_version": "1.5.0",
      "model_name": "DropdownModel",
      "state": {
       "_options_labels": [
        "Periodic",
        "No-flux",
        "Dirichlet"
       ],
       "description": "nclxSn",
       "description_tooltip": "Scalar boundary condition where x=xlx",
       "index": 2,
       "layout": "IPY_MODEL_6736021d9f5449cba7b7483e2378760b",
       "style": "IPY_MODEL_55c64c3a264049cfb286036be05dea2e"
      }
     },
     "764e8dde95e5491297443941c3056799": {
      "model_module": "@jupyter-widgets/base",
      "model_module_version": "1.2.0",
      "model_name": "LayoutModel",
      "state": {}
     },
     "76a5b1c2937249febcc40a6b5d651928": {
      "model_module": "@jupyter-widgets/controls",
      "model_module_version": "1.5.0",
      "model_name": "DescriptionStyleModel",
      "state": {
       "description_width": ""
      }
     },
     "79a46123732c4699b7301e7d64217948": {
      "model_module": "@jupyter-widgets/controls",
      "model_module_version": "1.5.0",
      "model_name": "DescriptionStyleModel",
      "state": {
       "description_width": ""
      }
     },
     "7c42edfc54c34e3cb1aa437d95529fcb": {
      "model_module": "@jupyter-widgets/controls",
      "model_module_version": "1.5.0",
      "model_name": "DescriptionStyleModel",
      "state": {
       "description_width": ""
      }
     },
     "7cf026b2a249413f9093f006a7c53765": {
      "model_module": "@jupyter-widgets/base",
      "model_module_version": "1.2.0",
      "model_name": "LayoutModel",
      "state": {}
     },
     "7ec53a48b6b34c4e93253b19a18d70cf": {
      "model_module": "@jupyter-widgets/controls",
      "model_module_version": "1.5.0",
      "model_name": "ButtonModel",
      "state": {
       "description": "Write",
       "disabled": true,
       "icon": "file-download",
       "layout": "IPY_MODEL_308f0a4cd4fa4f578d738a4522b8a877",
       "style": "IPY_MODEL_55ea5f0dc55347a193cb5f3130fc2290"
      }
     },
     "8156e6310dfd4fce804dac92d9a6be76": {
      "model_module": "@jupyter-widgets/base",
      "model_module_version": "1.2.0",
      "model_name": "LayoutModel",
      "state": {}
     },
     "81daf24e957d47da9f49f38e71f3c1e1": {
      "model_module": "@jupyter-widgets/base",
      "model_module_version": "1.2.0",
      "model_name": "LayoutModel",
      "state": {}
     },
     "84f151e6c79e4572bed04251fad460d9": {
      "model_module": "@jupyter-widgets/base",
      "model_module_version": "1.2.0",
      "model_name": "LayoutModel",
      "state": {}
     },
     "85bbe51b976f4dd6bfcae1ee655ffe47": {
      "model_module": "@jupyter-widgets/controls",
      "model_module_version": "1.5.0",
      "model_name": "DescriptionStyleModel",
      "state": {
       "description_width": ""
      }
     },
     "8702d11860bf486ea7cd55e75a489739": {
      "model_module": "@jupyter-widgets/base",
      "model_module_version": "1.2.0",
      "model_name": "LayoutModel",
      "state": {}
     },
     "885daa3767364af4b1091adca13b5f56": {
      "model_module": "@jupyter-widgets/controls",
      "model_module_version": "1.5.0",
      "model_name": "DropdownModel",
      "state": {
       "_options_labels": [
        "Periodic",
        "No-flux",
        "Dirichlet"
       ],
       "description": "nclyS1",
       "description_tooltip": "Scalar boundary condition where y=0",
       "index": 2,
       "layout": "IPY_MODEL_cb1b6aebc8684bcabde5630f298be4c4",
       "style": "IPY_MODEL_edab642241dc498fb372ec300f641721"
      }
     },
     "886b3ba510374016b5ae6b9e7601d99f": {
      "model_module": "@jupyter-widgets/controls",
      "model_module_version": "1.5.0",
      "model_name": "DropdownModel",
      "state": {
       "_options_labels": [
        "Off",
        "Forced to zero",
        "Interpolated to zero",
        "Interpolated to no-flux"
       ],
       "description": "iibmS",
       "description_tooltip": "Enables Immersed Boundary Method (IBM) for scalar field(s) (alpha version)",
       "index": 0,
       "layout": "IPY_MODEL_318d291388fb4c4ea5d4cf2a90af7154",
       "style": "IPY_MODEL_9ff5d88e2e134df7823cc1ad03f24069"
      }
     },
     "88fa5a03a02d4f078490225cdadebfe1": {
      "model_module": "@jupyter-widgets/controls",
      "model_module_version": "1.5.0",
      "model_name": "BoundedIntTextModel",
      "state": {
       "description": "ioutput",
       "description_tooltip": "Frequency for visualization file",
       "layout": "IPY_MODEL_4a67278cebcc43548d08bf49d48f82fa",
       "max": 1000000000,
       "min": 1,
       "step": 100,
       "style": "IPY_MODEL_08ed72c46a0e4b9e8c03ddddb6ffac62",
       "value": 1000
      }
     },
     "8a372db7178e4f26be2ec7e867dc60bb": {
      "model_module": "@jupyter-widgets/controls",
      "model_module_version": "1.5.0",
      "model_name": "HTMLModel",
      "state": {
       "layout": "IPY_MODEL_ec3eb7b9c8754518abd8305327f9f09c",
       "style": "IPY_MODEL_dd326348e986404aae609968dba6a337",
       "value": "<h3>Domain Decomposition</h3>"
      }
     },
     "8e38f5bf3bd9469cb6ece1bbf1e01f20": {
      "model_module": "@jupyter-widgets/base",
      "model_module_version": "1.2.0",
      "model_name": "LayoutModel",
      "state": {}
     },
     "8eae14145f464350849b90d3e3a291d9": {
      "model_module": "@jupyter-widgets/base",
      "model_module_version": "1.2.0",
      "model_name": "LayoutModel",
      "state": {}
     },
     "8f88d4fa0d0f4ca8b69c700f033993c8": {
      "model_module": "@jupyter-widgets/controls",
      "model_module_version": "1.5.0",
      "model_name": "HBoxModel",
      "state": {
       "children": [
        "IPY_MODEL_25c112ca9f6f4b7f83c259889f2ad9e7",
        "IPY_MODEL_698dffd9ebce4a9c88d703a3c0282e24",
        "IPY_MODEL_7ec53a48b6b34c4e93253b19a18d70cf",
        "IPY_MODEL_b3e39d6593174221ae1fc65fc3fd799b",
        "IPY_MODEL_1cb672aa7bbd4241a99f66377aa339c1"
       ],
       "layout": "IPY_MODEL_8e38f5bf3bd9469cb6ece1bbf1e01f20"
      }
     },
     "90a4345bc66b4465b1bfec8c0c655170": {
      "model_module": "@jupyter-widgets/controls",
      "model_module_version": "1.5.0",
      "model_name": "DescriptionStyleModel",
      "state": {
       "description_width": ""
      }
     },
     "9183546e603148b18500a161c2c9e0e5": {
      "model_module": "@jupyter-widgets/base",
      "model_module_version": "1.2.0",
      "model_name": "LayoutModel",
      "state": {}
     },
     "92e3f5f12f674df7b297726d608b32d3": {
      "model_module": "@jupyter-widgets/base",
      "model_module_version": "1.2.0",
      "model_name": "LayoutModel",
      "state": {}
     },
     "931f6459abf14d699b780a60e4dfed9c": {
      "model_module": "@jupyter-widgets/controls",
      "model_module_version": "1.5.0",
      "model_name": "DropdownModel",
      "state": {
       "_options_labels": [
        "1",
        "2",
        "4",
        "0"
       ],
       "description": "p_row",
       "description_tooltip": "Row partition for domain decomposition and parallel computation",
       "index": 3,
       "layout": "IPY_MODEL_f7407a7f05784969a332a6fc5d623d0b",
       "style": "IPY_MODEL_b519f7e28f324e5e81402f68b2998ac1"
      }
     },
     "93e49f88a40942f5bc92b177fd82a45f": {
      "model_module": "@jupyter-widgets/controls",
      "model_module_version": "1.5.0",
      "model_name": "DropdownModel",
      "state": {
       "_options_labels": [
        "2nd central",
        "4th central",
        "4th compact",
        "6th compact"
       ],
       "description": "ifirstder",
       "index": 3,
       "layout": "IPY_MODEL_586794f159564f4199e309ad15899a41",
       "style": "IPY_MODEL_9aab6505a60a48deb2495e4c6eac8a45"
      }
     },
     "9498c9959ad347e68ccdbe1ceb10934d": {
      "model_module": "@jupyter-widgets/base",
      "model_module_version": "1.2.0",
      "model_name": "LayoutModel",
      "state": {}
     },
     "958ee9860c3144e3996e11da976b4dfa": {
      "model_module": "@jupyter-widgets/controls",
      "model_module_version": "1.5.0",
      "model_name": "DropdownModel",
      "state": {
       "_options_labels": [
        "Off",
        "On"
       ],
       "description": "ivisu",
       "description_tooltip": "Enable store snapshots at a frequency ioutput (0: No, 1: Yes)",
       "index": 1,
       "layout": "IPY_MODEL_7cf026b2a249413f9093f006a7c53765",
       "style": "IPY_MODEL_90a4345bc66b4465b1bfec8c0c655170"
      }
     },
     "96671a16ddfc42fa88e3871231570236": {
      "model_module": "@jupyter-widgets/controls",
      "model_module_version": "1.5.0",
      "model_name": "HBoxModel",
      "state": {
       "children": [
        "IPY_MODEL_e3f022de8ad143aea810effa55a75aa1",
        "IPY_MODEL_2a3db8b873e14c2cba7ec12e807a39b4",
        "IPY_MODEL_ebb10510282b4bbebd0b188a2e2dc49d"
       ],
       "layout": "IPY_MODEL_bba633f94b9f4046a1056bf9ffdc7f50"
      }
     },
     "96f0e68552e146a2afa9d2a8ff502b2e": {
      "model_module": "@jupyter-widgets/controls",
      "model_module_version": "1.5.0",
      "model_name": "HTMLModel",
      "state": {
       "layout": "IPY_MODEL_c6362f3a8fed47abb1c6ba103649b462",
       "style": "IPY_MODEL_ba4056e285884256b9d634b11d7c2816",
       "value": "<h2>ScalarParam</h2>"
      }
     },
     "97c25c0d98fe462b875ff61020138b10": {
      "model_module": "@jupyter-widgets/controls",
      "model_module_version": "1.5.0",
      "model_name": "DescriptionStyleModel",
      "state": {
       "description_width": ""
      }
     },
     "98a6172b2fb44aa0931a16bd8c29363e": {
      "model_module": "@jupyter-widgets/controls",
      "model_module_version": "1.5.0",
      "model_name": "HTMLModel",
      "state": {
       "layout": "IPY_MODEL_e9d63d3a10a44ba0bed59ae2e9a0989e",
       "style": "IPY_MODEL_e8369f85b8f842c0833b6cfe505a905d",
       "value": "<h3>Spatial discretization</h3>"
      }
     },
     "991454ef56a04b4581f5af83a2adf3d3": {
      "model_module": "@jupyter-widgets/controls",
      "model_module_version": "1.5.0",
      "model_name": "FloatTextModel",
      "state": {
       "description": "gravx",
       "description_tooltip": "Gravity unitary vector in x-direction",
       "layout": "IPY_MODEL_8702d11860bf486ea7cd55e75a489739",
       "step": null,
       "style": "IPY_MODEL_4e1802959551401f8e0214395c8b997b"
      }
     },
     "99d6e60fb3c14fca9ec69f244132eafa": {
      "model_module": "@jupyter-widgets/controls",
      "model_module_version": "1.5.0",
      "model_name": "FloatTextModel",
      "state": {
       "description": "re",
       "description_tooltip": "Reynolds number",
       "layout": "IPY_MODEL_84f151e6c79e4572bed04251fad460d9",
       "step": null,
       "style": "IPY_MODEL_c908cedd48af41019ca95a1eaa93d478",
       "value": 1000
      }
     },
     "9aab6505a60a48deb2495e4c6eac8a45": {
      "model_module": "@jupyter-widgets/controls",
      "model_module_version": "1.5.0",
      "model_name": "DescriptionStyleModel",
      "state": {
       "description_width": ""
      }
     },
     "9cca2a3a3b654df38a3cea0ecf2444c4": {
      "model_module": "@jupyter-widgets/controls",
      "model_module_version": "1.5.0",
      "model_name": "DropdownModel",
      "state": {
       "_options_labels": [
        "Periodic",
        "No-flux",
        "Dirichlet"
       ],
       "description": "nclzS1",
       "description_tooltip": "Scalar boundary condition where z=0",
       "index": 2,
       "layout": "IPY_MODEL_01cba7007700462fa63b610a77f94d4e",
       "style": "IPY_MODEL_d02bf2a0374a4f7ab6a9a99272bf4f1f"
      }
     },
     "9ed034eaffac4b78aca5ed9a2f0a654e": {
      "model_module": "@jupyter-widgets/controls",
      "model_module_version": "1.5.0",
      "model_name": "HBoxModel",
      "state": {
       "children": [
        "IPY_MODEL_b58c5d825461435eb64c5cc45c49644b",
        "IPY_MODEL_1da1c6c8e5be4f8281f3bc83444ad53f",
        "IPY_MODEL_09b3bc52aa1b4fec9ed5597010376dc3"
       ],
       "layout": "IPY_MODEL_0cded3f2ef654bb1a542d585eb7739d4"
      }
     },
     "9f13a28fa0404278b789e9aa25400133": {
      "model_module": "@jupyter-widgets/controls",
      "model_module_version": "1.5.0",
      "model_name": "DescriptionStyleModel",
      "state": {
       "description_width": ""
      }
     },
     "9ff5d88e2e134df7823cc1ad03f24069": {
      "model_module": "@jupyter-widgets/controls",
      "model_module_version": "1.5.0",
      "model_name": "DescriptionStyleModel",
      "state": {
       "description_width": ""
      }
     },
     "a0e881bc16da4c909f586f558a241964": {
      "model_module": "@jupyter-widgets/controls",
      "model_module_version": "1.5.0",
      "model_name": "DropdownModel",
      "state": {
       "_options_labels": [
        "Off",
        "On"
       ],
       "description": "ipost",
       "description_tooltip": "Enables online postprocessing at a frequency iprocessing (0: No, 1: Yes)",
       "index": 0,
       "layout": "IPY_MODEL_81daf24e957d47da9f49f38e71f3c1e1",
       "style": "IPY_MODEL_a3957faa44f64032929ed01ac9e470ee"
      }
     },
     "a148580842bf487e919578fe94c63219": {
      "model_module": "@jupyter-widgets/controls",
      "model_module_version": "1.5.0",
      "model_name": "BoundedFloatTextModel",
      "state": {
       "description": "yly",
       "description_tooltip": "Size of the box in y-direction",
       "layout": "IPY_MODEL_11c47e8fe37f4f71b574fcb72a091072",
       "max": 1000000000,
       "step": null,
       "style": "IPY_MODEL_85bbe51b976f4dd6bfcae1ee655ffe47",
       "value": 1
      }
     },
     "a227040824584982b1d9858dcf17b485": {
      "model_module": "@jupyter-widgets/base",
      "model_module_version": "1.2.0",
      "model_name": "LayoutModel",
      "state": {}
     },
     "a2c0b3152ea84dce8c2d992d561c8a08": {
      "model_module": "@jupyter-widgets/base",
      "model_module_version": "1.2.0",
      "model_name": "LayoutModel",
      "state": {}
     },
     "a3957faa44f64032929ed01ac9e470ee": {
      "model_module": "@jupyter-widgets/controls",
      "model_module_version": "1.5.0",
      "model_name": "DescriptionStyleModel",
      "state": {
       "description_width": ""
      }
     },
     "a4b32825786c4193b1f1e0d3df20bb59": {
      "model_module": "@jupyter-widgets/base",
      "model_module_version": "1.2.0",
      "model_name": "LayoutModel",
      "state": {}
     },
     "a57058ee3022407596632766e9ae8c49": {
      "model_module": "@jupyter-widgets/controls",
      "model_module_version": "1.5.0",
      "model_name": "DescriptionStyleModel",
      "state": {
       "description_width": ""
      }
     },
     "a66b1a0297ec4d039b406fbf314a1010": {
      "model_module": "@jupyter-widgets/base",
      "model_module_version": "1.2.0",
      "model_name": "LayoutModel",
      "state": {}
     },
     "a7453ad729554b2592cc5de071875055": {
      "model_module": "@jupyter-widgets/controls",
      "model_module_version": "1.5.0",
      "model_name": "HBoxModel",
      "state": {
       "children": [
        "IPY_MODEL_886b3ba510374016b5ae6b9e7601d99f"
       ],
       "layout": "IPY_MODEL_eb2c55a08cb348dc993d03e819f6c087"
      }
     },
     "a959ae24d016435885f7f894967d30b5": {
      "model_module": "@jupyter-widgets/controls",
      "model_module_version": "1.5.0",
      "model_name": "DescriptionStyleModel",
      "state": {
       "description_width": ""
      }
     },
     "a9c7516e12924969853b72a60545835e": {
      "model_module": "@jupyter-widgets/controls",
      "model_module_version": "1.5.0",
      "model_name": "TextModel",
      "state": {
       "description": "size",
       "disabled": true,
       "layout": "IPY_MODEL_bf5ef1d5149d46c39dd3c53556aa35d6",
       "style": "IPY_MODEL_7c42edfc54c34e3cb1aa437d95529fcb"
      }
     },
     "afb064a769514042add8ac004353055b": {
      "model_module": "@jupyter-widgets/controls",
      "model_module_version": "1.5.0",
      "model_name": "HBoxModel",
      "state": {
       "children": [
        "IPY_MODEL_aff4961cc55b41cd8397e46503bf94f0",
        "IPY_MODEL_931f6459abf14d699b780a60e4dfed9c",
        "IPY_MODEL_bb0acdb0df2f4122822eeafe0034c21a"
       ],
       "layout": "IPY_MODEL_b3cb5a68f746461db8ad67120243ccad"
      }
     },
     "aff4961cc55b41cd8397e46503bf94f0": {
      "model_module": "@jupyter-widgets/controls",
      "model_module_version": "1.5.0",
      "model_name": "BoundedIntTextModel",
      "state": {
       "description": "ncores",
       "layout": "IPY_MODEL_ba2ce090c9c74aa897ba725d039f4a43",
       "max": 1000000000,
       "style": "IPY_MODEL_3e3bb10b4d3441c7b38702a7d69340f6",
       "value": 4
      }
     },
     "b0719c8f46e841e597e861216b52c197": {
      "model_module": "@jupyter-widgets/base",
      "model_module_version": "1.2.0",
      "model_name": "LayoutModel",
      "state": {}
     },
     "b122edc4ae8f40d2a2137a5078cc927a": {
      "model_module": "@jupyter-widgets/controls",
      "model_module_version": "1.5.0",
      "model_name": "SliderStyleModel",
      "state": {
       "description_width": ""
      }
     },
     "b2ba6b92e57641289ff542a1efa6c52b": {
      "model_module": "@jupyter-widgets/controls",
      "model_module_version": "1.5.0",
      "model_name": "DescriptionStyleModel",
      "state": {
       "description_width": ""
      }
     },
     "b3cb5a68f746461db8ad67120243ccad": {
      "model_module": "@jupyter-widgets/base",
      "model_module_version": "1.2.0",
      "model_name": "LayoutModel",
      "state": {}
     },
     "b3e39d6593174221ae1fc65fc3fd799b": {
      "model_module": "@jupyter-widgets/controls",
      "model_module_version": "1.5.0",
      "model_name": "ButtonModel",
      "state": {
       "description": "Run",
       "disabled": true,
       "icon": "rocket",
       "layout": "IPY_MODEL_4f07fb98437f4e2c8dce6cbbb2b52c9d",
       "style": "IPY_MODEL_2084abaca7964c2cb344ea73ab0ad6a8"
      }
     },
     "b4486310317649bcb63a5c6286dde9fa": {
      "model_module": "@jupyter-widgets/base",
      "model_module_version": "1.2.0",
      "model_name": "LayoutModel",
      "state": {}
     },
     "b44b0028738c453797bbd5d6e5a68a9f": {
      "model_module": "@jupyter-widgets/base",
      "model_module_version": "1.2.0",
      "model_name": "LayoutModel",
      "state": {}
     },
     "b45fce4c1f344f188ecdaf7ecb9a0930": {
      "model_module": "@jupyter-widgets/base",
      "model_module_version": "1.2.0",
      "model_name": "LayoutModel",
      "state": {}
     },
     "b519f7e28f324e5e81402f68b2998ac1": {
      "model_module": "@jupyter-widgets/controls",
      "model_module_version": "1.5.0",
      "model_name": "DescriptionStyleModel",
      "state": {
       "description_width": ""
      }
     },
     "b58c5d825461435eb64c5cc45c49644b": {
      "model_module": "@jupyter-widgets/controls",
      "model_module_version": "1.5.0",
      "model_name": "DropdownModel",
      "state": {
       "_options_labels": [
        "Off",
        "Forced to zero",
        "Interpolated to zero"
       ],
       "description": "iibm",
       "description_tooltip": "Flag for immersed boundary method (0: No, 1: Yes)",
       "index": 0,
       "layout": "IPY_MODEL_37279f550db04882a4b450dc29a043c0",
       "style": "IPY_MODEL_79a46123732c4699b7301e7d64217948"
      }
     },
     "b5c85e0faafb4056829ac18059fb28c4": {
      "model_module": "@jupyter-widgets/controls",
      "model_module_version": "1.5.0",
      "model_name": "BoundedFloatTextModel",
      "state": {
       "description": "xlx",
       "description_tooltip": "Size of the box in x-direction",
       "layout": "IPY_MODEL_27b1dba11f814e4db1c84a1f11503ec6",
       "max": 1000000000,
       "step": null,
       "style": "IPY_MODEL_bb674bf7ecf3425eb392296e590e734e",
       "value": 1
      }
     },
     "b5ed8d52cd434780bac3212a966682c1": {
      "model_module": "@jupyter-widgets/base",
      "model_module_version": "1.2.0",
      "model_name": "LayoutModel",
      "state": {}
     },
     "b75b8a90fc4449e8818bd860eb58a4bf": {
      "model_module": "@jupyter-widgets/controls",
      "model_module_version": "1.5.0",
      "model_name": "HBoxModel",
      "state": {
       "children": [
        "IPY_MODEL_6e95e5e3ec7d46218305fccbb0c2f9e7",
        "IPY_MODEL_18c6be13126848c2aca6ee83256c00bd"
       ],
       "layout": "IPY_MODEL_577820310c28444a8cee45e999c61115"
      }
     },
     "b8bce0a0345d48de9baa7154cd83d717": {
      "model_module": "@jupyter-widgets/controls",
      "model_module_version": "1.5.0",
      "model_name": "DropdownModel",
      "state": {
       "_options_labels": [
        "Off",
        "On"
       ],
       "description": "ilesmod",
       "description_tooltip": "Enables Large-Eddy methodologies (0: No, 1: Yes)",
       "index": 0,
       "layout": "IPY_MODEL_4380a7354094440da84816dcd0ddfa36",
       "style": "IPY_MODEL_117cb74ba00040429c9dc27005356a41"
      }
     },
     "b8fa780e9f38484e94a9133b7ed5f269": {
      "model_module": "@jupyter-widgets/controls",
      "model_module_version": "1.5.0",
      "model_name": "DescriptionStyleModel",
      "state": {
       "description_width": ""
      }
     },
     "b917e03614034340ba2600aa1173258d": {
      "model_module": "@jupyter-widgets/controls",
      "model_module_version": "1.5.0",
      "model_name": "HBoxModel",
      "state": {
       "children": [
        "IPY_MODEL_b8bce0a0345d48de9baa7154cd83d717",
        "IPY_MODEL_4a35ef29d6e54dcdadd2e1386e89e8cc",
        "IPY_MODEL_2cb7776d3c0e418aa3c90f20687e2fd7"
       ],
       "layout": "IPY_MODEL_fd10a353f95d4526bed8a999ad5f449d"
      }
     },
     "b94a94c46a154ce990c7828279ea26ad": {
      "model_module": "@jupyter-widgets/base",
      "model_module_version": "1.2.0",
      "model_name": "LayoutModel",
      "state": {}
     },
     "ba2ce090c9c74aa897ba725d039f4a43": {
      "model_module": "@jupyter-widgets/base",
      "model_module_version": "1.2.0",
      "model_name": "LayoutModel",
      "state": {}
     },
     "ba4056e285884256b9d634b11d7c2816": {
      "model_module": "@jupyter-widgets/controls",
      "model_module_version": "1.5.0",
      "model_name": "DescriptionStyleModel",
      "state": {
       "description_width": ""
      }
     },
     "ba86fd37d41941c9868a3dc4273cf182": {
      "model_module": "@jupyter-widgets/controls",
      "model_module_version": "1.5.0",
      "model_name": "DescriptionStyleModel",
      "state": {
       "description_width": ""
      }
     },
     "bb0acdb0df2f4122822eeafe0034c21a": {
      "model_module": "@jupyter-widgets/controls",
      "model_module_version": "1.5.0",
      "model_name": "DropdownModel",
      "state": {
       "_options_labels": [
        "1",
        "2",
        "4",
        "0"
       ],
       "description": "p_col",
       "description_tooltip": "Column partition for domain decomposition and parallel computation",
       "index": 3,
       "layout": "IPY_MODEL_f93a0f0531244815805924371aa4a909",
       "style": "IPY_MODEL_3630294fd5a948ebba109838dd7ceb5b"
      }
     },
     "bb674bf7ecf3425eb392296e590e734e": {
      "model_module": "@jupyter-widgets/controls",
      "model_module_version": "1.5.0",
      "model_name": "DescriptionStyleModel",
      "state": {
       "description_width": ""
      }
     },
     "bba633f94b9f4046a1056bf9ffdc7f50": {
      "model_module": "@jupyter-widgets/base",
      "model_module_version": "1.2.0",
      "model_name": "LayoutModel",
      "state": {}
     },
     "bf470ff0b7a042af857bd0186d23ec2f": {
      "model_module": "@jupyter-widgets/controls",
      "model_module_version": "1.5.0",
      "model_name": "FloatTextModel",
      "state": {
       "description": "init_noise",
       "description_tooltip": "Turbulence intensity (1=100%) !! Initial condition",
       "layout": "IPY_MODEL_2676e2de968f40b6abae9d166685e4d9",
       "step": null,
       "style": "IPY_MODEL_b8fa780e9f38484e94a9133b7ed5f269"
      }
     },
     "bf5ef1d5149d46c39dd3c53556aa35d6": {
      "model_module": "@jupyter-widgets/base",
      "model_module_version": "1.2.0",
      "model_name": "LayoutModel",
      "state": {}
     },
     "bfdeae057f664562939d0f7dc09a4b7e": {
      "model_module": "@jupyter-widgets/controls",
      "model_module_version": "1.5.0",
      "model_name": "DropdownModel",
      "state": {
       "_options_labels": [
        "Periodic",
        "Free-slip",
        "No-slip"
       ],
       "description": "nclzn",
       "description_tooltip": "Velocity boundary condition where z=zlz",
       "index": 2,
       "layout": "IPY_MODEL_644f2ce5f5fb4d708cd81ebbbd0e2493",
       "style": "IPY_MODEL_225397e532ba4fdb8604c617c1876edf"
      }
     },
     "c0c2c09db4b849e08ea49a54e9e06bc2": {
      "model_module": "@jupyter-widgets/controls",
      "model_module_version": "1.5.0",
      "model_name": "DropdownModel",
      "state": {
       "_options_labels": [
        "No random noise",
        "Random noise",
        "Random noise with fixed seed"
       ],
       "description": "iin",
       "description_tooltip": "Defines pertubation at initial condition",
       "index": 0,
       "layout": "IPY_MODEL_dee933feb4384ede932ce839f991d307",
       "style": "IPY_MODEL_f1ede2d8e8d642159e77d72e14d5551f"
      }
     },
     "c1048043919b417a8f90189704afc863": {
      "model_module": "@jupyter-widgets/controls",
      "model_module_version": "1.5.0",
      "model_name": "DropdownModel",
      "state": {
       "_options_labels": [
        "Periodic",
        "Free-slip",
        "No-slip"
       ],
       "description": "ncly1",
       "description_tooltip": "Velocity boundary condition where y=0",
       "index": 2,
       "layout": "IPY_MODEL_1cf0682406cb4724a176a1b36a63f372",
       "style": "IPY_MODEL_a57058ee3022407596632766e9ae8c49"
      }
     },
     "c192017bedb944b5a64bdaea73e92c5c": {
      "model_module": "@jupyter-widgets/base",
      "model_module_version": "1.2.0",
      "model_name": "LayoutModel",
      "state": {}
     },
     "c19cb571d1eb420da3361fc706381e8f": {
      "model_module": "@jupyter-widgets/controls",
      "model_module_version": "1.5.0",
      "model_name": "HTMLModel",
      "state": {
       "layout": "IPY_MODEL_c192017bedb944b5a64bdaea73e92c5c",
       "style": "IPY_MODEL_c52f1a54d51e4f06b1e084cd6b3f96fb",
       "value": "<h3>InOutParam</h3>"
      }
     },
     "c30bcb8b585e4186b3f0205868628a3e": {
      "model_module": "@jupyter-widgets/controls",
      "model_module_version": "1.5.0",
      "model_name": "HBoxModel",
      "state": {
       "children": [
        "IPY_MODEL_71895157a11e47c1af38ade5165a0bef",
        "IPY_MODEL_4aefe991a48343e4b18de4e8ac851eb5",
        "IPY_MODEL_ce3e207a37944146b3405a212ca195f7"
       ],
       "layout": "IPY_MODEL_a2c0b3152ea84dce8c2d992d561c8a08"
      }
     },
     "c35f5fb23d9946aabb91cb9ed99ae22b": {
      "model_module": "@jupyter-widgets/controls",
      "model_module_version": "1.5.0",
      "model_name": "DropdownModel",
      "state": {
       "_options_labels": [
        "9",
        "11",
        "13",
        "17",
        "19",
        "21",
        "25",
        "31",
        "33",
        "37",
        "41",
        "49",
        "51",
        "55",
        "61",
        "65",
        "73",
        "81",
        "91",
        "97",
        "101",
        "109",
        "121",
        "129",
        "145",
        "151",
        "161",
        "163",
        "181",
        "193",
        "201",
        "217",
        "241",
        "251",
        "257",
        "271",
        "289",
        "301",
        "321",
        "325",
        "361",
        "385",
        "401",
        "433",
        "451",
        "481",
        "487",
        "501",
        "513",
        "541",
        "577",
        "601",
        "641",
        "649",
        "721",
        "751",
        "769",
        "801",
        "811",
        "865",
        "901",
        "961",
        "973",
        "1001",
        "1025",
        "1081",
        "1153",
        "1201",
        "1251",
        "1281",
        "1297",
        "1351",
        "1441",
        "1459",
        "1501",
        "1537",
        "1601",
        "1621",
        "1729",
        "1801",
        "1921",
        "1945",
        "2001",
        "2049",
        "2161",
        "2251",
        "2305",
        "2401",
        "2431",
        "2501",
        "2561",
        "2593",
        "2701",
        "2881",
        "2917",
        "3001",
        "3073",
        "3201",
        "3241",
        "3457",
        "3601",
        "3751",
        "3841",
        "3889",
        "4001",
        "4051",
        "4097",
        "4321",
        "4375",
        "4501",
        "4609",
        "4801",
        "4861",
        "5001",
        "5121",
        "5185",
        "5401",
        "5761",
        "5833",
        "6001",
        "6145",
        "6251",
        "6401",
        "6481",
        "6751",
        "6913",
        "7201",
        "7291",
        "7501",
        "7681",
        "7777",
        "8001",
        "8101",
        "8193",
        "8641",
        "8749",
        "9001"
       ],
       "description": "nx",
       "description_tooltip": "X-direction nodes",
       "index": 3,
       "layout": "IPY_MODEL_23c4a882eeae4e1da7e83dda34195921",
       "style": "IPY_MODEL_1c4587f210ee442cb692cd03ffe2fc50"
      }
     },
     "c3e70f1e77814ccba91b1a44af9924cd": {
      "model_module": "@jupyter-widgets/controls",
      "model_module_version": "1.5.0",
      "model_name": "DescriptionStyleModel",
      "state": {
       "description_width": ""
      }
     },
     "c5177423e5154a7bb36df42f5868cb49": {
      "model_module": "@jupyter-widgets/controls",
      "model_module_version": "1.5.0",
      "model_name": "HBoxModel",
      "state": {
       "children": [
        "IPY_MODEL_b5c85e0faafb4056829ac18059fb28c4",
        "IPY_MODEL_a148580842bf487e919578fe94c63219",
        "IPY_MODEL_c6e4bd24675240b69a968f2e65679ad5"
       ],
       "layout": "IPY_MODEL_f9ce4e07ac244fdf834432fa57ad2888"
      }
     },
     "c52cd2c7b88c4772a9e14efdd8a77e0c": {
      "model_module": "@jupyter-widgets/base",
      "model_module_version": "1.2.0",
      "model_name": "LayoutModel",
      "state": {}
     },
     "c52f1a54d51e4f06b1e084cd6b3f96fb": {
      "model_module": "@jupyter-widgets/controls",
      "model_module_version": "1.5.0",
      "model_name": "DescriptionStyleModel",
      "state": {
       "description_width": ""
      }
     },
     "c57aff0df5974ea68f32e2083b5b4504": {
      "model_module": "@jupyter-widgets/controls",
      "model_module_version": "1.5.0",
      "model_name": "FloatTextModel",
      "state": {
       "description": "gravz",
       "description_tooltip": "Gravity unitary vector in z-direction",
       "layout": "IPY_MODEL_61a6d1ff6a47493baef6712cce143506",
       "step": null,
       "style": "IPY_MODEL_c3e70f1e77814ccba91b1a44af9924cd"
      }
     },
     "c6290f4264ee4ae181862b1e0e575903": {
      "model_module": "@jupyter-widgets/controls",
      "model_module_version": "1.5.0",
      "model_name": "VBoxModel",
      "state": {
       "children": [
        "IPY_MODEL_aff4961cc55b41cd8397e46503bf94f0",
        "IPY_MODEL_931f6459abf14d699b780a60e4dfed9c",
        "IPY_MODEL_bb0acdb0df2f4122822eeafe0034c21a"
       ],
       "layout": "IPY_MODEL_309a8a8a1d754e819cfb570a96424894"
      }
     },
     "c6362f3a8fed47abb1c6ba103649b462": {
      "model_module": "@jupyter-widgets/base",
      "model_module_version": "1.2.0",
      "model_name": "LayoutModel",
      "state": {}
     },
     "c6e4bd24675240b69a968f2e65679ad5": {
      "model_module": "@jupyter-widgets/controls",
      "model_module_version": "1.5.0",
      "model_name": "BoundedFloatTextModel",
      "state": {
       "description": "zlz",
       "description_tooltip": "Size of the box in z-direction",
       "layout": "IPY_MODEL_ed856d9e582840cda9e56cec3502bf9f",
       "max": 1000000000,
       "step": null,
       "style": "IPY_MODEL_539e3cff9c3745068449d8e1ea742ba5",
       "value": 1
      }
     },
     "c908cedd48af41019ca95a1eaa93d478": {
      "model_module": "@jupyter-widgets/controls",
      "model_module_version": "1.5.0",
      "model_name": "DescriptionStyleModel",
      "state": {
       "description_width": ""
      }
     },
     "c90a860fff734c969beceda600c1fe73": {
      "model_module": "@jupyter-widgets/base",
      "model_module_version": "1.2.0",
      "model_name": "LayoutModel",
      "state": {}
     },
     "c958db29700347288df19ba019c42381": {
      "model_module": "@jupyter-widgets/controls",
      "model_module_version": "1.5.0",
      "model_name": "DescriptionStyleModel",
      "state": {
       "description_width": ""
      }
     },
     "c9c285e5b9ac4b95be3b97b34db2a865": {
      "model_module": "@jupyter-widgets/base",
      "model_module_version": "1.2.0",
      "model_name": "LayoutModel",
      "state": {}
     },
     "ca2b98277d5f433d8771d18289f75d24": {
      "model_module": "@jupyter-widgets/controls",
      "model_module_version": "1.5.0",
      "model_name": "BoundedIntTextModel",
      "state": {
       "description": "icheckpoint",
       "description_tooltip": "Frequency for writing backup file",
       "layout": "IPY_MODEL_8156e6310dfd4fce804dac92d9a6be76",
       "max": 1000000000,
       "min": 1,
       "step": 100,
       "style": "IPY_MODEL_5788d9a4c609489f9ffe8edb1d21da69",
       "value": 1000
      }
     },
     "ca3b4b6ebc304b6ab702832563f34f3a": {
      "model_module": "@jupyter-widgets/controls",
      "model_module_version": "1.5.0",
      "model_name": "FloatTextModel",
      "state": {
       "description": "inflow_noise",
       "description_tooltip": "Turbulence intensity (1=100%) !! Inflow condition",
       "layout": "IPY_MODEL_c52cd2c7b88c4772a9e14efdd8a77e0c",
       "step": null,
       "style": "IPY_MODEL_efd1fe10c60e41ef8cd1bad49adebaf2"
      }
     },
     "caf099c1ac24434b858d14a4e1bf5cf7": {
      "model_module": "@jupyter-widgets/base",
      "model_module_version": "1.2.0",
      "model_name": "LayoutModel",
      "state": {}
     },
     "cb1b6aebc8684bcabde5630f298be4c4": {
      "model_module": "@jupyter-widgets/base",
      "model_module_version": "1.2.0",
      "model_name": "LayoutModel",
      "state": {}
     },
     "cbcf189278034baaacc2d15d9c458769": {
      "model_module": "@jupyter-widgets/controls",
      "model_module_version": "1.5.0",
      "model_name": "DescriptionStyleModel",
      "state": {
       "description_width": ""
      }
     },
     "cc4882241abd449586b22c3b3af38c82": {
      "model_module": "@jupyter-widgets/base",
      "model_module_version": "1.2.0",
      "model_name": "LayoutModel",
      "state": {}
     },
     "cc996e7452884589ae3606f5b46c6bbf": {
      "model_module": "@jupyter-widgets/base",
      "model_module_version": "1.2.0",
      "model_name": "LayoutModel",
      "state": {}
     },
     "ce3e207a37944146b3405a212ca195f7": {
      "model_module": "@jupyter-widgets/controls",
      "model_module_version": "1.5.0",
      "model_name": "DropdownModel",
      "state": {
       "_options_labels": [
        "Periodic",
        "No-flux",
        "Dirichlet"
       ],
       "description": "nclzSn",
       "description_tooltip": "Scalar boundary condition where z=zlz",
       "index": 2,
       "layout": "IPY_MODEL_079d4c1b6d9c4251a6a92c184cb43905",
       "style": "IPY_MODEL_b2ba6b92e57641289ff542a1efa6c52b"
      }
     },
     "cf1847a0a78241f9b2cee0c58c09c1fa": {
      "model_module": "@jupyter-widgets/controls",
      "model_module_version": "1.5.0",
      "model_name": "DropdownModel",
      "state": {
       "_options_labels": [
        "Periodic",
        "No-flux",
        "Dirichlet"
       ],
       "description": "nclxS1",
       "description_tooltip": "Scalar boundary condition where x=0",
       "index": 2,
       "layout": "IPY_MODEL_466467ccbfe6405b870a9989fa64c304",
       "style": "IPY_MODEL_e3c762789b5648e89125b98a27facd6c"
      }
     },
     "cfcd1d9e50f945728e72a6584ab7595a": {
      "model_module": "@jupyter-widgets/controls",
      "model_module_version": "1.5.0",
      "model_name": "DescriptionStyleModel",
      "state": {
       "description_width": ""
      }
     },
     "d02bf2a0374a4f7ab6a9a99272bf4f1f": {
      "model_module": "@jupyter-widgets/controls",
      "model_module_version": "1.5.0",
      "model_name": "DescriptionStyleModel",
      "state": {
       "description_width": ""
      }
     },
     "d272a6837c4c42cab81976d095ee8e84": {
      "model_module": "@jupyter-widgets/controls",
      "model_module_version": "1.5.0",
      "model_name": "DescriptionStyleModel",
      "state": {
       "description_width": ""
      }
     },
     "d2d61e7d498c4db591b0949f796edf0f": {
      "model_module": "@jupyter-widgets/base",
      "model_module_version": "1.2.0",
      "model_name": "LayoutModel",
      "state": {}
     },
     "d3d9e7c540ad4a659cf3fc59cafd3f8d": {
      "model_module": "@jupyter-widgets/controls",
      "model_module_version": "1.5.0",
      "model_name": "BoundedFloatTextModel",
      "state": {
       "description": "dy",
       "layout": "IPY_MODEL_70a14805fcc44b9ca436aff5401d3f81",
       "max": 1000000,
       "step": null,
       "style": "IPY_MODEL_26354b9ec3f9413eac5826bb0d608e56",
       "value": 0.0625
      }
     },
     "d498673fd6fd421a8c1341f45ed2ee4f": {
      "model_module": "@jupyter-widgets/controls",
      "model_module_version": "1.5.0",
      "model_name": "DescriptionStyleModel",
      "state": {
       "description_width": ""
      }
     },
     "dc8b24b5555b40c3b418f811ee77274b": {
      "model_module": "@jupyter-widgets/controls",
      "model_module_version": "1.5.0",
      "model_name": "DropdownModel",
      "state": {
       "_options_labels": [
        "DNS",
        "Phys Smag",
        "Phys WALE",
        "Phys dyn. Smag",
        "iSVV"
       ],
       "description": "jles",
       "description_tooltip": "LES Model (1: Phys Smag, 2: Phys WALE, 3: Phys dyn. Smag, 4: iSVV)",
       "index": 4,
       "layout": "IPY_MODEL_238d5c112c384478b8c49486b42bf7c4",
       "style": "IPY_MODEL_0369f8695b4f48fb8ea0193d802c2048"
      }
     },
     "dce07ef468aa481580a6d739d19c64a7": {
      "model_module": "@jupyter-widgets/controls",
      "model_module_version": "1.5.0",
      "model_name": "DescriptionStyleModel",
      "state": {
       "description_width": ""
      }
     },
     "dd0614c14a1540099e44905ab588f1ba": {
      "model_module": "@jupyter-widgets/controls",
      "model_module_version": "1.5.0",
      "model_name": "HBoxModel",
      "state": {
       "children": [
        "IPY_MODEL_93e49f88a40942f5bc92b177fd82a45f",
        "IPY_MODEL_ff159fec86a94a4c8994915eb6abe803",
        "IPY_MODEL_e964765481a6430d9e3c5160a86a75f8"
       ],
       "layout": "IPY_MODEL_54804ea2d7194885ab319790e4ff2aa3"
      }
     },
     "dd326348e986404aae609968dba6a337": {
      "model_module": "@jupyter-widgets/controls",
      "model_module_version": "1.5.0",
      "model_name": "DescriptionStyleModel",
      "state": {
       "description_width": ""
      }
     },
     "de25d2c2f2c644668b462b3302ede741": {
      "model_module": "@jupyter-widgets/base",
      "model_module_version": "1.2.0",
      "model_name": "LayoutModel",
      "state": {}
     },
     "dee933feb4384ede932ce839f991d307": {
      "model_module": "@jupyter-widgets/base",
      "model_module_version": "1.2.0",
      "model_name": "LayoutModel",
      "state": {}
     },
     "df59eb72d04447a5a765eaeebe4d4fe5": {
      "model_module": "@jupyter-widgets/controls",
      "model_module_version": "1.5.0",
      "model_name": "DropdownModel",
      "state": {
       "_options_labels": [
        "User",
        "Lock-exchange",
        "Taylor-Green Vortex",
        "Channel",
        "Periodic Hill",
        "Cylinder",
        "Debug Schemes",
        "Mixing Layer",
        "Turbulent Jet",
        "Turbulent Boundary Layer",
        "Sandbox"
       ],
       "description": "itype",
       "description_tooltip": "Flow configuration (1:Lock-exchange, 2:TGV, 3:Channel, and others)",
       "index": 10,
       "layout": "IPY_MODEL_364e246f1b5442b5874bcf54e624143c",
       "style": "IPY_MODEL_cfcd1d9e50f945728e72a6584ab7595a"
      }
     },
     "dff5107143cd410d8ed126232cfa30b2": {
      "model_module": "@jupyter-widgets/controls",
      "model_module_version": "1.5.0",
      "model_name": "DropdownModel",
      "state": {
       "_options_labels": [
        "Periodic",
        "Free-slip",
        "Inflow"
       ],
       "description": "nclx1",
       "description_tooltip": "Velocity boundary condition where x=0",
       "index": 2,
       "layout": "IPY_MODEL_43905d629360428a8d871b5431a950da",
       "style": "IPY_MODEL_43d4a056fa0a4e34bcb77df47a46bb9c"
      }
     },
     "e1e2efd2f22f4ebbb517bdf0fae79ba9": {
      "model_module": "@jupyter-widgets/base",
      "model_module_version": "1.2.0",
      "model_name": "LayoutModel",
      "state": {}
     },
     "e3c762789b5648e89125b98a27facd6c": {
      "model_module": "@jupyter-widgets/controls",
      "model_module_version": "1.5.0",
      "model_name": "DescriptionStyleModel",
      "state": {
       "description_width": ""
      }
     },
     "e3f022de8ad143aea810effa55a75aa1": {
      "model_module": "@jupyter-widgets/controls",
      "model_module_version": "1.5.0",
      "model_name": "BoundedIntTextModel",
      "state": {
       "description": "ifirst",
       "description_tooltip": "The number for the first iteration",
       "layout": "IPY_MODEL_3903a55cb5da4228af35d955c11be8d6",
       "max": 1000000000,
       "style": "IPY_MODEL_e8a468c35812407cac2e2ebc1379752b"
      }
     },
     "e4230588315343f699810f22a5005926": {
      "model_module": "@jupyter-widgets/controls",
      "model_module_version": "1.5.0",
      "model_name": "BoundedFloatTextModel",
      "state": {
       "description": "dx",
       "layout": "IPY_MODEL_0244afefa9ad485fa569477c16dc6b44",
       "max": 1000000,
       "step": null,
       "style": "IPY_MODEL_dce07ef468aa481580a6d739d19c64a7",
       "value": 0.0625
      }
     },
     "e4f9b43d57184eb89c91eaf2cb4cffd1": {
      "model_module": "@jupyter-widgets/controls",
      "model_module_version": "1.5.0",
      "model_name": "HTMLModel",
      "state": {
       "layout": "IPY_MODEL_3d01e5186b964282a57fa1845cb7bce9",
       "style": "IPY_MODEL_3f12aa8b3c434312a4c5965b2f229d0b",
       "value": "<h1>Xcompact3d Parameters</h1>"
      }
     },
     "e57319a411764fa2a518c3aac83530a1": {
      "model_module": "@jupyter-widgets/controls",
      "model_module_version": "1.5.0",
      "model_name": "HBoxModel",
      "state": {
       "children": [
        "IPY_MODEL_dff5107143cd410d8ed126232cfa30b2",
        "IPY_MODEL_c1048043919b417a8f90189704afc863",
        "IPY_MODEL_617fa6c401f74e5580605f51e4bb19a4"
       ],
       "layout": "IPY_MODEL_29c16ac659844e7fb497e785847ebcef"
      }
     },
     "e6eb0f6951794d6699400567ae314518": {
      "model_module": "@jupyter-widgets/controls",
      "model_module_version": "1.5.0",
      "model_name": "DropdownModel",
      "state": {
       "_options_labels": [
        "9",
        "11",
        "13",
        "17",
        "19",
        "21",
        "25",
        "31",
        "33",
        "37",
        "41",
        "49",
        "51",
        "55",
        "61",
        "65",
        "73",
        "81",
        "91",
        "97",
        "101",
        "109",
        "121",
        "129",
        "145",
        "151",
        "161",
        "163",
        "181",
        "193",
        "201",
        "217",
        "241",
        "251",
        "257",
        "271",
        "289",
        "301",
        "321",
        "325",
        "361",
        "385",
        "401",
        "433",
        "451",
        "481",
        "487",
        "501",
        "513",
        "541",
        "577",
        "601",
        "641",
        "649",
        "721",
        "751",
        "769",
        "801",
        "811",
        "865",
        "901",
        "961",
        "973",
        "1001",
        "1025",
        "1081",
        "1153",
        "1201",
        "1251",
        "1281",
        "1297",
        "1351",
        "1441",
        "1459",
        "1501",
        "1537",
        "1601",
        "1621",
        "1729",
        "1801",
        "1921",
        "1945",
        "2001",
        "2049",
        "2161",
        "2251",
        "2305",
        "2401",
        "2431",
        "2501",
        "2561",
        "2593",
        "2701",
        "2881",
        "2917",
        "3001",
        "3073",
        "3201",
        "3241",
        "3457",
        "3601",
        "3751",
        "3841",
        "3889",
        "4001",
        "4051",
        "4097",
        "4321",
        "4375",
        "4501",
        "4609",
        "4801",
        "4861",
        "5001",
        "5121",
        "5185",
        "5401",
        "5761",
        "5833",
        "6001",
        "6145",
        "6251",
        "6401",
        "6481",
        "6751",
        "6913",
        "7201",
        "7291",
        "7501",
        "7681",
        "7777",
        "8001",
        "8101",
        "8193",
        "8641",
        "8749",
        "9001"
       ],
       "description": "nz",
       "description_tooltip": "Z-direction nodes",
       "index": 3,
       "layout": "IPY_MODEL_eab4621557124bd99884eba1d7211705",
       "style": "IPY_MODEL_ea775c643be6471392c6f71eef95fb79"
      }
     },
     "e75a2b6e529345f189ec2fb9fe515684": {
      "model_module": "@jupyter-widgets/controls",
      "model_module_version": "1.5.0",
      "model_name": "BoundedIntTextModel",
      "state": {
       "description": "nvisu",
       "description_tooltip": "Size for visualisation collection",
       "disabled": true,
       "layout": "IPY_MODEL_b45fce4c1f344f188ecdaf7ecb9a0930",
       "max": 1000000000,
       "min": 1,
       "style": "IPY_MODEL_3286753de1a74ade9173aaed539a955a",
       "value": 1
      }
     },
     "e7b5c27a439b4a0dafae5135c90bffc3": {
      "model_module": "@jupyter-widgets/controls",
      "model_module_version": "1.5.0",
      "model_name": "HBoxModel",
      "state": {
       "children": [
        "IPY_MODEL_3295d381688c43bd94196529b2ad2910",
        "IPY_MODEL_e75a2b6e529345f189ec2fb9fe515684",
        "IPY_MODEL_a9c7516e12924969853b72a60545835e"
       ],
       "layout": "IPY_MODEL_cc4882241abd449586b22c3b3af38c82"
      }
     },
     "e8369f85b8f842c0833b6cfe505a905d": {
      "model_module": "@jupyter-widgets/controls",
      "model_module_version": "1.5.0",
      "model_name": "DescriptionStyleModel",
      "state": {
       "description_width": ""
      }
     },
     "e8a468c35812407cac2e2ebc1379752b": {
      "model_module": "@jupyter-widgets/controls",
      "model_module_version": "1.5.0",
      "model_name": "DescriptionStyleModel",
      "state": {
       "description_width": ""
      }
     },
     "e8d5b43d2382405db358f966d4bef31a": {
      "model_module": "@jupyter-widgets/controls",
      "model_module_version": "1.5.0",
      "model_name": "VBoxModel",
      "state": {
       "children": [
        "IPY_MODEL_c35f5fb23d9946aabb91cb9ed99ae22b"
       ],
       "layout": "IPY_MODEL_c90a860fff734c969beceda600c1fe73"
      }
     },
     "e964765481a6430d9e3c5160a86a75f8": {
      "model_module": "@jupyter-widgets/controls",
      "model_module_version": "1.5.0",
      "model_name": "DropdownModel",
      "state": {
       "_options_labels": [
        "Euler",
        "AB2",
        "AB3",
        "RK3",
        "Semi-implicit"
       ],
       "description": "itimescheme",
       "description_tooltip": "Time integration scheme (1: Euler, 2: AB2, 3: AB3, 5: RK3)",
       "index": 2,
       "layout": "IPY_MODEL_e1e2efd2f22f4ebbb517bdf0fae79ba9",
       "style": "IPY_MODEL_0ecf6a5c73fa48fcb7fbdb250090ee0f"
      }
     },
     "e9d63d3a10a44ba0bed59ae2e9a0989e": {
      "model_module": "@jupyter-widgets/base",
      "model_module_version": "1.2.0",
      "model_name": "LayoutModel",
      "state": {}
     },
     "ea775c643be6471392c6f71eef95fb79": {
      "model_module": "@jupyter-widgets/controls",
      "model_module_version": "1.5.0",
      "model_name": "DescriptionStyleModel",
      "state": {
       "description_width": ""
      }
     },
     "eab4621557124bd99884eba1d7211705": {
      "model_module": "@jupyter-widgets/base",
      "model_module_version": "1.2.0",
      "model_name": "LayoutModel",
      "state": {}
     },
     "eaf0700bc4bd4cc387c9949ae4e72f09": {
      "model_module": "@jupyter-widgets/controls",
      "model_module_version": "1.5.0",
      "model_name": "DescriptionStyleModel",
      "state": {
       "description_width": ""
      }
     },
     "eb2c55a08cb348dc993d03e819f6c087": {
      "model_module": "@jupyter-widgets/base",
      "model_module_version": "1.2.0",
      "model_name": "LayoutModel",
      "state": {}
     },
     "ebb10510282b4bbebd0b188a2e2dc49d": {
      "model_module": "@jupyter-widgets/controls",
      "model_module_version": "1.5.0",
      "model_name": "BoundedFloatTextModel",
      "state": {
       "description": "dt",
       "description_tooltip": "Time step",
       "layout": "IPY_MODEL_234f486d62f24c1bac7a6adc61f92b4a",
       "max": 1000000000,
       "min": 1e-09,
       "step": null,
       "style": "IPY_MODEL_54897ce46362450ab0cc0b54eafb50bc",
       "value": 0.001
      }
     },
     "ec3eb7b9c8754518abd8305327f9f09c": {
      "model_module": "@jupyter-widgets/base",
      "model_module_version": "1.2.0",
      "model_name": "LayoutModel",
      "state": {}
     },
     "ec8dc0ad199f4eb0a0493ab96b7e6200": {
      "model_module": "@jupyter-widgets/controls",
      "model_module_version": "1.5.0",
      "model_name": "VBoxModel",
      "state": {
       "children": [
        "IPY_MODEL_c35f5fb23d9946aabb91cb9ed99ae22b",
        "IPY_MODEL_b5c85e0faafb4056829ac18059fb28c4",
        "IPY_MODEL_e4230588315343f699810f22a5005926",
        "IPY_MODEL_dff5107143cd410d8ed126232cfa30b2",
        "IPY_MODEL_6a45cee9e263446b86a8afb4d0791f14"
       ],
       "layout": "IPY_MODEL_c9c285e5b9ac4b95be3b97b34db2a865"
      }
     },
     "ed856d9e582840cda9e56cec3502bf9f": {
      "model_module": "@jupyter-widgets/base",
      "model_module_version": "1.2.0",
      "model_name": "LayoutModel",
      "state": {}
     },
     "eda39af85739462da7b2f2de29ff9ef2": {
      "model_module": "@jupyter-widgets/controls",
      "model_module_version": "1.5.0",
      "model_name": "FloatTextModel",
      "state": {
       "description": "gravy",
       "description_tooltip": "Gravity unitary vector in y-direction",
       "layout": "IPY_MODEL_b0719c8f46e841e597e861216b52c197",
       "step": null,
       "style": "IPY_MODEL_9f13a28fa0404278b789e9aa25400133"
      }
     },
     "edab642241dc498fb372ec300f641721": {
      "model_module": "@jupyter-widgets/controls",
      "model_module_version": "1.5.0",
      "model_name": "DescriptionStyleModel",
      "state": {
       "description_width": ""
      }
     },
     "efd1fe10c60e41ef8cd1bad49adebaf2": {
      "model_module": "@jupyter-widgets/controls",
      "model_module_version": "1.5.0",
      "model_name": "DescriptionStyleModel",
      "state": {
       "description_width": ""
      }
     },
     "f1ede2d8e8d642159e77d72e14d5551f": {
      "model_module": "@jupyter-widgets/controls",
      "model_module_version": "1.5.0",
      "model_name": "DescriptionStyleModel",
      "state": {
       "description_width": ""
      }
     },
     "f1ffcae6589e43ac8111fc1c7c9d5f87": {
      "model_module": "@jupyter-widgets/controls",
      "model_module_version": "1.5.0",
      "model_name": "HTMLModel",
      "state": {
       "layout": "IPY_MODEL_92e3f5f12f674df7b297726d608b32d3",
       "style": "IPY_MODEL_a959ae24d016435885f7f894967d30b5",
       "value": "<strong>cp, us, sc, ri, scalar_lbound & scalar_ubound</strong> are lists with length numscalar, set them properly on the code."
      }
     },
     "f7407a7f05784969a332a6fc5d623d0b": {
      "model_module": "@jupyter-widgets/base",
      "model_module_version": "1.2.0",
      "model_name": "LayoutModel",
      "state": {}
     },
     "f93a0f0531244815805924371aa4a909": {
      "model_module": "@jupyter-widgets/base",
      "model_module_version": "1.2.0",
      "model_name": "LayoutModel",
      "state": {}
     },
     "f96753b153e24e3cb2d9dceb8b8b891c": {
      "model_module": "@jupyter-widgets/controls",
      "model_module_version": "1.5.0",
      "model_name": "DescriptionStyleModel",
      "state": {
       "description_width": ""
      }
     },
     "f9ce4e07ac244fdf834432fa57ad2888": {
      "model_module": "@jupyter-widgets/base",
      "model_module_version": "1.2.0",
      "model_name": "LayoutModel",
      "state": {}
     },
     "fa330ca610824c3e9a9fab38d7368ef3": {
      "model_module": "@jupyter-widgets/controls",
      "model_module_version": "1.5.0",
      "model_name": "DescriptionStyleModel",
      "state": {
       "description_width": ""
      }
     },
     "faf3e2d1847549b1a85d15e16b85b169": {
      "model_module": "@jupyter-widgets/controls",
      "model_module_version": "1.5.0",
      "model_name": "HTMLModel",
      "state": {
       "layout": "IPY_MODEL_a4b32825786c4193b1f1e0d3df20bb59",
       "style": "IPY_MODEL_4717572316cc4470979d071ebd4a51c5",
       "value": "<h2>IBMStuff</h2>"
      }
     },
     "fd023d9e9bc849bda552288c0edec737": {
      "model_module": "@jupyter-widgets/controls",
      "model_module_version": "1.5.0",
      "model_name": "DescriptionStyleModel",
      "state": {
       "description_width": ""
      }
     },
     "fd10a353f95d4526bed8a999ad5f449d": {
      "model_module": "@jupyter-widgets/base",
      "model_module_version": "1.2.0",
      "model_name": "LayoutModel",
      "state": {}
     },
     "ff159fec86a94a4c8994915eb6abe803": {
      "model_module": "@jupyter-widgets/controls",
      "model_module_version": "1.5.0",
      "model_name": "DropdownModel",
      "state": {
       "_options_labels": [
        "6th compact",
        "hyperviscous 6th"
       ],
       "description": "isecondder",
       "description_tooltip": "Scheme for first order derivative",
       "disabled": true,
       "index": 0,
       "layout": "IPY_MODEL_087ea5b22d8f4d77b72c52e8fa7ee5ab",
       "style": "IPY_MODEL_76a5b1c2937249febcc40a6b5d651928"
      }
     },
     "ff4f54fd075e48998b1b5a7d5a83a7f5": {
      "model_module": "@jupyter-widgets/base",
      "model_module_version": "1.2.0",
      "model_name": "LayoutModel",
      "state": {}
     },
     "ff7513be5e0e424cb9a75265b9d3d3ba": {
      "model_module": "@jupyter-widgets/controls",
      "model_module_version": "1.5.0",
      "model_name": "HBoxModel",
      "state": {
       "children": [
        "IPY_MODEL_c0c2c09db4b849e08ea49a54e9e06bc2",
        "IPY_MODEL_bf470ff0b7a042af857bd0186d23ec2f",
        "IPY_MODEL_ca3b4b6ebc304b6ab702832563f34f3a"
       ],
       "layout": "IPY_MODEL_6077879cd329474a9eb01aa2cc30ddee"
      }
     }
    },
    "version_major": 2,
    "version_minor": 0
   }
  }
 },
 "nbformat": 4,
 "nbformat_minor": 4
}
