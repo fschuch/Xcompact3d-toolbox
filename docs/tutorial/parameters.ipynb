{
 "cells": [
  {
   "cell_type": "markdown",
   "metadata": {},
   "source": [
    "# Parameters\n",
    "\n",
    "The computational and physical parameters are handled by `class xcompact3d_toolbox.Parameters`. It is built on top of [Traitlets](https://traitlets.readthedocs.io/en/stable/index.html), which aims to make the parameters compatible with what xcompact3d expects, and also brings some advantages:\n",
    "\n",
    "* Attributes are type-checked;\n",
    "* Default values, restrictions and conections between related parameters are applied where necessary;\n",
    "* 'On change' callbacks for validation and observation;\n",
    "* Two-way linking with [ipywidgets](https://ipywidgets.readthedocs.io/en/latest/)."
   ]
  },
  {
   "cell_type": "code",
   "execution_count": 1,
   "metadata": {},
   "outputs": [
    {
     "name": "stderr",
     "output_type": "stream",
     "text": [
      "c:\\users\\felip\\documents\\github\\x3d-hackathon_june_21\\xcompact3d_toolbox\\xcompact3d_toolbox\\io.py:17: TqdmExperimentalWarning: Using `tqdm.autonotebook.tqdm` in notebook mode. Use `tqdm.tqdm` instead to force console mode (e.g. in jupyter console)\n",
      "  from tqdm.autonotebook import tqdm\n"
     ]
    }
   ],
   "source": [
    "import numpy as np\n",
    "\n",
    "import xcompact3d_toolbox as x3d"
   ]
  },
  {
   "cell_type": "markdown",
   "metadata": {},
   "source": [
    "The first step is to establish numerical precision. Use `np.float64` if Xcompact3d was compiled with the flag `-DDOUBLE_PREC` (check the Makefile), use `np.float32` otherwise:"
   ]
  },
  {
   "cell_type": "code",
   "execution_count": 2,
   "metadata": {},
   "outputs": [],
   "source": [
    "x3d.param[\"mytype\"] = np.float32"
   ]
  },
  {
   "cell_type": "markdown",
   "metadata": {},
   "source": [
    "## Initialization"
   ]
  },
  {
   "cell_type": "markdown",
   "metadata": {},
   "source": [
    "There are a few ways to initialize the class. First, calling it with no arguments initializes all variables with default value:"
   ]
  },
  {
   "cell_type": "code",
   "execution_count": 3,
   "metadata": {},
   "outputs": [],
   "source": [
    "prm = x3d.Parameters()"
   ]
  },
  {
   "cell_type": "markdown",
   "metadata": {},
   "source": [
    "You can access a list with all the available variables at the [Api reference](https://xcompact3d-toolbox.readthedocs.io/en/latest/Docstrings.html)."
   ]
  },
  {
   "cell_type": "markdown",
   "metadata": {},
   "source": [
    "Let's see how it looks like:"
   ]
  },
  {
   "cell_type": "code",
   "execution_count": 4,
   "metadata": {},
   "outputs": [
    {
     "name": "stdout",
     "output_type": "stream",
     "text": [
      "! -*- mode: f90 -*-\n",
      "\n",
      "!===================\n",
      "&BasicParam\n",
      "!===================\n",
      "\n",
      "       C_filter = 0.49            ! \n",
      "           beta = 1.0             ! Refinement parameter\n",
      "             dt = 0.001           ! Time step\n",
      "          gravx = 0.0             ! Gravity unitary vector in x-direction\n",
      "          gravy = 0.0             ! Gravity unitary vector in y-direction\n",
      "          gravz = 0.0             ! Gravity unitary vector in z-direction\n",
      "        ifilter = 0               ! \n",
      "         ifirst = 0               ! The number for the first iteration\n",
      "           iibm = 0               ! Flag for immersed boundary method (0: No, 1: Yes)\n",
      "            iin = 0               ! Defines perturbation at initial condition\n",
      "          ilast = 0               ! The number for the last iteration\n",
      "        ilesmod = 0               ! Enables Large-Eddy methodologies (0: No, 1: Yes)\n",
      "           ilmn = .false.         ! \n",
      "   inflow_noise = 0.0             ! Turbulence intensity (1=100%) !! Inflow condition\n",
      "     init_noise = 0.0             ! Turbulence intensity (1=100%) !! Initial condition\n",
      "          ipost = 0               ! Enables online postprocessing at a frequency iprocessing (0: No, 1: Yes)\n",
      "        iscalar = 0               ! \n",
      "         istret = 0               ! y mesh refinement (0:no, 1:center, 2:both sides, 3:bottom)\n",
      "       iturbine = 0               ! \n",
      "          itype = 12              ! Flow configuration (1:Lock-exchange, 2:TGV, 3:Channel, and others)\n",
      "          ivisu = 1               ! Enable store snapshots at a frequency ioutput (0: No, 1: Yes)\n",
      "          nclx1 = 2               ! Velocity boundary condition where x=0\n",
      "          nclxn = 2               ! Velocity boundary condition where x=xlx\n",
      "          ncly1 = 2               ! Velocity boundary condition where y=0\n",
      "          nclyn = 2               ! Velocity boundary condition where y=yly\n",
      "          nclz1 = 2               ! Velocity boundary condition where z=0\n",
      "          nclzn = 2               ! Velocity boundary condition where z=zlz\n",
      "      numscalar = 0               ! Number of scalar fractions\n",
      "             nx = 17              ! X-direction nodes\n",
      "             ny = 17              ! Y-direction nodes\n",
      "             nz = 17              ! Z-direction nodes\n",
      "          p_col = 0               ! Column partition for domain decomposition and parallel computation\n",
      "          p_row = 0               ! Row partition for domain decomposition and parallel computation\n",
      "             re = 1000.0          ! Reynolds number\n",
      "             u1 = 2.0             ! \n",
      "             u2 = 1.0             ! \n",
      "            xlx = 1.0             ! Size of the box in x-direction\n",
      "            yly = 1.0             ! Size of the box in y-direction\n",
      "            zlz = 1.0             ! Size of the box in z-direction\n",
      "\n",
      "/End\n",
      "\n",
      "!===================\n",
      "&NumOptions\n",
      "!===================\n",
      "\n",
      "            cnu = 0.44            ! Ratio between hyperviscosity at km=2/3π and kc=π (dissipation factor range)\n",
      "      ifirstder = 4               ! \n",
      "      iimplicit = 0               ! \n",
      "     isecondder = 4               ! Scheme for first order derivative\n",
      "    itimescheme = 3               ! Time integration scheme (1: Euler, 2: AB2, 3: AB3, 5: RK3)\n",
      "          nu0nu = 4.0             ! Ratio between hyperviscosity/viscosity at nu (dissipation factor intensity)\n",
      "\n",
      "/End\n",
      "\n",
      "!===================\n",
      "&InOutParam\n",
      "!===================\n",
      "\n",
      "    icheckpoint = 1000            ! Frequency for writing backup file\n",
      "       ioutflow = 0               ! \n",
      "        ioutput = 1000            ! Frequency for visualization file\n",
      "    iprocessing = 1000            ! Frequency for online postprocessing\n",
      "       irestart = 0               ! Read initial flow field (0: No, 1: Yes)\n",
      "       ninflows = 1               ! \n",
      "        nprobes = 0               ! \n",
      "     ntimesteps = 1               ! \n",
      "          nvisu = 1               ! Size for visualization collection\n",
      "       output2D = 0               ! \n",
      "\n",
      "/End\n",
      "\n",
      "!===================\n",
      "&Statistics\n",
      "!===================\n",
      "\n",
      "\n",
      "/End\n",
      "\n",
      "!===================\n",
      "&CASE\n",
      "!===================\n",
      "\n",
      "\n",
      "/End\n",
      "\n"
     ]
    }
   ],
   "source": [
    "print(prm)"
   ]
  },
  {
   "cell_type": "markdown",
   "metadata": {},
   "source": [
    "It is possible to access and/or set values afterwards:"
   ]
  },
  {
   "cell_type": "code",
   "execution_count": 5,
   "metadata": {},
   "outputs": [
    {
     "name": "stdout",
     "output_type": "stream",
     "text": [
      "1000.0\n",
      "1000000.0\n"
     ]
    }
   ],
   "source": [
    "# Reynolds Number\n",
    "print(prm.re)\n",
    "\n",
    "# attribute new value\n",
    "prm.re = 1e6\n",
    "print(prm.re)"
   ]
  },
  {
   "cell_type": "markdown",
   "metadata": {},
   "source": [
    "Second, we can specify some values, and let the missing ones be initialized with default value:"
   ]
  },
  {
   "cell_type": "code",
   "execution_count": 6,
   "metadata": {},
   "outputs": [],
   "source": [
    "prm = x3d.Parameters(\n",
    "    filename=\"example.i3d\",\n",
    "    itype=10,\n",
    "    nx=129,\n",
    "    ny=65,\n",
    "    nz=32,\n",
    "    xlx=15.0,\n",
    "    yly=10.0,\n",
    "    zlz=3.0,\n",
    "    nclx1=2,\n",
    "    nclxn=2,\n",
    "    ncly1=1,\n",
    "    nclyn=1,\n",
    "    nclz1=0,\n",
    "    nclzn=0,\n",
    "    iin=1,\n",
    "    istret=2,\n",
    "    re=300.0,\n",
    "    init_noise=0.0125,\n",
    "    inflow_noise=0.0125,\n",
    "    dt=0.0025,\n",
    "    ifirst=1,\n",
    "    ilast=45000,\n",
    "    irestart=0,\n",
    "    icheckpoint=45000,\n",
    "    ioutput=200,\n",
    "    iprocessing=50,\n",
    ")"
   ]
  },
  {
   "cell_type": "markdown",
   "metadata": {},
   "source": [
    "It is easy to write `example.i3d` to disc, just type:"
   ]
  },
  {
   "cell_type": "code",
   "execution_count": 7,
   "metadata": {},
   "outputs": [],
   "source": [
    "prm.write()"
   ]
  },
  {
   "cell_type": "markdown",
   "metadata": {},
   "source": [
    "And finally, it is possible to read the parameters from the disc:"
   ]
  },
  {
   "cell_type": "code",
   "execution_count": 8,
   "metadata": {},
   "outputs": [],
   "source": [
    "prm = x3d.Parameters(filename=\"example.i3d\")\n",
    "prm.load()"
   ]
  },
  {
   "cell_type": "markdown",
   "metadata": {},
   "source": [
    "The same result is obtained in a more concise way:"
   ]
  },
  {
   "cell_type": "code",
   "execution_count": 9,
   "metadata": {},
   "outputs": [],
   "source": [
    "prm = x3d.Parameters(loadfile=\"example.i3d\")"
   ]
  },
  {
   "cell_type": "markdown",
   "metadata": {},
   "source": [
    "The class can also read the previous parameters format ([se more information here](https://github.com/fschuch/xcompact3d_toolbox/issues/7)):\n",
    "\n",
    "``` python\n",
    "prm = x3d.Parameters(loadfile=\"incompact3d.prm\")\n",
    "```"
   ]
  },
  {
   "cell_type": "markdown",
   "metadata": {},
   "source": [
    "There are extra objects read and write the raw binary files from XCompact3d on-demand.\n",
    "\n",
    "* Read a binary field from the disc:\n",
    "\n",
    "    ``` python\n",
    "    ux = prm.dataset.load_array(\"ux-0000.bin\")\n",
    "    ```\n",
    "\n",
    "* Read the entire time series for a given variable:\n",
    "\n",
    "    ``` python\n",
    "    ux = prm.dataset.load_time_series(\"ux\")\n",
    "    ```\n",
    "    \n",
    "* Read all variables for a given snapshot:\n",
    "\n",
    "    ```python\n",
    "    snapshot = prm.dataset.load_snapshot(10)\n",
    "    ```\n",
    "\n",
    "* Write `xdmf` files, so the binary files can be open in any external visualization tool:\n",
    "\n",
    "    ``` python\n",
    "    prm.dataset.write_xdmf()\n",
    "    ```\n",
    "\n",
    "* Compute the coordinates, including support for mesh refinement in y:"
   ]
  },
  {
   "cell_type": "code",
   "execution_count": 10,
   "metadata": {},
   "outputs": [
    {
     "data": {
      "text/plain": [
       "{'x': array([ 0.       ,  0.1171875,  0.234375 ,  0.3515625,  0.46875  ,\n",
       "         0.5859375,  0.703125 ,  0.8203125,  0.9375   ,  1.0546875,\n",
       "         1.171875 ,  1.2890625,  1.40625  ,  1.5234375,  1.640625 ,\n",
       "         1.7578125,  1.875    ,  1.9921875,  2.109375 ,  2.2265625,\n",
       "         2.34375  ,  2.4609375,  2.578125 ,  2.6953125,  2.8125   ,\n",
       "         2.9296875,  3.046875 ,  3.1640625,  3.28125  ,  3.3984375,\n",
       "         3.515625 ,  3.6328125,  3.75     ,  3.8671875,  3.984375 ,\n",
       "         4.1015625,  4.21875  ,  4.3359375,  4.453125 ,  4.5703125,\n",
       "         4.6875   ,  4.8046875,  4.921875 ,  5.0390625,  5.15625  ,\n",
       "         5.2734375,  5.390625 ,  5.5078125,  5.625    ,  5.7421875,\n",
       "         5.859375 ,  5.9765625,  6.09375  ,  6.2109375,  6.328125 ,\n",
       "         6.4453125,  6.5625   ,  6.6796875,  6.796875 ,  6.9140625,\n",
       "         7.03125  ,  7.1484375,  7.265625 ,  7.3828125,  7.5      ,\n",
       "         7.6171875,  7.734375 ,  7.8515625,  7.96875  ,  8.0859375,\n",
       "         8.203125 ,  8.3203125,  8.4375   ,  8.5546875,  8.671875 ,\n",
       "         8.7890625,  8.90625  ,  9.0234375,  9.140625 ,  9.2578125,\n",
       "         9.375    ,  9.4921875,  9.609375 ,  9.7265625,  9.84375  ,\n",
       "         9.9609375, 10.078125 , 10.1953125, 10.3125   , 10.4296875,\n",
       "        10.546875 , 10.6640625, 10.78125  , 10.8984375, 11.015625 ,\n",
       "        11.1328125, 11.25     , 11.3671875, 11.484375 , 11.6015625,\n",
       "        11.71875  , 11.8359375, 11.953125 , 12.0703125, 12.1875   ,\n",
       "        12.3046875, 12.421875 , 12.5390625, 12.65625  , 12.7734375,\n",
       "        12.890625 , 13.0078125, 13.125    , 13.2421875, 13.359375 ,\n",
       "        13.4765625, 13.59375  , 13.7109375, 13.828125 , 13.9453125,\n",
       "        14.0625   , 14.1796875, 14.296875 , 14.4140625, 14.53125  ,\n",
       "        14.6484375, 14.765625 , 14.8828125, 15.       ], dtype=float32),\n",
       " 'y': array([ 0.        ,  0.04504663,  0.09029302,  0.13594234,  0.18220465,\n",
       "         0.2293007 ,  0.27746594,  0.3269554 ,  0.37804887,  0.43105724,\n",
       "         0.4863303 ,  0.5442656 ,  0.60532016,  0.670024  ,  0.7389978 ,\n",
       "         0.81297535,  0.8928308 ,  0.9796148 ,  1.0746001 ,  1.1793398 ,\n",
       "         1.2957417 ,  1.4261622 ,  1.5735214 ,  1.7414377 ,  1.9343702 ,\n",
       "         2.1577313 ,  2.4178853 ,  2.72186   ,  3.0764673 ,  3.4864438 ,\n",
       "         3.9514096 ,  4.462363  ,  5.        ,  5.537637  ,  6.0485907 ,\n",
       "         6.5135565 ,  6.923533  ,  7.27814   ,  7.5821147 ,  7.842269  ,\n",
       "         8.06563   ,  8.258562  ,  8.426478  ,  8.573838  ,  8.704258  ,\n",
       "         8.820661  ,  8.9254    ,  9.020385  ,  9.107169  ,  9.187025  ,\n",
       "         9.261003  ,  9.329976  ,  9.39468   ,  9.455734  ,  9.51367   ,\n",
       "         9.568943  ,  9.621951  ,  9.673044  ,  9.722534  ,  9.7706995 ,\n",
       "         9.817796  ,  9.864058  ,  9.909707  ,  9.954953  , 10.        ],\n",
       "       dtype=float32),\n",
       " 'z': array([0.     , 0.09375, 0.1875 , 0.28125, 0.375  , 0.46875, 0.5625 ,\n",
       "        0.65625, 0.75   , 0.84375, 0.9375 , 1.03125, 1.125  , 1.21875,\n",
       "        1.3125 , 1.40625, 1.5    , 1.59375, 1.6875 , 1.78125, 1.875  ,\n",
       "        1.96875, 2.0625 , 2.15625, 2.25   , 2.34375, 2.4375 , 2.53125,\n",
       "        2.625  , 2.71875, 2.8125 , 2.90625], dtype=float32)}"
      ]
     },
     "execution_count": 10,
     "metadata": {},
     "output_type": "execute_result"
    }
   ],
   "source": [
    "prm.get_mesh()"
   ]
  },
  {
   "cell_type": "markdown",
   "metadata": {},
   "source": [
    "More details about I/O and array manipulations with [xarray](http://xarray.pydata.org/en/stable/index.html) will be included in a new tutorial."
   ]
  },
  {
   "cell_type": "markdown",
   "metadata": {},
   "source": [
    "## Traitlets\n",
    "\n",
    "### Type-checking\n",
    "\n",
    "All parameters are type-checked, to make sure that they are what `Xcompact3d` expects. Use the cellcode below to see how a `TraitError` pops out when we try:\n",
    "\n",
    "```python\n",
    "prm.itype = 10.5\n",
    "prm.itype = -5\n",
    "prm.itype = 20\n",
    "prm.itype = 'sandbox'\n",
    "\n",
    "```\n"
   ]
  },
  {
   "cell_type": "code",
   "execution_count": null,
   "metadata": {},
   "outputs": [],
   "source": []
  },
  {
   "cell_type": "markdown",
   "metadata": {},
   "source": [
    "### Validation"
   ]
  },
  {
   "cell_type": "markdown",
   "metadata": {},
   "source": [
    "Some parameters, like mesh points (`nx`, `ny` and `nz`), trigger a validation operation when a new value is attributed to them.\n",
    "Due to restrictions at the FFT library, they must be equal to:\n",
    "\n",
    "$$\n",
    "n_i = \\left\\{ \\begin{array}{ll} 2^{1+a} \\times 3^b \\times 5^c &\\mbox{if periodic,} \\\\ 2^{1+a} \\times 3^b \\times 5^c + 1 &\\mbox{otherwise,}\n",
    "\\end{array} \\right.\n",
    "$$\n",
    "\n",
    "where $a$, $b$ and $c$ are non negative integers. In addition, the derivatives stencil imposes that:\n",
    "\n",
    "$$\n",
    "n_i \\ge \\left\\{ \\begin{array}{ll} 8 &\\mbox{if periodic,} \\\\ 9 &\\mbox{otherwise.}\n",
    "\\end{array} \\right.\n",
    "$$\n",
    "\n",
    "Again, give it a try at the cellcode below:\n",
    "\n",
    "```python\n",
    "prm.nx = 129\n",
    "prm.nx = 4\n",
    "prm.nx = 60\n",
    "prm.nx = 61\n",
    "```"
   ]
  },
  {
   "cell_type": "code",
   "execution_count": null,
   "metadata": {},
   "outputs": [],
   "source": []
  },
  {
   "cell_type": "markdown",
   "metadata": {},
   "source": [
    "### Observation"
   ]
  },
  {
   "cell_type": "markdown",
   "metadata": {},
   "source": [
    "Other parameters, like mesh resolution (`dx`, `dy` and `dz`), are automaticaly updated when any new atribution occurs to mesh points and/or domain size. Let's create a quick print functions to play with:"
   ]
  },
  {
   "cell_type": "code",
   "execution_count": 11,
   "metadata": {},
   "outputs": [],
   "source": [
    "def show_param():\n",
    "    for var in \"nclx1 nclxn nx xlx dx\".split():\n",
    "        print(f\"{var:>5} = {getattr(prm, var)}\")"
   ]
  },
  {
   "cell_type": "markdown",
   "metadata": {},
   "source": [
    "We are starting with:"
   ]
  },
  {
   "cell_type": "code",
   "execution_count": 12,
   "metadata": {},
   "outputs": [
    {
     "name": "stdout",
     "output_type": "stream",
     "text": [
      "nclx1 = 2\n",
      "nclxn = 2\n",
      "   nx = 129\n",
      "  xlx = 15.0\n",
      "   dx = 0.1171875\n"
     ]
    }
   ],
   "source": [
    "show_param()"
   ]
  },
  {
   "cell_type": "markdown",
   "metadata": {},
   "source": [
    "Let's change just the domain's length:"
   ]
  },
  {
   "cell_type": "code",
   "execution_count": 13,
   "metadata": {},
   "outputs": [
    {
     "name": "stdout",
     "output_type": "stream",
     "text": [
      "nclx1 = 2\n",
      "nclxn = 2\n",
      "   nx = 129\n",
      "  xlx = 50.0\n",
      "   dx = 0.390625\n"
     ]
    }
   ],
   "source": [
    "prm.xlx = 50.0\n",
    "\n",
    "show_param()"
   ]
  },
  {
   "cell_type": "markdown",
   "metadata": {},
   "source": [
    "The resolution was updated as well. Now the number of mesh points:"
   ]
  },
  {
   "cell_type": "code",
   "execution_count": 14,
   "metadata": {},
   "outputs": [
    {
     "name": "stdout",
     "output_type": "stream",
     "text": [
      "nclx1 = 2\n",
      "nclxn = 2\n",
      "   nx = 121\n",
      "  xlx = 50.0\n",
      "   dx = 0.4166666666666667\n"
     ]
    }
   ],
   "source": [
    "prm.nx = 121\n",
    "\n",
    "show_param()"
   ]
  },
  {
   "cell_type": "markdown",
   "metadata": {},
   "source": [
    "Again, the resolution was updated. Now we set a new mesh resolution, this time, `xlx` will be updated in order to satisfy the new resolution:"
   ]
  },
  {
   "cell_type": "code",
   "execution_count": 15,
   "metadata": {},
   "outputs": [
    {
     "name": "stdout",
     "output_type": "stream",
     "text": [
      "nclx1 = 2\n",
      "nclxn = 2\n",
      "   nx = 121\n",
      "  xlx = 1.2\n",
      "   dx = 0.01\n"
     ]
    }
   ],
   "source": [
    "prm.dx = 1e-2\n",
    "\n",
    "show_param()"
   ]
  },
  {
   "cell_type": "markdown",
   "metadata": {},
   "source": [
    "Boundary conditions are observed as well. Xcompact3d allows three different BC for velocity:\n",
    "\n",
    "* Periodic `0`;\n",
    "* Free-slip `1`;\n",
    "* Dirichlet `2`.\n",
    "\n",
    "They can be assigned individualy for each of the six boundaries:\n",
    "\n",
    "* `nclx1` and `nclxn`, where $x=0$ and $x=xlx$;\n",
    "* `ncly1` and `nclyn`, where $y=0$ and $y=yly$;\n",
    "* `nclz1` and `nclzn`, where $z=0$ and $z=zlz$.\n",
    "\n",
    "It leads to 5 possibilities (`00`, `11`, `12`, `21` and `22`), because both boundary must be periodic, or not, so `0` cannot be combined.\n",
    "\n",
    "Let's check it out, we are starting with:"
   ]
  },
  {
   "cell_type": "code",
   "execution_count": 16,
   "metadata": {},
   "outputs": [
    {
     "name": "stdout",
     "output_type": "stream",
     "text": [
      "nclx1 = 2\n",
      "nclxn = 2\n",
      "   nx = 121\n",
      "  xlx = 1.2\n",
      "   dx = 0.01\n"
     ]
    }
   ],
   "source": [
    "show_param()"
   ]
  },
  {
   "cell_type": "markdown",
   "metadata": {},
   "source": [
    "We will change just one side to periodic (`nclx1 = 0`), for consistence, the other side should be periodic too. Let's see:"
   ]
  },
  {
   "cell_type": "code",
   "execution_count": 17,
   "metadata": {},
   "outputs": [
    {
     "name": "stdout",
     "output_type": "stream",
     "text": [
      "nclx1 = 0\n",
      "nclxn = 0\n",
      "   nx = 120\n",
      "  xlx = 1.2\n",
      "   dx = 0.01\n"
     ]
    }
   ],
   "source": [
    "prm.nclx1 = 0\n",
    "\n",
    "show_param()"
   ]
  },
  {
   "cell_type": "markdown",
   "metadata": {},
   "source": [
    "Now free-slip in one side (`nclx1 = 1`), and the other should be non-periodic:"
   ]
  },
  {
   "cell_type": "code",
   "execution_count": 18,
   "metadata": {},
   "outputs": [
    {
     "name": "stdout",
     "output_type": "stream",
     "text": [
      "nclx1 = 1\n",
      "nclxn = 1\n",
      "   nx = 121\n",
      "  xlx = 1.2\n",
      "   dx = 0.01\n"
     ]
    }
   ],
   "source": [
    "prm.nclx1 = 1\n",
    "\n",
    "show_param()"
   ]
  },
  {
   "cell_type": "markdown",
   "metadata": {},
   "source": [
    "Setting the other boundary to periodic:"
   ]
  },
  {
   "cell_type": "code",
   "execution_count": 19,
   "metadata": {},
   "outputs": [
    {
     "name": "stdout",
     "output_type": "stream",
     "text": [
      "nclx1 = 0\n",
      "nclxn = 0\n",
      "   nx = 120\n",
      "  xlx = 1.2\n",
      "   dx = 0.01\n"
     ]
    }
   ],
   "source": [
    "prm.nclxn = 0\n",
    "\n",
    "show_param()"
   ]
  },
  {
   "cell_type": "markdown",
   "metadata": {},
   "source": [
    "and now back to Dirichlet:"
   ]
  },
  {
   "cell_type": "code",
   "execution_count": 20,
   "metadata": {},
   "outputs": [
    {
     "name": "stdout",
     "output_type": "stream",
     "text": [
      "nclx1 = 2\n",
      "nclxn = 2\n",
      "   nx = 121\n",
      "  xlx = 1.2\n",
      "   dx = 0.01\n"
     ]
    }
   ],
   "source": [
    "prm.nclxn = 2\n",
    "\n",
    "show_param()"
   ]
  },
  {
   "cell_type": "markdown",
   "metadata": {},
   "source": [
    "This time, free-slip:"
   ]
  },
  {
   "cell_type": "code",
   "execution_count": 21,
   "metadata": {},
   "outputs": [
    {
     "name": "stdout",
     "output_type": "stream",
     "text": [
      "nclx1 = 2\n",
      "nclxn = 1\n",
      "   nx = 121\n",
      "  xlx = 1.2\n",
      "   dx = 0.01\n"
     ]
    }
   ],
   "source": [
    "prm.nclxn = 1\n",
    "\n",
    "show_param()"
   ]
  },
  {
   "cell_type": "markdown",
   "metadata": {},
   "source": [
    "There was no need to update `nclx1`, because `1` and `2` can be freely combined. Notice that `nx` was modified properly from 121 to 120 and then back, according to the possible values, `dx` and `xlx` stayed untouched."
   ]
  },
  {
   "cell_type": "markdown",
   "metadata": {},
   "source": [
    "### Metadata"
   ]
  },
  {
   "cell_type": "markdown",
   "metadata": {},
   "source": [
    "Traitlets types constructors have a `tag` method to store metadata in a dictionary. In the case of Xcompact3d-toolbox, two are especially useful:\n",
    "\n",
    "* `group` defines to what namespace a given parameter belongs when the class is written to `.i3d` file (`.write()` method) or read from `.i3d` or `.prm` files (`.load()` method), parameters without a group are ignored for both methods;\n",
    "* `desc` contains a brief description of each parameter that is shown on screen as we saw above, and also printed with the `.write()` method."
   ]
  },
  {
   "cell_type": "markdown",
   "metadata": {},
   "source": [
    "### Declaring new parameters"
   ]
  },
  {
   "cell_type": "markdown",
   "metadata": {},
   "source": [
    "You probably would like to add more parameters for your own flow configuration, or because some of them were not implemented yet (it is a work in progress).\n",
    "\n",
    "To do so, any auxiliar varible can be included after initialization, like:"
   ]
  },
  {
   "cell_type": "code",
   "execution_count": 22,
   "metadata": {},
   "outputs": [],
   "source": [
    "prm.my_variable = 0  # or any other datatype"
   ]
  },
  {
   "cell_type": "markdown",
   "metadata": {},
   "source": [
    "It was called auxiliar variable because, in this way, it will be available only for the Python aplication.\n",
    "\n",
    "In order to include it at the `.i3d` file and make it available for XCompact3d, we can create a subclass that inherits all the functionality from `xcompact3d_toolbox.Parameters`:"
   ]
  },
  {
   "cell_type": "code",
   "execution_count": 23,
   "metadata": {},
   "outputs": [
    {
     "name": "stdout",
     "output_type": "stream",
     "text": [
      "20\n",
      "! -*- mode: f90 -*-\n",
      "\n",
      "!===================\n",
      "&BasicParam\n",
      "!===================\n",
      "\n",
      "       C_filter = 0.49            ! \n",
      "  a_my_variable = 10              ! An example at the Tutorial <------\n",
      "           beta = 1.0             ! Refinement parameter\n",
      "             dt = 0.001           ! Time step\n",
      "          gravx = 0.0             ! Gravity unitary vector in x-direction\n",
      "          gravy = 0.0             ! Gravity unitary vector in y-direction\n",
      "          gravz = 0.0             ! Gravity unitary vector in z-direction\n",
      "        ifilter = 0               ! \n",
      "         ifirst = 0               ! The number for the first iteration\n",
      "           iibm = 0               ! Flag for immersed boundary method (0: No, 1: Yes)\n",
      "            iin = 0               ! Defines perturbation at initial condition\n",
      "          ilast = 0               ! The number for the last iteration\n",
      "        ilesmod = 0               ! Enables Large-Eddy methodologies (0: No, 1: Yes)\n",
      "           ilmn = .false.         ! \n",
      "   inflow_noise = 0.0             ! Turbulence intensity (1=100%) !! Inflow condition\n",
      "     init_noise = 0.0             ! Turbulence intensity (1=100%) !! Initial condition\n",
      "          ipost = 0               ! Enables online postprocessing at a frequency iprocessing (0: No, 1: Yes)\n",
      "        iscalar = 0               ! \n",
      "         istret = 0               ! y mesh refinement (0:no, 1:center, 2:both sides, 3:bottom)\n",
      "       iturbine = 0               ! \n",
      "          itype = 12              ! Flow configuration (1:Lock-exchange, 2:TGV, 3:Channel, and others)\n",
      "          ivisu = 1               ! Enable store snapshots at a frequency ioutput (0: No, 1: Yes)\n",
      "          nclx1 = 2               ! Velocity boundary condition where x=0\n",
      "          nclxn = 2               ! Velocity boundary condition where x=xlx\n",
      "          ncly1 = 2               ! Velocity boundary condition where y=0\n",
      "          nclyn = 2               ! Velocity boundary condition where y=yly\n",
      "          nclz1 = 2               ! Velocity boundary condition where z=0\n",
      "          nclzn = 2               ! Velocity boundary condition where z=zlz\n",
      "      numscalar = 0               ! Number of scalar fractions\n",
      "             nx = 257             ! X-direction nodes\n",
      "             ny = 129             ! Y-direction nodes\n",
      "             nz = 31              ! Z-direction nodes\n",
      "          p_col = 0               ! Column partition for domain decomposition and parallel computation\n",
      "          p_row = 0               ! Row partition for domain decomposition and parallel computation\n",
      "             re = 1000.0          ! Reynolds number\n",
      "             u1 = 2.0             ! \n",
      "             u2 = 1.0             ! \n",
      "            xlx = 1.0             ! Size of the box in x-direction\n",
      "            yly = 1.0             ! Size of the box in y-direction\n",
      "            zlz = 1.0             ! Size of the box in z-direction\n",
      "\n",
      "/End\n",
      "\n",
      "!===================\n",
      "&NumOptions\n",
      "!===================\n",
      "\n",
      "            cnu = 0.44            ! Ratio between hyperviscosity at km=2/3π and kc=π (dissipation factor range)\n",
      "      ifirstder = 4               ! \n",
      "      iimplicit = 0               ! \n",
      "     isecondder = 4               ! Scheme for first order derivative\n",
      "    itimescheme = 3               ! Time integration scheme (1: Euler, 2: AB2, 3: AB3, 5: RK3)\n",
      "          nu0nu = 4.0             ! Ratio between hyperviscosity/viscosity at nu (dissipation factor intensity)\n",
      "\n",
      "/End\n",
      "\n",
      "!===================\n",
      "&InOutParam\n",
      "!===================\n",
      "\n",
      "    icheckpoint = 1000            ! Frequency for writing backup file\n",
      "       ioutflow = 0               ! \n",
      "        ioutput = 1000            ! Frequency for visualization file\n",
      "    iprocessing = 1000            ! Frequency for online postprocessing\n",
      "       irestart = 0               ! Read initial flow field (0: No, 1: Yes)\n",
      "       ninflows = 1               ! \n",
      "        nprobes = 0               ! \n",
      "     ntimesteps = 1               ! \n",
      "          nvisu = 1               ! Size for visualization collection\n",
      "       output2D = 0               ! \n",
      "\n",
      "/End\n",
      "\n",
      "!===================\n",
      "&Statistics\n",
      "!===================\n",
      "\n",
      "\n",
      "/End\n",
      "\n",
      "!===================\n",
      "&CASE\n",
      "!===================\n",
      "\n",
      "\n",
      "/End\n",
      "\n"
     ]
    }
   ],
   "source": [
    "import traitlets\n",
    "\n",
    "\n",
    "# Create a class named my_Parameters, which inherits the properties all properties and methods\n",
    "class my_Parameters(x3d.Parameters):\n",
    "    # .tag with group and description guarantees that the new variable will\n",
    "    # be compatible with all functionalities (like .write() and .load())\n",
    "    a_my_variable = traitlets.Int(default_value=0, min=0).tag(\n",
    "        group=\"BasicParam\", desc=\"An example at the Tutorial <------\"\n",
    "    )\n",
    "\n",
    "    # And a custom method, for instance\n",
    "    def my_method(self):\n",
    "        return self.a_my_variable * 2\n",
    "\n",
    "\n",
    "prm = my_Parameters(nx=257, ny=129, nz=31, a_my_variable=10)  # and here we go\n",
    "\n",
    "# Testing the method\n",
    "print(prm.my_method())\n",
    "\n",
    "# Show all parameters on screen\n",
    "print(prm)"
   ]
  },
  {
   "cell_type": "markdown",
   "metadata": {},
   "source": [
    "Take a look at the source code of [parameters.py](https://github.com/fschuch/xcompact3d_toolbox/blob/master/xcompact3d_toolbox/param.py) if you need more examples for different datatypes."
   ]
  },
  {
   "cell_type": "markdown",
   "metadata": {},
   "source": [
    "## Graphical User Interface"
   ]
  },
  {
   "cell_type": "markdown",
   "metadata": {},
   "source": [
    "<div class=\"alert alert-info\">\n",
    "\n",
    "For an interactive experience [launch this tutorial on Binder](https://mybinder.org/v2/gh/fschuch/xcompact3d_toolbox/master?urlpath=lab/tree/docs/tutorial), the widgets are not so responsive when disconnected from a Python application.\n",
    "\n",
    "</div>"
   ]
  },
  {
   "cell_type": "markdown",
   "metadata": {},
   "source": [
    "To conclude this part of the tutorial, let's see another option to handle the parameters. The class `ParametersGui` is a subclass of `Parameters`, and includes all the features described above. In addition, `ParametersGui` offers an user interface with [IPywidgets](https://ipywidgets.readthedocs.io/en/stable/index.html).\n",
    "\n",
    "It is still under development, more parameters and features are going to be included soon, as well as more widgets.\n",
    "\n",
    "Just like before, we start with:"
   ]
  },
  {
   "cell_type": "code",
   "execution_count": 24,
   "metadata": {},
   "outputs": [],
   "source": [
    "prm = x3d.ParametersGui()"
   ]
  },
  {
   "cell_type": "markdown",
   "metadata": {},
   "source": [
    "Widgets are returned on demand when any instance of `class ParametersGui` is called, let’s see:"
   ]
  },
  {
   "cell_type": "code",
   "execution_count": 25,
   "metadata": {},
   "outputs": [
    {
     "data": {
      "application/vnd.jupyter.widget-view+json": {
       "model_id": "651f7e2d68374818aba4c6c5628f17b0",
       "version_major": 2,
       "version_minor": 0
      },
      "text/plain": [
       "VBox(children=(Dropdown(description='nx', description_tooltip='X-direction nodes', index=3, options=(9, 11, 13…"
      ]
     },
     "metadata": {},
     "output_type": "display_data"
    }
   ],
   "source": [
    "prm(\"nx\", \"xlx\", \"dx\", \"nclx1\", \"nclxn\")"
   ]
  },
  {
   "cell_type": "markdown",
   "metadata": {},
   "source": [
    "You can play around with the widgets above and see the effect of the observations made previously.\n",
    "\n",
    "Notice that the [Traitlets](https://traitlets.readthedocs.io/en/stable/index.html) parameters are related to the value at their widgets in a **two-way link**, in this way, a print will show the actual value on the widgets:"
   ]
  },
  {
   "cell_type": "code",
   "execution_count": 26,
   "metadata": {},
   "outputs": [
    {
     "name": "stdout",
     "output_type": "stream",
     "text": [
      "nclx1 = 2\n",
      "nclxn = 2\n",
      "   nx = 17\n",
      "  xlx = 1.0\n",
      "   dx = 0.0625\n"
     ]
    }
   ],
   "source": [
    "show_param()"
   ]
  },
  {
   "cell_type": "markdown",
   "metadata": {},
   "source": [
    "Give it a try, modify the values at the widgets and print them again.\n",
    "\n",
    "It also works on the other way, set a new value to a parameters will change its widget, try it:"
   ]
  },
  {
   "cell_type": "code",
   "execution_count": 27,
   "metadata": {},
   "outputs": [],
   "source": [
    "#prm.nclx1 = 0"
   ]
  },
  {
   "cell_type": "markdown",
   "metadata": {},
   "source": [
    "And of course, different widgets for the same parameter are always synchronized, change the widget below and see what happens with the widget above:"
   ]
  },
  {
   "cell_type": "code",
   "execution_count": 28,
   "metadata": {},
   "outputs": [
    {
     "data": {
      "application/vnd.jupyter.widget-view+json": {
       "model_id": "f43394508a1f44ccb7dea00c22efb872",
       "version_major": 2,
       "version_minor": 0
      },
      "text/plain": [
       "VBox(children=(Dropdown(description='nx', description_tooltip='X-direction nodes', index=3, options=(9, 11, 13…"
      ]
     },
     "metadata": {},
     "output_type": "display_data"
    }
   ],
   "source": [
    "prm('nx')"
   ]
  },
  {
   "cell_type": "markdown",
   "metadata": {},
   "source": [
    "A last example is about the domain decomposition for parallel computation, Xcompact3d uses [2DECOMP&FFT](http://www.2decomp.org/).\n",
    "The available options for `p_row` and `p_col` are presented as functions of the number of computational cores `ncores`, notice that `p_row * p_col = ncores` should be respected and `p_row * p_col = 0` activates the auto-tunning mode. The widgets are prepared to respect these restrictions:"
   ]
  },
  {
   "cell_type": "code",
   "execution_count": 29,
   "metadata": {},
   "outputs": [
    {
     "data": {
      "application/vnd.jupyter.widget-view+json": {
       "model_id": "b1c627ff951942388cb37ea494613dd3",
       "version_major": 2,
       "version_minor": 0
      },
      "text/plain": [
       "VBox(children=(BoundedIntText(value=4, description='ncores', max=1000000000), Dropdown(description='p_row', de…"
      ]
     },
     "metadata": {},
     "output_type": "display_data"
    }
   ],
   "source": [
    "prm('ncores', 'p_row', 'p_col')"
   ]
  },
  {
   "cell_type": "markdown",
   "metadata": {},
   "source": [
    "To conclude this part of the tutorial, let’s see what happens when `class ParametersGui` is presented on screen, hover the mouse over some variable to see its description:"
   ]
  },
  {
   "cell_type": "code",
   "execution_count": 30,
   "metadata": {},
   "outputs": [
    {
     "data": {
      "application/vnd.jupyter.widget-view+json": {
       "model_id": "96826f12c47d40f8b7335e5d8ef746de",
       "version_major": 2,
       "version_minor": 0
      },
      "text/plain": [
       "VBox(children=(HTML(value='<h1>Xcompact3d Parameters</h1>'), HBox(children=(Text(value='input.i3d', descriptio…"
      ]
     },
     "metadata": {},
     "output_type": "display_data"
    }
   ],
   "source": [
    "prm"
   ]
  }
 ],
 "metadata": {
  "kernelspec": {
   "display_name": "Python 3 (ipykernel)",
   "language": "python",
   "name": "python3"
  },
  "language_info": {
   "codemirror_mode": {
    "name": "ipython",
    "version": 3
   },
   "file_extension": ".py",
   "mimetype": "text/x-python",
   "name": "python",
   "nbconvert_exporter": "python",
   "pygments_lexer": "ipython3",
   "version": "3.9.5"
  },
  "widgets": {
   "application/vnd.jupyter.widget-state+json": {
    "state": {
     "0071e99adf0b48d7b3161631aa8c96aa": {
      "model_module": "@jupyter-widgets/base",
      "model_module_version": "1.2.0",
      "model_name": "LayoutModel",
      "state": {}
     },
     "00e0a07a05434924bdffd66eb14d7b09": {
      "model_module": "@jupyter-widgets/base",
      "model_module_version": "1.2.0",
      "model_name": "LayoutModel",
      "state": {}
     },
     "02fe965e9965463bae23d640c102e829": {
      "model_module": "@jupyter-widgets/base",
      "model_module_version": "1.2.0",
      "model_name": "LayoutModel",
      "state": {}
     },
     "0372962161ef4b638f692c07f7ed7c34": {
      "model_module": "@jupyter-widgets/base",
      "model_module_version": "1.2.0",
      "model_name": "LayoutModel",
      "state": {}
     },
     "04d06ff643d04f27a4f5dd809690a666": {
      "model_module": "@jupyter-widgets/controls",
      "model_module_version": "1.5.0",
      "model_name": "DropdownModel",
      "state": {
       "_options_labels": [
        "Periodic",
        "No-flux",
        "Dirichlet"
       ],
       "description": "nclySn",
       "description_tooltip": "Scalar boundary condition where y=yly",
       "index": 2,
       "layout": "IPY_MODEL_2529b805a57e47fd97974dbe3f01520c",
       "style": "IPY_MODEL_35a5e43f7fda495ba4bdc6898d25e880"
      }
     },
     "0593336e005a404ab629d017614e3873": {
      "model_module": "@jupyter-widgets/controls",
      "model_module_version": "1.5.0",
      "model_name": "HBoxModel",
      "state": {
       "children": [
        "IPY_MODEL_0c9af0e3b0714a7cae5bd78917eee961",
        "IPY_MODEL_0c07a7c98498453182d2c10228391594",
        "IPY_MODEL_4bb132fcb4c24b4b845ef8e7e5c5a7b6"
       ],
       "layout": "IPY_MODEL_bce2679fbc4e4fe0a0f6822d61802c07"
      }
     },
     "0898c36ecb8446de909e1850c4bc7cc5": {
      "model_module": "@jupyter-widgets/base",
      "model_module_version": "1.2.0",
      "model_name": "LayoutModel",
      "state": {}
     },
     "090c2027e2b64985ba7f87e695bac837": {
      "model_module": "@jupyter-widgets/controls",
      "model_module_version": "1.5.0",
      "model_name": "DropdownModel",
      "state": {
       "_options_labels": [
        "Periodic",
        "No-flux",
        "Dirichlet"
       ],
       "description": "nclzS1",
       "description_tooltip": "Scalar boundary condition where z=0",
       "index": 2,
       "layout": "IPY_MODEL_e4e4cee167ff4f6ab16fbcfb831e52eb",
       "style": "IPY_MODEL_d340ed601724428185fdb3299b4f62e2"
      }
     },
     "0a61cf713f264a399a7e2139909c4b44": {
      "model_module": "@jupyter-widgets/controls",
      "model_module_version": "1.5.0",
      "model_name": "DropdownModel",
      "state": {
       "_options_labels": [
        "9",
        "11",
        "13",
        "17",
        "19",
        "21",
        "25",
        "31",
        "33",
        "37",
        "41",
        "49",
        "51",
        "55",
        "61",
        "65",
        "73",
        "81",
        "91",
        "97",
        "101",
        "109",
        "121",
        "129",
        "145",
        "151",
        "161",
        "163",
        "181",
        "193",
        "201",
        "217",
        "241",
        "251",
        "257",
        "271",
        "289",
        "301",
        "321",
        "325",
        "361",
        "385",
        "401",
        "433",
        "451",
        "481",
        "487",
        "501",
        "513",
        "541",
        "577",
        "601",
        "641",
        "649",
        "721",
        "751",
        "769",
        "801",
        "811",
        "865",
        "901",
        "961",
        "973",
        "1001",
        "1025",
        "1081",
        "1153",
        "1201",
        "1251",
        "1281",
        "1297",
        "1351",
        "1441",
        "1459",
        "1501",
        "1537",
        "1601",
        "1621",
        "1729",
        "1801",
        "1921",
        "1945",
        "2001",
        "2049",
        "2161",
        "2251",
        "2305",
        "2401",
        "2431",
        "2501",
        "2561",
        "2593",
        "2701",
        "2881",
        "2917",
        "3001",
        "3073",
        "3201",
        "3241",
        "3457",
        "3601",
        "3751",
        "3841",
        "3889",
        "4001",
        "4051",
        "4097",
        "4321",
        "4375",
        "4501",
        "4609",
        "4801",
        "4861",
        "5001",
        "5121",
        "5185",
        "5401",
        "5761",
        "5833",
        "6001",
        "6145",
        "6251",
        "6401",
        "6481",
        "6751",
        "6913",
        "7201",
        "7291",
        "7501",
        "7681",
        "7777",
        "8001",
        "8101",
        "8193",
        "8641",
        "8749",
        "9001"
       ],
       "description": "ny",
       "description_tooltip": "Y-direction nodes",
       "index": 3,
       "layout": "IPY_MODEL_2967434f2c8b49d799afa1b084aa8fbd",
       "style": "IPY_MODEL_7772fc5935cd41f5949b6e0bc6d5534c"
      }
     },
     "0abc9eac7b2545899cf4e42326aa6cfb": {
      "model_module": "@jupyter-widgets/controls",
      "model_module_version": "1.5.0",
      "model_name": "DropdownModel",
      "state": {
       "_options_labels": [
        "Off",
        "On"
       ],
       "description": "irestart",
       "description_tooltip": "Read initial flow field (0: No, 1: Yes)",
       "index": 0,
       "layout": "IPY_MODEL_585eb7febba74a4bbacb9f79ca02b4ea",
       "style": "IPY_MODEL_e3531cee062047a49f52455e76711e4d"
      }
     },
     "0b880f94a38e4630b5d0bf1634777872": {
      "model_module": "@jupyter-widgets/controls",
      "model_module_version": "1.5.0",
      "model_name": "BoundedFloatTextModel",
      "state": {
       "description": "zlz",
       "description_tooltip": "Size of the box in z-direction",
       "layout": "IPY_MODEL_0898c36ecb8446de909e1850c4bc7cc5",
       "max": 1000000000,
       "step": null,
       "style": "IPY_MODEL_9c4aa5bfc51b4f8b94bf8fc674af6e58",
       "value": 1
      }
     },
     "0c07a7c98498453182d2c10228391594": {
      "model_module": "@jupyter-widgets/controls",
      "model_module_version": "1.5.0",
      "model_name": "DropdownModel",
      "state": {
       "_options_labels": [
        "Periodic",
        "Free-slip",
        "No-slip"
       ],
       "description": "ncly1",
       "description_tooltip": "Velocity boundary condition where y=0",
       "index": 2,
       "layout": "IPY_MODEL_af38c8dd96cc4b1c856cf6ee68df25c0",
       "style": "IPY_MODEL_17a9272201a946df8cf1292b4fe5f663"
      }
     },
     "0c9af0e3b0714a7cae5bd78917eee961": {
      "model_module": "@jupyter-widgets/controls",
      "model_module_version": "1.5.0",
      "model_name": "DropdownModel",
      "state": {
       "_options_labels": [
        "Periodic",
        "Free-slip",
        "Inflow"
       ],
       "description": "nclx1",
       "description_tooltip": "Velocity boundary condition where x=0",
       "index": 2,
       "layout": "IPY_MODEL_6b5f11e7bf044a6ca031076f7ed518cf",
       "style": "IPY_MODEL_2d1889de4afe43e4be70a71e26057186"
      }
     },
     "0d687d6da5254e84b225d2e7c2194543": {
      "model_module": "@jupyter-widgets/base",
      "model_module_version": "1.2.0",
      "model_name": "LayoutModel",
      "state": {}
     },
     "0dee7eb512f944b0b831a396158f1c61": {
      "model_module": "@jupyter-widgets/controls",
      "model_module_version": "1.5.0",
      "model_name": "HBoxModel",
      "state": {
       "children": [
        "IPY_MODEL_aef034beb2ea459796883ca682ec7757",
        "IPY_MODEL_b441e8f5a6944fe7aa978fd85a6e3bf9",
        "IPY_MODEL_b1d7d6a6b7944b72aa0cbe8251596849"
       ],
       "layout": "IPY_MODEL_e494d2467f3e4cb69f0b4f367e46bc0f"
      }
     },
     "1085c867c0bf4ab3a303b32bc7e72576": {
      "model_module": "@jupyter-widgets/controls",
      "model_module_version": "1.5.0",
      "model_name": "DescriptionStyleModel",
      "state": {
       "description_width": ""
      }
     },
     "13fc5daf51cf4c7ab8a68d89ca8e73c9": {
      "model_module": "@jupyter-widgets/base",
      "model_module_version": "1.2.0",
      "model_name": "LayoutModel",
      "state": {}
     },
     "158c284a2fe243d2a170340831e9e374": {
      "model_module": "@jupyter-widgets/controls",
      "model_module_version": "1.5.0",
      "model_name": "DescriptionStyleModel",
      "state": {
       "description_width": ""
      }
     },
     "16b0925ebd3d4f63b8bb72626d7de158": {
      "model_module": "@jupyter-widgets/controls",
      "model_module_version": "1.5.0",
      "model_name": "DescriptionStyleModel",
      "state": {
       "description_width": ""
      }
     },
     "16cef30e78e54861ac89724b35e4b920": {
      "model_module": "@jupyter-widgets/controls",
      "model_module_version": "1.5.0",
      "model_name": "HBoxModel",
      "state": {
       "children": [
        "IPY_MODEL_c336d183b42247da89882a62dbefb35d",
        "IPY_MODEL_18be7e22592c4eb0b5632bf5ca46d16d",
        "IPY_MODEL_090c2027e2b64985ba7f87e695bac837"
       ],
       "layout": "IPY_MODEL_399ae0b6264449699ddfdad876d0bfb8"
      }
     },
     "17a9272201a946df8cf1292b4fe5f663": {
      "model_module": "@jupyter-widgets/controls",
      "model_module_version": "1.5.0",
      "model_name": "DescriptionStyleModel",
      "state": {
       "description_width": ""
      }
     },
     "18be7e22592c4eb0b5632bf5ca46d16d": {
      "model_module": "@jupyter-widgets/controls",
      "model_module_version": "1.5.0",
      "model_name": "DropdownModel",
      "state": {
       "_options_labels": [
        "Periodic",
        "No-flux",
        "Dirichlet"
       ],
       "description": "nclyS1",
       "description_tooltip": "Scalar boundary condition where y=0",
       "index": 2,
       "layout": "IPY_MODEL_97040dfdcad947edada7c1097d05fc01",
       "style": "IPY_MODEL_7c86b2fa397c4016a4cf2525fb786370"
      }
     },
     "19f5c9c9ea3447cfa180ad31e05fcf7b": {
      "model_module": "@jupyter-widgets/controls",
      "model_module_version": "1.5.0",
      "model_name": "ButtonStyleModel",
      "state": {}
     },
     "1aea7d59b02e4aba8295e85b7a3e5f45": {
      "model_module": "@jupyter-widgets/controls",
      "model_module_version": "1.5.0",
      "model_name": "DropdownModel",
      "state": {
       "_options_labels": [
        "Periodic",
        "Free-slip",
        "No-slip"
       ],
       "description": "nclyn",
       "description_tooltip": "Velocity boundary condition where y=yly",
       "index": 2,
       "layout": "IPY_MODEL_e5a71f8816574f64a28a516117d2025c",
       "style": "IPY_MODEL_52385ccd29424dbc89c15791f7a7e4c8"
      }
     },
     "1ba5dfe7109d4c899db6f440050afc35": {
      "model_module": "@jupyter-widgets/base",
      "model_module_version": "1.2.0",
      "model_name": "LayoutModel",
      "state": {}
     },
     "1bdd72f4f2fa4cbba34458de7cd267fb": {
      "model_module": "@jupyter-widgets/base",
      "model_module_version": "1.2.0",
      "model_name": "LayoutModel",
      "state": {}
     },
     "2000bc5afd3942be814c269220f7988a": {
      "model_module": "@jupyter-widgets/controls",
      "model_module_version": "1.5.0",
      "model_name": "HTMLModel",
      "state": {
       "layout": "IPY_MODEL_e615dadd41df4fecad4d3da64d80591f",
       "style": "IPY_MODEL_f874ab17bdf24dae937b8d0ed92d6559",
       "value": "<strong>cp, us, sc, ri, scalar_lbound & scalar_ubound</strong> are lists with length numscalar, set them properly on the code."
      }
     },
     "209ff9091c024872b7e33af7ba16c160": {
      "model_module": "@jupyter-widgets/controls",
      "model_module_version": "1.5.0",
      "model_name": "DropdownModel",
      "state": {
       "_options_labels": [
        "No refinement",
        "Refinement at the center",
        "Both sides",
        "Just near the bottom"
       ],
       "description": "istret",
       "description_tooltip": "y mesh refinement (0:no, 1:center, 2:both sides, 3:bottom)",
       "index": 0,
       "layout": "IPY_MODEL_7e32404a9ab749089abf0ad746a8207e",
       "style": "IPY_MODEL_e267ac6886724def9307f0aeb340c0a4"
      }
     },
     "20a1a0b86cb349709e3629e0a9530ebe": {
      "model_module": "@jupyter-widgets/controls",
      "model_module_version": "1.5.0",
      "model_name": "HTMLModel",
      "state": {
       "layout": "IPY_MODEL_6d4bcf36546e4ce8a08bf4240cf6d3e9",
       "style": "IPY_MODEL_305b39ef0fb043518f0576814cee9ed1",
       "value": "<h3>Temporal discretization</h3>"
      }
     },
     "230c6a7ca88d41a18f4c09f1465193ca": {
      "model_module": "@jupyter-widgets/base",
      "model_module_version": "1.2.0",
      "model_name": "LayoutModel",
      "state": {}
     },
     "251fcf309c4d44f4bf14251ccc18ae9e": {
      "model_module": "@jupyter-widgets/controls",
      "model_module_version": "1.5.0",
      "model_name": "DescriptionStyleModel",
      "state": {
       "description_width": ""
      }
     },
     "2529b805a57e47fd97974dbe3f01520c": {
      "model_module": "@jupyter-widgets/base",
      "model_module_version": "1.2.0",
      "model_name": "LayoutModel",
      "state": {}
     },
     "258701c92db24cda940647bc32ab7524": {
      "model_module": "@jupyter-widgets/base",
      "model_module_version": "1.2.0",
      "model_name": "LayoutModel",
      "state": {}
     },
     "25df5397810a4e9998b49d500d2e55a4": {
      "model_module": "@jupyter-widgets/controls",
      "model_module_version": "1.5.0",
      "model_name": "ButtonModel",
      "state": {
       "description": "Read",
       "disabled": true,
       "icon": "file-upload",
       "layout": "IPY_MODEL_ea86dcf80291468f901c5bcf3e8b973b",
       "style": "IPY_MODEL_6d562f5c79d6432aa447fb3c59e51106"
      }
     },
     "26b4d1e7e75346a992d857284d473180": {
      "model_module": "@jupyter-widgets/controls",
      "model_module_version": "1.5.0",
      "model_name": "HBoxModel",
      "state": {
       "children": [
        "IPY_MODEL_4f3fbcda4e2341bda839fc2692b8c5f9",
        "IPY_MODEL_772380125aba4dc29259da2feae15ae0"
       ],
       "layout": "IPY_MODEL_ddf13408f5cc403484223f1560f7b230"
      }
     },
     "271c08ed0f48439dba0327f63fecb0e4": {
      "model_module": "@jupyter-widgets/controls",
      "model_module_version": "1.5.0",
      "model_name": "DescriptionStyleModel",
      "state": {
       "description_width": ""
      }
     },
     "272a1450b84f4ed8bc18c753073ba78c": {
      "model_module": "@jupyter-widgets/controls",
      "model_module_version": "1.5.0",
      "model_name": "ButtonStyleModel",
      "state": {}
     },
     "27760b9486714b07bc5b2d15caa080a9": {
      "model_module": "@jupyter-widgets/controls",
      "model_module_version": "1.5.0",
      "model_name": "DescriptionStyleModel",
      "state": {
       "description_width": ""
      }
     },
     "2967434f2c8b49d799afa1b084aa8fbd": {
      "model_module": "@jupyter-widgets/base",
      "model_module_version": "1.2.0",
      "model_name": "LayoutModel",
      "state": {}
     },
     "2991433678a1438d9843d4a4101b17b7": {
      "model_module": "@jupyter-widgets/base",
      "model_module_version": "1.2.0",
      "model_name": "LayoutModel",
      "state": {}
     },
     "2b6de7f735d8491899022d9a123b0776": {
      "model_module": "@jupyter-widgets/base",
      "model_module_version": "1.2.0",
      "model_name": "LayoutModel",
      "state": {}
     },
     "2bc77716403044169f239937506f1883": {
      "model_module": "@jupyter-widgets/base",
      "model_module_version": "1.2.0",
      "model_name": "LayoutModel",
      "state": {}
     },
     "2c6a5774b08e4aeaada6b9d3ab01efd6": {
      "model_module": "@jupyter-widgets/controls",
      "model_module_version": "1.5.0",
      "model_name": "DescriptionStyleModel",
      "state": {
       "description_width": ""
      }
     },
     "2c6fef2f931c46cfb6b40fe04c05e30b": {
      "model_module": "@jupyter-widgets/controls",
      "model_module_version": "1.5.0",
      "model_name": "DescriptionStyleModel",
      "state": {
       "description_width": ""
      }
     },
     "2c9511e5ee4a48d9b51f73ad567413e2": {
      "model_module": "@jupyter-widgets/base",
      "model_module_version": "1.2.0",
      "model_name": "LayoutModel",
      "state": {}
     },
     "2ca57dc5aa5541bfb0931d59d57db54b": {
      "model_module": "@jupyter-widgets/controls",
      "model_module_version": "1.5.0",
      "model_name": "HTMLModel",
      "state": {
       "layout": "IPY_MODEL_cb3e4715b9ff41b69335872cc8bbed55",
       "style": "IPY_MODEL_e30c8158c893466abcbaeabe4551439d",
       "value": "<h3>Domain Decomposition</h3>"
      }
     },
     "2cd01d0a24a04dcc95c557ad134ae31c": {
      "model_module": "@jupyter-widgets/controls",
      "model_module_version": "1.5.0",
      "model_name": "IntSliderModel",
      "state": {
       "continuous_update": false,
       "description": "numscalar",
       "description_tooltip": "Number of scalar fractions",
       "layout": "IPY_MODEL_742b4687f8314290b400ed58a7f2b912",
       "max": 9,
       "style": "IPY_MODEL_60b769d1ca694247978e4ffab004e9d7"
      }
     },
     "2cf7c99bc2be42b5841a46b135ef9e05": {
      "model_module": "@jupyter-widgets/controls",
      "model_module_version": "1.5.0",
      "model_name": "DescriptionStyleModel",
      "state": {
       "description_width": ""
      }
     },
     "2d1889de4afe43e4be70a71e26057186": {
      "model_module": "@jupyter-widgets/controls",
      "model_module_version": "1.5.0",
      "model_name": "DescriptionStyleModel",
      "state": {
       "description_width": ""
      }
     },
     "2ecafbb8b6c4489a8fe7efc5dd82cc74": {
      "model_module": "@jupyter-widgets/controls",
      "model_module_version": "1.5.0",
      "model_name": "HBoxModel",
      "state": {
       "children": [
        "IPY_MODEL_30b8fe5419364e30a18475080e9f2364",
        "IPY_MODEL_25df5397810a4e9998b49d500d2e55a4",
        "IPY_MODEL_df492ebd3c4942258a5f493cc611133b",
        "IPY_MODEL_d2b7c6b2fd06476ca4b866de014d9710",
        "IPY_MODEL_8497b88adcf14542aec8e95115995bbf"
       ],
       "layout": "IPY_MODEL_a16a0d7cb5794380b4b9b44c1b748bbf"
      }
     },
     "2ee6bb98f5b245829124e2dd55a92903": {
      "model_module": "@jupyter-widgets/controls",
      "model_module_version": "1.5.0",
      "model_name": "BoundedFloatTextModel",
      "state": {
       "description": "dz",
       "layout": "IPY_MODEL_95848d1aef714d88a7d656b7cb7ee84e",
       "max": 1000000,
       "step": null,
       "style": "IPY_MODEL_4d8a917ff4ed45ab914ad2c683b8e3e8",
       "value": 0.0625
      }
     },
     "305b39ef0fb043518f0576814cee9ed1": {
      "model_module": "@jupyter-widgets/controls",
      "model_module_version": "1.5.0",
      "model_name": "DescriptionStyleModel",
      "state": {
       "description_width": ""
      }
     },
     "30b8fe5419364e30a18475080e9f2364": {
      "model_module": "@jupyter-widgets/controls",
      "model_module_version": "1.5.0",
      "model_name": "TextModel",
      "state": {
       "description": "filename",
       "layout": "IPY_MODEL_ac747a3a17ba4455b1e2b69daa317ba8",
       "style": "IPY_MODEL_5da43730d20b444890daf5af29ede796",
       "value": "input.i3d"
      }
     },
     "31e87aaf7fe64595adc7506a5ff8f5cf": {
      "model_module": "@jupyter-widgets/controls",
      "model_module_version": "1.5.0",
      "model_name": "HBoxModel",
      "state": {
       "children": [
        "IPY_MODEL_d427278593c84df0bf942d6b0d5c2944",
        "IPY_MODEL_0a61cf713f264a399a7e2139909c4b44",
        "IPY_MODEL_33fb4a06bc7f4749a302cb608c44f9ea"
       ],
       "layout": "IPY_MODEL_c1f897f466894cbe9a521138c5d52f31"
      }
     },
     "320f187077d34c26bef883ab0c528f89": {
      "model_module": "@jupyter-widgets/base",
      "model_module_version": "1.2.0",
      "model_name": "LayoutModel",
      "state": {}
     },
     "33e9b73309624500a81e8b4b8e6e7f8c": {
      "model_module": "@jupyter-widgets/base",
      "model_module_version": "1.2.0",
      "model_name": "LayoutModel",
      "state": {}
     },
     "33fb4a06bc7f4749a302cb608c44f9ea": {
      "model_module": "@jupyter-widgets/controls",
      "model_module_version": "1.5.0",
      "model_name": "DropdownModel",
      "state": {
       "_options_labels": [
        "9",
        "11",
        "13",
        "17",
        "19",
        "21",
        "25",
        "31",
        "33",
        "37",
        "41",
        "49",
        "51",
        "55",
        "61",
        "65",
        "73",
        "81",
        "91",
        "97",
        "101",
        "109",
        "121",
        "129",
        "145",
        "151",
        "161",
        "163",
        "181",
        "193",
        "201",
        "217",
        "241",
        "251",
        "257",
        "271",
        "289",
        "301",
        "321",
        "325",
        "361",
        "385",
        "401",
        "433",
        "451",
        "481",
        "487",
        "501",
        "513",
        "541",
        "577",
        "601",
        "641",
        "649",
        "721",
        "751",
        "769",
        "801",
        "811",
        "865",
        "901",
        "961",
        "973",
        "1001",
        "1025",
        "1081",
        "1153",
        "1201",
        "1251",
        "1281",
        "1297",
        "1351",
        "1441",
        "1459",
        "1501",
        "1537",
        "1601",
        "1621",
        "1729",
        "1801",
        "1921",
        "1945",
        "2001",
        "2049",
        "2161",
        "2251",
        "2305",
        "2401",
        "2431",
        "2501",
        "2561",
        "2593",
        "2701",
        "2881",
        "2917",
        "3001",
        "3073",
        "3201",
        "3241",
        "3457",
        "3601",
        "3751",
        "3841",
        "3889",
        "4001",
        "4051",
        "4097",
        "4321",
        "4375",
        "4501",
        "4609",
        "4801",
        "4861",
        "5001",
        "5121",
        "5185",
        "5401",
        "5761",
        "5833",
        "6001",
        "6145",
        "6251",
        "6401",
        "6481",
        "6751",
        "6913",
        "7201",
        "7291",
        "7501",
        "7681",
        "7777",
        "8001",
        "8101",
        "8193",
        "8641",
        "8749",
        "9001"
       ],
       "description": "nz",
       "description_tooltip": "Z-direction nodes",
       "index": 3,
       "layout": "IPY_MODEL_e415c99c0fbb4c6e82dd76a9a1621de8",
       "style": "IPY_MODEL_ddd81d839a0a417ab0cdd79079c638bf"
      }
     },
     "340f6915f7b14c14b5fe7f4740f551f4": {
      "model_module": "@jupyter-widgets/controls",
      "model_module_version": "1.5.0",
      "model_name": "DropdownModel",
      "state": {
       "_options_labels": [
        "Periodic",
        "No-flux",
        "Dirichlet"
       ],
       "description": "nclxSn",
       "description_tooltip": "Scalar boundary condition where x=xlx",
       "index": 2,
       "layout": "IPY_MODEL_00e0a07a05434924bdffd66eb14d7b09",
       "style": "IPY_MODEL_59c64512b24b42399fb120a31d449f22"
      }
     },
     "349846d0ebc746b5a93625aed3d7edad": {
      "model_module": "@jupyter-widgets/controls",
      "model_module_version": "1.5.0",
      "model_name": "HBoxModel",
      "state": {
       "children": [
        "IPY_MODEL_34d61f49857740dca5d61b3e708f4f1b",
        "IPY_MODEL_f2a3469579d14ccd80d34596e59596d8",
        "IPY_MODEL_2ee6bb98f5b245829124e2dd55a92903"
       ],
       "layout": "IPY_MODEL_bea72210ce4a4ca89499e248fe9da73d"
      }
     },
     "34d61f49857740dca5d61b3e708f4f1b": {
      "model_module": "@jupyter-widgets/controls",
      "model_module_version": "1.5.0",
      "model_name": "BoundedFloatTextModel",
      "state": {
       "description": "dx",
       "layout": "IPY_MODEL_af319aaf13954e5ba722f521501ed4b6",
       "max": 1000000,
       "step": null,
       "style": "IPY_MODEL_d65bb1ebb49b4eafa7bc6b8808f7c47c",
       "value": 0.0625
      }
     },
     "35a5e43f7fda495ba4bdc6898d25e880": {
      "model_module": "@jupyter-widgets/controls",
      "model_module_version": "1.5.0",
      "model_name": "DescriptionStyleModel",
      "state": {
       "description_width": ""
      }
     },
     "369f930f0de74c4dae8164c5f6bc6b78": {
      "model_module": "@jupyter-widgets/controls",
      "model_module_version": "1.5.0",
      "model_name": "DescriptionStyleModel",
      "state": {
       "description_width": ""
      }
     },
     "399ae0b6264449699ddfdad876d0bfb8": {
      "model_module": "@jupyter-widgets/base",
      "model_module_version": "1.2.0",
      "model_name": "LayoutModel",
      "state": {}
     },
     "39a8da4f300040e697eddc654282a67b": {
      "model_module": "@jupyter-widgets/controls",
      "model_module_version": "1.5.0",
      "model_name": "DescriptionStyleModel",
      "state": {
       "description_width": ""
      }
     },
     "3da95d826f434e8fbc2e72967d31409f": {
      "model_module": "@jupyter-widgets/controls",
      "model_module_version": "1.5.0",
      "model_name": "DescriptionStyleModel",
      "state": {
       "description_width": ""
      }
     },
     "3f85d8f35fbf4be6a7a0cec717e4a3f7": {
      "model_module": "@jupyter-widgets/base",
      "model_module_version": "1.2.0",
      "model_name": "LayoutModel",
      "state": {}
     },
     "403477168b2f49059b77e718aa5d4f77": {
      "model_module": "@jupyter-widgets/controls",
      "model_module_version": "1.5.0",
      "model_name": "HBoxModel",
      "state": {
       "children": [
        "IPY_MODEL_c220e06da3fc49c0bc422187158e78a5",
        "IPY_MODEL_55eeafc2d7b24a0aaac757e73462eb31",
        "IPY_MODEL_917d89e6a0974dc3be6ef92be17ac182"
       ],
       "layout": "IPY_MODEL_ed182df1274c477bbc08fc1e6fbc600c"
      }
     },
     "4310783c2e47441585db66fbf27e471a": {
      "model_module": "@jupyter-widgets/base",
      "model_module_version": "1.2.0",
      "model_name": "LayoutModel",
      "state": {}
     },
     "4412a891227c41538da73435afe7dfa6": {
      "model_module": "@jupyter-widgets/base",
      "model_module_version": "1.2.0",
      "model_name": "LayoutModel",
      "state": {}
     },
     "454bf432a404428a9e9ad0a9c335204e": {
      "model_module": "@jupyter-widgets/controls",
      "model_module_version": "1.5.0",
      "model_name": "DescriptionStyleModel",
      "state": {
       "description_width": ""
      }
     },
     "45b16cddac9c4a67aef1cd12193bcf85": {
      "model_module": "@jupyter-widgets/controls",
      "model_module_version": "1.5.0",
      "model_name": "DescriptionStyleModel",
      "state": {
       "description_width": ""
      }
     },
     "46579e3ddd9a474bb4fbaf5ec00ffb50": {
      "model_module": "@jupyter-widgets/base",
      "model_module_version": "1.2.0",
      "model_name": "LayoutModel",
      "state": {}
     },
     "4672d1bc0f4846749b7a5ba2731f623d": {
      "model_module": "@jupyter-widgets/controls",
      "model_module_version": "1.5.0",
      "model_name": "DescriptionStyleModel",
      "state": {
       "description_width": ""
      }
     },
     "49982a69683b4a039d0593d9321da944": {
      "model_module": "@jupyter-widgets/controls",
      "model_module_version": "1.5.0",
      "model_name": "DescriptionStyleModel",
      "state": {
       "description_width": ""
      }
     },
     "49d596125493446697b1b5466fb064fa": {
      "model_module": "@jupyter-widgets/controls",
      "model_module_version": "1.5.0",
      "model_name": "DescriptionStyleModel",
      "state": {
       "description_width": ""
      }
     },
     "4a170067ff07448ca8a664e96d73aae4": {
      "model_module": "@jupyter-widgets/controls",
      "model_module_version": "1.5.0",
      "model_name": "DescriptionStyleModel",
      "state": {
       "description_width": ""
      }
     },
     "4a178a2d67024eceb03f262dcf627491": {
      "model_module": "@jupyter-widgets/controls",
      "model_module_version": "1.5.0",
      "model_name": "DropdownModel",
      "state": {
       "_options_labels": [
        "Off",
        "Forced to zero",
        "Interpolated to zero"
       ],
       "description": "iibm",
       "description_tooltip": "Flag for immersed boundary method (0: No, 1: Yes)",
       "index": 0,
       "layout": "IPY_MODEL_13fc5daf51cf4c7ab8a68d89ca8e73c9",
       "style": "IPY_MODEL_fe15de333f0f47688573e5fed6dba79d"
      }
     },
     "4bb132fcb4c24b4b845ef8e7e5c5a7b6": {
      "model_module": "@jupyter-widgets/controls",
      "model_module_version": "1.5.0",
      "model_name": "DropdownModel",
      "state": {
       "_options_labels": [
        "Periodic",
        "Free-slip",
        "No-slip"
       ],
       "description": "nclz1",
       "description_tooltip": "Velocity boundary condition where z=0",
       "index": 2,
       "layout": "IPY_MODEL_1bdd72f4f2fa4cbba34458de7cd267fb",
       "style": "IPY_MODEL_5fe6644dd37e42c1bac188e8cbae3d0a"
      }
     },
     "4c38f254243148fe804d3ab3f0ea3ed2": {
      "model_module": "@jupyter-widgets/controls",
      "model_module_version": "1.5.0",
      "model_name": "DescriptionStyleModel",
      "state": {
       "description_width": ""
      }
     },
     "4d84056a27344cc0b53fcce1f8efc7a6": {
      "model_module": "@jupyter-widgets/base",
      "model_module_version": "1.2.0",
      "model_name": "LayoutModel",
      "state": {}
     },
     "4d8a917ff4ed45ab914ad2c683b8e3e8": {
      "model_module": "@jupyter-widgets/controls",
      "model_module_version": "1.5.0",
      "model_name": "DescriptionStyleModel",
      "state": {
       "description_width": ""
      }
     },
     "4dff6b1c8c5b44868d301e68d493c9fe": {
      "model_module": "@jupyter-widgets/base",
      "model_module_version": "1.2.0",
      "model_name": "LayoutModel",
      "state": {}
     },
     "4e0167fb8ff34c6dbdeca89643eeb35a": {
      "model_module": "@jupyter-widgets/base",
      "model_module_version": "1.2.0",
      "model_name": "LayoutModel",
      "state": {}
     },
     "4e6edd8b60be4d2a8c7d3966ddc35810": {
      "model_module": "@jupyter-widgets/controls",
      "model_module_version": "1.5.0",
      "model_name": "HTMLModel",
      "state": {
       "layout": "IPY_MODEL_5d44299e60c04286a5c6eb7ae530b8a9",
       "style": "IPY_MODEL_369f930f0de74c4dae8164c5f6bc6b78",
       "value": "<h2>NumOptions</h2>"
      }
     },
     "4ea834df2ef1401cbf551f8ba0d0c17d": {
      "model_module": "@jupyter-widgets/controls",
      "model_module_version": "1.5.0",
      "model_name": "DescriptionStyleModel",
      "state": {
       "description_width": ""
      }
     },
     "4f3fbcda4e2341bda839fc2692b8c5f9": {
      "model_module": "@jupyter-widgets/controls",
      "model_module_version": "1.5.0",
      "model_name": "DropdownModel",
      "state": {
       "_options_labels": [
        "User",
        "Lock-exchange",
        "Taylor-Green Vortex",
        "Channel",
        "Periodic Hill",
        "Cylinder",
        "Debug Schemes",
        "Mixing Layer",
        "Turbulent Jet",
        "Turbulent Boundary Layer",
        "ABL",
        "Uniform",
        "Sandbox"
       ],
       "description": "itype",
       "description_tooltip": "Flow configuration (1:Lock-exchange, 2:TGV, 3:Channel, and others)",
       "index": 12,
       "layout": "IPY_MODEL_4dff6b1c8c5b44868d301e68d493c9fe",
       "style": "IPY_MODEL_749b850c591942c28319cd6644180da0"
      }
     },
     "4f5e806a8e5c43348afce805d5a193c1": {
      "model_module": "@jupyter-widgets/base",
      "model_module_version": "1.2.0",
      "model_name": "LayoutModel",
      "state": {}
     },
     "506a3f2f39a1413c9cc51064922b5aa4": {
      "model_module": "@jupyter-widgets/controls",
      "model_module_version": "1.5.0",
      "model_name": "BoundedFloatTextModel",
      "state": {
       "description": "dt",
       "description_tooltip": "Time step",
       "layout": "IPY_MODEL_f5b46047eacb4e139fbc10c0751a2cea",
       "max": 1000000000,
       "min": 1e-09,
       "step": null,
       "style": "IPY_MODEL_158c284a2fe243d2a170340831e9e374",
       "value": 0.001
      }
     },
     "52385ccd29424dbc89c15791f7a7e4c8": {
      "model_module": "@jupyter-widgets/controls",
      "model_module_version": "1.5.0",
      "model_name": "DescriptionStyleModel",
      "state": {
       "description_width": ""
      }
     },
     "55eeafc2d7b24a0aaac757e73462eb31": {
      "model_module": "@jupyter-widgets/controls",
      "model_module_version": "1.5.0",
      "model_name": "DropdownModel",
      "state": {
       "_options_labels": [
        "1",
        "2",
        "4",
        "0"
       ],
       "description": "p_row",
       "description_tooltip": "Row partition for domain decomposition and parallel computation",
       "index": 3,
       "layout": "IPY_MODEL_7405b20e5bc2433bbb699ff5cd187622",
       "style": "IPY_MODEL_4a170067ff07448ca8a664e96d73aae4"
      }
     },
     "585eb7febba74a4bbacb9f79ca02b4ea": {
      "model_module": "@jupyter-widgets/base",
      "model_module_version": "1.2.0",
      "model_name": "LayoutModel",
      "state": {}
     },
     "58841f30e51145baa1186144207d6cd0": {
      "model_module": "@jupyter-widgets/base",
      "model_module_version": "1.2.0",
      "model_name": "LayoutModel",
      "state": {}
     },
     "59c64512b24b42399fb120a31d449f22": {
      "model_module": "@jupyter-widgets/controls",
      "model_module_version": "1.5.0",
      "model_name": "DescriptionStyleModel",
      "state": {
       "description_width": ""
      }
     },
     "5ad6c5cfcb394c008357e86faae37d03": {
      "model_module": "@jupyter-widgets/controls",
      "model_module_version": "1.5.0",
      "model_name": "DropdownModel",
      "state": {
       "_options_labels": [
        "Off",
        "On"
       ],
       "description": "ipost",
       "description_tooltip": "Enables online postprocessing at a frequency iprocessing (0: No, 1: Yes)",
       "index": 0,
       "layout": "IPY_MODEL_6e93ce0485ea47e387afd88ba5773ea1",
       "style": "IPY_MODEL_da2e9648f3c5454e8d2c225cf53b840b"
      }
     },
     "5bf369a92ebf48499dc3abe41a31495d": {
      "model_module": "@jupyter-widgets/controls",
      "model_module_version": "1.5.0",
      "model_name": "DescriptionStyleModel",
      "state": {
       "description_width": ""
      }
     },
     "5d12364c1fd84862b2d9f7db05dfc8e0": {
      "model_module": "@jupyter-widgets/controls",
      "model_module_version": "1.5.0",
      "model_name": "DescriptionStyleModel",
      "state": {
       "description_width": ""
      }
     },
     "5d44299e60c04286a5c6eb7ae530b8a9": {
      "model_module": "@jupyter-widgets/base",
      "model_module_version": "1.2.0",
      "model_name": "LayoutModel",
      "state": {}
     },
     "5da43730d20b444890daf5af29ede796": {
      "model_module": "@jupyter-widgets/controls",
      "model_module_version": "1.5.0",
      "model_name": "DescriptionStyleModel",
      "state": {
       "description_width": ""
      }
     },
     "5dc23d656d0f41c5976a481ec29e95a1": {
      "model_module": "@jupyter-widgets/base",
      "model_module_version": "1.2.0",
      "model_name": "LayoutModel",
      "state": {}
     },
     "5f7059945a454e309f1ca2d468391379": {
      "model_module": "@jupyter-widgets/controls",
      "model_module_version": "1.5.0",
      "model_name": "DropdownModel",
      "state": {
       "_options_labels": [
        "Periodic",
        "Free-slip",
        "No-slip"
       ],
       "description": "nclzn",
       "description_tooltip": "Velocity boundary condition where z=zlz",
       "index": 2,
       "layout": "IPY_MODEL_cd5198fe32ca419d976a394f5bd3e98a",
       "style": "IPY_MODEL_45b16cddac9c4a67aef1cd12193bcf85"
      }
     },
     "5fe6644dd37e42c1bac188e8cbae3d0a": {
      "model_module": "@jupyter-widgets/controls",
      "model_module_version": "1.5.0",
      "model_name": "DescriptionStyleModel",
      "state": {
       "description_width": ""
      }
     },
     "60b769d1ca694247978e4ffab004e9d7": {
      "model_module": "@jupyter-widgets/controls",
      "model_module_version": "1.5.0",
      "model_name": "SliderStyleModel",
      "state": {
       "description_width": ""
      }
     },
     "60c3238f8cb14b59be841b9805ce7ddb": {
      "model_module": "@jupyter-widgets/base",
      "model_module_version": "1.2.0",
      "model_name": "LayoutModel",
      "state": {}
     },
     "627bc45ecaa54dd0a3999b585948cc15": {
      "model_module": "@jupyter-widgets/controls",
      "model_module_version": "1.5.0",
      "model_name": "DescriptionStyleModel",
      "state": {
       "description_width": ""
      }
     },
     "64afb486d1c84fbb9d663fa3bc65422c": {
      "model_module": "@jupyter-widgets/base",
      "model_module_version": "1.2.0",
      "model_name": "LayoutModel",
      "state": {}
     },
     "651f7e2d68374818aba4c6c5628f17b0": {
      "model_module": "@jupyter-widgets/controls",
      "model_module_version": "1.5.0",
      "model_name": "VBoxModel",
      "state": {
       "children": [
        "IPY_MODEL_d427278593c84df0bf942d6b0d5c2944",
        "IPY_MODEL_8df2fdb13ab94c519127e83b12432235",
        "IPY_MODEL_34d61f49857740dca5d61b3e708f4f1b",
        "IPY_MODEL_0c9af0e3b0714a7cae5bd78917eee961",
        "IPY_MODEL_e21485b8bbe547aca2766844405a60bb"
       ],
       "layout": "IPY_MODEL_33e9b73309624500a81e8b4b8e6e7f8c"
      }
     },
     "65a9cd64e34c485cade734dd15e61044": {
      "model_module": "@jupyter-widgets/controls",
      "model_module_version": "1.5.0",
      "model_name": "BoundedFloatTextModel",
      "state": {
       "description": "yly",
       "description_tooltip": "Size of the box in y-direction",
       "layout": "IPY_MODEL_ff8025adef49416e8cbbd655f0ef11bf",
       "max": 1000000000,
       "step": null,
       "style": "IPY_MODEL_271c08ed0f48439dba0327f63fecb0e4",
       "value": 1
      }
     },
     "66a69c1e2bbf45b58f56070a71487da3": {
      "model_module": "@jupyter-widgets/base",
      "model_module_version": "1.2.0",
      "model_name": "LayoutModel",
      "state": {}
     },
     "66d20ae6b69e42f483b16dadfb098d68": {
      "model_module": "@jupyter-widgets/controls",
      "model_module_version": "1.5.0",
      "model_name": "HBoxModel",
      "state": {
       "children": [
        "IPY_MODEL_ffa98c52ad194ba5a8c183d59eed8046",
        "IPY_MODEL_e37fcb030e764c889ce8eb8c6ddd3aef",
        "IPY_MODEL_94d8e809a3fe461fb565133da3e9ca07"
       ],
       "layout": "IPY_MODEL_9a0dde2ea6184752b5ab783b9dc7c897"
      }
     },
     "6a7d47e3a95a4fd6984542e391bcbd12": {
      "model_module": "@jupyter-widgets/controls",
      "model_module_version": "1.5.0",
      "model_name": "DropdownModel",
      "state": {
       "_options_labels": [
        "DNS",
        "Phys Smag",
        "Phys WALE",
        "Phys dyn. Smag",
        "iSVV"
       ],
       "description": "jles",
       "description_tooltip": "LES Model (1: Phys Smag, 2: Phys WALE, 3: Phys dyn. Smag, 4: iSVV)",
       "index": 4,
       "layout": "IPY_MODEL_ea3b1c37d6354b6fb8517fb0cc9f76a9",
       "style": "IPY_MODEL_4672d1bc0f4846749b7a5ba2731f623d"
      }
     },
     "6b5f11e7bf044a6ca031076f7ed518cf": {
      "model_module": "@jupyter-widgets/base",
      "model_module_version": "1.2.0",
      "model_name": "LayoutModel",
      "state": {}
     },
     "6c75b0f8ee0e44a88a9aef7227dc35bf": {
      "model_module": "@jupyter-widgets/controls",
      "model_module_version": "1.5.0",
      "model_name": "DescriptionStyleModel",
      "state": {
       "description_width": ""
      }
     },
     "6d4bcf36546e4ce8a08bf4240cf6d3e9": {
      "model_module": "@jupyter-widgets/base",
      "model_module_version": "1.2.0",
      "model_name": "LayoutModel",
      "state": {}
     },
     "6d562f5c79d6432aa447fb3c59e51106": {
      "model_module": "@jupyter-widgets/controls",
      "model_module_version": "1.5.0",
      "model_name": "ButtonStyleModel",
      "state": {}
     },
     "6e93ce0485ea47e387afd88ba5773ea1": {
      "model_module": "@jupyter-widgets/base",
      "model_module_version": "1.2.0",
      "model_name": "LayoutModel",
      "state": {}
     },
     "6eb8e2c50b2d4752be6359a5c6ef987c": {
      "model_module": "@jupyter-widgets/controls",
      "model_module_version": "1.5.0",
      "model_name": "DescriptionStyleModel",
      "state": {
       "description_width": ""
      }
     },
     "704369dd3d3f42ceab58e950bd0be1f7": {
      "model_module": "@jupyter-widgets/base",
      "model_module_version": "1.2.0",
      "model_name": "LayoutModel",
      "state": {}
     },
     "71948e0db1f74f3caa31924c5834aed3": {
      "model_module": "@jupyter-widgets/base",
      "model_module_version": "1.2.0",
      "model_name": "LayoutModel",
      "state": {}
     },
     "724fcc86fc1d445ea92925eb97728d5d": {
      "model_module": "@jupyter-widgets/base",
      "model_module_version": "1.2.0",
      "model_name": "LayoutModel",
      "state": {}
     },
     "727087f637f34e0f850129033674e892": {
      "model_module": "@jupyter-widgets/controls",
      "model_module_version": "1.5.0",
      "model_name": "HBoxModel",
      "state": {
       "children": [
        "IPY_MODEL_c9dde9c4e7c545d79600db0987b48b6a",
        "IPY_MODEL_a7a700f246264e439881a21fba3d88b6",
        "IPY_MODEL_e64456e2453b4b6fbfa7e4032bf9094d"
       ],
       "layout": "IPY_MODEL_66a69c1e2bbf45b58f56070a71487da3"
      }
     },
     "7405b20e5bc2433bbb699ff5cd187622": {
      "model_module": "@jupyter-widgets/base",
      "model_module_version": "1.2.0",
      "model_name": "LayoutModel",
      "state": {}
     },
     "742b4687f8314290b400ed58a7f2b912": {
      "model_module": "@jupyter-widgets/base",
      "model_module_version": "1.2.0",
      "model_name": "LayoutModel",
      "state": {}
     },
     "749b850c591942c28319cd6644180da0": {
      "model_module": "@jupyter-widgets/controls",
      "model_module_version": "1.5.0",
      "model_name": "DescriptionStyleModel",
      "state": {
       "description_width": ""
      }
     },
     "7543421571f7414b9109909db870a9c1": {
      "model_module": "@jupyter-widgets/controls",
      "model_module_version": "1.5.0",
      "model_name": "IntSliderModel",
      "state": {
       "description": "nraf",
       "description_tooltip": "Level of refinement for iibm==2 to find the surface of the immersed object",
       "layout": "IPY_MODEL_c254d25c9a4240538f6367cabc28deb9",
       "max": 25,
       "min": 1,
       "style": "IPY_MODEL_d3334e4e2381483ab3cd7fb82d309d33",
       "value": 10
      }
     },
     "772380125aba4dc29259da2feae15ae0": {
      "model_module": "@jupyter-widgets/controls",
      "model_module_version": "1.5.0",
      "model_name": "FloatTextModel",
      "state": {
       "description": "re",
       "description_tooltip": "Reynolds number",
       "layout": "IPY_MODEL_0071e99adf0b48d7b3161631aa8c96aa",
       "step": null,
       "style": "IPY_MODEL_49d596125493446697b1b5466fb064fa",
       "value": 1000
      }
     },
     "7731160a160b49eb8f7d5a9ea11dd390": {
      "model_module": "@jupyter-widgets/controls",
      "model_module_version": "1.5.0",
      "model_name": "ButtonStyleModel",
      "state": {}
     },
     "7772fc5935cd41f5949b6e0bc6d5534c": {
      "model_module": "@jupyter-widgets/controls",
      "model_module_version": "1.5.0",
      "model_name": "DescriptionStyleModel",
      "state": {
       "description_width": ""
      }
     },
     "7be6fbc1dc7e4384b4cc194ef4d161eb": {
      "model_module": "@jupyter-widgets/controls",
      "model_module_version": "1.5.0",
      "model_name": "HBoxModel",
      "state": {
       "children": [
        "IPY_MODEL_8df2fdb13ab94c519127e83b12432235",
        "IPY_MODEL_65a9cd64e34c485cade734dd15e61044",
        "IPY_MODEL_0b880f94a38e4630b5d0bf1634777872"
       ],
       "layout": "IPY_MODEL_230c6a7ca88d41a18f4c09f1465193ca"
      }
     },
     "7c86b2fa397c4016a4cf2525fb786370": {
      "model_module": "@jupyter-widgets/controls",
      "model_module_version": "1.5.0",
      "model_name": "DescriptionStyleModel",
      "state": {
       "description_width": ""
      }
     },
     "7e32404a9ab749089abf0ad746a8207e": {
      "model_module": "@jupyter-widgets/base",
      "model_module_version": "1.2.0",
      "model_name": "LayoutModel",
      "state": {}
     },
     "8225e1b94d204e3e923871872c84b603": {
      "model_module": "@jupyter-widgets/controls",
      "model_module_version": "1.5.0",
      "model_name": "DropdownModel",
      "state": {
       "_options_labels": [
        "Off",
        "On"
       ],
       "description": "ivisu",
       "description_tooltip": "Enable store snapshots at a frequency ioutput (0: No, 1: Yes)",
       "index": 1,
       "layout": "IPY_MODEL_724fcc86fc1d445ea92925eb97728d5d",
       "style": "IPY_MODEL_db890833268f44fb94befbe9daf1d21d"
      }
     },
     "82adf259b10e4feb8f78a2803c36b755": {
      "model_module": "@jupyter-widgets/base",
      "model_module_version": "1.2.0",
      "model_name": "LayoutModel",
      "state": {}
     },
     "82d7385a8ef4484a9afc1ccbd33c2742": {
      "model_module": "@jupyter-widgets/controls",
      "model_module_version": "1.5.0",
      "model_name": "HBoxModel",
      "state": {
       "children": [
        "IPY_MODEL_c659555216a3408ea3f221590cb72a36",
        "IPY_MODEL_b9751ce40c0c425eb89a44c5c8bb951c",
        "IPY_MODEL_aad01d456ab14b7a8973f8fee0215194"
       ],
       "layout": "IPY_MODEL_ac56f65290534095832b24f68090448a"
      }
     },
     "8497b88adcf14542aec8e95115995bbf": {
      "model_module": "@jupyter-widgets/controls",
      "model_module_version": "1.5.0",
      "model_name": "ButtonModel",
      "state": {
       "description": "Sync",
       "disabled": true,
       "icon": "sync",
       "layout": "IPY_MODEL_a69ccdbc054640a499f2c54dc346523c",
       "style": "IPY_MODEL_19f5c9c9ea3447cfa180ad31e05fcf7b"
      }
     },
     "8604f4965b1445019d4ab1f203baec1f": {
      "model_module": "@jupyter-widgets/controls",
      "model_module_version": "1.5.0",
      "model_name": "BoundedIntTextModel",
      "state": {
       "description": "nobjmax",
       "description_tooltip": "Maximum number of objects in any direction",
       "layout": "IPY_MODEL_bedb7f86cdd747178700b2e44f409256",
       "max": 1000000000,
       "min": 1,
       "style": "IPY_MODEL_2c6fef2f931c46cfb6b40fe04c05e30b",
       "value": 1
      }
     },
     "8622f143d3af4a678e84519c969da29d": {
      "model_module": "@jupyter-widgets/controls",
      "model_module_version": "1.5.0",
      "model_name": "BoundedIntTextModel",
      "state": {
       "description": "nvisu",
       "description_tooltip": "Size for visualization collection",
       "disabled": true,
       "layout": "IPY_MODEL_704369dd3d3f42ceab58e950bd0be1f7",
       "max": 1000000000,
       "min": 1,
       "style": "IPY_MODEL_8b80e00569414a2180f8f4e3eb6d4def",
       "value": 1
      }
     },
     "865468d126ef432a84c4ef4d1f67513d": {
      "model_module": "@jupyter-widgets/controls",
      "model_module_version": "1.5.0",
      "model_name": "DropdownModel",
      "state": {
       "_options_labels": [
        "Euler",
        "AB2",
        "AB3",
        "RK3",
        "Semi-implicit"
       ],
       "description": "itimescheme",
       "description_tooltip": "Time integration scheme (1: Euler, 2: AB2, 3: AB3, 5: RK3)",
       "index": 2,
       "layout": "IPY_MODEL_d1a2d1f556084dc583224d2796b55664",
       "style": "IPY_MODEL_e132493d8c094cd5b9de51bd14945903"
      }
     },
     "8b80e00569414a2180f8f4e3eb6d4def": {
      "model_module": "@jupyter-widgets/controls",
      "model_module_version": "1.5.0",
      "model_name": "DescriptionStyleModel",
      "state": {
       "description_width": ""
      }
     },
     "8c7941a9f719468b810aa96daa37297e": {
      "model_module": "@jupyter-widgets/base",
      "model_module_version": "1.2.0",
      "model_name": "LayoutModel",
      "state": {}
     },
     "8db43780ef84476a93582fcdad3a5ad8": {
      "model_module": "@jupyter-widgets/controls",
      "model_module_version": "1.5.0",
      "model_name": "HTMLModel",
      "state": {
       "layout": "IPY_MODEL_8ee25e8535b54245a3a80069ee95cdd2",
       "style": "IPY_MODEL_a45add2031c948248cb008a2421736b7",
       "value": "<h2>BasicParam</h2>"
      }
     },
     "8df2fdb13ab94c519127e83b12432235": {
      "model_module": "@jupyter-widgets/controls",
      "model_module_version": "1.5.0",
      "model_name": "BoundedFloatTextModel",
      "state": {
       "description": "xlx",
       "description_tooltip": "Size of the box in x-direction",
       "layout": "IPY_MODEL_2c9511e5ee4a48d9b51f73ad567413e2",
       "max": 1000000000,
       "step": null,
       "style": "IPY_MODEL_5bf369a92ebf48499dc3abe41a31495d",
       "value": 1
      }
     },
     "8ee25e8535b54245a3a80069ee95cdd2": {
      "model_module": "@jupyter-widgets/base",
      "model_module_version": "1.2.0",
      "model_name": "LayoutModel",
      "state": {}
     },
     "8eecc6e7f44d46d49b05bb3db3cc5447": {
      "model_module": "@jupyter-widgets/base",
      "model_module_version": "1.2.0",
      "model_name": "LayoutModel",
      "state": {}
     },
     "8f26ef7bb274415e945badbe053f0b95": {
      "model_module": "@jupyter-widgets/controls",
      "model_module_version": "1.5.0",
      "model_name": "HTMLModel",
      "state": {
       "layout": "IPY_MODEL_64afb486d1c84fbb9d663fa3bc65422c",
       "style": "IPY_MODEL_2cf7c99bc2be42b5841a46b135ef9e05",
       "value": "<h2>ScalarParam</h2>"
      }
     },
     "8fe1978059b144cdae0c46533894523b": {
      "model_module": "@jupyter-widgets/base",
      "model_module_version": "1.2.0",
      "model_name": "LayoutModel",
      "state": {}
     },
     "901c9b1493f54247a4d7431177b1d77c": {
      "model_module": "@jupyter-widgets/base",
      "model_module_version": "1.2.0",
      "model_name": "LayoutModel",
      "state": {}
     },
     "90def6c81b0d45658fe004db02559bfa": {
      "model_module": "@jupyter-widgets/base",
      "model_module_version": "1.2.0",
      "model_name": "LayoutModel",
      "state": {}
     },
     "917d89e6a0974dc3be6ef92be17ac182": {
      "model_module": "@jupyter-widgets/controls",
      "model_module_version": "1.5.0",
      "model_name": "DropdownModel",
      "state": {
       "_options_labels": [
        "1",
        "2",
        "4",
        "0"
       ],
       "description": "p_col",
       "description_tooltip": "Column partition for domain decomposition and parallel computation",
       "index": 3,
       "layout": "IPY_MODEL_8fe1978059b144cdae0c46533894523b",
       "style": "IPY_MODEL_d32d3ff3befc43149aba5e90088b5443"
      }
     },
     "94d8e809a3fe461fb565133da3e9ca07": {
      "model_module": "@jupyter-widgets/controls",
      "model_module_version": "1.5.0",
      "model_name": "BoundedFloatTextModel",
      "state": {
       "description": "cnu",
       "description_tooltip": "Ratio between hyperviscosity at km=2/3π and kc=π (dissipation factor range)",
       "layout": "IPY_MODEL_2b6de7f735d8491899022d9a123b0776",
       "max": 1000000,
       "step": null,
       "style": "IPY_MODEL_1085c867c0bf4ab3a303b32bc7e72576",
       "value": 0.44
      }
     },
     "95848d1aef714d88a7d656b7cb7ee84e": {
      "model_module": "@jupyter-widgets/base",
      "model_module_version": "1.2.0",
      "model_name": "LayoutModel",
      "state": {}
     },
     "96826f12c47d40f8b7335e5d8ef746de": {
      "model_module": "@jupyter-widgets/controls",
      "model_module_version": "1.5.0",
      "model_name": "VBoxModel",
      "state": {
       "children": [
        "IPY_MODEL_f3a02d61e0f349d695beb08329bb676c",
        "IPY_MODEL_2ecafbb8b6c4489a8fe7efc5dd82cc74",
        "IPY_MODEL_8db43780ef84476a93582fcdad3a5ad8",
        "IPY_MODEL_26b4d1e7e75346a992d857284d473180",
        "IPY_MODEL_0dee7eb512f944b0b831a396158f1c61",
        "IPY_MODEL_2ca57dc5aa5541bfb0931d59d57db54b",
        "IPY_MODEL_403477168b2f49059b77e718aa5d4f77",
        "IPY_MODEL_20a1a0b86cb349709e3629e0a9530ebe",
        "IPY_MODEL_e63b1c84df6d44a8ab7cd38e914db596",
        "IPY_MODEL_a0e86ae12dc245b29c62439ca0e50f17",
        "IPY_MODEL_e480ffbccf0d4414906e51717ebe5f06",
        "IPY_MODEL_727087f637f34e0f850129033674e892",
        "IPY_MODEL_f7e1528240ed4b76a22926f5d3fe78c4",
        "IPY_MODEL_31e87aaf7fe64595adc7506a5ff8f5cf",
        "IPY_MODEL_7be6fbc1dc7e4384b4cc194ef4d161eb",
        "IPY_MODEL_349846d0ebc746b5a93625aed3d7edad",
        "IPY_MODEL_0593336e005a404ab629d017614e3873",
        "IPY_MODEL_c87adb61b3184255b5d7a19b72b617ca",
        "IPY_MODEL_d5999b0227414fe9ac2976965fc13484",
        "IPY_MODEL_4e6edd8b60be4d2a8c7d3966ddc35810",
        "IPY_MODEL_add9a045cfb344f5acec28eafee8e019",
        "IPY_MODEL_66d20ae6b69e42f483b16dadfb098d68",
        "IPY_MODEL_8f26ef7bb274415e945badbe053f0b95",
        "IPY_MODEL_e7a1c7542c0b45209f5ca4b27a4ff465",
        "IPY_MODEL_16cef30e78e54861ac89724b35e4b920",
        "IPY_MODEL_fa7e713928534ac7965a02759c6333de",
        "IPY_MODEL_82d7385a8ef4484a9afc1ccbd33c2742",
        "IPY_MODEL_2000bc5afd3942be814c269220f7988a",
        "IPY_MODEL_e8fcff103b9c4e39bfffa5e503e6d2ba",
        "IPY_MODEL_9f15eda95bb448a395bea420dab7312d"
       ],
       "layout": "IPY_MODEL_b69e9a0dbef847cdac3c9887a6e76c36"
      }
     },
     "97040dfdcad947edada7c1097d05fc01": {
      "model_module": "@jupyter-widgets/base",
      "model_module_version": "1.2.0",
      "model_name": "LayoutModel",
      "state": {}
     },
     "9748c9bf3cf94e95b3b11741b259870e": {
      "model_module": "@jupyter-widgets/controls",
      "model_module_version": "1.5.0",
      "model_name": "DropdownModel",
      "state": {
       "_options_labels": [
        "Periodic",
        "No-flux",
        "Dirichlet"
       ],
       "description": "nclzSn",
       "description_tooltip": "Scalar boundary condition where z=zlz",
       "index": 2,
       "layout": "IPY_MODEL_98fbd1d636e347f7919d270d89f6d9c2",
       "style": "IPY_MODEL_6c75b0f8ee0e44a88a9aef7227dc35bf"
      }
     },
     "987836fd11fb47719a11e29729fff6b9": {
      "model_module": "@jupyter-widgets/controls",
      "model_module_version": "1.5.0",
      "model_name": "BoundedIntTextModel",
      "state": {
       "description": "ilast",
       "description_tooltip": "The number for the last iteration",
       "layout": "IPY_MODEL_4310783c2e47441585db66fbf27e471a",
       "max": 1000000000,
       "style": "IPY_MODEL_b19992e031a54734bc9fcb066a2845dc"
      }
     },
     "98fbd1d636e347f7919d270d89f6d9c2": {
      "model_module": "@jupyter-widgets/base",
      "model_module_version": "1.2.0",
      "model_name": "LayoutModel",
      "state": {}
     },
     "9963bb61222444c2a087b12410f5eb04": {
      "model_module": "@jupyter-widgets/controls",
      "model_module_version": "1.5.0",
      "model_name": "DescriptionStyleModel",
      "state": {
       "description_width": ""
      }
     },
     "99cd8c56a88f4de9a0628e0b185e311f": {
      "model_module": "@jupyter-widgets/controls",
      "model_module_version": "1.5.0",
      "model_name": "BoundedIntTextModel",
      "state": {
       "description": "ifirst",
       "description_tooltip": "The number for the first iteration",
       "layout": "IPY_MODEL_a98cbb5db6034d879c13d26f6f7f7b43",
       "max": 1000000000,
       "style": "IPY_MODEL_d5aaccd2ede54496ac7a606913d04a85"
      }
     },
     "9a0dde2ea6184752b5ab783b9dc7c897": {
      "model_module": "@jupyter-widgets/base",
      "model_module_version": "1.2.0",
      "model_name": "LayoutModel",
      "state": {}
     },
     "9ad5fba8fe4e4ef2973d57c6cbf0255c": {
      "model_module": "@jupyter-widgets/base",
      "model_module_version": "1.2.0",
      "model_name": "LayoutModel",
      "state": {}
     },
     "9b765c69c9b943e19d9297a708156ee2": {
      "model_module": "@jupyter-widgets/controls",
      "model_module_version": "1.5.0",
      "model_name": "DescriptionStyleModel",
      "state": {
       "description_width": ""
      }
     },
     "9ba180ea7f4c414c814a559450d905ac": {
      "model_module": "@jupyter-widgets/base",
      "model_module_version": "1.2.0",
      "model_name": "LayoutModel",
      "state": {}
     },
     "9c4aa5bfc51b4f8b94bf8fc674af6e58": {
      "model_module": "@jupyter-widgets/controls",
      "model_module_version": "1.5.0",
      "model_name": "DescriptionStyleModel",
      "state": {
       "description_width": ""
      }
     },
     "9f15eda95bb448a395bea420dab7312d": {
      "model_module": "@jupyter-widgets/controls",
      "model_module_version": "1.5.0",
      "model_name": "HBoxModel",
      "state": {
       "children": [
        "IPY_MODEL_4a178a2d67024eceb03f262dcf627491",
        "IPY_MODEL_7543421571f7414b9109909db870a9c1",
        "IPY_MODEL_8604f4965b1445019d4ab1f203baec1f"
       ],
       "layout": "IPY_MODEL_60c3238f8cb14b59be841b9805ce7ddb"
      }
     },
     "9f26c0d1edae4f27a70e1895f9490b6e": {
      "model_module": "@jupyter-widgets/base",
      "model_module_version": "1.2.0",
      "model_name": "LayoutModel",
      "state": {}
     },
     "a0e86ae12dc245b29c62439ca0e50f17": {
      "model_module": "@jupyter-widgets/controls",
      "model_module_version": "1.5.0",
      "model_name": "HTMLModel",
      "state": {
       "layout": "IPY_MODEL_02fe965e9965463bae23d640c102e829",
       "style": "IPY_MODEL_454bf432a404428a9e9ad0a9c335204e",
       "value": "<h3>InOutParam</h3>"
      }
     },
     "a16a0d7cb5794380b4b9b44c1b748bbf": {
      "model_module": "@jupyter-widgets/base",
      "model_module_version": "1.2.0",
      "model_name": "LayoutModel",
      "state": {}
     },
     "a45add2031c948248cb008a2421736b7": {
      "model_module": "@jupyter-widgets/controls",
      "model_module_version": "1.5.0",
      "model_name": "DescriptionStyleModel",
      "state": {
       "description_width": ""
      }
     },
     "a5410f63b3984c028689edeb5d76ad81": {
      "model_module": "@jupyter-widgets/base",
      "model_module_version": "1.2.0",
      "model_name": "LayoutModel",
      "state": {}
     },
     "a69ccdbc054640a499f2c54dc346523c": {
      "model_module": "@jupyter-widgets/base",
      "model_module_version": "1.2.0",
      "model_name": "LayoutModel",
      "state": {}
     },
     "a702398e5c214376acf62308c9ae028c": {
      "model_module": "@jupyter-widgets/controls",
      "model_module_version": "1.5.0",
      "model_name": "DescriptionStyleModel",
      "state": {
       "description_width": ""
      }
     },
     "a7a700f246264e439881a21fba3d88b6": {
      "model_module": "@jupyter-widgets/controls",
      "model_module_version": "1.5.0",
      "model_name": "BoundedIntTextModel",
      "state": {
       "description": "ioutput",
       "description_tooltip": "Frequency for visualization file",
       "layout": "IPY_MODEL_b0af7bc838c045aeb3e514126fa53312",
       "max": 1000000000,
       "min": 1,
       "step": 100,
       "style": "IPY_MODEL_5d12364c1fd84862b2d9f7db05dfc8e0",
       "value": 1000
      }
     },
     "a98cbb5db6034d879c13d26f6f7f7b43": {
      "model_module": "@jupyter-widgets/base",
      "model_module_version": "1.2.0",
      "model_name": "LayoutModel",
      "state": {}
     },
     "aad01d456ab14b7a8973f8fee0215194": {
      "model_module": "@jupyter-widgets/controls",
      "model_module_version": "1.5.0",
      "model_name": "FloatTextModel",
      "state": {
       "description": "gravz",
       "description_tooltip": "Gravity unitary vector in z-direction",
       "layout": "IPY_MODEL_46579e3ddd9a474bb4fbaf5ec00ffb50",
       "step": null,
       "style": "IPY_MODEL_16b0925ebd3d4f63b8bb72626d7de158"
      }
     },
     "ac56f65290534095832b24f68090448a": {
      "model_module": "@jupyter-widgets/base",
      "model_module_version": "1.2.0",
      "model_name": "LayoutModel",
      "state": {}
     },
     "ac747a3a17ba4455b1e2b69daa317ba8": {
      "model_module": "@jupyter-widgets/base",
      "model_module_version": "1.2.0",
      "model_name": "LayoutModel",
      "state": {}
     },
     "add9a045cfb344f5acec28eafee8e019": {
      "model_module": "@jupyter-widgets/controls",
      "model_module_version": "1.5.0",
      "model_name": "HBoxModel",
      "state": {
       "children": [
        "IPY_MODEL_ec07f3ccdf534174a2553b57753b7bf3",
        "IPY_MODEL_f104d1f8a549407b9ac3015cac4d7f8b",
        "IPY_MODEL_865468d126ef432a84c4ef4d1f67513d"
       ],
       "layout": "IPY_MODEL_4e0167fb8ff34c6dbdeca89643eeb35a"
      }
     },
     "aef034beb2ea459796883ca682ec7757": {
      "model_module": "@jupyter-widgets/controls",
      "model_module_version": "1.5.0",
      "model_name": "DropdownModel",
      "state": {
       "_options_labels": [
        "No random noise",
        "Random noise",
        "Random noise with fixed seed"
       ],
       "description": "iin",
       "description_tooltip": "Defines perturbation at initial condition",
       "index": 0,
       "layout": "IPY_MODEL_2bc77716403044169f239937506f1883",
       "style": "IPY_MODEL_4ea834df2ef1401cbf551f8ba0d0c17d"
      }
     },
     "af319aaf13954e5ba722f521501ed4b6": {
      "model_module": "@jupyter-widgets/base",
      "model_module_version": "1.2.0",
      "model_name": "LayoutModel",
      "state": {}
     },
     "af38c8dd96cc4b1c856cf6ee68df25c0": {
      "model_module": "@jupyter-widgets/base",
      "model_module_version": "1.2.0",
      "model_name": "LayoutModel",
      "state": {}
     },
     "b0af7bc838c045aeb3e514126fa53312": {
      "model_module": "@jupyter-widgets/base",
      "model_module_version": "1.2.0",
      "model_name": "LayoutModel",
      "state": {}
     },
     "b19992e031a54734bc9fcb066a2845dc": {
      "model_module": "@jupyter-widgets/controls",
      "model_module_version": "1.5.0",
      "model_name": "DescriptionStyleModel",
      "state": {
       "description_width": ""
      }
     },
     "b1c627ff951942388cb37ea494613dd3": {
      "model_module": "@jupyter-widgets/controls",
      "model_module_version": "1.5.0",
      "model_name": "VBoxModel",
      "state": {
       "children": [
        "IPY_MODEL_c220e06da3fc49c0bc422187158e78a5",
        "IPY_MODEL_55eeafc2d7b24a0aaac757e73462eb31",
        "IPY_MODEL_917d89e6a0974dc3be6ef92be17ac182"
       ],
       "layout": "IPY_MODEL_ba8e9c21a3ea4edd8a23a260ebf7450a"
      }
     },
     "b1d7d6a6b7944b72aa0cbe8251596849": {
      "model_module": "@jupyter-widgets/controls",
      "model_module_version": "1.5.0",
      "model_name": "FloatTextModel",
      "state": {
       "description": "inflow_noise",
       "description_tooltip": "Turbulence intensity (1=100%) !! Inflow condition",
       "layout": "IPY_MODEL_2991433678a1438d9843d4a4101b17b7",
       "step": null,
       "style": "IPY_MODEL_cadc847a3a804d5687085e4c1d3fc20b"
      }
     },
     "b2afac02caba475d8289b745d240fd7b": {
      "model_module": "@jupyter-widgets/controls",
      "model_module_version": "1.5.0",
      "model_name": "DescriptionStyleModel",
      "state": {
       "description_width": ""
      }
     },
     "b441e8f5a6944fe7aa978fd85a6e3bf9": {
      "model_module": "@jupyter-widgets/controls",
      "model_module_version": "1.5.0",
      "model_name": "FloatTextModel",
      "state": {
       "description": "init_noise",
       "description_tooltip": "Turbulence intensity (1=100%) !! Initial condition",
       "layout": "IPY_MODEL_dafeb5c9fb2e46b5b91b145c5ff04de1",
       "step": null,
       "style": "IPY_MODEL_b2afac02caba475d8289b745d240fd7b"
      }
     },
     "b69e9a0dbef847cdac3c9887a6e76c36": {
      "model_module": "@jupyter-widgets/base",
      "model_module_version": "1.2.0",
      "model_name": "LayoutModel",
      "state": {}
     },
     "b8204e87a0be4f59aa42e6960c195364": {
      "model_module": "@jupyter-widgets/controls",
      "model_module_version": "1.5.0",
      "model_name": "DescriptionStyleModel",
      "state": {
       "description_width": ""
      }
     },
     "b9751ce40c0c425eb89a44c5c8bb951c": {
      "model_module": "@jupyter-widgets/controls",
      "model_module_version": "1.5.0",
      "model_name": "FloatTextModel",
      "state": {
       "description": "gravy",
       "description_tooltip": "Gravity unitary vector in y-direction",
       "layout": "IPY_MODEL_9f26c0d1edae4f27a70e1895f9490b6e",
       "step": null,
       "style": "IPY_MODEL_9b765c69c9b943e19d9297a708156ee2"
      }
     },
     "ba8e9c21a3ea4edd8a23a260ebf7450a": {
      "model_module": "@jupyter-widgets/base",
      "model_module_version": "1.2.0",
      "model_name": "LayoutModel",
      "state": {}
     },
     "bce2679fbc4e4fe0a0f6822d61802c07": {
      "model_module": "@jupyter-widgets/base",
      "model_module_version": "1.2.0",
      "model_name": "LayoutModel",
      "state": {}
     },
     "bd71a62bb8ed498093b1a015513be128": {
      "model_module": "@jupyter-widgets/controls",
      "model_module_version": "1.5.0",
      "model_name": "DescriptionStyleModel",
      "state": {
       "description_width": ""
      }
     },
     "bd8e6140185747cc8b4acc3e89d778be": {
      "model_module": "@jupyter-widgets/base",
      "model_module_version": "1.2.0",
      "model_name": "LayoutModel",
      "state": {}
     },
     "bea72210ce4a4ca89499e248fe9da73d": {
      "model_module": "@jupyter-widgets/base",
      "model_module_version": "1.2.0",
      "model_name": "LayoutModel",
      "state": {}
     },
     "bedb7f86cdd747178700b2e44f409256": {
      "model_module": "@jupyter-widgets/base",
      "model_module_version": "1.2.0",
      "model_name": "LayoutModel",
      "state": {}
     },
     "c1f897f466894cbe9a521138c5d52f31": {
      "model_module": "@jupyter-widgets/base",
      "model_module_version": "1.2.0",
      "model_name": "LayoutModel",
      "state": {}
     },
     "c220e06da3fc49c0bc422187158e78a5": {
      "model_module": "@jupyter-widgets/controls",
      "model_module_version": "1.5.0",
      "model_name": "BoundedIntTextModel",
      "state": {
       "description": "ncores",
       "layout": "IPY_MODEL_d721d0b83f524528bdbffc1a93e76589",
       "max": 1000000000,
       "style": "IPY_MODEL_bd71a62bb8ed498093b1a015513be128",
       "value": 4
      }
     },
     "c254d25c9a4240538f6367cabc28deb9": {
      "model_module": "@jupyter-widgets/base",
      "model_module_version": "1.2.0",
      "model_name": "LayoutModel",
      "state": {}
     },
     "c336d183b42247da89882a62dbefb35d": {
      "model_module": "@jupyter-widgets/controls",
      "model_module_version": "1.5.0",
      "model_name": "DropdownModel",
      "state": {
       "_options_labels": [
        "Periodic",
        "No-flux",
        "Dirichlet"
       ],
       "description": "nclxS1",
       "description_tooltip": "Scalar boundary condition where x=0",
       "index": 2,
       "layout": "IPY_MODEL_58841f30e51145baa1186144207d6cd0",
       "style": "IPY_MODEL_251fcf309c4d44f4bf14251ccc18ae9e"
      }
     },
     "c429088e837b4eca945926352f62fb85": {
      "model_module": "@jupyter-widgets/base",
      "model_module_version": "1.2.0",
      "model_name": "LayoutModel",
      "state": {}
     },
     "c659555216a3408ea3f221590cb72a36": {
      "model_module": "@jupyter-widgets/controls",
      "model_module_version": "1.5.0",
      "model_name": "FloatTextModel",
      "state": {
       "description": "gravx",
       "description_tooltip": "Gravity unitary vector in x-direction",
       "layout": "IPY_MODEL_ff86495ef46442b39bce543ede0e9267",
       "step": null,
       "style": "IPY_MODEL_4c38f254243148fe804d3ab3f0ea3ed2"
      }
     },
     "c87adb61b3184255b5d7a19b72b617ca": {
      "model_module": "@jupyter-widgets/controls",
      "model_module_version": "1.5.0",
      "model_name": "HBoxModel",
      "state": {
       "children": [
        "IPY_MODEL_e21485b8bbe547aca2766844405a60bb",
        "IPY_MODEL_1aea7d59b02e4aba8295e85b7a3e5f45",
        "IPY_MODEL_5f7059945a454e309f1ca2d468391379"
       ],
       "layout": "IPY_MODEL_9ba180ea7f4c414c814a559450d905ac"
      }
     },
     "c9dcb195f7524f529ccd2b99ced2eed4": {
      "model_module": "@jupyter-widgets/controls",
      "model_module_version": "1.5.0",
      "model_name": "DescriptionStyleModel",
      "state": {
       "description_width": ""
      }
     },
     "c9dde9c4e7c545d79600db0987b48b6a": {
      "model_module": "@jupyter-widgets/controls",
      "model_module_version": "1.5.0",
      "model_name": "BoundedIntTextModel",
      "state": {
       "description": "icheckpoint",
       "description_tooltip": "Frequency for writing backup file",
       "layout": "IPY_MODEL_82adf259b10e4feb8f78a2803c36b755",
       "max": 1000000000,
       "min": 1,
       "step": 100,
       "style": "IPY_MODEL_a702398e5c214376acf62308c9ae028c",
       "value": 1000
      }
     },
     "ca7c50791951469fb755451aa12f32c0": {
      "model_module": "@jupyter-widgets/base",
      "model_module_version": "1.2.0",
      "model_name": "LayoutModel",
      "state": {}
     },
     "ca8a5b5bea254322a43c3b7ca26f2433": {
      "model_module": "@jupyter-widgets/controls",
      "model_module_version": "1.5.0",
      "model_name": "TextModel",
      "state": {
       "description": "size",
       "disabled": true,
       "layout": "IPY_MODEL_4f5e806a8e5c43348afce805d5a193c1",
       "style": "IPY_MODEL_627bc45ecaa54dd0a3999b585948cc15",
       "value": "-196520.0 bytes"
      }
     },
     "cadc847a3a804d5687085e4c1d3fc20b": {
      "model_module": "@jupyter-widgets/controls",
      "model_module_version": "1.5.0",
      "model_name": "DescriptionStyleModel",
      "state": {
       "description_width": ""
      }
     },
     "cb3e4715b9ff41b69335872cc8bbed55": {
      "model_module": "@jupyter-widgets/base",
      "model_module_version": "1.2.0",
      "model_name": "LayoutModel",
      "state": {}
     },
     "cd5198fe32ca419d976a394f5bd3e98a": {
      "model_module": "@jupyter-widgets/base",
      "model_module_version": "1.2.0",
      "model_name": "LayoutModel",
      "state": {}
     },
     "ce3e016824734898b246dc7a46c16984": {
      "model_module": "@jupyter-widgets/controls",
      "model_module_version": "1.5.0",
      "model_name": "DescriptionStyleModel",
      "state": {
       "description_width": ""
      }
     },
     "d1a2d1f556084dc583224d2796b55664": {
      "model_module": "@jupyter-widgets/base",
      "model_module_version": "1.2.0",
      "model_name": "LayoutModel",
      "state": {}
     },
     "d2b7c6b2fd06476ca4b866de014d9710": {
      "model_module": "@jupyter-widgets/controls",
      "model_module_version": "1.5.0",
      "model_name": "ButtonModel",
      "state": {
       "description": "Run",
       "disabled": true,
       "icon": "rocket",
       "layout": "IPY_MODEL_5dc23d656d0f41c5976a481ec29e95a1",
       "style": "IPY_MODEL_7731160a160b49eb8f7d5a9ea11dd390"
      }
     },
     "d32d3ff3befc43149aba5e90088b5443": {
      "model_module": "@jupyter-widgets/controls",
      "model_module_version": "1.5.0",
      "model_name": "DescriptionStyleModel",
      "state": {
       "description_width": ""
      }
     },
     "d3334e4e2381483ab3cd7fb82d309d33": {
      "model_module": "@jupyter-widgets/controls",
      "model_module_version": "1.5.0",
      "model_name": "SliderStyleModel",
      "state": {
       "description_width": ""
      }
     },
     "d340ed601724428185fdb3299b4f62e2": {
      "model_module": "@jupyter-widgets/controls",
      "model_module_version": "1.5.0",
      "model_name": "DescriptionStyleModel",
      "state": {
       "description_width": ""
      }
     },
     "d427278593c84df0bf942d6b0d5c2944": {
      "model_module": "@jupyter-widgets/controls",
      "model_module_version": "1.5.0",
      "model_name": "DropdownModel",
      "state": {
       "_options_labels": [
        "9",
        "11",
        "13",
        "17",
        "19",
        "21",
        "25",
        "31",
        "33",
        "37",
        "41",
        "49",
        "51",
        "55",
        "61",
        "65",
        "73",
        "81",
        "91",
        "97",
        "101",
        "109",
        "121",
        "129",
        "145",
        "151",
        "161",
        "163",
        "181",
        "193",
        "201",
        "217",
        "241",
        "251",
        "257",
        "271",
        "289",
        "301",
        "321",
        "325",
        "361",
        "385",
        "401",
        "433",
        "451",
        "481",
        "487",
        "501",
        "513",
        "541",
        "577",
        "601",
        "641",
        "649",
        "721",
        "751",
        "769",
        "801",
        "811",
        "865",
        "901",
        "961",
        "973",
        "1001",
        "1025",
        "1081",
        "1153",
        "1201",
        "1251",
        "1281",
        "1297",
        "1351",
        "1441",
        "1459",
        "1501",
        "1537",
        "1601",
        "1621",
        "1729",
        "1801",
        "1921",
        "1945",
        "2001",
        "2049",
        "2161",
        "2251",
        "2305",
        "2401",
        "2431",
        "2501",
        "2561",
        "2593",
        "2701",
        "2881",
        "2917",
        "3001",
        "3073",
        "3201",
        "3241",
        "3457",
        "3601",
        "3751",
        "3841",
        "3889",
        "4001",
        "4051",
        "4097",
        "4321",
        "4375",
        "4501",
        "4609",
        "4801",
        "4861",
        "5001",
        "5121",
        "5185",
        "5401",
        "5761",
        "5833",
        "6001",
        "6145",
        "6251",
        "6401",
        "6481",
        "6751",
        "6913",
        "7201",
        "7291",
        "7501",
        "7681",
        "7777",
        "8001",
        "8101",
        "8193",
        "8641",
        "8749",
        "9001"
       ],
       "description": "nx",
       "description_tooltip": "X-direction nodes",
       "index": 3,
       "layout": "IPY_MODEL_90def6c81b0d45658fe004db02559bfa",
       "style": "IPY_MODEL_ce3e016824734898b246dc7a46c16984"
      }
     },
     "d5999b0227414fe9ac2976965fc13484": {
      "model_module": "@jupyter-widgets/controls",
      "model_module_version": "1.5.0",
      "model_name": "HBoxModel",
      "state": {
       "children": [
        "IPY_MODEL_209ff9091c024872b7e33af7ba16c160",
        "IPY_MODEL_deb1a3d8e44a46abb40ea22aeaca3c25"
       ],
       "layout": "IPY_MODEL_3f85d8f35fbf4be6a7a0cec717e4a3f7"
      }
     },
     "d5aaccd2ede54496ac7a606913d04a85": {
      "model_module": "@jupyter-widgets/controls",
      "model_module_version": "1.5.0",
      "model_name": "DescriptionStyleModel",
      "state": {
       "description_width": ""
      }
     },
     "d65bb1ebb49b4eafa7bc6b8808f7c47c": {
      "model_module": "@jupyter-widgets/controls",
      "model_module_version": "1.5.0",
      "model_name": "DescriptionStyleModel",
      "state": {
       "description_width": ""
      }
     },
     "d721d0b83f524528bdbffc1a93e76589": {
      "model_module": "@jupyter-widgets/base",
      "model_module_version": "1.2.0",
      "model_name": "LayoutModel",
      "state": {}
     },
     "da2e9648f3c5454e8d2c225cf53b840b": {
      "model_module": "@jupyter-widgets/controls",
      "model_module_version": "1.5.0",
      "model_name": "DescriptionStyleModel",
      "state": {
       "description_width": ""
      }
     },
     "dafeb5c9fb2e46b5b91b145c5ff04de1": {
      "model_module": "@jupyter-widgets/base",
      "model_module_version": "1.2.0",
      "model_name": "LayoutModel",
      "state": {}
     },
     "db890833268f44fb94befbe9daf1d21d": {
      "model_module": "@jupyter-widgets/controls",
      "model_module_version": "1.5.0",
      "model_name": "DescriptionStyleModel",
      "state": {
       "description_width": ""
      }
     },
     "ddd81d839a0a417ab0cdd79079c638bf": {
      "model_module": "@jupyter-widgets/controls",
      "model_module_version": "1.5.0",
      "model_name": "DescriptionStyleModel",
      "state": {
       "description_width": ""
      }
     },
     "ddf13408f5cc403484223f1560f7b230": {
      "model_module": "@jupyter-widgets/base",
      "model_module_version": "1.2.0",
      "model_name": "LayoutModel",
      "state": {}
     },
     "deb1a3d8e44a46abb40ea22aeaca3c25": {
      "model_module": "@jupyter-widgets/controls",
      "model_module_version": "1.5.0",
      "model_name": "BoundedFloatTextModel",
      "state": {
       "description": "beta",
       "description_tooltip": "Refinement parameter",
       "layout": "IPY_MODEL_901c9b1493f54247a4d7431177b1d77c",
       "max": 1000000000,
       "step": null,
       "style": "IPY_MODEL_fddda7a8d2a34fc4adcc439026be19ff",
       "value": 1
      }
     },
     "deb80ce56cbe43bfaeeba377db742b97": {
      "model_module": "@jupyter-widgets/base",
      "model_module_version": "1.2.0",
      "model_name": "LayoutModel",
      "state": {}
     },
     "df492ebd3c4942258a5f493cc611133b": {
      "model_module": "@jupyter-widgets/controls",
      "model_module_version": "1.5.0",
      "model_name": "ButtonModel",
      "state": {
       "description": "Write",
       "disabled": true,
       "icon": "file-download",
       "layout": "IPY_MODEL_320f187077d34c26bef883ab0c528f89",
       "style": "IPY_MODEL_272a1450b84f4ed8bc18c753073ba78c"
      }
     },
     "e132493d8c094cd5b9de51bd14945903": {
      "model_module": "@jupyter-widgets/controls",
      "model_module_version": "1.5.0",
      "model_name": "DescriptionStyleModel",
      "state": {
       "description_width": ""
      }
     },
     "e21485b8bbe547aca2766844405a60bb": {
      "model_module": "@jupyter-widgets/controls",
      "model_module_version": "1.5.0",
      "model_name": "DropdownModel",
      "state": {
       "_options_labels": [
        "Periodic",
        "Free-slip",
        "Outflow"
       ],
       "description": "nclxn",
       "description_tooltip": "Velocity boundary condition where x=xlx",
       "index": 2,
       "layout": "IPY_MODEL_0372962161ef4b638f692c07f7ed7c34",
       "style": "IPY_MODEL_27760b9486714b07bc5b2d15caa080a9"
      }
     },
     "e267ac6886724def9307f0aeb340c0a4": {
      "model_module": "@jupyter-widgets/controls",
      "model_module_version": "1.5.0",
      "model_name": "DescriptionStyleModel",
      "state": {
       "description_width": ""
      }
     },
     "e30c8158c893466abcbaeabe4551439d": {
      "model_module": "@jupyter-widgets/controls",
      "model_module_version": "1.5.0",
      "model_name": "DescriptionStyleModel",
      "state": {
       "description_width": ""
      }
     },
     "e3531cee062047a49f52455e76711e4d": {
      "model_module": "@jupyter-widgets/controls",
      "model_module_version": "1.5.0",
      "model_name": "DescriptionStyleModel",
      "state": {
       "description_width": ""
      }
     },
     "e37fcb030e764c889ce8eb8c6ddd3aef": {
      "model_module": "@jupyter-widgets/controls",
      "model_module_version": "1.5.0",
      "model_name": "BoundedFloatTextModel",
      "state": {
       "description": "nu0nu",
       "description_tooltip": "Ratio between hyperviscosity/viscosity at nu (dissipation factor intensity)",
       "layout": "IPY_MODEL_4d84056a27344cc0b53fcce1f8efc7a6",
       "max": 1000000,
       "step": null,
       "style": "IPY_MODEL_49982a69683b4a039d0593d9321da944",
       "value": 4
      }
     },
     "e415c99c0fbb4c6e82dd76a9a1621de8": {
      "model_module": "@jupyter-widgets/base",
      "model_module_version": "1.2.0",
      "model_name": "LayoutModel",
      "state": {}
     },
     "e480ffbccf0d4414906e51717ebe5f06": {
      "model_module": "@jupyter-widgets/controls",
      "model_module_version": "1.5.0",
      "model_name": "HBoxModel",
      "state": {
       "children": [
        "IPY_MODEL_0abc9eac7b2545899cf4e42326aa6cfb",
        "IPY_MODEL_8622f143d3af4a678e84519c969da29d",
        "IPY_MODEL_ca8a5b5bea254322a43c3b7ca26f2433"
       ],
       "layout": "IPY_MODEL_c429088e837b4eca945926352f62fb85"
      }
     },
     "e494d2467f3e4cb69f0b4f367e46bc0f": {
      "model_module": "@jupyter-widgets/base",
      "model_module_version": "1.2.0",
      "model_name": "LayoutModel",
      "state": {}
     },
     "e4e4cee167ff4f6ab16fbcfb831e52eb": {
      "model_module": "@jupyter-widgets/base",
      "model_module_version": "1.2.0",
      "model_name": "LayoutModel",
      "state": {}
     },
     "e5a71f8816574f64a28a516117d2025c": {
      "model_module": "@jupyter-widgets/base",
      "model_module_version": "1.2.0",
      "model_name": "LayoutModel",
      "state": {}
     },
     "e615dadd41df4fecad4d3da64d80591f": {
      "model_module": "@jupyter-widgets/base",
      "model_module_version": "1.2.0",
      "model_name": "LayoutModel",
      "state": {}
     },
     "e63b1c84df6d44a8ab7cd38e914db596": {
      "model_module": "@jupyter-widgets/controls",
      "model_module_version": "1.5.0",
      "model_name": "HBoxModel",
      "state": {
       "children": [
        "IPY_MODEL_99cd8c56a88f4de9a0628e0b185e311f",
        "IPY_MODEL_987836fd11fb47719a11e29729fff6b9",
        "IPY_MODEL_506a3f2f39a1413c9cc51064922b5aa4"
       ],
       "layout": "IPY_MODEL_4412a891227c41538da73435afe7dfa6"
      }
     },
     "e64456e2453b4b6fbfa7e4032bf9094d": {
      "model_module": "@jupyter-widgets/controls",
      "model_module_version": "1.5.0",
      "model_name": "BoundedIntTextModel",
      "state": {
       "description": "iprocessing",
       "description_tooltip": "Frequency for online postprocessing",
       "layout": "IPY_MODEL_0d687d6da5254e84b225d2e7c2194543",
       "max": 1000000000,
       "min": 1,
       "step": 100,
       "style": "IPY_MODEL_39a8da4f300040e697eddc654282a67b",
       "value": 1000
      }
     },
     "e7a1c7542c0b45209f5ca4b27a4ff465": {
      "model_module": "@jupyter-widgets/controls",
      "model_module_version": "1.5.0",
      "model_name": "HBoxModel",
      "state": {
       "children": [
        "IPY_MODEL_2cd01d0a24a04dcc95c557ad134ae31c"
       ],
       "layout": "IPY_MODEL_bd8e6140185747cc8b4acc3e89d778be"
      }
     },
     "e8fcff103b9c4e39bfffa5e503e6d2ba": {
      "model_module": "@jupyter-widgets/controls",
      "model_module_version": "1.5.0",
      "model_name": "HTMLModel",
      "state": {
       "layout": "IPY_MODEL_9ad5fba8fe4e4ef2973d57c6cbf0255c",
       "style": "IPY_MODEL_ef4e91c2a50c499c84e4d0394840ddd2",
       "value": "<h2>IBMStuff</h2>"
      }
     },
     "ea3b1c37d6354b6fb8517fb0cc9f76a9": {
      "model_module": "@jupyter-widgets/base",
      "model_module_version": "1.2.0",
      "model_name": "LayoutModel",
      "state": {}
     },
     "ea86dcf80291468f901c5bcf3e8b973b": {
      "model_module": "@jupyter-widgets/base",
      "model_module_version": "1.2.0",
      "model_name": "LayoutModel",
      "state": {}
     },
     "ec07f3ccdf534174a2553b57753b7bf3": {
      "model_module": "@jupyter-widgets/controls",
      "model_module_version": "1.5.0",
      "model_name": "DropdownModel",
      "state": {
       "_options_labels": [
        "2nd central",
        "4th central",
        "4th compact",
        "6th compact"
       ],
       "description": "ifirstder",
       "index": 3,
       "layout": "IPY_MODEL_8eecc6e7f44d46d49b05bb3db3cc5447",
       "style": "IPY_MODEL_6eb8e2c50b2d4752be6359a5c6ef987c"
      }
     },
     "ed182df1274c477bbc08fc1e6fbc600c": {
      "model_module": "@jupyter-widgets/base",
      "model_module_version": "1.2.0",
      "model_name": "LayoutModel",
      "state": {}
     },
     "ef4e91c2a50c499c84e4d0394840ddd2": {
      "model_module": "@jupyter-widgets/controls",
      "model_module_version": "1.5.0",
      "model_name": "DescriptionStyleModel",
      "state": {
       "description_width": ""
      }
     },
     "f104d1f8a549407b9ac3015cac4d7f8b": {
      "model_module": "@jupyter-widgets/controls",
      "model_module_version": "1.5.0",
      "model_name": "DropdownModel",
      "state": {
       "_options_labels": [
        "6th compact",
        "hyperviscous 6th"
       ],
       "description": "isecondder",
       "description_tooltip": "Scheme for first order derivative",
       "disabled": true,
       "index": 0,
       "layout": "IPY_MODEL_ca7c50791951469fb755451aa12f32c0",
       "style": "IPY_MODEL_3da95d826f434e8fbc2e72967d31409f"
      }
     },
     "f2a3469579d14ccd80d34596e59596d8": {
      "model_module": "@jupyter-widgets/controls",
      "model_module_version": "1.5.0",
      "model_name": "BoundedFloatTextModel",
      "state": {
       "description": "dy",
       "layout": "IPY_MODEL_71948e0db1f74f3caa31924c5834aed3",
       "max": 1000000,
       "step": null,
       "style": "IPY_MODEL_c9dcb195f7524f529ccd2b99ced2eed4",
       "value": 0.0625
      }
     },
     "f3a02d61e0f349d695beb08329bb676c": {
      "model_module": "@jupyter-widgets/controls",
      "model_module_version": "1.5.0",
      "model_name": "HTMLModel",
      "state": {
       "layout": "IPY_MODEL_a5410f63b3984c028689edeb5d76ad81",
       "style": "IPY_MODEL_b8204e87a0be4f59aa42e6960c195364",
       "value": "<h1>Xcompact3d Parameters</h1>"
      }
     },
     "f43394508a1f44ccb7dea00c22efb872": {
      "model_module": "@jupyter-widgets/controls",
      "model_module_version": "1.5.0",
      "model_name": "VBoxModel",
      "state": {
       "children": [
        "IPY_MODEL_d427278593c84df0bf942d6b0d5c2944"
       ],
       "layout": "IPY_MODEL_8c7941a9f719468b810aa96daa37297e"
      }
     },
     "f5b46047eacb4e139fbc10c0751a2cea": {
      "model_module": "@jupyter-widgets/base",
      "model_module_version": "1.2.0",
      "model_name": "LayoutModel",
      "state": {}
     },
     "f7e1528240ed4b76a22926f5d3fe78c4": {
      "model_module": "@jupyter-widgets/controls",
      "model_module_version": "1.5.0",
      "model_name": "HTMLModel",
      "state": {
       "layout": "IPY_MODEL_1ba5dfe7109d4c899db6f440050afc35",
       "style": "IPY_MODEL_9963bb61222444c2a087b12410f5eb04",
       "value": "<h3>Spatial discretization</h3>"
      }
     },
     "f874ab17bdf24dae937b8d0ed92d6559": {
      "model_module": "@jupyter-widgets/controls",
      "model_module_version": "1.5.0",
      "model_name": "DescriptionStyleModel",
      "state": {
       "description_width": ""
      }
     },
     "fa7e713928534ac7965a02759c6333de": {
      "model_module": "@jupyter-widgets/controls",
      "model_module_version": "1.5.0",
      "model_name": "HBoxModel",
      "state": {
       "children": [
        "IPY_MODEL_340f6915f7b14c14b5fe7f4740f551f4",
        "IPY_MODEL_04d06ff643d04f27a4f5dd809690a666",
        "IPY_MODEL_9748c9bf3cf94e95b3b11741b259870e"
       ],
       "layout": "IPY_MODEL_deb80ce56cbe43bfaeeba377db742b97"
      }
     },
     "fddda7a8d2a34fc4adcc439026be19ff": {
      "model_module": "@jupyter-widgets/controls",
      "model_module_version": "1.5.0",
      "model_name": "DescriptionStyleModel",
      "state": {
       "description_width": ""
      }
     },
     "fe15de333f0f47688573e5fed6dba79d": {
      "model_module": "@jupyter-widgets/controls",
      "model_module_version": "1.5.0",
      "model_name": "DescriptionStyleModel",
      "state": {
       "description_width": ""
      }
     },
     "ff8025adef49416e8cbbd655f0ef11bf": {
      "model_module": "@jupyter-widgets/base",
      "model_module_version": "1.2.0",
      "model_name": "LayoutModel",
      "state": {}
     },
     "ff86495ef46442b39bce543ede0e9267": {
      "model_module": "@jupyter-widgets/base",
      "model_module_version": "1.2.0",
      "model_name": "LayoutModel",
      "state": {}
     },
     "ffa98c52ad194ba5a8c183d59eed8046": {
      "model_module": "@jupyter-widgets/controls",
      "model_module_version": "1.5.0",
      "model_name": "DropdownModel",
      "state": {
       "_options_labels": [
        "Off",
        "On"
       ],
       "description": "ilesmod",
       "description_tooltip": "Enables Large-Eddy methodologies (0: No, 1: Yes)",
       "index": 0,
       "layout": "IPY_MODEL_258701c92db24cda940647bc32ab7524",
       "style": "IPY_MODEL_2c6a5774b08e4aeaada6b9d3ab01efd6"
      }
     }
    },
    "version_major": 2,
    "version_minor": 0
   }
  }
 },
 "nbformat": 4,
 "nbformat_minor": 4
}
