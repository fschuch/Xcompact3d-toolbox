{
 "cells": [
  {
   "cell_type": "markdown",
   "metadata": {},
   "source": [
    "# Turbidity Current in Axisymmetric Configuration"
   ]
  },
  {
   "cell_type": "markdown",
   "metadata": {},
   "source": [
    "![image info](Axisymmetric_flow.jpg)"
   ]
  },
  {
   "cell_type": "code",
   "execution_count": 1,
   "metadata": {},
   "outputs": [],
   "source": [
    "import xcompact3d_toolbox as x3d\n",
    "import xcompact3d_toolbox.sandbox\n",
    "\n",
    "import numpy as np\n",
    "import matplotlib.pyplot as plt\n",
    "\n",
    "import os.path"
   ]
  },
  {
   "cell_type": "markdown",
   "metadata": {},
   "source": [
    "## Parameters"
   ]
  },
  {
   "cell_type": "markdown",
   "metadata": {},
   "source": [
    "* Numerical precision\n",
    "\n",
    "Use `np.float64` if Xcompact3d was compiled with the flag `-DDOUBLE_PREC`, use `np.float32` otherwise."
   ]
  },
  {
   "cell_type": "code",
   "execution_count": 2,
   "metadata": {},
   "outputs": [],
   "source": [
    "x3d.param[\"mytype\"] = np.float32"
   ]
  },
  {
   "cell_type": "markdown",
   "metadata": {},
   "source": [
    "* Xcompact3d's parameters\n",
    "\n",
    "For more information about them, checkout the [API reference](https://xcompact3d-toolbox.readthedocs.io/en/latest/Docstrings.html#xcompact3d_toolbox.parameters.Parameters)."
   ]
  },
  {
   "cell_type": "code",
   "execution_count": 3,
   "metadata": {},
   "outputs": [],
   "source": [
    "prm = x3d.Parameters(\n",
    "    filename = \"input.i3d\",\n",
    "    # BasicParam\n",
    "    itype = 10,\n",
    "    nx = 501,\n",
    "    ny = 73,\n",
    "    nz = 501,\n",
    "    xlx = 20.0,\n",
    "    yly = 2.0,\n",
    "    zlz = 20.0,\n",
    "    nclx1 = 1,\n",
    "    nclxn = 1,\n",
    "    ncly1 = 2,\n",
    "    nclyn = 1,\n",
    "    nclz1 = 1,\n",
    "    nclzn = 1,\n",
    "    re = 3500.0,\n",
    "    init_noise = 0.0125,\n",
    "    dt = 5e-4,\n",
    "    ifirst = 1,\n",
    "    ilast = 80000,\n",
    "    numscalar = 1,\n",
    "    # ScalarParam\n",
    "    nclxS1 = 1,\n",
    "    nclxSn = 1,\n",
    "    nclyS1 = 1,\n",
    "    nclySn = 1,\n",
    "    nclzS1 = 1,\n",
    "    nclzSn = 1,\n",
    "    sc = [1.0],\n",
    "    ri = [0.5],\n",
    "    uset = [0.0],\n",
    "    cp = [1.0],\n",
    ")"
   ]
  },
  {
   "cell_type": "markdown",
   "metadata": {},
   "source": [
    "## Setup"
   ]
  },
  {
   "cell_type": "markdown",
   "metadata": {},
   "source": [
    "Everything needed is in one Dataset (see [API reference](https://xcompact3d-toolbox.readthedocs.io/en/latest/Docstrings.html#xcompact3d_toolbox.sandbox.init_dataset)):"
   ]
  },
  {
   "cell_type": "code",
   "execution_count": 4,
   "metadata": {},
   "outputs": [],
   "source": [
    "ds = x3d.sandbox.init_dataset(prm)"
   ]
  },
  {
   "cell_type": "markdown",
   "metadata": {},
   "source": [
    "Let's see it, data and attributes are attached, try to interact with the icons:"
   ]
  },
  {
   "cell_type": "code",
   "execution_count": 5,
   "metadata": {},
   "outputs": [
    {
     "data": {
      "text/html": [
       "<div><svg style=\"position: absolute; width: 0; height: 0; overflow: hidden\">\n",
       "<defs>\n",
       "<symbol id=\"icon-database\" viewBox=\"0 0 32 32\">\n",
       "<path d=\"M16 0c-8.837 0-16 2.239-16 5v4c0 2.761 7.163 5 16 5s16-2.239 16-5v-4c0-2.761-7.163-5-16-5z\"></path>\n",
       "<path d=\"M16 17c-8.837 0-16-2.239-16-5v6c0 2.761 7.163 5 16 5s16-2.239 16-5v-6c0 2.761-7.163 5-16 5z\"></path>\n",
       "<path d=\"M16 26c-8.837 0-16-2.239-16-5v6c0 2.761 7.163 5 16 5s16-2.239 16-5v-6c0 2.761-7.163 5-16 5z\"></path>\n",
       "</symbol>\n",
       "<symbol id=\"icon-file-text2\" viewBox=\"0 0 32 32\">\n",
       "<path d=\"M28.681 7.159c-0.694-0.947-1.662-2.053-2.724-3.116s-2.169-2.030-3.116-2.724c-1.612-1.182-2.393-1.319-2.841-1.319h-15.5c-1.378 0-2.5 1.121-2.5 2.5v27c0 1.378 1.122 2.5 2.5 2.5h23c1.378 0 2.5-1.122 2.5-2.5v-19.5c0-0.448-0.137-1.23-1.319-2.841zM24.543 5.457c0.959 0.959 1.712 1.825 2.268 2.543h-4.811v-4.811c0.718 0.556 1.584 1.309 2.543 2.268zM28 29.5c0 0.271-0.229 0.5-0.5 0.5h-23c-0.271 0-0.5-0.229-0.5-0.5v-27c0-0.271 0.229-0.5 0.5-0.5 0 0 15.499-0 15.5 0v7c0 0.552 0.448 1 1 1h7v19.5z\"></path>\n",
       "<path d=\"M23 26h-14c-0.552 0-1-0.448-1-1s0.448-1 1-1h14c0.552 0 1 0.448 1 1s-0.448 1-1 1z\"></path>\n",
       "<path d=\"M23 22h-14c-0.552 0-1-0.448-1-1s0.448-1 1-1h14c0.552 0 1 0.448 1 1s-0.448 1-1 1z\"></path>\n",
       "<path d=\"M23 18h-14c-0.552 0-1-0.448-1-1s0.448-1 1-1h14c0.552 0 1 0.448 1 1s-0.448 1-1 1z\"></path>\n",
       "</symbol>\n",
       "</defs>\n",
       "</svg>\n",
       "<style>/* CSS stylesheet for displaying xarray objects in jupyterlab.\n",
       " *\n",
       " */\n",
       "\n",
       ":root {\n",
       "  --xr-font-color0: var(--jp-content-font-color0, rgba(0, 0, 0, 1));\n",
       "  --xr-font-color2: var(--jp-content-font-color2, rgba(0, 0, 0, 0.54));\n",
       "  --xr-font-color3: var(--jp-content-font-color3, rgba(0, 0, 0, 0.38));\n",
       "  --xr-border-color: var(--jp-border-color2, #e0e0e0);\n",
       "  --xr-disabled-color: var(--jp-layout-color3, #bdbdbd);\n",
       "  --xr-background-color: var(--jp-layout-color0, white);\n",
       "  --xr-background-color-row-even: var(--jp-layout-color1, white);\n",
       "  --xr-background-color-row-odd: var(--jp-layout-color2, #eeeeee);\n",
       "}\n",
       "\n",
       "html[theme=dark],\n",
       "body.vscode-dark {\n",
       "  --xr-font-color0: rgba(255, 255, 255, 1);\n",
       "  --xr-font-color2: rgba(255, 255, 255, 0.54);\n",
       "  --xr-font-color3: rgba(255, 255, 255, 0.38);\n",
       "  --xr-border-color: #1F1F1F;\n",
       "  --xr-disabled-color: #515151;\n",
       "  --xr-background-color: #111111;\n",
       "  --xr-background-color-row-even: #111111;\n",
       "  --xr-background-color-row-odd: #313131;\n",
       "}\n",
       "\n",
       ".xr-wrap {\n",
       "  display: block;\n",
       "  min-width: 300px;\n",
       "  max-width: 700px;\n",
       "}\n",
       "\n",
       ".xr-text-repr-fallback {\n",
       "  /* fallback to plain text repr when CSS is not injected (untrusted notebook) */\n",
       "  display: none;\n",
       "}\n",
       "\n",
       ".xr-header {\n",
       "  padding-top: 6px;\n",
       "  padding-bottom: 6px;\n",
       "  margin-bottom: 4px;\n",
       "  border-bottom: solid 1px var(--xr-border-color);\n",
       "}\n",
       "\n",
       ".xr-header > div,\n",
       ".xr-header > ul {\n",
       "  display: inline;\n",
       "  margin-top: 0;\n",
       "  margin-bottom: 0;\n",
       "}\n",
       "\n",
       ".xr-obj-type,\n",
       ".xr-array-name {\n",
       "  margin-left: 2px;\n",
       "  margin-right: 10px;\n",
       "}\n",
       "\n",
       ".xr-obj-type {\n",
       "  color: var(--xr-font-color2);\n",
       "}\n",
       "\n",
       ".xr-sections {\n",
       "  padding-left: 0 !important;\n",
       "  display: grid;\n",
       "  grid-template-columns: 150px auto auto 1fr 20px 20px;\n",
       "}\n",
       "\n",
       ".xr-section-item {\n",
       "  display: contents;\n",
       "}\n",
       "\n",
       ".xr-section-item input {\n",
       "  display: none;\n",
       "}\n",
       "\n",
       ".xr-section-item input + label {\n",
       "  color: var(--xr-disabled-color);\n",
       "}\n",
       "\n",
       ".xr-section-item input:enabled + label {\n",
       "  cursor: pointer;\n",
       "  color: var(--xr-font-color2);\n",
       "}\n",
       "\n",
       ".xr-section-item input:enabled + label:hover {\n",
       "  color: var(--xr-font-color0);\n",
       "}\n",
       "\n",
       ".xr-section-summary {\n",
       "  grid-column: 1;\n",
       "  color: var(--xr-font-color2);\n",
       "  font-weight: 500;\n",
       "}\n",
       "\n",
       ".xr-section-summary > span {\n",
       "  display: inline-block;\n",
       "  padding-left: 0.5em;\n",
       "}\n",
       "\n",
       ".xr-section-summary-in:disabled + label {\n",
       "  color: var(--xr-font-color2);\n",
       "}\n",
       "\n",
       ".xr-section-summary-in + label:before {\n",
       "  display: inline-block;\n",
       "  content: '►';\n",
       "  font-size: 11px;\n",
       "  width: 15px;\n",
       "  text-align: center;\n",
       "}\n",
       "\n",
       ".xr-section-summary-in:disabled + label:before {\n",
       "  color: var(--xr-disabled-color);\n",
       "}\n",
       "\n",
       ".xr-section-summary-in:checked + label:before {\n",
       "  content: '▼';\n",
       "}\n",
       "\n",
       ".xr-section-summary-in:checked + label > span {\n",
       "  display: none;\n",
       "}\n",
       "\n",
       ".xr-section-summary,\n",
       ".xr-section-inline-details {\n",
       "  padding-top: 4px;\n",
       "  padding-bottom: 4px;\n",
       "}\n",
       "\n",
       ".xr-section-inline-details {\n",
       "  grid-column: 2 / -1;\n",
       "}\n",
       "\n",
       ".xr-section-details {\n",
       "  display: none;\n",
       "  grid-column: 1 / -1;\n",
       "  margin-bottom: 5px;\n",
       "}\n",
       "\n",
       ".xr-section-summary-in:checked ~ .xr-section-details {\n",
       "  display: contents;\n",
       "}\n",
       "\n",
       ".xr-array-wrap {\n",
       "  grid-column: 1 / -1;\n",
       "  display: grid;\n",
       "  grid-template-columns: 20px auto;\n",
       "}\n",
       "\n",
       ".xr-array-wrap > label {\n",
       "  grid-column: 1;\n",
       "  vertical-align: top;\n",
       "}\n",
       "\n",
       ".xr-preview {\n",
       "  color: var(--xr-font-color3);\n",
       "}\n",
       "\n",
       ".xr-array-preview,\n",
       ".xr-array-data {\n",
       "  padding: 0 5px !important;\n",
       "  grid-column: 2;\n",
       "}\n",
       "\n",
       ".xr-array-data,\n",
       ".xr-array-in:checked ~ .xr-array-preview {\n",
       "  display: none;\n",
       "}\n",
       "\n",
       ".xr-array-in:checked ~ .xr-array-data,\n",
       ".xr-array-preview {\n",
       "  display: inline-block;\n",
       "}\n",
       "\n",
       ".xr-dim-list {\n",
       "  display: inline-block !important;\n",
       "  list-style: none;\n",
       "  padding: 0 !important;\n",
       "  margin: 0;\n",
       "}\n",
       "\n",
       ".xr-dim-list li {\n",
       "  display: inline-block;\n",
       "  padding: 0;\n",
       "  margin: 0;\n",
       "}\n",
       "\n",
       ".xr-dim-list:before {\n",
       "  content: '(';\n",
       "}\n",
       "\n",
       ".xr-dim-list:after {\n",
       "  content: ')';\n",
       "}\n",
       "\n",
       ".xr-dim-list li:not(:last-child):after {\n",
       "  content: ',';\n",
       "  padding-right: 5px;\n",
       "}\n",
       "\n",
       ".xr-has-index {\n",
       "  font-weight: bold;\n",
       "}\n",
       "\n",
       ".xr-var-list,\n",
       ".xr-var-item {\n",
       "  display: contents;\n",
       "}\n",
       "\n",
       ".xr-var-item > div,\n",
       ".xr-var-item label,\n",
       ".xr-var-item > .xr-var-name span {\n",
       "  background-color: var(--xr-background-color-row-even);\n",
       "  margin-bottom: 0;\n",
       "}\n",
       "\n",
       ".xr-var-item > .xr-var-name:hover span {\n",
       "  padding-right: 5px;\n",
       "}\n",
       "\n",
       ".xr-var-list > li:nth-child(odd) > div,\n",
       ".xr-var-list > li:nth-child(odd) > label,\n",
       ".xr-var-list > li:nth-child(odd) > .xr-var-name span {\n",
       "  background-color: var(--xr-background-color-row-odd);\n",
       "}\n",
       "\n",
       ".xr-var-name {\n",
       "  grid-column: 1;\n",
       "}\n",
       "\n",
       ".xr-var-dims {\n",
       "  grid-column: 2;\n",
       "}\n",
       "\n",
       ".xr-var-dtype {\n",
       "  grid-column: 3;\n",
       "  text-align: right;\n",
       "  color: var(--xr-font-color2);\n",
       "}\n",
       "\n",
       ".xr-var-preview {\n",
       "  grid-column: 4;\n",
       "}\n",
       "\n",
       ".xr-var-name,\n",
       ".xr-var-dims,\n",
       ".xr-var-dtype,\n",
       ".xr-preview,\n",
       ".xr-attrs dt {\n",
       "  white-space: nowrap;\n",
       "  overflow: hidden;\n",
       "  text-overflow: ellipsis;\n",
       "  padding-right: 10px;\n",
       "}\n",
       "\n",
       ".xr-var-name:hover,\n",
       ".xr-var-dims:hover,\n",
       ".xr-var-dtype:hover,\n",
       ".xr-attrs dt:hover {\n",
       "  overflow: visible;\n",
       "  width: auto;\n",
       "  z-index: 1;\n",
       "}\n",
       "\n",
       ".xr-var-attrs,\n",
       ".xr-var-data {\n",
       "  display: none;\n",
       "  background-color: var(--xr-background-color) !important;\n",
       "  padding-bottom: 5px !important;\n",
       "}\n",
       "\n",
       ".xr-var-attrs-in:checked ~ .xr-var-attrs,\n",
       ".xr-var-data-in:checked ~ .xr-var-data {\n",
       "  display: block;\n",
       "}\n",
       "\n",
       ".xr-var-data > table {\n",
       "  float: right;\n",
       "}\n",
       "\n",
       ".xr-var-name span,\n",
       ".xr-var-data,\n",
       ".xr-attrs {\n",
       "  padding-left: 25px !important;\n",
       "}\n",
       "\n",
       ".xr-attrs,\n",
       ".xr-var-attrs,\n",
       ".xr-var-data {\n",
       "  grid-column: 1 / -1;\n",
       "}\n",
       "\n",
       "dl.xr-attrs {\n",
       "  padding: 0;\n",
       "  margin: 0;\n",
       "  display: grid;\n",
       "  grid-template-columns: 125px auto;\n",
       "}\n",
       "\n",
       ".xr-attrs dt, dd {\n",
       "  padding: 0;\n",
       "  margin: 0;\n",
       "  float: left;\n",
       "  padding-right: 10px;\n",
       "  width: auto;\n",
       "}\n",
       "\n",
       ".xr-attrs dt {\n",
       "  font-weight: normal;\n",
       "  grid-column: 1;\n",
       "}\n",
       "\n",
       ".xr-attrs dt:hover span {\n",
       "  display: inline-block;\n",
       "  background: var(--xr-background-color);\n",
       "  padding-right: 10px;\n",
       "}\n",
       "\n",
       ".xr-attrs dd {\n",
       "  grid-column: 2;\n",
       "  white-space: pre-wrap;\n",
       "  word-break: break-all;\n",
       "}\n",
       "\n",
       ".xr-icon-database,\n",
       ".xr-icon-file-text2 {\n",
       "  display: inline-block;\n",
       "  vertical-align: middle;\n",
       "  width: 1em;\n",
       "  height: 1.5em !important;\n",
       "  stroke-width: 0;\n",
       "  stroke: currentColor;\n",
       "  fill: currentColor;\n",
       "}\n",
       "</style><pre class='xr-text-repr-fallback'>&lt;xarray.Dataset&gt;\n",
       "Dimensions:  (n: 1, x: 501, y: 73, z: 501)\n",
       "Coordinates:\n",
       "  * x        (x) float64 0.0 0.04 0.08 0.12 0.16 ... 19.88 19.92 19.96 20.0\n",
       "  * y        (y) float64 0.0 0.02778 0.05556 0.08333 ... 1.917 1.944 1.972 2.0\n",
       "  * z        (z) float64 0.0 0.04 0.08 0.12 0.16 ... 19.88 19.92 19.96 20.0\n",
       "  * n        (n) int32 0\n",
       "Data variables:\n",
       "    ux       (x, y, z) float64 0.0 0.0 0.0 0.0 0.0 0.0 ... 0.0 0.0 0.0 0.0 0.0\n",
       "    uy       (x, y, z) float64 0.0 0.0 0.0 0.0 0.0 0.0 ... 0.0 0.0 0.0 0.0 0.0\n",
       "    uz       (x, y, z) float64 0.0 0.0 0.0 0.0 0.0 0.0 ... 0.0 0.0 0.0 0.0 0.0\n",
       "    phi      (n, x, y, z) float64 0.0 0.0 0.0 0.0 0.0 ... 0.0 0.0 0.0 0.0 0.0</pre><div class='xr-wrap' hidden><div class='xr-header'><div class='xr-obj-type'>xarray.Dataset</div></div><ul class='xr-sections'><li class='xr-section-item'><input id='section-376b6f7b-288e-4ad9-9df3-941616b1a1d6' class='xr-section-summary-in' type='checkbox' disabled ><label for='section-376b6f7b-288e-4ad9-9df3-941616b1a1d6' class='xr-section-summary'  title='Expand/collapse section'>Dimensions:</label><div class='xr-section-inline-details'><ul class='xr-dim-list'><li><span class='xr-has-index'>n</span>: 1</li><li><span class='xr-has-index'>x</span>: 501</li><li><span class='xr-has-index'>y</span>: 73</li><li><span class='xr-has-index'>z</span>: 501</li></ul></div><div class='xr-section-details'></div></li><li class='xr-section-item'><input id='section-edbfa871-3c92-4397-a1b5-c2e33a2b64ef' class='xr-section-summary-in' type='checkbox'  checked><label for='section-edbfa871-3c92-4397-a1b5-c2e33a2b64ef' class='xr-section-summary' >Coordinates: <span>(4)</span></label><div class='xr-section-inline-details'></div><div class='xr-section-details'><ul class='xr-var-list'><li class='xr-var-item'><div class='xr-var-name'><span class='xr-has-index'>x</span></div><div class='xr-var-dims'>(x)</div><div class='xr-var-dtype'>float64</div><div class='xr-var-preview xr-preview'>0.0 0.04 0.08 ... 19.92 19.96 20.0</div><input id='attrs-1cd03029-97ff-41af-b2ba-2869816a7f7f' class='xr-var-attrs-in' type='checkbox' ><label for='attrs-1cd03029-97ff-41af-b2ba-2869816a7f7f' title='Show/Hide attributes'><svg class='icon xr-icon-file-text2'><use xlink:href='#icon-file-text2'></use></svg></label><input id='data-4b88b654-cefa-49f9-91d0-0d7967525280' class='xr-var-data-in' type='checkbox'><label for='data-4b88b654-cefa-49f9-91d0-0d7967525280' title='Show/Hide data repr'><svg class='icon xr-icon-database'><use xlink:href='#icon-database'></use></svg></label><div class='xr-var-attrs'><dl class='xr-attrs'><dt><span>name :</span></dt><dd>Streamwise coordinate</dd><dt><span>long_name :</span></dt><dd>$x_1$</dd></dl></div><div class='xr-var-data'><pre>array([ 0.  ,  0.04,  0.08, ..., 19.92, 19.96, 20.  ])</pre></div></li><li class='xr-var-item'><div class='xr-var-name'><span class='xr-has-index'>y</span></div><div class='xr-var-dims'>(y)</div><div class='xr-var-dtype'>float64</div><div class='xr-var-preview xr-preview'>0.0 0.02778 0.05556 ... 1.972 2.0</div><input id='attrs-4e92ea0d-938f-4d5a-95a0-d8bf2a557ab2' class='xr-var-attrs-in' type='checkbox' ><label for='attrs-4e92ea0d-938f-4d5a-95a0-d8bf2a557ab2' title='Show/Hide attributes'><svg class='icon xr-icon-file-text2'><use xlink:href='#icon-file-text2'></use></svg></label><input id='data-cb06e3a4-c78a-4d72-95b5-c4a84a063f88' class='xr-var-data-in' type='checkbox'><label for='data-cb06e3a4-c78a-4d72-95b5-c4a84a063f88' title='Show/Hide data repr'><svg class='icon xr-icon-database'><use xlink:href='#icon-database'></use></svg></label><div class='xr-var-attrs'><dl class='xr-attrs'><dt><span>name :</span></dt><dd>Vertical coordinate</dd><dt><span>long_name :</span></dt><dd>$x_2$</dd></dl></div><div class='xr-var-data'><pre>array([0.      , 0.027778, 0.055556, 0.083333, 0.111111, 0.138889, 0.166667,\n",
       "       0.194444, 0.222222, 0.25    , 0.277778, 0.305556, 0.333333, 0.361111,\n",
       "       0.388889, 0.416667, 0.444444, 0.472222, 0.5     , 0.527778, 0.555556,\n",
       "       0.583333, 0.611111, 0.638889, 0.666667, 0.694444, 0.722222, 0.75    ,\n",
       "       0.777778, 0.805556, 0.833333, 0.861111, 0.888889, 0.916667, 0.944444,\n",
       "       0.972222, 1.      , 1.027778, 1.055556, 1.083333, 1.111111, 1.138889,\n",
       "       1.166667, 1.194444, 1.222222, 1.25    , 1.277778, 1.305556, 1.333333,\n",
       "       1.361111, 1.388889, 1.416667, 1.444444, 1.472222, 1.5     , 1.527778,\n",
       "       1.555556, 1.583333, 1.611111, 1.638889, 1.666667, 1.694444, 1.722222,\n",
       "       1.75    , 1.777778, 1.805556, 1.833333, 1.861111, 1.888889, 1.916667,\n",
       "       1.944444, 1.972222, 2.      ])</pre></div></li><li class='xr-var-item'><div class='xr-var-name'><span class='xr-has-index'>z</span></div><div class='xr-var-dims'>(z)</div><div class='xr-var-dtype'>float64</div><div class='xr-var-preview xr-preview'>0.0 0.04 0.08 ... 19.92 19.96 20.0</div><input id='attrs-d0f438c7-6079-48cc-8e4a-4b3c70a07c3b' class='xr-var-attrs-in' type='checkbox' ><label for='attrs-d0f438c7-6079-48cc-8e4a-4b3c70a07c3b' title='Show/Hide attributes'><svg class='icon xr-icon-file-text2'><use xlink:href='#icon-file-text2'></use></svg></label><input id='data-ef2c615a-98c6-46ee-a278-816a70e96b97' class='xr-var-data-in' type='checkbox'><label for='data-ef2c615a-98c6-46ee-a278-816a70e96b97' title='Show/Hide data repr'><svg class='icon xr-icon-database'><use xlink:href='#icon-database'></use></svg></label><div class='xr-var-attrs'><dl class='xr-attrs'><dt><span>name :</span></dt><dd>Spanwise coordinate</dd><dt><span>long_name :</span></dt><dd>$x_3$</dd></dl></div><div class='xr-var-data'><pre>array([ 0.  ,  0.04,  0.08, ..., 19.92, 19.96, 20.  ])</pre></div></li><li class='xr-var-item'><div class='xr-var-name'><span class='xr-has-index'>n</span></div><div class='xr-var-dims'>(n)</div><div class='xr-var-dtype'>int32</div><div class='xr-var-preview xr-preview'>0</div><input id='attrs-b16a76a6-0082-4cda-9fcd-de5d33356516' class='xr-var-attrs-in' type='checkbox' ><label for='attrs-b16a76a6-0082-4cda-9fcd-de5d33356516' title='Show/Hide attributes'><svg class='icon xr-icon-file-text2'><use xlink:href='#icon-file-text2'></use></svg></label><input id='data-d5ac68ae-3ded-40f6-8640-35a35c6d5a71' class='xr-var-data-in' type='checkbox'><label for='data-d5ac68ae-3ded-40f6-8640-35a35c6d5a71' title='Show/Hide data repr'><svg class='icon xr-icon-database'><use xlink:href='#icon-database'></use></svg></label><div class='xr-var-attrs'><dl class='xr-attrs'><dt><span>name :</span></dt><dd>Scalar fraction</dd><dt><span>long_name :</span></dt><dd>$\\ell$</dd></dl></div><div class='xr-var-data'><pre>array([0])</pre></div></li></ul></div></li><li class='xr-section-item'><input id='section-b8405b95-da27-4cff-933d-f6238da4a4a6' class='xr-section-summary-in' type='checkbox'  checked><label for='section-b8405b95-da27-4cff-933d-f6238da4a4a6' class='xr-section-summary' >Data variables: <span>(4)</span></label><div class='xr-section-inline-details'></div><div class='xr-section-details'><ul class='xr-var-list'><li class='xr-var-item'><div class='xr-var-name'><span>ux</span></div><div class='xr-var-dims'>(x, y, z)</div><div class='xr-var-dtype'>float64</div><div class='xr-var-preview xr-preview'>0.0 0.0 0.0 0.0 ... 0.0 0.0 0.0 0.0</div><input id='attrs-db3e8247-7681-431c-b69d-4c50cee65bdf' class='xr-var-attrs-in' type='checkbox' ><label for='attrs-db3e8247-7681-431c-b69d-4c50cee65bdf' title='Show/Hide attributes'><svg class='icon xr-icon-file-text2'><use xlink:href='#icon-file-text2'></use></svg></label><input id='data-16a2985a-afc1-4982-9416-0e71f086faf5' class='xr-var-data-in' type='checkbox'><label for='data-16a2985a-afc1-4982-9416-0e71f086faf5' title='Show/Hide data repr'><svg class='icon xr-icon-database'><use xlink:href='#icon-database'></use></svg></label><div class='xr-var-attrs'><dl class='xr-attrs'><dt><span>file_name :</span></dt><dd>data\\ux</dd><dt><span>name :</span></dt><dd>Initial Condition for Streamwise Velocity</dd><dt><span>long_name :</span></dt><dd>$u_1 (x_1,x_2,x_3,t=0)$</dd></dl></div><div class='xr-var-data'><pre>array([[[0., 0., 0., ..., 0., 0., 0.],\n",
       "        [0., 0., 0., ..., 0., 0., 0.],\n",
       "        [0., 0., 0., ..., 0., 0., 0.],\n",
       "        ...,\n",
       "        [0., 0., 0., ..., 0., 0., 0.],\n",
       "        [0., 0., 0., ..., 0., 0., 0.],\n",
       "        [0., 0., 0., ..., 0., 0., 0.]],\n",
       "\n",
       "       [[0., 0., 0., ..., 0., 0., 0.],\n",
       "        [0., 0., 0., ..., 0., 0., 0.],\n",
       "        [0., 0., 0., ..., 0., 0., 0.],\n",
       "        ...,\n",
       "        [0., 0., 0., ..., 0., 0., 0.],\n",
       "        [0., 0., 0., ..., 0., 0., 0.],\n",
       "        [0., 0., 0., ..., 0., 0., 0.]],\n",
       "\n",
       "       [[0., 0., 0., ..., 0., 0., 0.],\n",
       "        [0., 0., 0., ..., 0., 0., 0.],\n",
       "        [0., 0., 0., ..., 0., 0., 0.],\n",
       "        ...,\n",
       "...\n",
       "        ...,\n",
       "        [0., 0., 0., ..., 0., 0., 0.],\n",
       "        [0., 0., 0., ..., 0., 0., 0.],\n",
       "        [0., 0., 0., ..., 0., 0., 0.]],\n",
       "\n",
       "       [[0., 0., 0., ..., 0., 0., 0.],\n",
       "        [0., 0., 0., ..., 0., 0., 0.],\n",
       "        [0., 0., 0., ..., 0., 0., 0.],\n",
       "        ...,\n",
       "        [0., 0., 0., ..., 0., 0., 0.],\n",
       "        [0., 0., 0., ..., 0., 0., 0.],\n",
       "        [0., 0., 0., ..., 0., 0., 0.]],\n",
       "\n",
       "       [[0., 0., 0., ..., 0., 0., 0.],\n",
       "        [0., 0., 0., ..., 0., 0., 0.],\n",
       "        [0., 0., 0., ..., 0., 0., 0.],\n",
       "        ...,\n",
       "        [0., 0., 0., ..., 0., 0., 0.],\n",
       "        [0., 0., 0., ..., 0., 0., 0.],\n",
       "        [0., 0., 0., ..., 0., 0., 0.]]])</pre></div></li><li class='xr-var-item'><div class='xr-var-name'><span>uy</span></div><div class='xr-var-dims'>(x, y, z)</div><div class='xr-var-dtype'>float64</div><div class='xr-var-preview xr-preview'>0.0 0.0 0.0 0.0 ... 0.0 0.0 0.0 0.0</div><input id='attrs-46acfcc4-3973-4a38-a67b-d73790247f78' class='xr-var-attrs-in' type='checkbox' ><label for='attrs-46acfcc4-3973-4a38-a67b-d73790247f78' title='Show/Hide attributes'><svg class='icon xr-icon-file-text2'><use xlink:href='#icon-file-text2'></use></svg></label><input id='data-8676992c-42b5-4d58-a852-ae2740906f28' class='xr-var-data-in' type='checkbox'><label for='data-8676992c-42b5-4d58-a852-ae2740906f28' title='Show/Hide data repr'><svg class='icon xr-icon-database'><use xlink:href='#icon-database'></use></svg></label><div class='xr-var-attrs'><dl class='xr-attrs'><dt><span>file_name :</span></dt><dd>data\\uy</dd><dt><span>name :</span></dt><dd>Initial Condition for Vertical Velocity</dd><dt><span>long_name :</span></dt><dd>$u_2 (x_1,x_2,x_3,t=0)$</dd></dl></div><div class='xr-var-data'><pre>array([[[0., 0., 0., ..., 0., 0., 0.],\n",
       "        [0., 0., 0., ..., 0., 0., 0.],\n",
       "        [0., 0., 0., ..., 0., 0., 0.],\n",
       "        ...,\n",
       "        [0., 0., 0., ..., 0., 0., 0.],\n",
       "        [0., 0., 0., ..., 0., 0., 0.],\n",
       "        [0., 0., 0., ..., 0., 0., 0.]],\n",
       "\n",
       "       [[0., 0., 0., ..., 0., 0., 0.],\n",
       "        [0., 0., 0., ..., 0., 0., 0.],\n",
       "        [0., 0., 0., ..., 0., 0., 0.],\n",
       "        ...,\n",
       "        [0., 0., 0., ..., 0., 0., 0.],\n",
       "        [0., 0., 0., ..., 0., 0., 0.],\n",
       "        [0., 0., 0., ..., 0., 0., 0.]],\n",
       "\n",
       "       [[0., 0., 0., ..., 0., 0., 0.],\n",
       "        [0., 0., 0., ..., 0., 0., 0.],\n",
       "        [0., 0., 0., ..., 0., 0., 0.],\n",
       "        ...,\n",
       "...\n",
       "        ...,\n",
       "        [0., 0., 0., ..., 0., 0., 0.],\n",
       "        [0., 0., 0., ..., 0., 0., 0.],\n",
       "        [0., 0., 0., ..., 0., 0., 0.]],\n",
       "\n",
       "       [[0., 0., 0., ..., 0., 0., 0.],\n",
       "        [0., 0., 0., ..., 0., 0., 0.],\n",
       "        [0., 0., 0., ..., 0., 0., 0.],\n",
       "        ...,\n",
       "        [0., 0., 0., ..., 0., 0., 0.],\n",
       "        [0., 0., 0., ..., 0., 0., 0.],\n",
       "        [0., 0., 0., ..., 0., 0., 0.]],\n",
       "\n",
       "       [[0., 0., 0., ..., 0., 0., 0.],\n",
       "        [0., 0., 0., ..., 0., 0., 0.],\n",
       "        [0., 0., 0., ..., 0., 0., 0.],\n",
       "        ...,\n",
       "        [0., 0., 0., ..., 0., 0., 0.],\n",
       "        [0., 0., 0., ..., 0., 0., 0.],\n",
       "        [0., 0., 0., ..., 0., 0., 0.]]])</pre></div></li><li class='xr-var-item'><div class='xr-var-name'><span>uz</span></div><div class='xr-var-dims'>(x, y, z)</div><div class='xr-var-dtype'>float64</div><div class='xr-var-preview xr-preview'>0.0 0.0 0.0 0.0 ... 0.0 0.0 0.0 0.0</div><input id='attrs-e3565f1a-0a93-4e66-ba27-57c0dd25b400' class='xr-var-attrs-in' type='checkbox' ><label for='attrs-e3565f1a-0a93-4e66-ba27-57c0dd25b400' title='Show/Hide attributes'><svg class='icon xr-icon-file-text2'><use xlink:href='#icon-file-text2'></use></svg></label><input id='data-ae037a14-397b-4308-b403-d09a275bba7c' class='xr-var-data-in' type='checkbox'><label for='data-ae037a14-397b-4308-b403-d09a275bba7c' title='Show/Hide data repr'><svg class='icon xr-icon-database'><use xlink:href='#icon-database'></use></svg></label><div class='xr-var-attrs'><dl class='xr-attrs'><dt><span>file_name :</span></dt><dd>data\\uz</dd><dt><span>name :</span></dt><dd>Initial Condition for Spanwise Velocity</dd><dt><span>long_name :</span></dt><dd>$u_3 (x_1,x_2,x_3,t=0)$</dd></dl></div><div class='xr-var-data'><pre>array([[[0., 0., 0., ..., 0., 0., 0.],\n",
       "        [0., 0., 0., ..., 0., 0., 0.],\n",
       "        [0., 0., 0., ..., 0., 0., 0.],\n",
       "        ...,\n",
       "        [0., 0., 0., ..., 0., 0., 0.],\n",
       "        [0., 0., 0., ..., 0., 0., 0.],\n",
       "        [0., 0., 0., ..., 0., 0., 0.]],\n",
       "\n",
       "       [[0., 0., 0., ..., 0., 0., 0.],\n",
       "        [0., 0., 0., ..., 0., 0., 0.],\n",
       "        [0., 0., 0., ..., 0., 0., 0.],\n",
       "        ...,\n",
       "        [0., 0., 0., ..., 0., 0., 0.],\n",
       "        [0., 0., 0., ..., 0., 0., 0.],\n",
       "        [0., 0., 0., ..., 0., 0., 0.]],\n",
       "\n",
       "       [[0., 0., 0., ..., 0., 0., 0.],\n",
       "        [0., 0., 0., ..., 0., 0., 0.],\n",
       "        [0., 0., 0., ..., 0., 0., 0.],\n",
       "        ...,\n",
       "...\n",
       "        ...,\n",
       "        [0., 0., 0., ..., 0., 0., 0.],\n",
       "        [0., 0., 0., ..., 0., 0., 0.],\n",
       "        [0., 0., 0., ..., 0., 0., 0.]],\n",
       "\n",
       "       [[0., 0., 0., ..., 0., 0., 0.],\n",
       "        [0., 0., 0., ..., 0., 0., 0.],\n",
       "        [0., 0., 0., ..., 0., 0., 0.],\n",
       "        ...,\n",
       "        [0., 0., 0., ..., 0., 0., 0.],\n",
       "        [0., 0., 0., ..., 0., 0., 0.],\n",
       "        [0., 0., 0., ..., 0., 0., 0.]],\n",
       "\n",
       "       [[0., 0., 0., ..., 0., 0., 0.],\n",
       "        [0., 0., 0., ..., 0., 0., 0.],\n",
       "        [0., 0., 0., ..., 0., 0., 0.],\n",
       "        ...,\n",
       "        [0., 0., 0., ..., 0., 0., 0.],\n",
       "        [0., 0., 0., ..., 0., 0., 0.],\n",
       "        [0., 0., 0., ..., 0., 0., 0.]]])</pre></div></li><li class='xr-var-item'><div class='xr-var-name'><span>phi</span></div><div class='xr-var-dims'>(n, x, y, z)</div><div class='xr-var-dtype'>float64</div><div class='xr-var-preview xr-preview'>0.0 0.0 0.0 0.0 ... 0.0 0.0 0.0 0.0</div><input id='attrs-595fd559-5fb3-4153-8e5c-c5dadfc644e6' class='xr-var-attrs-in' type='checkbox' ><label for='attrs-595fd559-5fb3-4153-8e5c-c5dadfc644e6' title='Show/Hide attributes'><svg class='icon xr-icon-file-text2'><use xlink:href='#icon-file-text2'></use></svg></label><input id='data-283eedf5-4984-4dd8-a65b-9a83ec70026f' class='xr-var-data-in' type='checkbox'><label for='data-283eedf5-4984-4dd8-a65b-9a83ec70026f' title='Show/Hide data repr'><svg class='icon xr-icon-database'><use xlink:href='#icon-database'></use></svg></label><div class='xr-var-attrs'><dl class='xr-attrs'><dt><span>file_name :</span></dt><dd>data\\phi</dd><dt><span>name :</span></dt><dd>Initial Condition for Scalar field(s)</dd><dt><span>long_name :</span></dt><dd>$\\varphi (x_1,x_2,x_3,n,t=0)$</dd></dl></div><div class='xr-var-data'><pre>array([[[[0., 0., 0., ..., 0., 0., 0.],\n",
       "         [0., 0., 0., ..., 0., 0., 0.],\n",
       "         [0., 0., 0., ..., 0., 0., 0.],\n",
       "         ...,\n",
       "         [0., 0., 0., ..., 0., 0., 0.],\n",
       "         [0., 0., 0., ..., 0., 0., 0.],\n",
       "         [0., 0., 0., ..., 0., 0., 0.]],\n",
       "\n",
       "        [[0., 0., 0., ..., 0., 0., 0.],\n",
       "         [0., 0., 0., ..., 0., 0., 0.],\n",
       "         [0., 0., 0., ..., 0., 0., 0.],\n",
       "         ...,\n",
       "         [0., 0., 0., ..., 0., 0., 0.],\n",
       "         [0., 0., 0., ..., 0., 0., 0.],\n",
       "         [0., 0., 0., ..., 0., 0., 0.]],\n",
       "\n",
       "        [[0., 0., 0., ..., 0., 0., 0.],\n",
       "         [0., 0., 0., ..., 0., 0., 0.],\n",
       "         [0., 0., 0., ..., 0., 0., 0.],\n",
       "         ...,\n",
       "...\n",
       "         ...,\n",
       "         [0., 0., 0., ..., 0., 0., 0.],\n",
       "         [0., 0., 0., ..., 0., 0., 0.],\n",
       "         [0., 0., 0., ..., 0., 0., 0.]],\n",
       "\n",
       "        [[0., 0., 0., ..., 0., 0., 0.],\n",
       "         [0., 0., 0., ..., 0., 0., 0.],\n",
       "         [0., 0., 0., ..., 0., 0., 0.],\n",
       "         ...,\n",
       "         [0., 0., 0., ..., 0., 0., 0.],\n",
       "         [0., 0., 0., ..., 0., 0., 0.],\n",
       "         [0., 0., 0., ..., 0., 0., 0.]],\n",
       "\n",
       "        [[0., 0., 0., ..., 0., 0., 0.],\n",
       "         [0., 0., 0., ..., 0., 0., 0.],\n",
       "         [0., 0., 0., ..., 0., 0., 0.],\n",
       "         ...,\n",
       "         [0., 0., 0., ..., 0., 0., 0.],\n",
       "         [0., 0., 0., ..., 0., 0., 0.],\n",
       "         [0., 0., 0., ..., 0., 0., 0.]]]])</pre></div></li></ul></div></li><li class='xr-section-item'><input id='section-ee457ddc-bda3-4021-adf8-446bc39c1475' class='xr-section-summary-in' type='checkbox' disabled ><label for='section-ee457ddc-bda3-4021-adf8-446bc39c1475' class='xr-section-summary'  title='Expand/collapse section'>Attributes: <span>(0)</span></label><div class='xr-section-inline-details'></div><div class='xr-section-details'><dl class='xr-attrs'></dl></div></li></ul></div></div>"
      ],
      "text/plain": [
       "<xarray.Dataset>\n",
       "Dimensions:  (n: 1, x: 501, y: 73, z: 501)\n",
       "Coordinates:\n",
       "  * x        (x) float64 0.0 0.04 0.08 0.12 0.16 ... 19.88 19.92 19.96 20.0\n",
       "  * y        (y) float64 0.0 0.02778 0.05556 0.08333 ... 1.917 1.944 1.972 2.0\n",
       "  * z        (z) float64 0.0 0.04 0.08 0.12 0.16 ... 19.88 19.92 19.96 20.0\n",
       "  * n        (n) int32 0\n",
       "Data variables:\n",
       "    ux       (x, y, z) float64 0.0 0.0 0.0 0.0 0.0 0.0 ... 0.0 0.0 0.0 0.0 0.0\n",
       "    uy       (x, y, z) float64 0.0 0.0 0.0 0.0 0.0 0.0 ... 0.0 0.0 0.0 0.0 0.0\n",
       "    uz       (x, y, z) float64 0.0 0.0 0.0 0.0 0.0 0.0 ... 0.0 0.0 0.0 0.0 0.0\n",
       "    phi      (n, x, y, z) float64 0.0 0.0 0.0 0.0 0.0 ... 0.0 0.0 0.0 0.0 0.0"
      ]
     },
     "execution_count": 5,
     "metadata": {},
     "output_type": "execute_result"
    }
   ],
   "source": [
    "ds"
   ]
  },
  {
   "cell_type": "markdown",
   "metadata": {},
   "source": [
    "### Initial Condition"
   ]
  },
  {
   "cell_type": "markdown",
   "metadata": {},
   "source": [
    "A random noise will be applied to the initial velocity field, we start creating a modulation function `mod`, to apply it just near the fresh/turbidity interface:"
   ]
  },
  {
   "cell_type": "code",
   "execution_count": 6,
   "metadata": {},
   "outputs": [
    {
     "data": {
      "image/png": "[encoded data removed]",
      "text/plain": [
       "<Figure size 432x288 with 2 Axes>"
      ]
     },
     "metadata": {
      "needs_background": "light"
     },
     "output_type": "display_data"
    }
   ],
   "source": [
    "# Position of the initial interface in the polar coordinate\n",
    "r0 = 4.0\n",
    "\n",
    "# Random noise with fixed seed,\n",
    "# important for reproducibility, development and debugging\n",
    "if prm.iin == 2:\n",
    "    np.random.seed(seed=67)\n",
    "\n",
    "radius = np.sqrt(ds.x**2 + ds.z**2.)\n",
    "\n",
    "mod = np.exp(-25. * (radius - r0)**2.)\n",
    "\n",
    "# This attribute will be shown at the colorbar\n",
    "mod.attrs['long_name'] = 'Noise modulation'\n",
    "\n",
    "mod.plot();"
   ]
  },
  {
   "cell_type": "markdown",
   "metadata": {},
   "source": [
    "Now we reset velocity fields `ds[key] *= 0.0`, just to guarantee consistency in the case of multiple executions of this cell. Notice that `ds[key] = 0.0` may overwrite all the metadata contained in the array, so it should be avoided.\n",
    "\n",
    "We then add a random number array with the right shape and multiply by the noise amplitude at the initial condition `init_noise` and multiply again by our modulation function `mod`, defined previously.\n",
    "\n",
    "Plotting a `xarray.DataArray` is as simple as `da.plot()` (see its [user guide](http://xarray.pydata.org/en/stable/plotting.html)), I'm adding extra options just to exemplify how easily we can slice the vertical coordinate and produce multiple plots:"
   ]
  },
  {
   "cell_type": "code",
   "execution_count": 7,
   "metadata": {},
   "outputs": [
    {
     "name": "stdout",
     "output_type": "stream",
     "text": [
      "Initial Condition for Streamwise Velocity\n"
     ]
    },
    {
     "data": {
      "image/png": "[encoded data removed]",
      "text/plain": [
       "<Figure size 504x432 with 5 Axes>"
      ]
     },
     "metadata": {
      "needs_background": "light"
     },
     "output_type": "display_data"
    },
    {
     "name": "stdout",
     "output_type": "stream",
     "text": [
      "Initial Condition for Vertical Velocity\n"
     ]
    },
    {
     "data": {
      "image/png": "[encoded data removed]",
      "text/plain": [
       "<Figure size 504x432 with 5 Axes>"
      ]
     },
     "metadata": {
      "needs_background": "light"
     },
     "output_type": "display_data"
    },
    {
     "name": "stdout",
     "output_type": "stream",
     "text": [
      "Initial Condition for Spanwise Velocity\n"
     ]
    },
    {
     "data": {
      "image/png": "[encoded data removed]",
      "text/plain": [
       "<Figure size 504x432 with 5 Axes>"
      ]
     },
     "metadata": {
      "needs_background": "light"
     },
     "output_type": "display_data"
    }
   ],
   "source": [
    "for key in 'ux uy uz'.split():\n",
    "    #\n",
    "    print(ds[key].attrs['name'])\n",
    "    #\n",
    "    ds[key] *= 0.0\n",
    "    #\n",
    "    ds[key] += prm.init_noise * (\n",
    "        (np.random.random(ds[key].shape) - 0.5)\n",
    "    )\n",
    "    ds[key] *= mod\n",
    "    #\n",
    "    ds[key].sel(y=slice(None,None,ds.y.size//3)).plot(x=\"x\", y=\"z\", col=\"y\", col_wrap=2)\n",
    "    plt.show()\n",
    "\n",
    "plt.close('all')"
   ]
  },
  {
   "cell_type": "markdown",
   "metadata": {},
   "source": [
    "A smooth transition at the interface fresh/turbidity fluid is used for the initial concentration(s) field(s), it is defined in the polar coordinates as:\n",
    "\n",
    "$$\n",
    "\\varphi_n = c_{0,n} \\dfrac{1}{2} \\left( 1 - \\tanh \\left( (r - r_0) \\sqrt{Sc_n Re} \\right) \\right).\n",
    "$$\n",
    "\n",
    "The code block includes the same procedures, we reset the scalar field `ds['phi'] *= 0.0`, just to guarantee consistency, we compute the equation above, we add it to the array and make a plot:"
   ]
  },
  {
   "cell_type": "code",
   "execution_count": 8,
   "metadata": {},
   "outputs": [
    {
     "name": "stdout",
     "output_type": "stream",
     "text": [
      "Initial Condition for Scalar field(s)\n"
     ]
    },
    {
     "data": {
      "image/png": "[encoded data removed]",
      "text/plain": [
       "<Figure size 432x288 with 2 Axes>"
      ]
     },
     "metadata": {
      "needs_background": "light"
     },
     "output_type": "display_data"
    }
   ],
   "source": [
    "# Concentration\n",
    "\n",
    "print(ds['phi'].attrs['name'])\n",
    "\n",
    "ds['phi'] *= 0.0\n",
    "\n",
    "for n in range(prm.numscalar):\n",
    "    #\n",
    "    fun = 0.5 * prm.cp[n] * (1.0 - np.tanh(\n",
    "        (radius - r0) *\n",
    "        (prm.sc[n] * prm.re)**0.5))\n",
    "    #\n",
    "    ds['phi'][dict(n=n)] += fun\n",
    "    #\n",
    "    ds.phi.isel(n=n).sel(y=prm.yly/2.).T.plot()\n",
    "    plt.show()\n",
    "\n",
    "plt.close('all')"
   ]
  },
  {
   "cell_type": "markdown",
   "metadata": {},
   "source": [
    "## Writing to disc\n",
    "\n",
    "is as simple as:"
   ]
  },
  {
   "cell_type": "code",
   "execution_count": 9,
   "metadata": {},
   "outputs": [
    {
     "name": "stdout",
     "output_type": "stream",
     "text": [
      "Writing : ux\n",
      "Writing : uy\n",
      "Writing : uz\n",
      "Writing : phi\n"
     ]
    }
   ],
   "source": [
    "ds.x3d.write(prm)"
   ]
  },
  {
   "cell_type": "code",
   "execution_count": 10,
   "metadata": {},
   "outputs": [],
   "source": [
    "prm.write()"
   ]
  },
  {
   "cell_type": "markdown",
   "metadata": {},
   "source": [
    "## Running the Simulation"
   ]
  },
  {
   "cell_type": "markdown",
   "metadata": {},
   "source": [
    "It was just to show the capabilities of `xcompact3d_toolbox.sandbox`, keep in mind the aspects of numerical stability of our Navier-Stokes solver. **It is up to the user to find the right set of numerical and physical parameters**.\n",
    "\n",
    "The Sandbox Flow Configuration is still in prerelease, it can be found at [fschuch/Xcompact3d](https://github.com/fschuch/Xcompact3d).\n",
    "\n",
    "Make sure that the compiling flags and options at `Makefile` are what you expect. Then, compile the main code at the root folder with `make`.\n",
    "\n",
    "And finally, we are good to go:\n",
    "\n",
    "```bash\n",
    "mpirun -n [number of cores] ./xcompact3d |tee log.out\n",
    "```"
   ]
  }
 ],
 "metadata": {
  "kernelspec": {
   "display_name": "Python 3",
   "language": "python",
   "name": "python3"
  },
  "language_info": {
   "codemirror_mode": {
    "name": "ipython",
    "version": 3
   },
   "file_extension": ".py",
   "mimetype": "text/x-python",
   "name": "python",
   "nbconvert_exporter": "python",
   "pygments_lexer": "ipython3",
   "version": "3.7.7"
  },
  "widgets": {
   "application/vnd.jupyter.widget-state+json": {
    "state": {
     "00a00a121b2043b2bc460226736d67bf": {
      "model_module": "@jupyter-widgets/controls",
      "model_module_version": "1.5.0",
      "model_name": "DropdownModel",
      "state": {
       "_options_labels": [
        "User",
        "Lock-exchange",
        "Taylor-Green Vortex",
        "Channel",
        "Periodic Hill",
        "Cylinder",
        "Debug Schemes",
        "Mixing Layer",
        "Turbulent Jet",
        "Turbulent Boundary Layer",
        "Sandbox"
       ],
       "description": "itype",
       "disabled": true,
       "index": 0,
       "layout": "IPY_MODEL_353a3e4a0f974190a7ba311e505d7116",
       "style": "IPY_MODEL_5a3df2069a9d40628748a117a7b9bda8"
      }
     },
     "03adf895581647d4b71c5889380e193f": {
      "model_module": "@jupyter-widgets/controls",
      "model_module_version": "1.5.0",
      "model_name": "DropdownModel",
      "state": {
       "_options_labels": [
        "Off",
        "Forced to zero",
        "Interpolated to zero"
       ],
       "description": "iibm",
       "index": 0,
       "layout": "IPY_MODEL_d78f75b56299479fa1a7405e1e769d6b",
       "style": "IPY_MODEL_13197901cf514cf0ad2a360e2bf62466"
      }
     },
     "067b234b790b420396bdbdeaa1c0aff0": {
      "model_module": "@jupyter-widgets/controls",
      "model_module_version": "1.5.0",
      "model_name": "DescriptionStyleModel",
      "state": {
       "description_width": ""
      }
     },
     "06fc460282e742e0b3394e6ac21a919f": {
      "model_module": "@jupyter-widgets/base",
      "model_module_version": "1.2.0",
      "model_name": "LayoutModel",
      "state": {}
     },
     "08eaf74c85c44dbe8963e2b346d0df9c": {
      "model_module": "@jupyter-widgets/controls",
      "model_module_version": "1.5.0",
      "model_name": "DescriptionStyleModel",
      "state": {
       "description_width": ""
      }
     },
     "0b8e417a96524bebb71709281018c9b4": {
      "model_module": "@jupyter-widgets/controls",
      "model_module_version": "1.5.0",
      "model_name": "DescriptionStyleModel",
      "state": {
       "description_width": ""
      }
     },
     "0d30e9fed0454bf689f3eaecb6b348f2": {
      "model_module": "@jupyter-widgets/base",
      "model_module_version": "1.2.0",
      "model_name": "LayoutModel",
      "state": {}
     },
     "1067d660340149b284b42e69582a9a22": {
      "model_module": "@jupyter-widgets/base",
      "model_module_version": "1.2.0",
      "model_name": "LayoutModel",
      "state": {}
     },
     "10b89fa15bad44feb6292ffba0025ab4": {
      "model_module": "@jupyter-widgets/controls",
      "model_module_version": "1.5.0",
      "model_name": "DropdownModel",
      "state": {
       "_options_labels": [
        "Periodic",
        "No-flux",
        "Dirichlet"
       ],
       "description": "nclyS1",
       "index": 0,
       "layout": "IPY_MODEL_6594b8c27a1f4dd58ead9720c960ce0e",
       "style": "IPY_MODEL_067b234b790b420396bdbdeaa1c0aff0"
      }
     },
     "117ba75a576b4922a1f7745f7b9d825c": {
      "model_module": "@jupyter-widgets/controls",
      "model_module_version": "1.5.0",
      "model_name": "BoundedFloatTextModel",
      "state": {
       "description": "dt",
       "layout": "IPY_MODEL_1f9bdf3418d446c98f0e773dca6da34b",
       "max": 1000000,
       "step": null,
       "style": "IPY_MODEL_e5b1ac55f80a46ab9ed5ffd6b6ad5e04"
      }
     },
     "13197901cf514cf0ad2a360e2bf62466": {
      "model_module": "@jupyter-widgets/controls",
      "model_module_version": "1.5.0",
      "model_name": "DescriptionStyleModel",
      "state": {
       "description_width": ""
      }
     },
     "1390a932ca8e4ebf857fc54fbe3afa05": {
      "model_module": "@jupyter-widgets/controls",
      "model_module_version": "1.5.0",
      "model_name": "DropdownModel",
      "state": {
       "_options_labels": [
        "9",
        "11",
        "13",
        "17",
        "19",
        "21",
        "25",
        "31",
        "33",
        "37",
        "41",
        "49",
        "51",
        "55",
        "61",
        "65",
        "73",
        "81",
        "91",
        "97",
        "101",
        "109",
        "121",
        "129",
        "145",
        "151",
        "161",
        "163",
        "181",
        "193",
        "201",
        "217",
        "241",
        "251",
        "257",
        "271",
        "289",
        "301",
        "321",
        "325",
        "361",
        "385",
        "401",
        "433",
        "451",
        "481",
        "487",
        "501",
        "513",
        "541",
        "577",
        "601",
        "641",
        "649",
        "721",
        "751",
        "769",
        "801",
        "811",
        "865",
        "901",
        "961",
        "973",
        "1001",
        "1025",
        "1081",
        "1153",
        "1201",
        "1251",
        "1281",
        "1297",
        "1351",
        "1441",
        "1459",
        "1501",
        "1537",
        "1601",
        "1621",
        "1729",
        "1801",
        "1921",
        "1945",
        "2001",
        "2049",
        "2161",
        "2251",
        "2305",
        "2401",
        "2431",
        "2501",
        "2561",
        "2593",
        "2701",
        "2881",
        "2917",
        "3001",
        "3073",
        "3201",
        "3241",
        "3457",
        "3601",
        "3751",
        "3841",
        "3889",
        "4001",
        "4051",
        "4097",
        "4321",
        "4375",
        "4501",
        "4609",
        "4801",
        "4861",
        "5001",
        "5121",
        "5185",
        "5401",
        "5761",
        "5833",
        "6001",
        "6145",
        "6251",
        "6401",
        "6481",
        "6751",
        "6913",
        "7201",
        "7291",
        "7501",
        "7681",
        "7777",
        "8001",
        "8101",
        "8193",
        "8641",
        "8749",
        "9001"
       ],
       "description": "nx",
       "index": 0,
       "layout": "IPY_MODEL_e256a81e4d4a4b9b99ccb9574a23ebd5",
       "style": "IPY_MODEL_5d791ffb1d284ec099da9a3958c1fceb"
      }
     },
     "14041e80f1de4ba3a1d2bc58011e01ff": {
      "model_module": "@jupyter-widgets/controls",
      "model_module_version": "1.5.0",
      "model_name": "DescriptionStyleModel",
      "state": {
       "description_width": ""
      }
     },
     "162579b5907f4e6799a0945d0a3f4cab": {
      "model_module": "@jupyter-widgets/controls",
      "model_module_version": "1.5.0",
      "model_name": "DescriptionStyleModel",
      "state": {
       "description_width": ""
      }
     },
     "182fe27b388a4117a7f9a356a6bdf25c": {
      "model_module": "@jupyter-widgets/controls",
      "model_module_version": "1.5.0",
      "model_name": "DropdownModel",
      "state": {
       "_options_labels": [
        "Periodic",
        "No-flux",
        "Dirichlet"
       ],
       "description": "nclySn",
       "index": 0,
       "layout": "IPY_MODEL_51e7f4290cba4b87836bb34db9cb4ffc",
       "style": "IPY_MODEL_dfab7c63d88149638537a2e79c8c97df"
      }
     },
     "1a281698ac5e4eb28d5c02eafa82a163": {
      "model_module": "@jupyter-widgets/base",
      "model_module_version": "1.2.0",
      "model_name": "LayoutModel",
      "state": {}
     },
     "1b351d6041194b34bf5ee7e8a3f354d0": {
      "model_module": "@jupyter-widgets/controls",
      "model_module_version": "1.5.0",
      "model_name": "DescriptionStyleModel",
      "state": {
       "description_width": ""
      }
     },
     "1b9deca55be04bb68cc0fcd66eaa8a61": {
      "model_module": "@jupyter-widgets/controls",
      "model_module_version": "1.5.0",
      "model_name": "DropdownModel",
      "state": {
       "_options_labels": [
        "Periodic",
        "Free-slip",
        "No-slip"
       ],
       "description": "ncly1",
       "index": 0,
       "layout": "IPY_MODEL_dbb84da475b64ed2a7e331764e952342",
       "style": "IPY_MODEL_309982ea6f084a7c9b2889d0769f6714"
      }
     },
     "1c085325912f4ff7ba0f567ae0513bfd": {
      "model_module": "@jupyter-widgets/controls",
      "model_module_version": "1.5.0",
      "model_name": "DropdownModel",
      "state": {
       "_options_labels": [
        "2nd central",
        "4th central",
        "4th compact",
        "6th compact"
       ],
       "description": "ifirstder",
       "disabled": true,
       "index": 0,
       "layout": "IPY_MODEL_fd98de5bd3e64613a6546cb9805a8f01",
       "style": "IPY_MODEL_ec5dc1fa356f4314b8c702718b761d00"
      }
     },
     "1d959c08deb644a98229b8364280e7d0": {
      "model_module": "@jupyter-widgets/controls",
      "model_module_version": "1.5.0",
      "model_name": "DescriptionStyleModel",
      "state": {
       "description_width": ""
      }
     },
     "1e9ccdf6303543c2bf173869157758b1": {
      "model_module": "@jupyter-widgets/controls",
      "model_module_version": "1.5.0",
      "model_name": "DescriptionStyleModel",
      "state": {
       "description_width": ""
      }
     },
     "1f9bdf3418d446c98f0e773dca6da34b": {
      "model_module": "@jupyter-widgets/base",
      "model_module_version": "1.2.0",
      "model_name": "LayoutModel",
      "state": {}
     },
     "214677ef1476434d81f6833f0ad9da67": {
      "model_module": "@jupyter-widgets/base",
      "model_module_version": "1.2.0",
      "model_name": "LayoutModel",
      "state": {}
     },
     "25f78a0340604e90a576f31004683e82": {
      "model_module": "@jupyter-widgets/controls",
      "model_module_version": "1.5.0",
      "model_name": "DropdownModel",
      "state": {
       "_options_labels": [
        "0"
       ],
       "description": "p_row",
       "index": 0,
       "layout": "IPY_MODEL_dfb9eb2266c44d5ebf3e261d7129929a",
       "style": "IPY_MODEL_32dfa7d0b2df4f818546022764b0acd3"
      }
     },
     "27de76902c07403bae9efe1ed0af5202": {
      "model_module": "@jupyter-widgets/controls",
      "model_module_version": "1.5.0",
      "model_name": "DescriptionStyleModel",
      "state": {
       "description_width": ""
      }
     },
     "29b0cb495ef44a319858cf1769308694": {
      "model_module": "@jupyter-widgets/controls",
      "model_module_version": "1.5.0",
      "model_name": "DropdownModel",
      "state": {
       "_options_labels": [
        "Periodic",
        "No-flux",
        "Dirichlet"
       ],
       "description": "nclzSn",
       "index": 0,
       "layout": "IPY_MODEL_864b328e71b342fc904491d21d930c93",
       "style": "IPY_MODEL_a5ff6594dec842418cdb41439f220372"
      }
     },
     "2b1319d0f9834b85adc49f6f8578af77": {
      "model_module": "@jupyter-widgets/base",
      "model_module_version": "1.2.0",
      "model_name": "LayoutModel",
      "state": {}
     },
     "2b92a516f65a4ab69e13c20039d40d39": {
      "model_module": "@jupyter-widgets/controls",
      "model_module_version": "1.5.0",
      "model_name": "BoundedFloatTextModel",
      "state": {
       "description": "dz",
       "layout": "IPY_MODEL_3c728862586a4ec1b217d6d849dd422c",
       "max": 1000000,
       "step": null,
       "style": "IPY_MODEL_14041e80f1de4ba3a1d2bc58011e01ff"
      }
     },
     "2bd47c1c7da144e987cbe069cc85dc72": {
      "model_module": "@jupyter-widgets/controls",
      "model_module_version": "1.5.0",
      "model_name": "DescriptionStyleModel",
      "state": {
       "description_width": ""
      }
     },
     "2e920cb506d04f82a9a5431d59055283": {
      "model_module": "@jupyter-widgets/base",
      "model_module_version": "1.2.0",
      "model_name": "LayoutModel",
      "state": {}
     },
     "309982ea6f084a7c9b2889d0769f6714": {
      "model_module": "@jupyter-widgets/controls",
      "model_module_version": "1.5.0",
      "model_name": "DescriptionStyleModel",
      "state": {
       "description_width": ""
      }
     },
     "32dfa7d0b2df4f818546022764b0acd3": {
      "model_module": "@jupyter-widgets/controls",
      "model_module_version": "1.5.0",
      "model_name": "DescriptionStyleModel",
      "state": {
       "description_width": ""
      }
     },
     "34e59f781a7e42bb95067284d1e0ea65": {
      "model_module": "@jupyter-widgets/controls",
      "model_module_version": "1.5.0",
      "model_name": "DropdownModel",
      "state": {
       "_options_labels": [
        "Off",
        "On"
       ],
       "description": "irestart",
       "index": 0,
       "layout": "IPY_MODEL_06fc460282e742e0b3394e6ac21a919f",
       "style": "IPY_MODEL_1e9ccdf6303543c2bf173869157758b1"
      }
     },
     "353a3e4a0f974190a7ba311e505d7116": {
      "model_module": "@jupyter-widgets/base",
      "model_module_version": "1.2.0",
      "model_name": "LayoutModel",
      "state": {}
     },
     "355497814c3245c69191f53aef3cdbfc": {
      "model_module": "@jupyter-widgets/base",
      "model_module_version": "1.2.0",
      "model_name": "LayoutModel",
      "state": {}
     },
     "36a735a25e5d4da89d9642eb10e3f4a3": {
      "model_module": "@jupyter-widgets/controls",
      "model_module_version": "1.5.0",
      "model_name": "DescriptionStyleModel",
      "state": {
       "description_width": ""
      }
     },
     "371a100b2c9e401f9e008bb812c0a97f": {
      "model_module": "@jupyter-widgets/controls",
      "model_module_version": "1.5.0",
      "model_name": "DropdownModel",
      "state": {
       "_options_labels": [
        "6th compact",
        "hyperviscous 6th"
       ],
       "description": "isecondder",
       "disabled": true,
       "index": 0,
       "layout": "IPY_MODEL_9a64fe302be94e249ed84dc99ca745fd",
       "style": "IPY_MODEL_9e942ace012344c0ac1c086605984308"
      }
     },
     "3872e373a9dd43a582fd2032fb76cc47": {
      "model_module": "@jupyter-widgets/base",
      "model_module_version": "1.2.0",
      "model_name": "LayoutModel",
      "state": {}
     },
     "38fe9061239542d79994029fa726eece": {
      "model_module": "@jupyter-widgets/controls",
      "model_module_version": "1.5.0",
      "model_name": "IntTextModel",
      "state": {
       "description": "ilast",
       "layout": "IPY_MODEL_9d7938e4631b4089bf114d31964ad185",
       "step": 1,
       "style": "IPY_MODEL_b67651efd8254720a7c900bea3a4c326"
      }
     },
     "3926a9e48cc3407b9096f671f1b9636a": {
      "model_module": "@jupyter-widgets/controls",
      "model_module_version": "1.5.0",
      "model_name": "DropdownModel",
      "state": {
       "_options_labels": [
        "9",
        "11",
        "13",
        "17",
        "19",
        "21",
        "25",
        "31",
        "33",
        "37",
        "41",
        "49",
        "51",
        "55",
        "61",
        "65",
        "73",
        "81",
        "91",
        "97",
        "101",
        "109",
        "121",
        "129",
        "145",
        "151",
        "161",
        "163",
        "181",
        "193",
        "201",
        "217",
        "241",
        "251",
        "257",
        "271",
        "289",
        "301",
        "321",
        "325",
        "361",
        "385",
        "401",
        "433",
        "451",
        "481",
        "487",
        "501",
        "513",
        "541",
        "577",
        "601",
        "641",
        "649",
        "721",
        "751",
        "769",
        "801",
        "811",
        "865",
        "901",
        "961",
        "973",
        "1001",
        "1025",
        "1081",
        "1153",
        "1201",
        "1251",
        "1281",
        "1297",
        "1351",
        "1441",
        "1459",
        "1501",
        "1537",
        "1601",
        "1621",
        "1729",
        "1801",
        "1921",
        "1945",
        "2001",
        "2049",
        "2161",
        "2251",
        "2305",
        "2401",
        "2431",
        "2501",
        "2561",
        "2593",
        "2701",
        "2881",
        "2917",
        "3001",
        "3073",
        "3201",
        "3241",
        "3457",
        "3601",
        "3751",
        "3841",
        "3889",
        "4001",
        "4051",
        "4097",
        "4321",
        "4375",
        "4501",
        "4609",
        "4801",
        "4861",
        "5001",
        "5121",
        "5185",
        "5401",
        "5761",
        "5833",
        "6001",
        "6145",
        "6251",
        "6401",
        "6481",
        "6751",
        "6913",
        "7201",
        "7291",
        "7501",
        "7681",
        "7777",
        "8001",
        "8101",
        "8193",
        "8641",
        "8749",
        "9001"
       ],
       "description": "nz",
       "index": 0,
       "layout": "IPY_MODEL_b55ad66155a046db8c82e9e85f6d2b9d",
       "style": "IPY_MODEL_575eea6b8b8d47ed87bbb3df3a4544ba"
      }
     },
     "3a1f67cbd88140d499bc84817bddb440": {
      "model_module": "@jupyter-widgets/base",
      "model_module_version": "1.2.0",
      "model_name": "LayoutModel",
      "state": {}
     },
     "3b2e8d26dfe54b88ad0291fc1e91eaae": {
      "model_module": "@jupyter-widgets/base",
      "model_module_version": "1.2.0",
      "model_name": "LayoutModel",
      "state": {}
     },
     "3c728862586a4ec1b217d6d849dd422c": {
      "model_module": "@jupyter-widgets/base",
      "model_module_version": "1.2.0",
      "model_name": "LayoutModel",
      "state": {}
     },
     "44162d69c2144ed9a2b6c6fb253bce45": {
      "model_module": "@jupyter-widgets/controls",
      "model_module_version": "1.5.0",
      "model_name": "DropdownModel",
      "state": {
       "_options_labels": [
        "No refinement",
        "Refinement at the center",
        "Both sides",
        "Just near the bottom"
       ],
       "description": "istret",
       "disabled": true,
       "index": 0,
       "layout": "IPY_MODEL_d268af4e85c04a08bc6da3b8072ecb7c",
       "style": "IPY_MODEL_1d959c08deb644a98229b8364280e7d0"
      }
     },
     "44a72893d8104d3296d0d0e857964b9e": {
      "model_module": "@jupyter-widgets/controls",
      "model_module_version": "1.5.0",
      "model_name": "FloatTextModel",
      "state": {
       "description": "gravx",
       "disabled": true,
       "layout": "IPY_MODEL_5bf43ed743714a7591045e9ed0f1c359",
       "step": null,
       "style": "IPY_MODEL_6ad68b0c08e74596b833e1e02c9c6733"
      }
     },
     "4580ba13c748475fbbc75772ad1d90f8": {
      "model_module": "@jupyter-widgets/base",
      "model_module_version": "1.2.0",
      "model_name": "LayoutModel",
      "state": {}
     },
     "4b1f099c46fc48aab28dd745897c97cf": {
      "model_module": "@jupyter-widgets/controls",
      "model_module_version": "1.5.0",
      "model_name": "DescriptionStyleModel",
      "state": {
       "description_width": ""
      }
     },
     "4ba254c549e94b67b66615dae365fa5f": {
      "model_module": "@jupyter-widgets/controls",
      "model_module_version": "1.5.0",
      "model_name": "DescriptionStyleModel",
      "state": {
       "description_width": ""
      }
     },
     "4c709a0730744d959d7aec89c4c5872f": {
      "model_module": "@jupyter-widgets/controls",
      "model_module_version": "1.5.0",
      "model_name": "DropdownModel",
      "state": {
       "_options_labels": [
        "DNS",
        "Phys Smag",
        "Phys WALE",
        "Phys dyn. Smag",
        "iSVV"
       ],
       "description": "ilesmod",
       "index": 0,
       "layout": "IPY_MODEL_8ff775fcfdf643e9b69064f4499d0d19",
       "style": "IPY_MODEL_c2184b1e390943358540e8d26bbf26b3"
      }
     },
     "4c759da12a07440988ec155e48dcbe2c": {
      "model_module": "@jupyter-widgets/base",
      "model_module_version": "1.2.0",
      "model_name": "LayoutModel",
      "state": {}
     },
     "4fbfa2b0ce2c4e70827a44533ae33835": {
      "model_module": "@jupyter-widgets/base",
      "model_module_version": "1.2.0",
      "model_name": "LayoutModel",
      "state": {}
     },
     "4fc73710da784bdfa4a3c6cc56241c46": {
      "model_module": "@jupyter-widgets/controls",
      "model_module_version": "1.5.0",
      "model_name": "FloatTextModel",
      "state": {
       "description": "gravz",
       "disabled": true,
       "layout": "IPY_MODEL_3872e373a9dd43a582fd2032fb76cc47",
       "step": null,
       "style": "IPY_MODEL_ef3f525be9c54d259cba5268ab1f22ea"
      }
     },
     "4fd871d1d64043a38d402ba83c5202d8": {
      "model_module": "@jupyter-widgets/controls",
      "model_module_version": "1.5.0",
      "model_name": "BoundedFloatTextModel",
      "state": {
       "description": "xlx",
       "layout": "IPY_MODEL_85f6f182afcd4d27897222c8e32ebb4d",
       "max": 1000000,
       "step": null,
       "style": "IPY_MODEL_6c37b929ffda419697d9bb169078f628"
      }
     },
     "51e7f4290cba4b87836bb34db9cb4ffc": {
      "model_module": "@jupyter-widgets/base",
      "model_module_version": "1.2.0",
      "model_name": "LayoutModel",
      "state": {}
     },
     "52d56dfb41914b158f70357cdb3227ba": {
      "model_module": "@jupyter-widgets/controls",
      "model_module_version": "1.5.0",
      "model_name": "FloatTextModel",
      "state": {
       "description": "re",
       "layout": "IPY_MODEL_b5f1416f89924a279af69106c4a88153",
       "step": null,
       "style": "IPY_MODEL_08eaf74c85c44dbe8963e2b346d0df9c"
      }
     },
     "5482b821462a4c13a5917f945cb05d4e": {
      "model_module": "@jupyter-widgets/base",
      "model_module_version": "1.2.0",
      "model_name": "LayoutModel",
      "state": {}
     },
     "54fea74319a84c77a7b22fb10492ab44": {
      "model_module": "@jupyter-widgets/controls",
      "model_module_version": "1.5.0",
      "model_name": "DescriptionStyleModel",
      "state": {
       "description_width": ""
      }
     },
     "575eea6b8b8d47ed87bbb3df3a4544ba": {
      "model_module": "@jupyter-widgets/controls",
      "model_module_version": "1.5.0",
      "model_name": "DescriptionStyleModel",
      "state": {
       "description_width": ""
      }
     },
     "576a678c86f145539c761c5d6ba72933": {
      "model_module": "@jupyter-widgets/base",
      "model_module_version": "1.2.0",
      "model_name": "LayoutModel",
      "state": {}
     },
     "5a3df2069a9d40628748a117a7b9bda8": {
      "model_module": "@jupyter-widgets/controls",
      "model_module_version": "1.5.0",
      "model_name": "DescriptionStyleModel",
      "state": {
       "description_width": ""
      }
     },
     "5a8d268a87a048669c32896fef084e8d": {
      "model_module": "@jupyter-widgets/controls",
      "model_module_version": "1.5.0",
      "model_name": "DropdownModel",
      "state": {
       "_options_labels": [
        "Periodic",
        "No-flux",
        "Dirichlet"
       ],
       "description": "nclxS1",
       "index": 0,
       "layout": "IPY_MODEL_e30c6b8e0e974c148c01ea47f4ba228f",
       "style": "IPY_MODEL_0b8e417a96524bebb71709281018c9b4"
      }
     },
     "5babdb40657b4723bd22b7d9ec126a70": {
      "model_module": "@jupyter-widgets/base",
      "model_module_version": "1.2.0",
      "model_name": "LayoutModel",
      "state": {}
     },
     "5bf43ed743714a7591045e9ed0f1c359": {
      "model_module": "@jupyter-widgets/base",
      "model_module_version": "1.2.0",
      "model_name": "LayoutModel",
      "state": {}
     },
     "5cccfbc026f948ce965e0f7c85a9c9eb": {
      "model_module": "@jupyter-widgets/controls",
      "model_module_version": "1.5.0",
      "model_name": "DescriptionStyleModel",
      "state": {
       "description_width": ""
      }
     },
     "5d791ffb1d284ec099da9a3958c1fceb": {
      "model_module": "@jupyter-widgets/controls",
      "model_module_version": "1.5.0",
      "model_name": "DescriptionStyleModel",
      "state": {
       "description_width": ""
      }
     },
     "5f5a5333f60d4df99a0de6fde8a96f44": {
      "model_module": "@jupyter-widgets/controls",
      "model_module_version": "1.5.0",
      "model_name": "BoundedIntTextModel",
      "state": {
       "description": "ioutput",
       "layout": "IPY_MODEL_1067d660340149b284b42e69582a9a22",
       "max": 1000000000,
       "min": 1,
       "style": "IPY_MODEL_4b1f099c46fc48aab28dd745897c97cf",
       "value": 1
      }
     },
     "60efa08156c645a3bc28712d1b32e983": {
      "model_module": "@jupyter-widgets/controls",
      "model_module_version": "1.5.0",
      "model_name": "BoundedFloatTextModel",
      "state": {
       "description": "dy",
       "layout": "IPY_MODEL_1a281698ac5e4eb28d5c02eafa82a163",
       "max": 1000000,
       "step": null,
       "style": "IPY_MODEL_7761f20c69344154b1240d87473bee5a"
      }
     },
     "61660677d3234775bb8cc8a068dd3ff3": {
      "model_module": "@jupyter-widgets/controls",
      "model_module_version": "1.5.0",
      "model_name": "TextModel",
      "state": {
       "description": "filename",
       "layout": "IPY_MODEL_bd73b6eacf404fbea3394bc9013777db",
       "style": "IPY_MODEL_1b351d6041194b34bf5ee7e8a3f354d0"
      }
     },
     "63d8c4b13cb24d5fa209a86578beeb88": {
      "model_module": "@jupyter-widgets/controls",
      "model_module_version": "1.5.0",
      "model_name": "TextModel",
      "state": {
       "description": "Size",
       "disabled": true,
       "layout": "IPY_MODEL_3b2e8d26dfe54b88ad0291fc1e91eaae",
       "style": "IPY_MODEL_becc6bbcf93d4613aa6837e7b20f8cb6"
      }
     },
     "6458265e09834034865dfabb8c33c444": {
      "model_module": "@jupyter-widgets/controls",
      "model_module_version": "1.5.0",
      "model_name": "DropdownModel",
      "state": {
       "_options_labels": [
        "Off",
        "On"
       ],
       "description": "ilesmod",
       "index": 0,
       "layout": "IPY_MODEL_576a678c86f145539c761c5d6ba72933",
       "style": "IPY_MODEL_e909b48142434656bfb09c72e6be263a"
      }
     },
     "651c896daec34b43945b6b0963213077": {
      "model_module": "@jupyter-widgets/controls",
      "model_module_version": "1.5.0",
      "model_name": "DescriptionStyleModel",
      "state": {
       "description_width": ""
      }
     },
     "6594b8c27a1f4dd58ead9720c960ce0e": {
      "model_module": "@jupyter-widgets/base",
      "model_module_version": "1.2.0",
      "model_name": "LayoutModel",
      "state": {}
     },
     "6ad68b0c08e74596b833e1e02c9c6733": {
      "model_module": "@jupyter-widgets/controls",
      "model_module_version": "1.5.0",
      "model_name": "DescriptionStyleModel",
      "state": {
       "description_width": ""
      }
     },
     "6b11860a752a4cbfaacfb8f4a23e6be0": {
      "model_module": "@jupyter-widgets/base",
      "model_module_version": "1.2.0",
      "model_name": "LayoutModel",
      "state": {}
     },
     "6c06a6706d3443b58f4712f46abf9b69": {
      "model_module": "@jupyter-widgets/base",
      "model_module_version": "1.2.0",
      "model_name": "LayoutModel",
      "state": {}
     },
     "6c37b929ffda419697d9bb169078f628": {
      "model_module": "@jupyter-widgets/controls",
      "model_module_version": "1.5.0",
      "model_name": "DescriptionStyleModel",
      "state": {
       "description_width": ""
      }
     },
     "6c8bad4d20334b20ba26938d706576c7": {
      "model_module": "@jupyter-widgets/base",
      "model_module_version": "1.2.0",
      "model_name": "LayoutModel",
      "state": {}
     },
     "6d058842e6c44e0e98fac1c322efc184": {
      "model_module": "@jupyter-widgets/base",
      "model_module_version": "1.2.0",
      "model_name": "LayoutModel",
      "state": {}
     },
     "6e6d0d0819914bd3905f7232ecfccb5d": {
      "model_module": "@jupyter-widgets/base",
      "model_module_version": "1.2.0",
      "model_name": "LayoutModel",
      "state": {}
     },
     "6f0282cd81f14d6790a9df97086fdcd7": {
      "model_module": "@jupyter-widgets/controls",
      "model_module_version": "1.5.0",
      "model_name": "IntSliderModel",
      "state": {
       "description": "nraf",
       "layout": "IPY_MODEL_fb737c6b6199483e99728d7a86f64c00",
       "max": 25,
       "min": 1,
       "style": "IPY_MODEL_cc3e2f9bf98647ed8039b0d51af3a8cb",
       "value": 1
      }
     },
     "6f628e7befde4b47842313ca536550f8": {
      "model_module": "@jupyter-widgets/controls",
      "model_module_version": "1.5.0",
      "model_name": "BoundedFloatTextModel",
      "state": {
       "description": "dx",
       "layout": "IPY_MODEL_2e920cb506d04f82a9a5431d59055283",
       "max": 1000000,
       "step": null,
       "style": "IPY_MODEL_83769c19bb424bd892c008d63812f0c7"
      }
     },
     "6fb36d2c82eb4a63a311e41cc85519fc": {
      "model_module": "@jupyter-widgets/controls",
      "model_module_version": "1.5.0",
      "model_name": "SliderStyleModel",
      "state": {
       "description_width": ""
      }
     },
     "703631d2e3284151bfb795931e54c8db": {
      "model_module": "@jupyter-widgets/controls",
      "model_module_version": "1.5.0",
      "model_name": "DescriptionStyleModel",
      "state": {
       "description_width": ""
      }
     },
     "74d2e35befa24e99a80007b69b6e7a42": {
      "model_module": "@jupyter-widgets/base",
      "model_module_version": "1.2.0",
      "model_name": "LayoutModel",
      "state": {}
     },
     "75fe2fcf9b7746edb5791ddd0571e005": {
      "model_module": "@jupyter-widgets/base",
      "model_module_version": "1.2.0",
      "model_name": "LayoutModel",
      "state": {}
     },
     "772e897575de49d1b1f19feed03bb5a4": {
      "model_module": "@jupyter-widgets/base",
      "model_module_version": "1.2.0",
      "model_name": "LayoutModel",
      "state": {}
     },
     "7761f20c69344154b1240d87473bee5a": {
      "model_module": "@jupyter-widgets/controls",
      "model_module_version": "1.5.0",
      "model_name": "DescriptionStyleModel",
      "state": {
       "description_width": ""
      }
     },
     "7864c6b3898a4844af61304c23ab0bc5": {
      "model_module": "@jupyter-widgets/controls",
      "model_module_version": "1.5.0",
      "model_name": "DescriptionStyleModel",
      "state": {
       "description_width": ""
      }
     },
     "7986af6fe6f44f17bfc486c49c469774": {
      "model_module": "@jupyter-widgets/controls",
      "model_module_version": "1.5.0",
      "model_name": "BoundedIntTextModel",
      "state": {
       "description": "ncores",
       "layout": "IPY_MODEL_aa2e1043cb7742cb88dfcf8fc213457c",
       "max": 1000000000,
       "style": "IPY_MODEL_a897dc4294884aea9528b5202303a2ee"
      }
     },
     "7adf23e2131945b89fdaaf40aa998fa1": {
      "model_module": "@jupyter-widgets/base",
      "model_module_version": "1.2.0",
      "model_name": "LayoutModel",
      "state": {}
     },
     "7be9bbacc4244dde94628fc4d0cae506": {
      "model_module": "@jupyter-widgets/controls",
      "model_module_version": "1.5.0",
      "model_name": "DescriptionStyleModel",
      "state": {
       "description_width": ""
      }
     },
     "7bf955e69c71449987fffaa863818b96": {
      "model_module": "@jupyter-widgets/controls",
      "model_module_version": "1.5.0",
      "model_name": "BoundedFloatTextModel",
      "state": {
       "description": "beta",
       "disabled": true,
       "layout": "IPY_MODEL_6c06a6706d3443b58f4712f46abf9b69",
       "max": 1000000,
       "step": null,
       "style": "IPY_MODEL_ad98031e87cb4dea8fbdd2e47344aa72"
      }
     },
     "7d2c0b37bdb745f5ba6cd1b4e393273b": {
      "model_module": "@jupyter-widgets/controls",
      "model_module_version": "1.5.0",
      "model_name": "DescriptionStyleModel",
      "state": {
       "description_width": ""
      }
     },
     "7f800172a09c4b398116a06b38d8f173": {
      "model_module": "@jupyter-widgets/controls",
      "model_module_version": "1.5.0",
      "model_name": "BoundedFloatTextModel",
      "state": {
       "description": "zlz",
       "layout": "IPY_MODEL_fc30a3f100db4dcba02df00d3ba784af",
       "max": 1000000,
       "step": null,
       "style": "IPY_MODEL_36a735a25e5d4da89d9642eb10e3f4a3"
      }
     },
     "7ff5c3a6be3d48a0a22981bf7f242fc3": {
      "model_module": "@jupyter-widgets/controls",
      "model_module_version": "1.5.0",
      "model_name": "DropdownModel",
      "state": {
       "_options_labels": [
        "Periodic",
        "No-flux",
        "Dirichlet"
       ],
       "description": "nclzS1",
       "index": 0,
       "layout": "IPY_MODEL_856a9a6825ef492c8d8a9307a82f4225",
       "style": "IPY_MODEL_c8f457be18da4ac6a183ffc95e3129dd"
      }
     },
     "8139f997ea774763b67100b41f546cb3": {
      "model_module": "@jupyter-widgets/controls",
      "model_module_version": "1.5.0",
      "model_name": "BoundedIntTextModel",
      "state": {
       "description": "icheckpoint",
       "layout": "IPY_MODEL_214677ef1476434d81f6833f0ad9da67",
       "max": 1000000000,
       "min": 1,
       "style": "IPY_MODEL_bba2f97d24954263ae88101d7b261b42",
       "value": 1
      }
     },
     "8253336eae334d7e9ee9f409f42da628": {
      "model_module": "@jupyter-widgets/base",
      "model_module_version": "1.2.0",
      "model_name": "LayoutModel",
      "state": {}
     },
     "83769c19bb424bd892c008d63812f0c7": {
      "model_module": "@jupyter-widgets/controls",
      "model_module_version": "1.5.0",
      "model_name": "DescriptionStyleModel",
      "state": {
       "description_width": ""
      }
     },
     "84b95d1d07dc45fc890f21c2065f4036": {
      "model_module": "@jupyter-widgets/controls",
      "model_module_version": "1.5.0",
      "model_name": "DropdownModel",
      "state": {
       "_options_labels": [
        "Periodic",
        "Free-slip",
        "No-slip"
       ],
       "description": "nclzn",
       "index": 0,
       "layout": "IPY_MODEL_ff8b2e505b8441e0b853bed705c66ba8",
       "style": "IPY_MODEL_f51d12904e0848ba89aa61151b01d139"
      }
     },
     "856a9a6825ef492c8d8a9307a82f4225": {
      "model_module": "@jupyter-widgets/base",
      "model_module_version": "1.2.0",
      "model_name": "LayoutModel",
      "state": {}
     },
     "85aee5271fba4ded857ed058c939fe7a": {
      "model_module": "@jupyter-widgets/controls",
      "model_module_version": "1.5.0",
      "model_name": "DescriptionStyleModel",
      "state": {
       "description_width": ""
      }
     },
     "85f6f182afcd4d27897222c8e32ebb4d": {
      "model_module": "@jupyter-widgets/base",
      "model_module_version": "1.2.0",
      "model_name": "LayoutModel",
      "state": {}
     },
     "864b328e71b342fc904491d21d930c93": {
      "model_module": "@jupyter-widgets/base",
      "model_module_version": "1.2.0",
      "model_name": "LayoutModel",
      "state": {}
     },
     "8c563648e2bf47f9b0a444272de4b5f5": {
      "model_module": "@jupyter-widgets/controls",
      "model_module_version": "1.5.0",
      "model_name": "BoundedIntTextModel",
      "state": {
       "description": "iprocessing",
       "layout": "IPY_MODEL_8253336eae334d7e9ee9f409f42da628",
       "max": 1000000000,
       "min": 1,
       "style": "IPY_MODEL_c085032d23c94859bead9e92062701f6",
       "value": 1
      }
     },
     "8deb7bd3e1334915b608cb937acc46eb": {
      "model_module": "@jupyter-widgets/controls",
      "model_module_version": "1.5.0",
      "model_name": "DescriptionStyleModel",
      "state": {
       "description_width": ""
      }
     },
     "8ff775fcfdf643e9b69064f4499d0d19": {
      "model_module": "@jupyter-widgets/base",
      "model_module_version": "1.2.0",
      "model_name": "LayoutModel",
      "state": {}
     },
     "91a8df6de05242088724ad1eea724abd": {
      "model_module": "@jupyter-widgets/controls",
      "model_module_version": "1.5.0",
      "model_name": "FloatTextModel",
      "state": {
       "description": "init_noise",
       "layout": "IPY_MODEL_6e6d0d0819914bd3905f7232ecfccb5d",
       "step": null,
       "style": "IPY_MODEL_c4d21d88f97345b5943c0aef33de2347"
      }
     },
     "9a64fe302be94e249ed84dc99ca745fd": {
      "model_module": "@jupyter-widgets/base",
      "model_module_version": "1.2.0",
      "model_name": "LayoutModel",
      "state": {}
     },
     "9d7938e4631b4089bf114d31964ad185": {
      "model_module": "@jupyter-widgets/base",
      "model_module_version": "1.2.0",
      "model_name": "LayoutModel",
      "state": {}
     },
     "9e942ace012344c0ac1c086605984308": {
      "model_module": "@jupyter-widgets/controls",
      "model_module_version": "1.5.0",
      "model_name": "DescriptionStyleModel",
      "state": {
       "description_width": ""
      }
     },
     "a510a34a29084da19d189de359d58b6d": {
      "model_module": "@jupyter-widgets/controls",
      "model_module_version": "1.5.0",
      "model_name": "DescriptionStyleModel",
      "state": {
       "description_width": ""
      }
     },
     "a5ce735804c84bd1a9e030f5e5288b99": {
      "model_module": "@jupyter-widgets/controls",
      "model_module_version": "1.5.0",
      "model_name": "IntTextModel",
      "state": {
       "description": "nobjmax",
       "disabled": true,
       "layout": "IPY_MODEL_da401bc22420435496fd0c404a8d948b",
       "step": 1,
       "style": "IPY_MODEL_b0371651b2e542758ea02bb042d954d6"
      }
     },
     "a5ff6594dec842418cdb41439f220372": {
      "model_module": "@jupyter-widgets/controls",
      "model_module_version": "1.5.0",
      "model_name": "DescriptionStyleModel",
      "state": {
       "description_width": ""
      }
     },
     "a897dc4294884aea9528b5202303a2ee": {
      "model_module": "@jupyter-widgets/controls",
      "model_module_version": "1.5.0",
      "model_name": "DescriptionStyleModel",
      "state": {
       "description_width": ""
      }
     },
     "a9eb6b0f4f28477a869860297fc3b70d": {
      "model_module": "@jupyter-widgets/controls",
      "model_module_version": "1.5.0",
      "model_name": "DropdownModel",
      "state": {
       "_options_labels": [
        "Periodic",
        "Free-slip",
        "No-slip"
       ],
       "description": "nclyn",
       "index": 0,
       "layout": "IPY_MODEL_6b11860a752a4cbfaacfb8f4a23e6be0",
       "style": "IPY_MODEL_2bd47c1c7da144e987cbe069cc85dc72"
      }
     },
     "aa2e1043cb7742cb88dfcf8fc213457c": {
      "model_module": "@jupyter-widgets/base",
      "model_module_version": "1.2.0",
      "model_name": "LayoutModel",
      "state": {}
     },
     "aa62f5533bcb43d9a617da8de2f8b241": {
      "model_module": "@jupyter-widgets/controls",
      "model_module_version": "1.5.0",
      "model_name": "BoundedFloatTextModel",
      "state": {
       "description": "cnu",
       "disabled": true,
       "layout": "IPY_MODEL_b666f02b61354931a6c219e9fa264c5a",
       "max": 1000000,
       "step": null,
       "style": "IPY_MODEL_8deb7bd3e1334915b608cb937acc46eb"
      }
     },
     "ad98031e87cb4dea8fbdd2e47344aa72": {
      "model_module": "@jupyter-widgets/controls",
      "model_module_version": "1.5.0",
      "model_name": "DescriptionStyleModel",
      "state": {
       "description_width": ""
      }
     },
     "b0371651b2e542758ea02bb042d954d6": {
      "model_module": "@jupyter-widgets/controls",
      "model_module_version": "1.5.0",
      "model_name": "DescriptionStyleModel",
      "state": {
       "description_width": ""
      }
     },
     "b450f2ef5d4949bcb2118ac04c0ff253": {
      "model_module": "@jupyter-widgets/controls",
      "model_module_version": "1.5.0",
      "model_name": "DropdownModel",
      "state": {
       "_options_labels": [
        "Periodic",
        "Free-slip",
        "Outflow"
       ],
       "description": "nclxn",
       "index": 0,
       "layout": "IPY_MODEL_6d058842e6c44e0e98fac1c322efc184",
       "style": "IPY_MODEL_703631d2e3284151bfb795931e54c8db"
      }
     },
     "b55ad66155a046db8c82e9e85f6d2b9d": {
      "model_module": "@jupyter-widgets/base",
      "model_module_version": "1.2.0",
      "model_name": "LayoutModel",
      "state": {}
     },
     "b5f1416f89924a279af69106c4a88153": {
      "model_module": "@jupyter-widgets/base",
      "model_module_version": "1.2.0",
      "model_name": "LayoutModel",
      "state": {}
     },
     "b666f02b61354931a6c219e9fa264c5a": {
      "model_module": "@jupyter-widgets/base",
      "model_module_version": "1.2.0",
      "model_name": "LayoutModel",
      "state": {}
     },
     "b67651efd8254720a7c900bea3a4c326": {
      "model_module": "@jupyter-widgets/controls",
      "model_module_version": "1.5.0",
      "model_name": "DescriptionStyleModel",
      "state": {
       "description_width": ""
      }
     },
     "bba2f97d24954263ae88101d7b261b42": {
      "model_module": "@jupyter-widgets/controls",
      "model_module_version": "1.5.0",
      "model_name": "DescriptionStyleModel",
      "state": {
       "description_width": ""
      }
     },
     "bd73b6eacf404fbea3394bc9013777db": {
      "model_module": "@jupyter-widgets/base",
      "model_module_version": "1.2.0",
      "model_name": "LayoutModel",
      "state": {}
     },
     "bd7912e2363d41bca64b6d4f62241567": {
      "model_module": "@jupyter-widgets/controls",
      "model_module_version": "1.5.0",
      "model_name": "IntTextModel",
      "state": {
       "description": "ifirst",
       "layout": "IPY_MODEL_772e897575de49d1b1f19feed03bb5a4",
       "step": 1,
       "style": "IPY_MODEL_7d2c0b37bdb745f5ba6cd1b4e393273b"
      }
     },
     "becc6bbcf93d4613aa6837e7b20f8cb6": {
      "model_module": "@jupyter-widgets/controls",
      "model_module_version": "1.5.0",
      "model_name": "DescriptionStyleModel",
      "state": {
       "description_width": ""
      }
     },
     "c085032d23c94859bead9e92062701f6": {
      "model_module": "@jupyter-widgets/controls",
      "model_module_version": "1.5.0",
      "model_name": "DescriptionStyleModel",
      "state": {
       "description_width": ""
      }
     },
     "c12e7ca76e4842fba6ba5e87971d4acf": {
      "model_module": "@jupyter-widgets/controls",
      "model_module_version": "1.5.0",
      "model_name": "DropdownModel",
      "state": {
       "_options_labels": [
        "Off",
        "On"
       ],
       "description": "ipost",
       "index": 0,
       "layout": "IPY_MODEL_74d2e35befa24e99a80007b69b6e7a42",
       "style": "IPY_MODEL_cc4211f3bd5741e093d6982933574422"
      }
     },
     "c1b4d9993b434b37bb6b3cc87bbe06e5": {
      "model_module": "@jupyter-widgets/controls",
      "model_module_version": "1.5.0",
      "model_name": "DropdownModel",
      "state": {
       "_options_labels": [
        "Off",
        "On"
       ],
       "description": "ivisu",
       "index": 0,
       "layout": "IPY_MODEL_7adf23e2131945b89fdaaf40aa998fa1",
       "style": "IPY_MODEL_5cccfbc026f948ce965e0f7c85a9c9eb"
      }
     },
     "c2184b1e390943358540e8d26bbf26b3": {
      "model_module": "@jupyter-widgets/controls",
      "model_module_version": "1.5.0",
      "model_name": "DescriptionStyleModel",
      "state": {
       "description_width": ""
      }
     },
     "c220f2cf8a5c4dc4872f7b03511555c3": {
      "model_module": "@jupyter-widgets/controls",
      "model_module_version": "1.5.0",
      "model_name": "BoundedFloatTextModel",
      "state": {
       "description": "nu0nu",
       "disabled": true,
       "layout": "IPY_MODEL_e41529a1e19244ccb45ba4aff810dd2d",
       "max": 1000000,
       "step": null,
       "style": "IPY_MODEL_85aee5271fba4ded857ed058c939fe7a"
      }
     },
     "c3a4da9e081c4d06afb270f8c9804305": {
      "model_module": "@jupyter-widgets/controls",
      "model_module_version": "1.5.0",
      "model_name": "FloatTextModel",
      "state": {
       "description": "inflow_noise",
       "layout": "IPY_MODEL_2b1319d0f9834b85adc49f6f8578af77",
       "step": null,
       "style": "IPY_MODEL_54fea74319a84c77a7b22fb10492ab44"
      }
     },
     "c4d21d88f97345b5943c0aef33de2347": {
      "model_module": "@jupyter-widgets/controls",
      "model_module_version": "1.5.0",
      "model_name": "DescriptionStyleModel",
      "state": {
       "description_width": ""
      }
     },
     "c73bd93a054440d59a23fa08489bfeaa": {
      "model_module": "@jupyter-widgets/controls",
      "model_module_version": "1.5.0",
      "model_name": "DropdownModel",
      "state": {
       "_options_labels": [
        "Periodic",
        "Free-slip",
        "No-slip"
       ],
       "description": "nclz1",
       "index": 0,
       "layout": "IPY_MODEL_5482b821462a4c13a5917f945cb05d4e",
       "style": "IPY_MODEL_651c896daec34b43945b6b0963213077"
      }
     },
     "c77ed9cd416a45b6bd42e564f82f73f4": {
      "model_module": "@jupyter-widgets/base",
      "model_module_version": "1.2.0",
      "model_name": "LayoutModel",
      "state": {}
     },
     "c8f457be18da4ac6a183ffc95e3129dd": {
      "model_module": "@jupyter-widgets/controls",
      "model_module_version": "1.5.0",
      "model_name": "DescriptionStyleModel",
      "state": {
       "description_width": ""
      }
     },
     "cb6ad72b546948baa6557bc13f4690c0": {
      "model_module": "@jupyter-widgets/controls",
      "model_module_version": "1.5.0",
      "model_name": "BoundedIntTextModel",
      "state": {
       "description": "nvisu",
       "disabled": true,
       "layout": "IPY_MODEL_3a1f67cbd88140d499bc84817bddb440",
       "max": 1000000000,
       "min": 1,
       "style": "IPY_MODEL_4ba254c549e94b67b66615dae365fa5f",
       "value": 1
      }
     },
     "cb71fe3ebbec4ad2adf5501e940bda6e": {
      "model_module": "@jupyter-widgets/controls",
      "model_module_version": "1.5.0",
      "model_name": "DescriptionStyleModel",
      "state": {
       "description_width": ""
      }
     },
     "cc3e2f9bf98647ed8039b0d51af3a8cb": {
      "model_module": "@jupyter-widgets/controls",
      "model_module_version": "1.5.0",
      "model_name": "SliderStyleModel",
      "state": {
       "description_width": ""
      }
     },
     "cc4211f3bd5741e093d6982933574422": {
      "model_module": "@jupyter-widgets/controls",
      "model_module_version": "1.5.0",
      "model_name": "DescriptionStyleModel",
      "state": {
       "description_width": ""
      }
     },
     "cdb96f92b306481dba5de83eeeddb1ca": {
      "model_module": "@jupyter-widgets/controls",
      "model_module_version": "1.5.0",
      "model_name": "BoundedFloatTextModel",
      "state": {
       "description": "yly",
       "layout": "IPY_MODEL_4fbfa2b0ce2c4e70827a44533ae33835",
       "max": 1000000,
       "step": null,
       "style": "IPY_MODEL_7864c6b3898a4844af61304c23ab0bc5"
      }
     },
     "d06a152a4295484faab21474ad94ee3e": {
      "model_module": "@jupyter-widgets/controls",
      "model_module_version": "1.5.0",
      "model_name": "DropdownModel",
      "state": {
       "_options_labels": [
        "Periodic",
        "No-flux",
        "Dirichlet"
       ],
       "description": "nclxSn",
       "index": 0,
       "layout": "IPY_MODEL_5babdb40657b4723bd22b7d9ec126a70",
       "style": "IPY_MODEL_7be9bbacc4244dde94628fc4d0cae506"
      }
     },
     "d268af4e85c04a08bc6da3b8072ecb7c": {
      "model_module": "@jupyter-widgets/base",
      "model_module_version": "1.2.0",
      "model_name": "LayoutModel",
      "state": {}
     },
     "d78f75b56299479fa1a7405e1e769d6b": {
      "model_module": "@jupyter-widgets/base",
      "model_module_version": "1.2.0",
      "model_name": "LayoutModel",
      "state": {}
     },
     "d79e4e6d69c6461a9ed487bfc97ce138": {
      "model_module": "@jupyter-widgets/controls",
      "model_module_version": "1.5.0",
      "model_name": "FloatTextModel",
      "state": {
       "description": "gravy",
       "disabled": true,
       "layout": "IPY_MODEL_f919dc0e6137477f8f912c1fd3685e2c",
       "step": null,
       "style": "IPY_MODEL_cb71fe3ebbec4ad2adf5501e940bda6e"
      }
     },
     "da401bc22420435496fd0c404a8d948b": {
      "model_module": "@jupyter-widgets/base",
      "model_module_version": "1.2.0",
      "model_name": "LayoutModel",
      "state": {}
     },
     "dac1453d07814573b2d4c1eb879c4941": {
      "model_module": "@jupyter-widgets/controls",
      "model_module_version": "1.5.0",
      "model_name": "DropdownModel",
      "state": {
       "_options_labels": [
        "9",
        "11",
        "13",
        "17",
        "19",
        "21",
        "25",
        "31",
        "33",
        "37",
        "41",
        "49",
        "51",
        "55",
        "61",
        "65",
        "73",
        "81",
        "91",
        "97",
        "101",
        "109",
        "121",
        "129",
        "145",
        "151",
        "161",
        "163",
        "181",
        "193",
        "201",
        "217",
        "241",
        "251",
        "257",
        "271",
        "289",
        "301",
        "321",
        "325",
        "361",
        "385",
        "401",
        "433",
        "451",
        "481",
        "487",
        "501",
        "513",
        "541",
        "577",
        "601",
        "641",
        "649",
        "721",
        "751",
        "769",
        "801",
        "811",
        "865",
        "901",
        "961",
        "973",
        "1001",
        "1025",
        "1081",
        "1153",
        "1201",
        "1251",
        "1281",
        "1297",
        "1351",
        "1441",
        "1459",
        "1501",
        "1537",
        "1601",
        "1621",
        "1729",
        "1801",
        "1921",
        "1945",
        "2001",
        "2049",
        "2161",
        "2251",
        "2305",
        "2401",
        "2431",
        "2501",
        "2561",
        "2593",
        "2701",
        "2881",
        "2917",
        "3001",
        "3073",
        "3201",
        "3241",
        "3457",
        "3601",
        "3751",
        "3841",
        "3889",
        "4001",
        "4051",
        "4097",
        "4321",
        "4375",
        "4501",
        "4609",
        "4801",
        "4861",
        "5001",
        "5121",
        "5185",
        "5401",
        "5761",
        "5833",
        "6001",
        "6145",
        "6251",
        "6401",
        "6481",
        "6751",
        "6913",
        "7201",
        "7291",
        "7501",
        "7681",
        "7777",
        "8001",
        "8101",
        "8193",
        "8641",
        "8749",
        "9001"
       ],
       "description": "ny",
       "index": 0,
       "layout": "IPY_MODEL_4580ba13c748475fbbc75772ad1d90f8",
       "style": "IPY_MODEL_162579b5907f4e6799a0945d0a3f4cab"
      }
     },
     "dbb84da475b64ed2a7e331764e952342": {
      "model_module": "@jupyter-widgets/base",
      "model_module_version": "1.2.0",
      "model_name": "LayoutModel",
      "state": {}
     },
     "dee51292fcf14aabb86767ee0a186b9e": {
      "model_module": "@jupyter-widgets/controls",
      "model_module_version": "1.5.0",
      "model_name": "DropdownModel",
      "state": {
       "_options_labels": [
        "Off",
        "Forced to zero",
        "Interpolated to zero",
        "Interpolated to no-flux"
       ],
       "description": "iibmS",
       "index": 0,
       "layout": "IPY_MODEL_6c8bad4d20334b20ba26938d706576c7",
       "style": "IPY_MODEL_a510a34a29084da19d189de359d58b6d"
      }
     },
     "dfab7c63d88149638537a2e79c8c97df": {
      "model_module": "@jupyter-widgets/controls",
      "model_module_version": "1.5.0",
      "model_name": "DescriptionStyleModel",
      "state": {
       "description_width": ""
      }
     },
     "dfb9eb2266c44d5ebf3e261d7129929a": {
      "model_module": "@jupyter-widgets/base",
      "model_module_version": "1.2.0",
      "model_name": "LayoutModel",
      "state": {}
     },
     "e092ffb0a880445bb2bc7ea9f5d3de8d": {
      "model_module": "@jupyter-widgets/controls",
      "model_module_version": "1.5.0",
      "model_name": "DescriptionStyleModel",
      "state": {
       "description_width": ""
      }
     },
     "e256a81e4d4a4b9b99ccb9574a23ebd5": {
      "model_module": "@jupyter-widgets/base",
      "model_module_version": "1.2.0",
      "model_name": "LayoutModel",
      "state": {}
     },
     "e30c6b8e0e974c148c01ea47f4ba228f": {
      "model_module": "@jupyter-widgets/base",
      "model_module_version": "1.2.0",
      "model_name": "LayoutModel",
      "state": {}
     },
     "e41529a1e19244ccb45ba4aff810dd2d": {
      "model_module": "@jupyter-widgets/base",
      "model_module_version": "1.2.0",
      "model_name": "LayoutModel",
      "state": {}
     },
     "e5b1ac55f80a46ab9ed5ffd6b6ad5e04": {
      "model_module": "@jupyter-widgets/controls",
      "model_module_version": "1.5.0",
      "model_name": "DescriptionStyleModel",
      "state": {
       "description_width": ""
      }
     },
     "e909b48142434656bfb09c72e6be263a": {
      "model_module": "@jupyter-widgets/controls",
      "model_module_version": "1.5.0",
      "model_name": "DescriptionStyleModel",
      "state": {
       "description_width": ""
      }
     },
     "ec5dc1fa356f4314b8c702718b761d00": {
      "model_module": "@jupyter-widgets/controls",
      "model_module_version": "1.5.0",
      "model_name": "DescriptionStyleModel",
      "state": {
       "description_width": ""
      }
     },
     "ef3f525be9c54d259cba5268ab1f22ea": {
      "model_module": "@jupyter-widgets/controls",
      "model_module_version": "1.5.0",
      "model_name": "DescriptionStyleModel",
      "state": {
       "description_width": ""
      }
     },
     "f004a7ccea4f4a0194b4382c35783732": {
      "model_module": "@jupyter-widgets/controls",
      "model_module_version": "1.5.0",
      "model_name": "DropdownModel",
      "state": {
       "_options_labels": [
        "Euler",
        "AB2",
        "AB3",
        "RK3",
        "Semi-implicit"
       ],
       "description": "itimescheme",
       "index": 0,
       "layout": "IPY_MODEL_75fe2fcf9b7746edb5791ddd0571e005",
       "style": "IPY_MODEL_fa94fc128e3f4f30bc399585b953bde6"
      }
     },
     "f02011ba23b344d098d01edfa6cac0b7": {
      "model_module": "@jupyter-widgets/controls",
      "model_module_version": "1.5.0",
      "model_name": "IntSliderModel",
      "state": {
       "continuous_update": false,
       "description": "numscalar",
       "layout": "IPY_MODEL_355497814c3245c69191f53aef3cdbfc",
       "max": 9,
       "style": "IPY_MODEL_6fb36d2c82eb4a63a311e41cc85519fc"
      }
     },
     "f17e20725630458fb4ca8d74174b5aed": {
      "model_module": "@jupyter-widgets/controls",
      "model_module_version": "1.5.0",
      "model_name": "DropdownModel",
      "state": {
       "_options_labels": [
        "Periodic",
        "Free-slip",
        "Inflow"
       ],
       "description": "nclx1",
       "index": 0,
       "layout": "IPY_MODEL_0d30e9fed0454bf689f3eaecb6b348f2",
       "style": "IPY_MODEL_f8a950ef488b483bb08406c9e4fc833a"
      }
     },
     "f3a2898b903644679b66d092dae5b2a5": {
      "model_module": "@jupyter-widgets/controls",
      "model_module_version": "1.5.0",
      "model_name": "DropdownModel",
      "state": {
       "_options_labels": [
        "No random noise",
        "Random noise",
        "Random noise with fixed seed"
       ],
       "description": "iin",
       "index": 0,
       "layout": "IPY_MODEL_c77ed9cd416a45b6bd42e564f82f73f4",
       "style": "IPY_MODEL_27de76902c07403bae9efe1ed0af5202"
      }
     },
     "f51d12904e0848ba89aa61151b01d139": {
      "model_module": "@jupyter-widgets/controls",
      "model_module_version": "1.5.0",
      "model_name": "DescriptionStyleModel",
      "state": {
       "description_width": ""
      }
     },
     "f8a950ef488b483bb08406c9e4fc833a": {
      "model_module": "@jupyter-widgets/controls",
      "model_module_version": "1.5.0",
      "model_name": "DescriptionStyleModel",
      "state": {
       "description_width": ""
      }
     },
     "f919dc0e6137477f8f912c1fd3685e2c": {
      "model_module": "@jupyter-widgets/base",
      "model_module_version": "1.2.0",
      "model_name": "LayoutModel",
      "state": {}
     },
     "f96763428abb48849bf89a8d17a1d474": {
      "model_module": "@jupyter-widgets/controls",
      "model_module_version": "1.5.0",
      "model_name": "DropdownModel",
      "state": {
       "_options_labels": [
        "0"
       ],
       "description": "p_col",
       "index": 0,
       "layout": "IPY_MODEL_4c759da12a07440988ec155e48dcbe2c",
       "style": "IPY_MODEL_e092ffb0a880445bb2bc7ea9f5d3de8d"
      }
     },
     "fa94fc128e3f4f30bc399585b953bde6": {
      "model_module": "@jupyter-widgets/controls",
      "model_module_version": "1.5.0",
      "model_name": "DescriptionStyleModel",
      "state": {
       "description_width": ""
      }
     },
     "fb737c6b6199483e99728d7a86f64c00": {
      "model_module": "@jupyter-widgets/base",
      "model_module_version": "1.2.0",
      "model_name": "LayoutModel",
      "state": {}
     },
     "fc30a3f100db4dcba02df00d3ba784af": {
      "model_module": "@jupyter-widgets/base",
      "model_module_version": "1.2.0",
      "model_name": "LayoutModel",
      "state": {}
     },
     "fd98de5bd3e64613a6546cb9805a8f01": {
      "model_module": "@jupyter-widgets/base",
      "model_module_version": "1.2.0",
      "model_name": "LayoutModel",
      "state": {}
     },
     "ff8b2e505b8441e0b853bed705c66ba8": {
      "model_module": "@jupyter-widgets/base",
      "model_module_version": "1.2.0",
      "model_name": "LayoutModel",
      "state": {}
     }
    },
    "version_major": 2,
    "version_minor": 0
   }
  }
 },
 "nbformat": 4,
 "nbformat_minor": 4
}
