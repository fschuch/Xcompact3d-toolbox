{
 "cells": [
  {
   "cell_type": "markdown",
   "source": [
    "# Flow Around a Complex Body"
   ],
   "metadata": {}
  },
  {
   "cell_type": "code",
   "execution_count": null,
   "source": [
    "import matplotlib.pyplot as plt\r\n",
    "import numpy as np\r\n",
    "import xarray as xr\r\n",
    "\r\n",
    "import xcompact3d_toolbox as x3d"
   ],
   "outputs": [],
   "metadata": {}
  },
  {
   "cell_type": "code",
   "execution_count": null,
   "source": [
    "%load_ext autoreload\r\n",
    "%autoreload 2"
   ],
   "outputs": [],
   "metadata": {}
  },
  {
   "cell_type": "markdown",
   "source": [
    "## Parameters"
   ],
   "metadata": {}
  },
  {
   "cell_type": "markdown",
   "source": [
    "+ Numerical precision\r\n",
    "\r\n",
    "Use `np.float64` if Xcompact3d was compiled with the flag `-DDOUBLE_PREC`, use `np.float32` otherwise."
   ],
   "metadata": {}
  },
  {
   "cell_type": "code",
   "execution_count": null,
   "source": [
    "x3d.param[\"mytype\"] = np.float64"
   ],
   "outputs": [],
   "metadata": {}
  },
  {
   "cell_type": "markdown",
   "source": [
    "* Xcompact3d's parameters\r\n",
    "\r\n",
    "For more information about them, checkout the [API reference](https://xcompact3d-toolbox.readthedocs.io/en/latest/Docstrings.html#xcompact3d_toolbox.parameters.Parameters)."
   ],
   "metadata": {}
  },
  {
   "cell_type": "code",
   "execution_count": null,
   "source": [
    "prm = x3d.Parameters(\r\n",
    "    filename=\"input.i3d\",\r\n",
    "    itype=12,\r\n",
    "    p_row=0,\r\n",
    "    p_col=0,\r\n",
    "    nx=257,\r\n",
    "    ny=129,\r\n",
    "    nz=32,\r\n",
    "    xlx=15.0,\r\n",
    "    yly=10.0,\r\n",
    "    zlz=3.0,\r\n",
    "    nclx1=2,\r\n",
    "    nclxn=2,\r\n",
    "    ncly1=1,\r\n",
    "    nclyn=1,\r\n",
    "    nclz1=0,\r\n",
    "    nclzn=0,\r\n",
    "    iin=1,\r\n",
    "    re=300.0,\r\n",
    "    init_noise=0.0125,\r\n",
    "    inflow_noise=0.0125,\r\n",
    "    dt=0.0025,\r\n",
    "    ifirst=1,\r\n",
    "    ilast=45000,\r\n",
    "    ilesmod=1,\r\n",
    "    iibm=2,\r\n",
    "    nu0nu=4.0,\r\n",
    "    cnu=0.44,\r\n",
    "    irestart=0,\r\n",
    "    icheckpoint=45000,\r\n",
    "    ioutput=200,\r\n",
    "    iprocessing=50,\r\n",
    "    jles=4,\r\n",
    ")"
   ],
   "outputs": [],
   "metadata": {}
  },
  {
   "cell_type": "markdown",
   "source": [
    "## Setup"
   ],
   "metadata": {}
  },
  {
   "cell_type": "markdown",
   "source": [
    "### Geometry"
   ],
   "metadata": {}
  },
  {
   "cell_type": "markdown",
   "source": [
    "Everything needed is in one dictionary of Arrays (see [API reference](https://xcompact3d-toolbox.readthedocs.io/en/latest/Docstrings.html#xcompact3d_toolbox.sandbox.init_epsi)):"
   ],
   "metadata": {}
  },
  {
   "cell_type": "code",
   "execution_count": null,
   "source": [
    "epsi = x3d.init_epsi(prm)"
   ],
   "outputs": [],
   "metadata": {}
  },
  {
   "cell_type": "markdown",
   "source": [
    "The four $\\epsilon$ matrices are stored in a dictionary:"
   ],
   "metadata": {}
  },
  {
   "cell_type": "code",
   "execution_count": null,
   "source": [
    "epsi.keys()"
   ],
   "outputs": [],
   "metadata": {}
  },
  {
   "cell_type": "markdown",
   "source": [
    "Just to exemplify, we can draw and plot a cylinder. Make sure to apply the same operation over all arrays in the dictionary. Plotting a `xarray.DataArray` is as simple as `da.plot()` (see its [user guide](http://xarray.pydata.org/en/stable/plotting.html)), I'm adding extra options just to exemplify how easily we can select one value in $z$ and make a 2D plot:"
   ],
   "metadata": {}
  },
  {
   "cell_type": "code",
   "execution_count": null,
   "source": [
    "for key in epsi.keys():\r\n",
    "    epsi[key] = epsi[key].geo.cylinder(x=1, y=prm.yly / 4.0)\r\n",
    "\r\n",
    "epsi[\"epsi\"].sel(z=0, method=\"nearest\").plot(x=\"x\");"
   ],
   "outputs": [],
   "metadata": {}
  },
  {
   "cell_type": "markdown",
   "source": [
    "Notice that the geometries are added by default, however, we can revert it by setting `remp=False`. We can execute several methods in a chain, resulting in more complex geometries."
   ],
   "metadata": {}
  },
  {
   "cell_type": "code",
   "execution_count": null,
   "source": [
    "for key in epsi.keys():\r\n",
    "    epsi[key] = (\r\n",
    "        epsi[key]\r\n",
    "        .geo.cylinder(x=2, y=prm.yly / 8.0)\r\n",
    "        .geo.cylinder(x=2, y=prm.yly / 8.0, radius=0.25, remp=False)\r\n",
    "        .geo.sphere(x=6, y=prm.yly / 4, z=prm.zlz / 2.0)\r\n",
    "        .geo.box(x=[3, 4], y=[3, 4])\r\n",
    "    )\r\n",
    "\r\n",
    "epsi[\"epsi\"].sel(z=prm.zlz / 2, method=\"nearest\").plot(x=\"x\");"
   ],
   "outputs": [],
   "metadata": {}
  },
  {
   "cell_type": "markdown",
   "source": [
    "Other example, Ahmed body:"
   ],
   "metadata": {}
  },
  {
   "cell_type": "code",
   "execution_count": null,
   "source": [
    "for key in epsi.keys():\r\n",
    "    epsi[key] = epsi[key].geo.ahmed_body(x=10, wheels=False)\r\n",
    "\r\n",
    "epsi[\"epsi\"].sel(z=prm.zlz / 2, method=\"nearest\").plot(x=\"x\");"
   ],
   "outputs": [],
   "metadata": {}
  },
  {
   "cell_type": "markdown",
   "source": [
    "Zooming in:"
   ],
   "metadata": {}
  },
  {
   "cell_type": "code",
   "execution_count": null,
   "source": [
    "epsi[\"epsi\"].sel(x=slice(8, None), y=slice(None, 4)).sel(\r\n",
    "    z=prm.zlz / 2, method=\"nearest\"\r\n",
    ").plot(x=\"x\");"
   ],
   "outputs": [],
   "metadata": {}
  },
  {
   "cell_type": "markdown",
   "source": [
    "And just as an example, we can mirror it:"
   ],
   "metadata": {}
  },
  {
   "cell_type": "code",
   "execution_count": null,
   "source": [
    "for key in epsi.keys():\r\n",
    "    epsi[key] = epsi[key].geo.mirror(\"y\")\r\n",
    "\r\n",
    "epsi[\"epsi\"].sel(z=prm.zlz / 2, method=\"nearest\").plot(x=\"x\");"
   ],
   "outputs": [],
   "metadata": {}
  },
  {
   "cell_type": "markdown",
   "source": [
    "It was just to show the capabilities of `xcompact3d_toolbox.sandbox`, you can use it to build many different geometries and arrange them in many ways. However, keep in mind the aspects of numerical stability of our Navier-Stokes solver, **it is up to the user to find the right set of numerical and physical parameters**.\r\n",
    "\r\n",
    "For a complete description about the available geometries see [Api reference](https://xcompact3d-toolbox.readthedocs.io/en/stable/Docstrings.html#xcompact3d_toolbox.sandbox.Geometry). Notice that you combine them for the creation of unique geometries, or even create your own routines for your own objects.\r\n",
    "\r\n",
    "So, let's start over with a simpler geometry:"
   ],
   "metadata": {}
  },
  {
   "cell_type": "code",
   "execution_count": null,
   "source": [
    "epsi = x3d.sandbox.init_epsi(prm)\r\n",
    "\r\n",
    "for key in epsi.keys():\r\n",
    "    epsi[key] = epsi[key].geo.cylinder(x=prm.xlx / 3, y=prm.yly / 2)\r\n",
    "\r\n",
    "epsi[\"epsi\"].sel(z=0, method=\"nearest\").plot(x=\"x\")\r\n",
    "plt.show();"
   ],
   "outputs": [],
   "metadata": {}
  },
  {
   "cell_type": "markdown",
   "source": [
    "The next step is to produce all the auxiliary files describing the geometry, so then Xcompact3d can read them:"
   ],
   "metadata": {}
  },
  {
   "cell_type": "code",
   "execution_count": null,
   "source": [
    "%%time\r\n",
    "dataset = x3d.gene_epsi_3D(epsi, prm)\r\n",
    "\r\n",
    "prm.nobjmax = dataset.obj.size\r\n",
    "\r\n",
    "dataset"
   ],
   "outputs": [],
   "metadata": {}
  },
  {
   "cell_type": "markdown",
   "source": [
    "### Boundary Condition"
   ],
   "metadata": {}
  },
  {
   "cell_type": "markdown",
   "source": [
    "Everything needed is in one Dataset (see [API reference](https://xcompact3d-toolbox.readthedocs.io/en/latest/Docstrings.html#xcompact3d_toolbox.sandbox.init_dataset)):"
   ],
   "metadata": {}
  },
  {
   "cell_type": "code",
   "execution_count": null,
   "source": [
    "ds = x3d.init_dataset(prm)"
   ],
   "outputs": [],
   "metadata": {}
  },
  {
   "cell_type": "markdown",
   "source": [
    "Let's see it, data and attributes are attached, try to interact with the icons:"
   ],
   "metadata": {}
  },
  {
   "cell_type": "code",
   "execution_count": null,
   "source": [
    "ds"
   ],
   "outputs": [],
   "metadata": {}
  },
  {
   "cell_type": "markdown",
   "source": [
    "**Inflow profile**: Since the boundary conditions for velocity at the top and at the bottom are free-slip in this case (`ncly1=nclyn=1`), the inflow profile for streamwise velocity is just 1 everywhere:"
   ],
   "metadata": {}
  },
  {
   "cell_type": "code",
   "execution_count": null,
   "source": [
    "fun = xr.ones_like(ds.y)\r\n",
    "\r\n",
    "# This attribute will be shown in the figure\r\n",
    "fun.attrs[\"long_name\"] = r\"Inflow Profile - f($x_2$)\"\r\n",
    "\r\n",
    "fun.plot();"
   ],
   "outputs": [],
   "metadata": {}
  },
  {
   "cell_type": "markdown",
   "source": [
    "Now, we reset the inflow planes `ds[key] *= 0.0`, just to guarantee consistency in case of multiple executions of this cell. Notice that `ds[key] = 0.0` may overwrite all the metadata contained in the array, so it should be avoided. Then, we add the inflow profile to the streamwise componente and plot them for reference:"
   ],
   "metadata": {}
  },
  {
   "cell_type": "code",
   "execution_count": null,
   "source": [
    "for key in \"bxx1 bxy1 bxz1\".split():\r\n",
    "    #\r\n",
    "    print(ds[key].attrs[\"name\"])\r\n",
    "    #\r\n",
    "    ds[key] *= 0.0\r\n",
    "    #\r\n",
    "    if key == \"bxx1\":\r\n",
    "        ds[key] += fun\r\n",
    "    #\r\n",
    "    ds[key].plot()\r\n",
    "    plt.show()\r\n",
    "\r\n",
    "plt.close(\"all\")"
   ],
   "outputs": [],
   "metadata": {}
  },
  {
   "cell_type": "markdown",
   "source": [
    "A random noise will be applied at the inflow boundary, we can create a modulation function `mod` to control were it will be applied. In this case, we will concentrate the noise near the center region and make it zero were $y=0$ and $y=L_y$. The domain is periodic in $z$ `nclz1=nclzn=0`, so there is no need to make `mod` functions of $z$. The functions looks like:\r\n",
    "\r\n",
    "$$\r\n",
    "\\text{mod} = \\exp\\left(-0.2 (y - 0.5 L_y)^2 \\right).\r\n",
    "$$\r\n",
    "\r\n",
    "See the code:"
   ],
   "metadata": {}
  },
  {
   "cell_type": "code",
   "execution_count": null,
   "source": [
    "# Random noise with fixed seed,\r\n",
    "# important for reproducibility, development and debugging\r\n",
    "if prm.iin == 2:\r\n",
    "    np.random.seed(seed=67)\r\n",
    "\r\n",
    "mod = np.exp(-0.2 * (ds.y - ds.y[-1] * 0.5) ** 2.0)\r\n",
    "\r\n",
    "# This attribute will be shown in the figure\r\n",
    "mod.attrs[\"long_name\"] = \"Noise modulation\"\r\n",
    "\r\n",
    "mod.plot();"
   ],
   "outputs": [],
   "metadata": {}
  },
  {
   "cell_type": "markdown",
   "source": [
    "Again, we reset the array `ds['noise_mod_x1'] *= 0.0`, just to guarantee consistency in case of multiple executions of this cell. Notice that `ds['noise_mod_x1'] *= 0.0` may overwrite all the metadata contained in the array, so it should be avoided. Then, we add the modulation profile to the proper array and plot it for reference:"
   ],
   "metadata": {}
  },
  {
   "cell_type": "code",
   "execution_count": null,
   "source": [
    "ds[\"noise_mod_x1\"] *= 0.0\r\n",
    "ds[\"noise_mod_x1\"] += mod\r\n",
    "ds.noise_mod_x1.plot();"
   ],
   "outputs": [],
   "metadata": {}
  },
  {
   "cell_type": "markdown",
   "source": [
    "Notice one of the many advantages of using [xarray](http://xarray.pydata.org/en/stable/), `mod`, with shape (`ny`), was automatically broadcasted for every point in `z` into `ds.noise_mod_x1`, with shape (`ny`, `nz`)."
   ],
   "metadata": {}
  },
  {
   "cell_type": "markdown",
   "source": [
    "### Initial Condition"
   ],
   "metadata": {}
  },
  {
   "cell_type": "markdown",
   "source": [
    "Now we reset velocity fields `ds[key] *= 0.0`, just to guarantee consistency in the case of multiple executions of this cell.\r\n",
    "\r\n",
    "We then add a random number array with the right shape, multiply by the noise amplitude at the initial condition `init_noise` and multiply again by our modulation function `mod`, defined previously. Finally, we add the streamwise profile `fun` to `ux` and make the plots for reference, I'm adding extra options just to exemplify how easily we can slice the spanwise coordinate and produce multiple plots:"
   ],
   "metadata": {}
  },
  {
   "cell_type": "code",
   "execution_count": null,
   "source": [
    "for key in \"ux uy uz\".split():\r\n",
    "    #\r\n",
    "    print(ds[key].attrs[\"name\"])\r\n",
    "    #\r\n",
    "    ds[key] *= 0.0\r\n",
    "    ds[key] += prm.init_noise * ((np.random.random(ds[key].shape) - 0.5))\r\n",
    "    ds[key] *= mod\r\n",
    "    #\r\n",
    "    if key == \"ux\":\r\n",
    "        ds[key] += fun\r\n",
    "    #\r\n",
    "    ds[key].sel(z=slice(None, None, ds.z.size // 3)).plot(\r\n",
    "        x=\"x\", y=\"y\", col=\"z\", col_wrap=2\r\n",
    "    )\r\n",
    "    plt.show()\r\n",
    "    #\r\n",
    "\r\n",
    "plt.close(\"all\")"
   ],
   "outputs": [],
   "metadata": {}
  },
  {
   "cell_type": "markdown",
   "source": [
    "## Writing to disc\r\n",
    "\r\n",
    "is as simple as:"
   ],
   "metadata": {}
  },
  {
   "cell_type": "code",
   "execution_count": null,
   "source": [
    "prm.dataset.write(ds)"
   ],
   "outputs": [],
   "metadata": {}
  },
  {
   "cell_type": "code",
   "execution_count": null,
   "source": [
    "prm.write()"
   ],
   "outputs": [],
   "metadata": {}
  },
  {
   "cell_type": "markdown",
   "source": [
    "## Running the Simulation"
   ],
   "metadata": {}
  },
  {
   "cell_type": "markdown",
   "source": [
    "It was just to show the capabilities of `xcompact3d_toolbox.sandbox`, keep in mind the aspects of numerical stability of our Navier-Stokes solver. **It is up to the user to find the right set of numerical and physical parameters**.\r\n",
    "\r\n",
    "Make sure that the compiling flags and options at `Makefile` are what you expect. Then, compile the main code at the root folder with `make`.\r\n",
    "\r\n",
    "And finally, we are good to go:\r\n",
    "\r\n",
    "```bash\r\n",
    "mpirun -n [number of cores] ./xcompact3d |tee log.out\r\n",
    "```"
   ],
   "metadata": {}
  }
 ],
 "metadata": {
  "kernelspec": {
   "name": "python3",
   "display_name": "Python 3.9.5 64-bit ('idp': conda)"
  },
  "language_info": {
   "codemirror_mode": {
    "name": "ipython",
    "version": 3
   },
   "file_extension": ".py",
   "mimetype": "text/x-python",
   "name": "python",
   "nbconvert_exporter": "python",
   "pygments_lexer": "ipython3",
   "version": "3.9.5"
  },
  "widgets": {
   "application/vnd.jupyter.widget-state+json": {
    "state": {},
    "version_major": 2,
    "version_minor": 0
   }
  },
  "interpreter": {
   "hash": "546d5beeb22119d9a20f6c19239ae627cc2b69f70be285d1d696980c89f3c939"
  }
 },
 "nbformat": 4,
 "nbformat_minor": 4
}
